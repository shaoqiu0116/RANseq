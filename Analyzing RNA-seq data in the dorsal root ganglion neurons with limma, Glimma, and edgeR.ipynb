{
 "cells": [
  {
   "cell_type": "markdown",
   "metadata": {},
   "source": [
    "# Analyzing RNA-seq data in the dorsal root ganglion neurons with limma, Glimma and edgeR"
   ]
  },
  {
   "cell_type": "markdown",
   "metadata": {},
   "source": [
    "##  Abstract\n",
    "The ability to easily and efficiently analyse RNA-sequencing data is a key strength of the Bioconductor project. Starting with counts summarised at the gene-level, a typical analysis involves pre-processing, exploratory data analysis, differential expression testing and pathway analysis with the results obtained informing future experiments and validation studies. In this workflow article, we analyse RNA-sequencing data from the dorsal root ganglion neurons to unveil pain-related gene regulated by a human cellular tissue product. We demonstrate the use of the popular ***edgeR*** package to import, organise, filter and normalise the data, followed by the ***limma*** package with its voom method, linear modelling and empirical Bayes moderation to assess differential expression. This pipeline is further enhanced by minimizing the technical variations between each sets/batches by ComBat-seq package or the EdgeR package using the design formula (~batch + condition). \n",
    "\n",
    "##  Introduction\n",
    "Gene expression is a highly regulated mechanism that controls the function and adaptability of all living cells including prokaryotes and eukaryotes. Several techniques exist for studying and quantifying gene expression and its regulation. Among various techniques deployed to assess gene expression, RNA-seq can provide qualitative (RNA sequence) and quantitative (RNA abundance) analyses of either targeted mRNA transcripts or the complete transcriptome of a particular issue. Transcriptomic data analysis can be performed using data obtained from a standard bulk RNA-seq. This tutorial describe the main steps to perform differential expression analysis (DEA). This is a brief introduction that covers the main aspects of DEA and outlines the most common types of analyses in this type of studies. The complete analysis also highlights the ease with which researchers can turn the raw counts from an RNA-sequencing experiment into biological insights using Bioconductor."
   ]
  },
  {
   "cell_type": "markdown",
   "metadata": {
    "id": "tLtSGFcKFtmU"
   },
   "source": [
    "## Set-up"
   ]
  },
  {
   "cell_type": "code",
   "execution_count": 1,
   "metadata": {
    "colab": {
     "base_uri": "https://localhost:8080/"
    },
    "executionInfo": {
     "elapsed": 11142,
     "status": "ok",
     "timestamp": 1636989597562,
     "user": {
      "displayName": "Shaoqiu He",
      "photoUrl": "https://lh3.googleusercontent.com/a-/AOh14GjqxDDKIvj-k4BT2y4gflK2grm-E052z036TINn0w=s64",
      "userId": "16738992239117859264"
     },
     "user_tz": 300
    },
    "id": "flkBYTpO0WZI",
    "outputId": "39744231-49fa-419c-83aa-5903031bead3"
   },
   "outputs": [
    {
     "name": "stderr",
     "output_type": "stream",
     "text": [
      "Loading required package: limma\n",
      "\n",
      "\n",
      "Attaching package: 'gplots'\n",
      "\n",
      "\n",
      "The following object is masked from 'package:stats':\n",
      "\n",
      "    lowess\n",
      "\n",
      "\n",
      "here() starts at C:/Users/shaoq/OneDrive/PythonScripts/Experiment Project/GitHub/RNAseq\n",
      "\n",
      "Loading required package: pkgmaker\n",
      "\n",
      "Loading required package: registry\n",
      "\n",
      "Loading required package: rngtools\n",
      "\n",
      "Loading required package: cluster\n",
      "\n",
      "NMF - BioConductor layer [OK] | Shared memory capabilities [NO: windows] | Cores 11/12\n",
      "\n",
      "Loading required package: AnnotationDbi\n",
      "\n",
      "Loading required package: stats4\n",
      "\n",
      "Loading required package: IRanges\n",
      "\n",
      "Loading required package: S4Vectors\n",
      "\n",
      "\n",
      "Attaching package: 'S4Vectors'\n",
      "\n",
      "\n",
      "The following object is masked from 'package:NMF':\n",
      "\n",
      "    nrun\n",
      "\n",
      "\n",
      "The following object is masked from 'package:pkgmaker':\n",
      "\n",
      "    new2\n",
      "\n",
      "\n",
      "The following object is masked from 'package:gplots':\n",
      "\n",
      "    space\n",
      "\n",
      "\n",
      "The following objects are masked from 'package:base':\n",
      "\n",
      "    expand.grid, I, unname\n",
      "\n",
      "\n",
      "\n",
      "Attaching package: 'IRanges'\n",
      "\n",
      "\n",
      "The following object is masked from 'package:grDevices':\n",
      "\n",
      "    windows\n",
      "\n",
      "\n",
      "\n",
      "\n",
      "Loading required package: mgcv\n",
      "\n",
      "Loading required package: nlme\n",
      "\n",
      "\n",
      "Attaching package: 'nlme'\n",
      "\n",
      "\n",
      "The following object is masked from 'package:IRanges':\n",
      "\n",
      "    collapse\n",
      "\n",
      "\n",
      "The following object is masked from 'package:NMF':\n",
      "\n",
      "    coef<-\n",
      "\n",
      "\n",
      "This is mgcv 1.8-40. For overview type 'help(\"mgcv-package\")'.\n",
      "\n",
      "Loading required package: genefilter\n",
      "\n",
      "Loading required package: BiocParallel\n",
      "\n",
      "\n",
      "Attaching package: 'BiocParallel'\n",
      "\n",
      "\n",
      "The following object is masked from 'package:NMF':\n",
      "\n",
      "    register\n",
      "\n",
      "\n",
      "── \u001b[1mAttaching packages\u001b[22m ───────────────────────────────────────────────────────────────────────────────────────────────────────────────────────────────────────────────────── tidyverse 1.3.2 ──\n",
      "\u001b[32m✔\u001b[39m \u001b[34mtibble \u001b[39m 3.1.8      \u001b[32m✔\u001b[39m \u001b[34mdplyr  \u001b[39m 1.0.10\n",
      "\u001b[32m✔\u001b[39m \u001b[34mtidyr  \u001b[39m 1.2.1      \u001b[32m✔\u001b[39m \u001b[34mstringr\u001b[39m 1.4.1 \n",
      "\u001b[32m✔\u001b[39m \u001b[34mreadr  \u001b[39m 2.1.3      \u001b[32m✔\u001b[39m \u001b[34mforcats\u001b[39m 0.5.2 \n",
      "\u001b[32m✔\u001b[39m \u001b[34mpurrr  \u001b[39m 0.3.4      \n",
      "── \u001b[1mConflicts\u001b[22m ──────────────────────────────────────────────────────────────────────────────────────────────────────────────────────────────────────────────────────── tidyverse_conflicts() ──\n",
      "\u001b[31m✖\u001b[39m \u001b[34mdplyr\u001b[39m::\u001b[32mcollapse()\u001b[39m        masks \u001b[34mnlme\u001b[39m::collapse(), \u001b[34mIRanges\u001b[39m::collapse()\n",
      "\u001b[31m✖\u001b[39m \u001b[34mdplyr\u001b[39m::\u001b[32mcombine()\u001b[39m         masks \u001b[34mBiobase\u001b[39m::combine(), \u001b[34mBiocGenerics\u001b[39m::combine()\n",
      "\u001b[31m✖\u001b[39m \u001b[34mdplyr\u001b[39m::\u001b[32mdesc()\u001b[39m            masks \u001b[34mIRanges\u001b[39m::desc()\n",
      "\u001b[31m✖\u001b[39m \u001b[34mtidyr\u001b[39m::\u001b[32mexpand()\u001b[39m          masks \u001b[34mS4Vectors\u001b[39m::expand()\n",
      "\u001b[31m✖\u001b[39m \u001b[34mdplyr\u001b[39m::\u001b[32mfilter()\u001b[39m          masks \u001b[34mstats\u001b[39m::filter()\n",
      "\u001b[31m✖\u001b[39m \u001b[34mdplyr\u001b[39m::\u001b[32mfirst()\u001b[39m           masks \u001b[34mS4Vectors\u001b[39m::first()\n",
      "\u001b[31m✖\u001b[39m \u001b[34mpurrr\u001b[39m::\u001b[32mflatten()\u001b[39m         masks \u001b[34mjsonlite\u001b[39m::flatten()\n",
      "\u001b[31m✖\u001b[39m \u001b[34mdplyr\u001b[39m::\u001b[32mlag()\u001b[39m             masks \u001b[34mstats\u001b[39m::lag()\n",
      "\u001b[31m✖\u001b[39m \u001b[34mBiocGenerics\u001b[39m::\u001b[32mPosition()\u001b[39m masks \u001b[34mggplot2\u001b[39m::Position(), \u001b[34mbase\u001b[39m::Position()\n",
      "\u001b[31m✖\u001b[39m \u001b[34mpurrr\u001b[39m::\u001b[32mreduce()\u001b[39m          masks \u001b[34mIRanges\u001b[39m::reduce()\n",
      "\u001b[31m✖\u001b[39m \u001b[34mdplyr\u001b[39m::\u001b[32mrename()\u001b[39m          masks \u001b[34mS4Vectors\u001b[39m::rename()\n",
      "\u001b[31m✖\u001b[39m \u001b[34mdplyr\u001b[39m::\u001b[32mselect()\u001b[39m          masks \u001b[34mAnnotationDbi\u001b[39m::select()\n",
      "\u001b[31m✖\u001b[39m \u001b[34mdplyr\u001b[39m::\u001b[32mslice()\u001b[39m           masks \u001b[34mIRanges\u001b[39m::slice()\n",
      "\u001b[31m✖\u001b[39m \u001b[34mreadr\u001b[39m::\u001b[32mspec()\u001b[39m            masks \u001b[34mgenefilter\u001b[39m::spec()\n"
     ]
    }
   ],
   "source": [
    "# First, let's load all the packages we will need to analyse the data.\n",
    "library(edgeR)\n",
    "library(ggplot2)\n",
    "library(Glimma)\n",
    "library(gplots)\n",
    "library(here)\n",
    "library(limma)\n",
    "library(NMF)\n",
    "library(org.Mm.eg.db)\n",
    "library(RColorBrewer)\n",
    "library(statmod)\n",
    "library(sva)\n",
    "library(tidyverse)"
   ]
  },
  {
   "cell_type": "markdown",
   "metadata": {
    "id": "yvagM5lQtCl5"
   },
   "source": [
    "## Data packaging\n",
    "\n",
    "###  Reading in count-data\n",
    "In the below, we first generate a ***DGEList-object*** from the count matrix."
   ]
  },
  {
   "cell_type": "code",
   "execution_count": 4,
   "metadata": {
    "colab": {
     "base_uri": "https://localhost:8080/",
     "height": 35
    },
    "executionInfo": {
     "elapsed": 132,
     "status": "ok",
     "timestamp": 1636989613050,
     "user": {
      "displayName": "Shaoqiu He",
      "photoUrl": "https://lh3.googleusercontent.com/a-/AOh14GjqxDDKIvj-k4BT2y4gflK2grm-E052z036TINn0w=s64",
      "userId": "16738992239117859264"
     },
     "user_tz": 300
    },
    "id": "8EdI6vRiUvQc",
    "outputId": "aad8fadf-cabd-4dbd-f381-47bb4e8dc44e"
   },
   "outputs": [
    {
     "data": {
      "text/html": [
       "'C:/Users/shaoq/OneDrive/PythonScripts/Experiment Project/GitHub/RNAseq'"
      ],
      "text/latex": [
       "'C:/Users/shaoq/OneDrive/PythonScripts/Experiment Project/GitHub/RNAseq'"
      ],
      "text/markdown": [
       "'C:/Users/shaoq/OneDrive/PythonScripts/Experiment Project/GitHub/RNAseq'"
      ],
      "text/plain": [
       "[1] \"C:/Users/shaoq/OneDrive/PythonScripts/Experiment Project/GitHub/RNAseq\""
      ]
     },
     "metadata": {},
     "output_type": "display_data"
    }
   ],
   "source": [
    "filename <- here()\n",
    "filename\n",
    "filename <- here(filename, \"input/HHP_2h_24h_WT/\")"
   ]
  },
  {
   "cell_type": "code",
   "execution_count": 10,
   "metadata": {
    "colab": {
     "base_uri": "https://localhost:8080/",
     "height": 86
    },
    "executionInfo": {
     "elapsed": 132,
     "status": "ok",
     "timestamp": 1636989614498,
     "user": {
      "displayName": "Shaoqiu He",
      "photoUrl": "https://lh3.googleusercontent.com/a-/AOh14GjqxDDKIvj-k4BT2y4gflK2grm-E052z036TINn0w=s64",
      "userId": "16738992239117859264"
     },
     "user_tz": 300
    },
    "id": "W_OVxWqrhx4S",
    "outputId": "46f0eb5b-9b9b-47a6-871c-e971abe5b230"
   },
   "outputs": [
    {
     "data": {
      "text/html": [
       "<style>\n",
       ".list-inline {list-style: none; margin:0; padding: 0}\n",
       ".list-inline>li {display: inline-block}\n",
       ".list-inline>li:not(:last-child)::after {content: \"\\00b7\"; padding: 0 .5ex}\n",
       "</style>\n",
       "<ol class=list-inline><li>'10min_1_counts.txt'</li><li>'10min_2_counts.txt'</li><li>'10min_3_counts.txt'</li><li>'24h_1_counts.txt'</li><li>'24h_2_counts.txt'</li><li>'24h_3_counts.txt'</li><li>'2h_1_counts.txt'</li><li>'2h_2_counts.txt'</li><li>'2h_3_counts.txt'</li><li>'Control_1_counts.txt'</li><li>'Control_2_counts.txt'</li><li>'Control_3_counts.txt'</li><li>'New count/CZha-24hr-1_S4.featureCounts'</li><li>'New count/CZha-24Hr-2_S9.featureCounts'</li><li>'New count/CZha-24Hr-3_S10.featureCounts'</li><li>'New count/CZha-Cont-1_S1.featureCounts'</li><li>'New count/CZha-Cont-2_S11.featureCounts'</li><li>'New count/CZha-Cont-3_S12.featureCounts'</li><li>'New count/SampleInfo_without2h10min.txt'</li><li>'SampleInfo.txt'</li><li>'SampleInfo_without2h10min.txt'</li></ol>\n"
      ],
      "text/latex": [
       "\\begin{enumerate*}\n",
       "\\item '10min\\_1\\_counts.txt'\n",
       "\\item '10min\\_2\\_counts.txt'\n",
       "\\item '10min\\_3\\_counts.txt'\n",
       "\\item '24h\\_1\\_counts.txt'\n",
       "\\item '24h\\_2\\_counts.txt'\n",
       "\\item '24h\\_3\\_counts.txt'\n",
       "\\item '2h\\_1\\_counts.txt'\n",
       "\\item '2h\\_2\\_counts.txt'\n",
       "\\item '2h\\_3\\_counts.txt'\n",
       "\\item 'Control\\_1\\_counts.txt'\n",
       "\\item 'Control\\_2\\_counts.txt'\n",
       "\\item 'Control\\_3\\_counts.txt'\n",
       "\\item 'New count/CZha-24hr-1\\_S4.featureCounts'\n",
       "\\item 'New count/CZha-24Hr-2\\_S9.featureCounts'\n",
       "\\item 'New count/CZha-24Hr-3\\_S10.featureCounts'\n",
       "\\item 'New count/CZha-Cont-1\\_S1.featureCounts'\n",
       "\\item 'New count/CZha-Cont-2\\_S11.featureCounts'\n",
       "\\item 'New count/CZha-Cont-3\\_S12.featureCounts'\n",
       "\\item 'New count/SampleInfo\\_without2h10min.txt'\n",
       "\\item 'SampleInfo.txt'\n",
       "\\item 'SampleInfo\\_without2h10min.txt'\n",
       "\\end{enumerate*}\n"
      ],
      "text/markdown": [
       "1. '10min_1_counts.txt'\n",
       "2. '10min_2_counts.txt'\n",
       "3. '10min_3_counts.txt'\n",
       "4. '24h_1_counts.txt'\n",
       "5. '24h_2_counts.txt'\n",
       "6. '24h_3_counts.txt'\n",
       "7. '2h_1_counts.txt'\n",
       "8. '2h_2_counts.txt'\n",
       "9. '2h_3_counts.txt'\n",
       "10. 'Control_1_counts.txt'\n",
       "11. 'Control_2_counts.txt'\n",
       "12. 'Control_3_counts.txt'\n",
       "13. 'New count/CZha-24hr-1_S4.featureCounts'\n",
       "14. 'New count/CZha-24Hr-2_S9.featureCounts'\n",
       "15. 'New count/CZha-24Hr-3_S10.featureCounts'\n",
       "16. 'New count/CZha-Cont-1_S1.featureCounts'\n",
       "17. 'New count/CZha-Cont-2_S11.featureCounts'\n",
       "18. 'New count/CZha-Cont-3_S12.featureCounts'\n",
       "19. 'New count/SampleInfo_without2h10min.txt'\n",
       "20. 'SampleInfo.txt'\n",
       "21. 'SampleInfo_without2h10min.txt'\n",
       "\n",
       "\n"
      ],
      "text/plain": [
       " [1] \"10min_1_counts.txt\"                     \n",
       " [2] \"10min_2_counts.txt\"                     \n",
       " [3] \"10min_3_counts.txt\"                     \n",
       " [4] \"24h_1_counts.txt\"                       \n",
       " [5] \"24h_2_counts.txt\"                       \n",
       " [6] \"24h_3_counts.txt\"                       \n",
       " [7] \"2h_1_counts.txt\"                        \n",
       " [8] \"2h_2_counts.txt\"                        \n",
       " [9] \"2h_3_counts.txt\"                        \n",
       "[10] \"Control_1_counts.txt\"                   \n",
       "[11] \"Control_2_counts.txt\"                   \n",
       "[12] \"Control_3_counts.txt\"                   \n",
       "[13] \"New count/CZha-24hr-1_S4.featureCounts\" \n",
       "[14] \"New count/CZha-24Hr-2_S9.featureCounts\" \n",
       "[15] \"New count/CZha-24Hr-3_S10.featureCounts\"\n",
       "[16] \"New count/CZha-Cont-1_S1.featureCounts\" \n",
       "[17] \"New count/CZha-Cont-2_S11.featureCounts\"\n",
       "[18] \"New count/CZha-Cont-3_S12.featureCounts\"\n",
       "[19] \"New count/SampleInfo_without2h10min.txt\"\n",
       "[20] \"SampleInfo.txt\"                         \n",
       "[21] \"SampleInfo_without2h10min.txt\"          "
      ]
     },
     "metadata": {},
     "output_type": "display_data"
    }
   ],
   "source": [
    "list.files(filename, recursive = TRUE)  # list all the files in this directory"
   ]
  },
  {
   "cell_type": "markdown",
   "metadata": {},
   "source": [
    "Each of these text files contains the raw gene-level counts for a given sample. Note that our analysis only includes the Contol and HHP24h samples from this experiment (see associated file names below)."
   ]
  },
  {
   "cell_type": "code",
   "execution_count": 18,
   "metadata": {
    "colab": {
     "base_uri": "https://localhost:8080/",
     "height": 285
    },
    "executionInfo": {
     "elapsed": 130,
     "status": "ok",
     "timestamp": 1636989615672,
     "user": {
      "displayName": "Shaoqiu He",
      "photoUrl": "https://lh3.googleusercontent.com/a-/AOh14GjqxDDKIvj-k4BT2y4gflK2grm-E052z036TINn0w=s64",
      "userId": "16738992239117859264"
     },
     "user_tz": 300
    },
    "id": "7Yh3li4CgtqV",
    "outputId": "238f4dc7-54f5-499b-e434-d43da399c5ff"
   },
   "outputs": [
    {
     "data": {
      "text/html": [
       "<table class=\"dataframe\">\n",
       "<caption>A data.frame: 6 × 4</caption>\n",
       "<thead>\n",
       "\t<tr><th scope=col>FileName</th><th scope=col>SampleName</th><th scope=col>Treatment</th><th scope=col>Batch</th></tr>\n",
       "\t<tr><th scope=col>&lt;fct&gt;</th><th scope=col>&lt;fct&gt;</th><th scope=col>&lt;fct&gt;</th><th scope=col>&lt;fct&gt;</th></tr>\n",
       "</thead>\n",
       "<tbody>\n",
       "\t<tr><td>Control_1_counts</td><td>CON_1    </td><td>control </td><td>first </td></tr>\n",
       "\t<tr><td>Control_2_counts</td><td>CON_2    </td><td>control </td><td>second</td></tr>\n",
       "\t<tr><td>Control_3_counts</td><td>CON_3    </td><td>control </td><td>third </td></tr>\n",
       "\t<tr><td>24h_1_counts    </td><td>HHP.24H_1</td><td>hhp.24hr</td><td>first </td></tr>\n",
       "\t<tr><td>24h_2_counts    </td><td>HHP.24H_2</td><td>hhp.24hr</td><td>second</td></tr>\n",
       "\t<tr><td>24h_3_counts    </td><td>HHP.24H_3</td><td>hhp.24hr</td><td>third </td></tr>\n",
       "</tbody>\n",
       "</table>\n"
      ],
      "text/latex": [
       "A data.frame: 6 × 4\n",
       "\\begin{tabular}{llll}\n",
       " FileName & SampleName & Treatment & Batch\\\\\n",
       " <fct> & <fct> & <fct> & <fct>\\\\\n",
       "\\hline\n",
       "\t Control\\_1\\_counts & CON\\_1     & control  & first \\\\\n",
       "\t Control\\_2\\_counts & CON\\_2     & control  & second\\\\\n",
       "\t Control\\_3\\_counts & CON\\_3     & control  & third \\\\\n",
       "\t 24h\\_1\\_counts     & HHP.24H\\_1 & hhp.24hr & first \\\\\n",
       "\t 24h\\_2\\_counts     & HHP.24H\\_2 & hhp.24hr & second\\\\\n",
       "\t 24h\\_3\\_counts     & HHP.24H\\_3 & hhp.24hr & third \\\\\n",
       "\\end{tabular}\n"
      ],
      "text/markdown": [
       "\n",
       "A data.frame: 6 × 4\n",
       "\n",
       "| FileName &lt;fct&gt; | SampleName &lt;fct&gt; | Treatment &lt;fct&gt; | Batch &lt;fct&gt; |\n",
       "|---|---|---|---|\n",
       "| Control_1_counts | CON_1     | control  | first  |\n",
       "| Control_2_counts | CON_2     | control  | second |\n",
       "| Control_3_counts | CON_3     | control  | third  |\n",
       "| 24h_1_counts     | HHP.24H_1 | hhp.24hr | first  |\n",
       "| 24h_2_counts     | HHP.24H_2 | hhp.24hr | second |\n",
       "| 24h_3_counts     | HHP.24H_3 | hhp.24hr | third  |\n",
       "\n"
      ],
      "text/plain": [
       "  FileName         SampleName Treatment Batch \n",
       "1 Control_1_counts CON_1      control   first \n",
       "2 Control_2_counts CON_2      control   second\n",
       "3 Control_3_counts CON_3      control   third \n",
       "4 24h_1_counts     HHP.24H_1  hhp.24hr  first \n",
       "5 24h_2_counts     HHP.24H_2  hhp.24hr  second\n",
       "6 24h_3_counts     HHP.24H_3  hhp.24hr  third "
      ]
     },
     "metadata": {},
     "output_type": "display_data"
    }
   ],
   "source": [
    "sampleinfo <- read.delim(here(filename, \"/SampleInfo_without2h10min.txt\"), stringsAsFactors = TRUE)\n",
    "# sampleinfo <- read.delim('./SampleInfo_without2h10min.txt', stringsAsFactors\n",
    "# = TRUE) # read for google colab\n",
    "sampleinfo  # with treatment and batch information"
   ]
  },
  {
   "cell_type": "code",
   "execution_count": 13,
   "metadata": {
    "colab": {
     "base_uri": "https://localhost:8080/",
     "height": 254
    },
    "executionInfo": {
     "elapsed": 102,
     "status": "ok",
     "timestamp": 1636989618696,
     "user": {
      "displayName": "Shaoqiu He",
      "photoUrl": "https://lh3.googleusercontent.com/a-/AOh14GjqxDDKIvj-k4BT2y4gflK2grm-E052z036TINn0w=s64",
      "userId": "16738992239117859264"
     },
     "user_tz": 300
    },
    "id": "kKVzY05D0dXv",
    "outputId": "0e51916f-6812-40fb-a3b2-8d000985ee2c"
   },
   "outputs": [
    {
     "data": {
      "text/html": [
       "<table class=\"dataframe\">\n",
       "<caption>A data.frame: 5 × 2</caption>\n",
       "<thead>\n",
       "\t<tr><th scope=col>Geneid</th><th scope=col>RNA.STAR.on.data.191..data.172..and.data.171..mapped.bam</th></tr>\n",
       "\t<tr><th scope=col>&lt;chr&gt;</th><th scope=col>&lt;int&gt;</th></tr>\n",
       "</thead>\n",
       "<tbody>\n",
       "\t<tr><td>Xkr4   </td><td>2502</td></tr>\n",
       "\t<tr><td>Gm39585</td><td>   1</td></tr>\n",
       "\t<tr><td>Gm38717</td><td>  31</td></tr>\n",
       "\t<tr><td>Rp1    </td><td>   0</td></tr>\n",
       "\t<tr><td>Sox17  </td><td> 161</td></tr>\n",
       "</tbody>\n",
       "</table>\n"
      ],
      "text/latex": [
       "A data.frame: 5 × 2\n",
       "\\begin{tabular}{ll}\n",
       " Geneid & RNA.STAR.on.data.191..data.172..and.data.171..mapped.bam\\\\\n",
       " <chr> & <int>\\\\\n",
       "\\hline\n",
       "\t Xkr4    & 2502\\\\\n",
       "\t Gm39585 &    1\\\\\n",
       "\t Gm38717 &   31\\\\\n",
       "\t Rp1     &    0\\\\\n",
       "\t Sox17   &  161\\\\\n",
       "\\end{tabular}\n"
      ],
      "text/markdown": [
       "\n",
       "A data.frame: 5 × 2\n",
       "\n",
       "| Geneid &lt;chr&gt; | RNA.STAR.on.data.191..data.172..and.data.171..mapped.bam &lt;int&gt; |\n",
       "|---|---|\n",
       "| Xkr4    | 2502 |\n",
       "| Gm39585 |    1 |\n",
       "| Gm38717 |   31 |\n",
       "| Rp1     |    0 |\n",
       "| Sox17   |  161 |\n",
       "\n"
      ],
      "text/plain": [
       "  Geneid  RNA.STAR.on.data.191..data.172..and.data.171..mapped.bam\n",
       "1 Xkr4    2502                                                    \n",
       "2 Gm39585    1                                                    \n",
       "3 Gm38717   31                                                    \n",
       "4 Rp1        0                                                    \n",
       "5 Sox17    161                                                    "
      ]
     },
     "metadata": {},
     "output_type": "display_data"
    }
   ],
   "source": [
    "files <- c(\"Control_1_counts.txt\", \"Control_2_counts.txt\", \"Control_3_counts.txt\",\n",
    "    \"24h_1_counts.txt\", \"24h_2_counts.txt\", \"24h_3_counts.txt\")\n",
    "# all the files\n",
    "read.delim(here(filename, files[1]), nrow = 5)  # test first file\n",
    "# read.delim(here(filename, './', files[1]), nrow = 5) # test first file counts\n",
    "# file with geneid and counts"
   ]
  },
  {
   "cell_type": "markdown",
   "metadata": {},
   "source": [
    "Whilst each of the six text files can be read into R separately and combined into a matrix of counts, edgeR offers a convenient way to do this in one step using the readDGE function. The resulting DGEList-object contains a matrix of counts with 35,976 rows associated with unique Entrez gene identifiers (IDs) and six columns associated with the individual samples in the experiment."
   ]
  },
  {
   "cell_type": "code",
   "execution_count": 16,
   "metadata": {
    "colab": {
     "base_uri": "https://localhost:8080/",
     "height": 656
    },
    "executionInfo": {
     "elapsed": 1332,
     "status": "ok",
     "timestamp": 1636989621721,
     "user": {
      "displayName": "Shaoqiu He",
      "photoUrl": "https://lh3.googleusercontent.com/a-/AOh14GjqxDDKIvj-k4BT2y4gflK2grm-E052z036TINn0w=s64",
      "userId": "16738992239117859264"
     },
     "user_tz": 300
    },
    "id": "tu8P5eNC0Ntj",
    "outputId": "1fc1babc-5e31-4297-9efb-6ba2dd1ef861",
    "scrolled": true
   },
   "outputs": [
    {
     "data": {
      "text/html": [
       "<dl>\n",
       "\t<dt>$samples</dt>\n",
       "\t\t<dd><table class=\"dataframe\">\n",
       "<caption>A data.frame: 6 × 4</caption>\n",
       "<thead>\n",
       "\t<tr><th></th><th scope=col>files</th><th scope=col>group</th><th scope=col>lib.size</th><th scope=col>norm.factors</th></tr>\n",
       "\t<tr><th></th><th scope=col>&lt;chr&gt;</th><th scope=col>&lt;fct&gt;</th><th scope=col>&lt;dbl&gt;</th><th scope=col>&lt;dbl&gt;</th></tr>\n",
       "</thead>\n",
       "<tbody>\n",
       "\t<tr><th scope=row>C:/Users/shaoq/OneDrive/PythonScripts/Experiment Project/GitHub/RNAseq/input/HHP_2h_24h_WT/Control_1_counts</th><td>C:/Users/shaoq/OneDrive/PythonScripts/Experiment Project/GitHub/RNAseq/input/HHP_2h_24h_WT/Control_1_counts.txt</td><td>1</td><td>42516054</td><td>1</td></tr>\n",
       "\t<tr><th scope=row>C:/Users/shaoq/OneDrive/PythonScripts/Experiment Project/GitHub/RNAseq/input/HHP_2h_24h_WT/Control_2_counts</th><td>C:/Users/shaoq/OneDrive/PythonScripts/Experiment Project/GitHub/RNAseq/input/HHP_2h_24h_WT/Control_2_counts.txt</td><td>1</td><td>42617496</td><td>1</td></tr>\n",
       "\t<tr><th scope=row>C:/Users/shaoq/OneDrive/PythonScripts/Experiment Project/GitHub/RNAseq/input/HHP_2h_24h_WT/Control_3_counts</th><td>C:/Users/shaoq/OneDrive/PythonScripts/Experiment Project/GitHub/RNAseq/input/HHP_2h_24h_WT/Control_3_counts.txt</td><td>1</td><td>54117547</td><td>1</td></tr>\n",
       "\t<tr><th scope=row>C:/Users/shaoq/OneDrive/PythonScripts/Experiment Project/GitHub/RNAseq/input/HHP_2h_24h_WT/24h_1_counts</th><td>C:/Users/shaoq/OneDrive/PythonScripts/Experiment Project/GitHub/RNAseq/input/HHP_2h_24h_WT/24h_1_counts.txt    </td><td>1</td><td>37998071</td><td>1</td></tr>\n",
       "\t<tr><th scope=row>C:/Users/shaoq/OneDrive/PythonScripts/Experiment Project/GitHub/RNAseq/input/HHP_2h_24h_WT/24h_2_counts</th><td>C:/Users/shaoq/OneDrive/PythonScripts/Experiment Project/GitHub/RNAseq/input/HHP_2h_24h_WT/24h_2_counts.txt    </td><td>1</td><td>37434266</td><td>1</td></tr>\n",
       "\t<tr><th scope=row>C:/Users/shaoq/OneDrive/PythonScripts/Experiment Project/GitHub/RNAseq/input/HHP_2h_24h_WT/24h_3_counts</th><td>C:/Users/shaoq/OneDrive/PythonScripts/Experiment Project/GitHub/RNAseq/input/HHP_2h_24h_WT/24h_3_counts.txt    </td><td>1</td><td>38420247</td><td>1</td></tr>\n",
       "</tbody>\n",
       "</table>\n",
       "</dd>\n",
       "\t<dt>$counts</dt>\n",
       "\t\t<dd><table class=\"dataframe\">\n",
       "<caption>A matrix: 6 × 6 of type dbl</caption>\n",
       "<thead>\n",
       "\t<tr><th></th><th scope=col>C:/Users/shaoq/OneDrive/PythonScripts/Experiment Project/GitHub/RNAseq/input/HHP_2h_24h_WT/Control_1_counts</th><th scope=col>C:/Users/shaoq/OneDrive/PythonScripts/Experiment Project/GitHub/RNAseq/input/HHP_2h_24h_WT/Control_2_counts</th><th scope=col>C:/Users/shaoq/OneDrive/PythonScripts/Experiment Project/GitHub/RNAseq/input/HHP_2h_24h_WT/Control_3_counts</th><th scope=col>C:/Users/shaoq/OneDrive/PythonScripts/Experiment Project/GitHub/RNAseq/input/HHP_2h_24h_WT/24h_1_counts</th><th scope=col>C:/Users/shaoq/OneDrive/PythonScripts/Experiment Project/GitHub/RNAseq/input/HHP_2h_24h_WT/24h_2_counts</th><th scope=col>C:/Users/shaoq/OneDrive/PythonScripts/Experiment Project/GitHub/RNAseq/input/HHP_2h_24h_WT/24h_3_counts</th></tr>\n",
       "</thead>\n",
       "<tbody>\n",
       "\t<tr><th scope=row>Xkr4</th><td>2502</td><td>1912</td><td>2264</td><td>1682</td><td>1262</td><td>1342</td></tr>\n",
       "\t<tr><th scope=row>Gm39585</th><td>   1</td><td>   0</td><td>   2</td><td>   0</td><td>   0</td><td>   0</td></tr>\n",
       "\t<tr><th scope=row>Gm38717</th><td>  31</td><td>  39</td><td>  15</td><td>  37</td><td>  43</td><td>  10</td></tr>\n",
       "\t<tr><th scope=row>Rp1</th><td>   0</td><td>   0</td><td>   1</td><td>   1</td><td>   0</td><td>   0</td></tr>\n",
       "\t<tr><th scope=row>Sox17</th><td> 161</td><td> 234</td><td> 335</td><td> 189</td><td> 199</td><td> 202</td></tr>\n",
       "\t<tr><th scope=row>LOC108167609</th><td>   0</td><td>   1</td><td>   0</td><td>   2</td><td>   0</td><td>   3</td></tr>\n",
       "</tbody>\n",
       "</table>\n",
       "</dd>\n",
       "</dl>\n"
      ],
      "text/latex": [
       "\\begin{description}\n",
       "\\item[\\$samples] A data.frame: 6 × 4\n",
       "\\begin{tabular}{r|llll}\n",
       "  & files & group & lib.size & norm.factors\\\\\n",
       "  & <chr> & <fct> & <dbl> & <dbl>\\\\\n",
       "\\hline\n",
       "\tC:/Users/shaoq/OneDrive/PythonScripts/Experiment Project/GitHub/RNAseq/input/HHP\\_2h\\_24h\\_WT/Control\\_1\\_counts & C:/Users/shaoq/OneDrive/PythonScripts/Experiment Project/GitHub/RNAseq/input/HHP\\_2h\\_24h\\_WT/Control\\_1\\_counts.txt & 1 & 42516054 & 1\\\\\n",
       "\tC:/Users/shaoq/OneDrive/PythonScripts/Experiment Project/GitHub/RNAseq/input/HHP\\_2h\\_24h\\_WT/Control\\_2\\_counts & C:/Users/shaoq/OneDrive/PythonScripts/Experiment Project/GitHub/RNAseq/input/HHP\\_2h\\_24h\\_WT/Control\\_2\\_counts.txt & 1 & 42617496 & 1\\\\\n",
       "\tC:/Users/shaoq/OneDrive/PythonScripts/Experiment Project/GitHub/RNAseq/input/HHP\\_2h\\_24h\\_WT/Control\\_3\\_counts & C:/Users/shaoq/OneDrive/PythonScripts/Experiment Project/GitHub/RNAseq/input/HHP\\_2h\\_24h\\_WT/Control\\_3\\_counts.txt & 1 & 54117547 & 1\\\\\n",
       "\tC:/Users/shaoq/OneDrive/PythonScripts/Experiment Project/GitHub/RNAseq/input/HHP\\_2h\\_24h\\_WT/24h\\_1\\_counts & C:/Users/shaoq/OneDrive/PythonScripts/Experiment Project/GitHub/RNAseq/input/HHP\\_2h\\_24h\\_WT/24h\\_1\\_counts.txt     & 1 & 37998071 & 1\\\\\n",
       "\tC:/Users/shaoq/OneDrive/PythonScripts/Experiment Project/GitHub/RNAseq/input/HHP\\_2h\\_24h\\_WT/24h\\_2\\_counts & C:/Users/shaoq/OneDrive/PythonScripts/Experiment Project/GitHub/RNAseq/input/HHP\\_2h\\_24h\\_WT/24h\\_2\\_counts.txt     & 1 & 37434266 & 1\\\\\n",
       "\tC:/Users/shaoq/OneDrive/PythonScripts/Experiment Project/GitHub/RNAseq/input/HHP\\_2h\\_24h\\_WT/24h\\_3\\_counts & C:/Users/shaoq/OneDrive/PythonScripts/Experiment Project/GitHub/RNAseq/input/HHP\\_2h\\_24h\\_WT/24h\\_3\\_counts.txt     & 1 & 38420247 & 1\\\\\n",
       "\\end{tabular}\n",
       "\n",
       "\\item[\\$counts] A matrix: 6 × 6 of type dbl\n",
       "\\begin{tabular}{r|llllll}\n",
       "  & C:/Users/shaoq/OneDrive/PythonScripts/Experiment Project/GitHub/RNAseq/input/HHP\\_2h\\_24h\\_WT/Control\\_1\\_counts & C:/Users/shaoq/OneDrive/PythonScripts/Experiment Project/GitHub/RNAseq/input/HHP\\_2h\\_24h\\_WT/Control\\_2\\_counts & C:/Users/shaoq/OneDrive/PythonScripts/Experiment Project/GitHub/RNAseq/input/HHP\\_2h\\_24h\\_WT/Control\\_3\\_counts & C:/Users/shaoq/OneDrive/PythonScripts/Experiment Project/GitHub/RNAseq/input/HHP\\_2h\\_24h\\_WT/24h\\_1\\_counts & C:/Users/shaoq/OneDrive/PythonScripts/Experiment Project/GitHub/RNAseq/input/HHP\\_2h\\_24h\\_WT/24h\\_2\\_counts & C:/Users/shaoq/OneDrive/PythonScripts/Experiment Project/GitHub/RNAseq/input/HHP\\_2h\\_24h\\_WT/24h\\_3\\_counts\\\\\n",
       "\\hline\n",
       "\tXkr4 & 2502 & 1912 & 2264 & 1682 & 1262 & 1342\\\\\n",
       "\tGm39585 &    1 &    0 &    2 &    0 &    0 &    0\\\\\n",
       "\tGm38717 &   31 &   39 &   15 &   37 &   43 &   10\\\\\n",
       "\tRp1 &    0 &    0 &    1 &    1 &    0 &    0\\\\\n",
       "\tSox17 &  161 &  234 &  335 &  189 &  199 &  202\\\\\n",
       "\tLOC108167609 &    0 &    1 &    0 &    2 &    0 &    3\\\\\n",
       "\\end{tabular}\n",
       "\n",
       "\\end{description}\n"
      ],
      "text/markdown": [
       "$samples\n",
       ":   \n",
       "A data.frame: 6 × 4\n",
       "\n",
       "| <!--/--> | files &lt;chr&gt; | group &lt;fct&gt; | lib.size &lt;dbl&gt; | norm.factors &lt;dbl&gt; |\n",
       "|---|---|---|---|---|\n",
       "| C:/Users/shaoq/OneDrive/PythonScripts/Experiment Project/GitHub/RNAseq/input/HHP_2h_24h_WT/Control_1_counts | C:/Users/shaoq/OneDrive/PythonScripts/Experiment Project/GitHub/RNAseq/input/HHP_2h_24h_WT/Control_1_counts.txt | 1 | 42516054 | 1 |\n",
       "| C:/Users/shaoq/OneDrive/PythonScripts/Experiment Project/GitHub/RNAseq/input/HHP_2h_24h_WT/Control_2_counts | C:/Users/shaoq/OneDrive/PythonScripts/Experiment Project/GitHub/RNAseq/input/HHP_2h_24h_WT/Control_2_counts.txt | 1 | 42617496 | 1 |\n",
       "| C:/Users/shaoq/OneDrive/PythonScripts/Experiment Project/GitHub/RNAseq/input/HHP_2h_24h_WT/Control_3_counts | C:/Users/shaoq/OneDrive/PythonScripts/Experiment Project/GitHub/RNAseq/input/HHP_2h_24h_WT/Control_3_counts.txt | 1 | 54117547 | 1 |\n",
       "| C:/Users/shaoq/OneDrive/PythonScripts/Experiment Project/GitHub/RNAseq/input/HHP_2h_24h_WT/24h_1_counts | C:/Users/shaoq/OneDrive/PythonScripts/Experiment Project/GitHub/RNAseq/input/HHP_2h_24h_WT/24h_1_counts.txt     | 1 | 37998071 | 1 |\n",
       "| C:/Users/shaoq/OneDrive/PythonScripts/Experiment Project/GitHub/RNAseq/input/HHP_2h_24h_WT/24h_2_counts | C:/Users/shaoq/OneDrive/PythonScripts/Experiment Project/GitHub/RNAseq/input/HHP_2h_24h_WT/24h_2_counts.txt     | 1 | 37434266 | 1 |\n",
       "| C:/Users/shaoq/OneDrive/PythonScripts/Experiment Project/GitHub/RNAseq/input/HHP_2h_24h_WT/24h_3_counts | C:/Users/shaoq/OneDrive/PythonScripts/Experiment Project/GitHub/RNAseq/input/HHP_2h_24h_WT/24h_3_counts.txt     | 1 | 38420247 | 1 |\n",
       "\n",
       "\n",
       "$counts\n",
       ":   \n",
       "A matrix: 6 × 6 of type dbl\n",
       "\n",
       "| <!--/--> | C:/Users/shaoq/OneDrive/PythonScripts/Experiment Project/GitHub/RNAseq/input/HHP_2h_24h_WT/Control_1_counts | C:/Users/shaoq/OneDrive/PythonScripts/Experiment Project/GitHub/RNAseq/input/HHP_2h_24h_WT/Control_2_counts | C:/Users/shaoq/OneDrive/PythonScripts/Experiment Project/GitHub/RNAseq/input/HHP_2h_24h_WT/Control_3_counts | C:/Users/shaoq/OneDrive/PythonScripts/Experiment Project/GitHub/RNAseq/input/HHP_2h_24h_WT/24h_1_counts | C:/Users/shaoq/OneDrive/PythonScripts/Experiment Project/GitHub/RNAseq/input/HHP_2h_24h_WT/24h_2_counts | C:/Users/shaoq/OneDrive/PythonScripts/Experiment Project/GitHub/RNAseq/input/HHP_2h_24h_WT/24h_3_counts |\n",
       "|---|---|---|---|---|---|---|\n",
       "| Xkr4 | 2502 | 1912 | 2264 | 1682 | 1262 | 1342 |\n",
       "| Gm39585 |    1 |    0 |    2 |    0 |    0 |    0 |\n",
       "| Gm38717 |   31 |   39 |   15 |   37 |   43 |   10 |\n",
       "| Rp1 |    0 |    0 |    1 |    1 |    0 |    0 |\n",
       "| Sox17 |  161 |  234 |  335 |  189 |  199 |  202 |\n",
       "| LOC108167609 |    0 |    1 |    0 |    2 |    0 |    3 |\n",
       "\n",
       "\n",
       "\n",
       "\n"
      ],
      "text/plain": [
       "An object of class \"DGEList\"\n",
       "$samples\n",
       "                                                                                                                                                                                                                      files\n",
       "C:/Users/shaoq/OneDrive/PythonScripts/Experiment Project/GitHub/RNAseq/input/HHP_2h_24h_WT/Control_1_counts C:/Users/shaoq/OneDrive/PythonScripts/Experiment Project/GitHub/RNAseq/input/HHP_2h_24h_WT/Control_1_counts.txt\n",
       "C:/Users/shaoq/OneDrive/PythonScripts/Experiment Project/GitHub/RNAseq/input/HHP_2h_24h_WT/Control_2_counts C:/Users/shaoq/OneDrive/PythonScripts/Experiment Project/GitHub/RNAseq/input/HHP_2h_24h_WT/Control_2_counts.txt\n",
       "C:/Users/shaoq/OneDrive/PythonScripts/Experiment Project/GitHub/RNAseq/input/HHP_2h_24h_WT/Control_3_counts C:/Users/shaoq/OneDrive/PythonScripts/Experiment Project/GitHub/RNAseq/input/HHP_2h_24h_WT/Control_3_counts.txt\n",
       "C:/Users/shaoq/OneDrive/PythonScripts/Experiment Project/GitHub/RNAseq/input/HHP_2h_24h_WT/24h_1_counts         C:/Users/shaoq/OneDrive/PythonScripts/Experiment Project/GitHub/RNAseq/input/HHP_2h_24h_WT/24h_1_counts.txt\n",
       "C:/Users/shaoq/OneDrive/PythonScripts/Experiment Project/GitHub/RNAseq/input/HHP_2h_24h_WT/24h_2_counts         C:/Users/shaoq/OneDrive/PythonScripts/Experiment Project/GitHub/RNAseq/input/HHP_2h_24h_WT/24h_2_counts.txt\n",
       "C:/Users/shaoq/OneDrive/PythonScripts/Experiment Project/GitHub/RNAseq/input/HHP_2h_24h_WT/24h_3_counts         C:/Users/shaoq/OneDrive/PythonScripts/Experiment Project/GitHub/RNAseq/input/HHP_2h_24h_WT/24h_3_counts.txt\n",
       "                                                                                                            group\n",
       "C:/Users/shaoq/OneDrive/PythonScripts/Experiment Project/GitHub/RNAseq/input/HHP_2h_24h_WT/Control_1_counts     1\n",
       "C:/Users/shaoq/OneDrive/PythonScripts/Experiment Project/GitHub/RNAseq/input/HHP_2h_24h_WT/Control_2_counts     1\n",
       "C:/Users/shaoq/OneDrive/PythonScripts/Experiment Project/GitHub/RNAseq/input/HHP_2h_24h_WT/Control_3_counts     1\n",
       "C:/Users/shaoq/OneDrive/PythonScripts/Experiment Project/GitHub/RNAseq/input/HHP_2h_24h_WT/24h_1_counts         1\n",
       "C:/Users/shaoq/OneDrive/PythonScripts/Experiment Project/GitHub/RNAseq/input/HHP_2h_24h_WT/24h_2_counts         1\n",
       "C:/Users/shaoq/OneDrive/PythonScripts/Experiment Project/GitHub/RNAseq/input/HHP_2h_24h_WT/24h_3_counts         1\n",
       "                                                                                                            lib.size\n",
       "C:/Users/shaoq/OneDrive/PythonScripts/Experiment Project/GitHub/RNAseq/input/HHP_2h_24h_WT/Control_1_counts 42516054\n",
       "C:/Users/shaoq/OneDrive/PythonScripts/Experiment Project/GitHub/RNAseq/input/HHP_2h_24h_WT/Control_2_counts 42617496\n",
       "C:/Users/shaoq/OneDrive/PythonScripts/Experiment Project/GitHub/RNAseq/input/HHP_2h_24h_WT/Control_3_counts 54117547\n",
       "C:/Users/shaoq/OneDrive/PythonScripts/Experiment Project/GitHub/RNAseq/input/HHP_2h_24h_WT/24h_1_counts     37998071\n",
       "C:/Users/shaoq/OneDrive/PythonScripts/Experiment Project/GitHub/RNAseq/input/HHP_2h_24h_WT/24h_2_counts     37434266\n",
       "C:/Users/shaoq/OneDrive/PythonScripts/Experiment Project/GitHub/RNAseq/input/HHP_2h_24h_WT/24h_3_counts     38420247\n",
       "                                                                                                            norm.factors\n",
       "C:/Users/shaoq/OneDrive/PythonScripts/Experiment Project/GitHub/RNAseq/input/HHP_2h_24h_WT/Control_1_counts            1\n",
       "C:/Users/shaoq/OneDrive/PythonScripts/Experiment Project/GitHub/RNAseq/input/HHP_2h_24h_WT/Control_2_counts            1\n",
       "C:/Users/shaoq/OneDrive/PythonScripts/Experiment Project/GitHub/RNAseq/input/HHP_2h_24h_WT/Control_3_counts            1\n",
       "C:/Users/shaoq/OneDrive/PythonScripts/Experiment Project/GitHub/RNAseq/input/HHP_2h_24h_WT/24h_1_counts                1\n",
       "C:/Users/shaoq/OneDrive/PythonScripts/Experiment Project/GitHub/RNAseq/input/HHP_2h_24h_WT/24h_2_counts                1\n",
       "C:/Users/shaoq/OneDrive/PythonScripts/Experiment Project/GitHub/RNAseq/input/HHP_2h_24h_WT/24h_3_counts                1\n",
       "\n",
       "$counts\n",
       "              Samples\n",
       "Tags           C:/Users/shaoq/OneDrive/PythonScripts/Experiment Project/GitHub/RNAseq/input/HHP_2h_24h_WT/Control_1_counts\n",
       "  Xkr4                                                                                                                2502\n",
       "  Gm39585                                                                                                                1\n",
       "  Gm38717                                                                                                               31\n",
       "  Rp1                                                                                                                    0\n",
       "  Sox17                                                                                                                161\n",
       "  LOC108167609                                                                                                           0\n",
       "              Samples\n",
       "Tags           C:/Users/shaoq/OneDrive/PythonScripts/Experiment Project/GitHub/RNAseq/input/HHP_2h_24h_WT/Control_2_counts\n",
       "  Xkr4                                                                                                                1912\n",
       "  Gm39585                                                                                                                0\n",
       "  Gm38717                                                                                                               39\n",
       "  Rp1                                                                                                                    0\n",
       "  Sox17                                                                                                                234\n",
       "  LOC108167609                                                                                                           1\n",
       "              Samples\n",
       "Tags           C:/Users/shaoq/OneDrive/PythonScripts/Experiment Project/GitHub/RNAseq/input/HHP_2h_24h_WT/Control_3_counts\n",
       "  Xkr4                                                                                                                2264\n",
       "  Gm39585                                                                                                                2\n",
       "  Gm38717                                                                                                               15\n",
       "  Rp1                                                                                                                    1\n",
       "  Sox17                                                                                                                335\n",
       "  LOC108167609                                                                                                           0\n",
       "              Samples\n",
       "Tags           C:/Users/shaoq/OneDrive/PythonScripts/Experiment Project/GitHub/RNAseq/input/HHP_2h_24h_WT/24h_1_counts\n",
       "  Xkr4                                                                                                            1682\n",
       "  Gm39585                                                                                                            0\n",
       "  Gm38717                                                                                                           37\n",
       "  Rp1                                                                                                                1\n",
       "  Sox17                                                                                                            189\n",
       "  LOC108167609                                                                                                       2\n",
       "              Samples\n",
       "Tags           C:/Users/shaoq/OneDrive/PythonScripts/Experiment Project/GitHub/RNAseq/input/HHP_2h_24h_WT/24h_2_counts\n",
       "  Xkr4                                                                                                            1262\n",
       "  Gm39585                                                                                                            0\n",
       "  Gm38717                                                                                                           43\n",
       "  Rp1                                                                                                                0\n",
       "  Sox17                                                                                                            199\n",
       "  LOC108167609                                                                                                       0\n",
       "              Samples\n",
       "Tags           C:/Users/shaoq/OneDrive/PythonScripts/Experiment Project/GitHub/RNAseq/input/HHP_2h_24h_WT/24h_3_counts\n",
       "  Xkr4                                                                                                            1342\n",
       "  Gm39585                                                                                                            0\n",
       "  Gm38717                                                                                                           10\n",
       "  Rp1                                                                                                                0\n",
       "  Sox17                                                                                                            202\n",
       "  LOC108167609                                                                                                       3\n"
      ]
     },
     "metadata": {},
     "output_type": "display_data"
    },
    {
     "data": {
      "text/html": [
       "'DGEList'"
      ],
      "text/latex": [
       "'DGEList'"
      ],
      "text/markdown": [
       "'DGEList'"
      ],
      "text/plain": [
       "[1] \"DGEList\"\n",
       "attr(,\"package\")\n",
       "[1] \"edgeR\""
      ]
     },
     "metadata": {},
     "output_type": "display_data"
    },
    {
     "data": {
      "text/html": [
       "<style>\n",
       ".list-inline {list-style: none; margin:0; padding: 0}\n",
       ".list-inline>li {display: inline-block}\n",
       ".list-inline>li:not(:last-child)::after {content: \"\\00b7\"; padding: 0 .5ex}\n",
       "</style>\n",
       "<ol class=list-inline><li>35976</li><li>6</li></ol>\n"
      ],
      "text/latex": [
       "\\begin{enumerate*}\n",
       "\\item 35976\n",
       "\\item 6\n",
       "\\end{enumerate*}\n"
      ],
      "text/markdown": [
       "1. 35976\n",
       "2. 6\n",
       "\n",
       "\n"
      ],
      "text/plain": [
       "[1] 35976     6"
      ]
     },
     "metadata": {},
     "output_type": "display_data"
    },
    {
     "data": {
      "text/html": [
       "<style>\n",
       ".list-inline {list-style: none; margin:0; padding: 0}\n",
       ".list-inline>li {display: inline-block}\n",
       ".list-inline>li:not(:last-child)::after {content: \"\\00b7\"; padding: 0 .5ex}\n",
       "</style>\n",
       "<ol class=list-inline><li>'samples'</li><li>'counts'</li></ol>\n"
      ],
      "text/latex": [
       "\\begin{enumerate*}\n",
       "\\item 'samples'\n",
       "\\item 'counts'\n",
       "\\end{enumerate*}\n"
      ],
      "text/markdown": [
       "1. 'samples'\n",
       "2. 'counts'\n",
       "\n",
       "\n"
      ],
      "text/plain": [
       "[1] \"samples\" \"counts\" "
      ]
     },
     "metadata": {},
     "output_type": "display_data"
    }
   ],
   "source": [
    "x <- readDGE(here(filename, files), columns = c(1, 2))\n",
    "# x <- readDGE(here(filename, './', files), columns = c(1, 2)) create DGE\n",
    "# objects with 9 the counts files, only two columns\n",
    "head(x)  # x with samples, counts, \n",
    "class(x)\n",
    "dim(x)\n",
    "names(x)"
   ]
  },
  {
   "cell_type": "markdown",
   "metadata": {
    "id": "9iSIzgDstIh_"
   },
   "source": [
    "### Organising sample information \n",
    "For downstream analysis, sample-level information related to the experimental design needs to be associated with the columns of the counts matrix. This should include experimental variables, both biological and technical, that could have an effect on expression levels. Examples include cell type, genotype (wild-type, knock-out), phenotype (disease status, sex, age), sample treatment (drug, control) and batch information (date experiment was performed if samples were collected and analysed at distinct time points) to name just a few.\n",
    "\n",
    "Our DGEList-object contains a samples data frame that stores both cell type (or group) and batch (sequencing lane) information, each of which consists of three distinct levels. Note that within x$samples, library sizes are automatically calculated for each sample and normalisation factors are set to 1. For simplicity, we remove the GEO sample IDs (GSM*) from the column names of our DGEList-object x."
   ]
  },
  {
   "cell_type": "code",
   "execution_count": 19,
   "metadata": {
    "colab": {
     "base_uri": "https://localhost:8080/",
     "height": 52
    },
    "executionInfo": {
     "elapsed": 125,
     "status": "ok",
     "timestamp": 1636989624885,
     "user": {
      "displayName": "Shaoqiu He",
      "photoUrl": "https://lh3.googleusercontent.com/a-/AOh14GjqxDDKIvj-k4BT2y4gflK2grm-E052z036TINn0w=s64",
      "userId": "16738992239117859264"
     },
     "user_tz": 300
    },
    "id": "I-oAyWnmdohQ",
    "outputId": "5d68c526-695a-40dc-c7ed-4421d512c231"
   },
   "outputs": [
    {
     "data": {
      "text/html": [
       "<style>\n",
       ".list-inline {list-style: none; margin:0; padding: 0}\n",
       ".list-inline>li {display: inline-block}\n",
       ".list-inline>li:not(:last-child)::after {content: \"\\00b7\"; padding: 0 .5ex}\n",
       "</style>\n",
       "<ol class=list-inline><li>CON_1</li><li>CON_2</li><li>CON_3</li><li>HHP.24H_1</li><li>HHP.24H_2</li><li>HHP.24H_3</li></ol>\n",
       "\n",
       "<details>\n",
       "\t<summary style=display:list-item;cursor:pointer>\n",
       "\t\t<strong>Levels</strong>:\n",
       "\t</summary>\n",
       "\t<style>\n",
       "\t.list-inline {list-style: none; margin:0; padding: 0}\n",
       "\t.list-inline>li {display: inline-block}\n",
       "\t.list-inline>li:not(:last-child)::after {content: \"\\00b7\"; padding: 0 .5ex}\n",
       "\t</style>\n",
       "\t<ol class=list-inline><li>'CON_1'</li><li>'CON_2'</li><li>'CON_3'</li><li>'HHP.24H_1'</li><li>'HHP.24H_2'</li><li>'HHP.24H_3'</li></ol>\n",
       "</details>"
      ],
      "text/latex": [
       "\\begin{enumerate*}\n",
       "\\item CON\\_1\n",
       "\\item CON\\_2\n",
       "\\item CON\\_3\n",
       "\\item HHP.24H\\_1\n",
       "\\item HHP.24H\\_2\n",
       "\\item HHP.24H\\_3\n",
       "\\end{enumerate*}\n",
       "\n",
       "\\emph{Levels}: \\begin{enumerate*}\n",
       "\\item 'CON\\_1'\n",
       "\\item 'CON\\_2'\n",
       "\\item 'CON\\_3'\n",
       "\\item 'HHP.24H\\_1'\n",
       "\\item 'HHP.24H\\_2'\n",
       "\\item 'HHP.24H\\_3'\n",
       "\\end{enumerate*}\n"
      ],
      "text/markdown": [
       "1. CON_1\n",
       "2. CON_2\n",
       "3. CON_3\n",
       "4. HHP.24H_1\n",
       "5. HHP.24H_2\n",
       "6. HHP.24H_3\n",
       "\n",
       "\n",
       "\n",
       "**Levels**: 1. 'CON_1'\n",
       "2. 'CON_2'\n",
       "3. 'CON_3'\n",
       "4. 'HHP.24H_1'\n",
       "5. 'HHP.24H_2'\n",
       "6. 'HHP.24H_3'\n",
       "\n",
       "\n"
      ],
      "text/plain": [
       "[1] CON_1     CON_2     CON_3     HHP.24H_1 HHP.24H_2 HHP.24H_3\n",
       "Levels: CON_1 CON_2 CON_3 HHP.24H_1 HHP.24H_2 HHP.24H_3"
      ]
     },
     "metadata": {},
     "output_type": "display_data"
    }
   ],
   "source": [
    "sampleinfo$SampleName"
   ]
  },
  {
   "cell_type": "code",
   "execution_count": 20,
   "metadata": {
    "id": "w4RSp3R8dohQ"
   },
   "outputs": [],
   "source": [
    "colnames(x) <- sampleinfo$SampleName"
   ]
  },
  {
   "cell_type": "code",
   "execution_count": 21,
   "metadata": {
    "colab": {
     "base_uri": "https://localhost:8080/",
     "height": 523
    },
    "executionInfo": {
     "elapsed": 249,
     "status": "ok",
     "timestamp": 1636989626823,
     "user": {
      "displayName": "Shaoqiu He",
      "photoUrl": "https://lh3.googleusercontent.com/a-/AOh14GjqxDDKIvj-k4BT2y4gflK2grm-E052z036TINn0w=s64",
      "userId": "16738992239117859264"
     },
     "user_tz": 300
    },
    "id": "SmF0Nl9BiPSj",
    "outputId": "7e52639d-51f7-4a7e-a98e-c501944156ed"
   },
   "outputs": [
    {
     "data": {
      "text/html": [
       "<table class=\"dataframe\">\n",
       "<caption>A data.frame: 6 × 4</caption>\n",
       "<thead>\n",
       "\t<tr><th></th><th scope=col>files</th><th scope=col>group</th><th scope=col>lib.size</th><th scope=col>norm.factors</th></tr>\n",
       "\t<tr><th></th><th scope=col>&lt;chr&gt;</th><th scope=col>&lt;fct&gt;</th><th scope=col>&lt;dbl&gt;</th><th scope=col>&lt;dbl&gt;</th></tr>\n",
       "</thead>\n",
       "<tbody>\n",
       "\t<tr><th scope=row>CON_1</th><td>C:/Users/shaoq/OneDrive/PythonScripts/Experiment Project/GitHub/RNAseq/input/HHP_2h_24h_WT/Control_1_counts.txt</td><td>1</td><td>42516054</td><td>1</td></tr>\n",
       "\t<tr><th scope=row>CON_2</th><td>C:/Users/shaoq/OneDrive/PythonScripts/Experiment Project/GitHub/RNAseq/input/HHP_2h_24h_WT/Control_2_counts.txt</td><td>1</td><td>42617496</td><td>1</td></tr>\n",
       "\t<tr><th scope=row>CON_3</th><td>C:/Users/shaoq/OneDrive/PythonScripts/Experiment Project/GitHub/RNAseq/input/HHP_2h_24h_WT/Control_3_counts.txt</td><td>1</td><td>54117547</td><td>1</td></tr>\n",
       "\t<tr><th scope=row>HHP.24H_1</th><td>C:/Users/shaoq/OneDrive/PythonScripts/Experiment Project/GitHub/RNAseq/input/HHP_2h_24h_WT/24h_1_counts.txt    </td><td>1</td><td>37998071</td><td>1</td></tr>\n",
       "\t<tr><th scope=row>HHP.24H_2</th><td>C:/Users/shaoq/OneDrive/PythonScripts/Experiment Project/GitHub/RNAseq/input/HHP_2h_24h_WT/24h_2_counts.txt    </td><td>1</td><td>37434266</td><td>1</td></tr>\n",
       "\t<tr><th scope=row>HHP.24H_3</th><td>C:/Users/shaoq/OneDrive/PythonScripts/Experiment Project/GitHub/RNAseq/input/HHP_2h_24h_WT/24h_3_counts.txt    </td><td>1</td><td>38420247</td><td>1</td></tr>\n",
       "</tbody>\n",
       "</table>\n"
      ],
      "text/latex": [
       "A data.frame: 6 × 4\n",
       "\\begin{tabular}{r|llll}\n",
       "  & files & group & lib.size & norm.factors\\\\\n",
       "  & <chr> & <fct> & <dbl> & <dbl>\\\\\n",
       "\\hline\n",
       "\tCON\\_1 & C:/Users/shaoq/OneDrive/PythonScripts/Experiment Project/GitHub/RNAseq/input/HHP\\_2h\\_24h\\_WT/Control\\_1\\_counts.txt & 1 & 42516054 & 1\\\\\n",
       "\tCON\\_2 & C:/Users/shaoq/OneDrive/PythonScripts/Experiment Project/GitHub/RNAseq/input/HHP\\_2h\\_24h\\_WT/Control\\_2\\_counts.txt & 1 & 42617496 & 1\\\\\n",
       "\tCON\\_3 & C:/Users/shaoq/OneDrive/PythonScripts/Experiment Project/GitHub/RNAseq/input/HHP\\_2h\\_24h\\_WT/Control\\_3\\_counts.txt & 1 & 54117547 & 1\\\\\n",
       "\tHHP.24H\\_1 & C:/Users/shaoq/OneDrive/PythonScripts/Experiment Project/GitHub/RNAseq/input/HHP\\_2h\\_24h\\_WT/24h\\_1\\_counts.txt     & 1 & 37998071 & 1\\\\\n",
       "\tHHP.24H\\_2 & C:/Users/shaoq/OneDrive/PythonScripts/Experiment Project/GitHub/RNAseq/input/HHP\\_2h\\_24h\\_WT/24h\\_2\\_counts.txt     & 1 & 37434266 & 1\\\\\n",
       "\tHHP.24H\\_3 & C:/Users/shaoq/OneDrive/PythonScripts/Experiment Project/GitHub/RNAseq/input/HHP\\_2h\\_24h\\_WT/24h\\_3\\_counts.txt     & 1 & 38420247 & 1\\\\\n",
       "\\end{tabular}\n"
      ],
      "text/markdown": [
       "\n",
       "A data.frame: 6 × 4\n",
       "\n",
       "| <!--/--> | files &lt;chr&gt; | group &lt;fct&gt; | lib.size &lt;dbl&gt; | norm.factors &lt;dbl&gt; |\n",
       "|---|---|---|---|---|\n",
       "| CON_1 | C:/Users/shaoq/OneDrive/PythonScripts/Experiment Project/GitHub/RNAseq/input/HHP_2h_24h_WT/Control_1_counts.txt | 1 | 42516054 | 1 |\n",
       "| CON_2 | C:/Users/shaoq/OneDrive/PythonScripts/Experiment Project/GitHub/RNAseq/input/HHP_2h_24h_WT/Control_2_counts.txt | 1 | 42617496 | 1 |\n",
       "| CON_3 | C:/Users/shaoq/OneDrive/PythonScripts/Experiment Project/GitHub/RNAseq/input/HHP_2h_24h_WT/Control_3_counts.txt | 1 | 54117547 | 1 |\n",
       "| HHP.24H_1 | C:/Users/shaoq/OneDrive/PythonScripts/Experiment Project/GitHub/RNAseq/input/HHP_2h_24h_WT/24h_1_counts.txt     | 1 | 37998071 | 1 |\n",
       "| HHP.24H_2 | C:/Users/shaoq/OneDrive/PythonScripts/Experiment Project/GitHub/RNAseq/input/HHP_2h_24h_WT/24h_2_counts.txt     | 1 | 37434266 | 1 |\n",
       "| HHP.24H_3 | C:/Users/shaoq/OneDrive/PythonScripts/Experiment Project/GitHub/RNAseq/input/HHP_2h_24h_WT/24h_3_counts.txt     | 1 | 38420247 | 1 |\n",
       "\n"
      ],
      "text/plain": [
       "          files                                                                                                          \n",
       "CON_1     C:/Users/shaoq/OneDrive/PythonScripts/Experiment Project/GitHub/RNAseq/input/HHP_2h_24h_WT/Control_1_counts.txt\n",
       "CON_2     C:/Users/shaoq/OneDrive/PythonScripts/Experiment Project/GitHub/RNAseq/input/HHP_2h_24h_WT/Control_2_counts.txt\n",
       "CON_3     C:/Users/shaoq/OneDrive/PythonScripts/Experiment Project/GitHub/RNAseq/input/HHP_2h_24h_WT/Control_3_counts.txt\n",
       "HHP.24H_1 C:/Users/shaoq/OneDrive/PythonScripts/Experiment Project/GitHub/RNAseq/input/HHP_2h_24h_WT/24h_1_counts.txt    \n",
       "HHP.24H_2 C:/Users/shaoq/OneDrive/PythonScripts/Experiment Project/GitHub/RNAseq/input/HHP_2h_24h_WT/24h_2_counts.txt    \n",
       "HHP.24H_3 C:/Users/shaoq/OneDrive/PythonScripts/Experiment Project/GitHub/RNAseq/input/HHP_2h_24h_WT/24h_3_counts.txt    \n",
       "          group lib.size norm.factors\n",
       "CON_1     1     42516054 1           \n",
       "CON_2     1     42617496 1           \n",
       "CON_3     1     54117547 1           \n",
       "HHP.24H_1 1     37998071 1           \n",
       "HHP.24H_2 1     37434266 1           \n",
       "HHP.24H_3 1     38420247 1           "
      ]
     },
     "metadata": {},
     "output_type": "display_data"
    },
    {
     "data": {
      "text/html": [
       "<table class=\"dataframe\">\n",
       "<caption>A matrix: 6 × 6 of type dbl</caption>\n",
       "<thead>\n",
       "\t<tr><th></th><th scope=col>CON_1</th><th scope=col>CON_2</th><th scope=col>CON_3</th><th scope=col>HHP.24H_1</th><th scope=col>HHP.24H_2</th><th scope=col>HHP.24H_3</th></tr>\n",
       "</thead>\n",
       "<tbody>\n",
       "\t<tr><th scope=row>Xkr4</th><td>2502</td><td>1912</td><td>2264</td><td>1682</td><td>1262</td><td>1342</td></tr>\n",
       "\t<tr><th scope=row>Gm39585</th><td>   1</td><td>   0</td><td>   2</td><td>   0</td><td>   0</td><td>   0</td></tr>\n",
       "\t<tr><th scope=row>Gm38717</th><td>  31</td><td>  39</td><td>  15</td><td>  37</td><td>  43</td><td>  10</td></tr>\n",
       "\t<tr><th scope=row>Rp1</th><td>   0</td><td>   0</td><td>   1</td><td>   1</td><td>   0</td><td>   0</td></tr>\n",
       "\t<tr><th scope=row>Sox17</th><td> 161</td><td> 234</td><td> 335</td><td> 189</td><td> 199</td><td> 202</td></tr>\n",
       "\t<tr><th scope=row>LOC108167609</th><td>   0</td><td>   1</td><td>   0</td><td>   2</td><td>   0</td><td>   3</td></tr>\n",
       "</tbody>\n",
       "</table>\n"
      ],
      "text/latex": [
       "A matrix: 6 × 6 of type dbl\n",
       "\\begin{tabular}{r|llllll}\n",
       "  & CON\\_1 & CON\\_2 & CON\\_3 & HHP.24H\\_1 & HHP.24H\\_2 & HHP.24H\\_3\\\\\n",
       "\\hline\n",
       "\tXkr4 & 2502 & 1912 & 2264 & 1682 & 1262 & 1342\\\\\n",
       "\tGm39585 &    1 &    0 &    2 &    0 &    0 &    0\\\\\n",
       "\tGm38717 &   31 &   39 &   15 &   37 &   43 &   10\\\\\n",
       "\tRp1 &    0 &    0 &    1 &    1 &    0 &    0\\\\\n",
       "\tSox17 &  161 &  234 &  335 &  189 &  199 &  202\\\\\n",
       "\tLOC108167609 &    0 &    1 &    0 &    2 &    0 &    3\\\\\n",
       "\\end{tabular}\n"
      ],
      "text/markdown": [
       "\n",
       "A matrix: 6 × 6 of type dbl\n",
       "\n",
       "| <!--/--> | CON_1 | CON_2 | CON_3 | HHP.24H_1 | HHP.24H_2 | HHP.24H_3 |\n",
       "|---|---|---|---|---|---|---|\n",
       "| Xkr4 | 2502 | 1912 | 2264 | 1682 | 1262 | 1342 |\n",
       "| Gm39585 |    1 |    0 |    2 |    0 |    0 |    0 |\n",
       "| Gm38717 |   31 |   39 |   15 |   37 |   43 |   10 |\n",
       "| Rp1 |    0 |    0 |    1 |    1 |    0 |    0 |\n",
       "| Sox17 |  161 |  234 |  335 |  189 |  199 |  202 |\n",
       "| LOC108167609 |    0 |    1 |    0 |    2 |    0 |    3 |\n",
       "\n"
      ],
      "text/plain": [
       "              Samples\n",
       "Tags           CON_1 CON_2 CON_3 HHP.24H_1 HHP.24H_2 HHP.24H_3\n",
       "  Xkr4         2502  1912  2264  1682      1262      1342     \n",
       "  Gm39585         1     0     2     0         0         0     \n",
       "  Gm38717        31    39    15    37        43        10     \n",
       "  Rp1             0     0     1     1         0         0     \n",
       "  Sox17         161   234   335   189       199       202     \n",
       "  LOC108167609    0     1     0     2         0         3     "
      ]
     },
     "metadata": {},
     "output_type": "display_data"
    }
   ],
   "source": [
    "x$samples  # x, DGE objects with sample and counts dataframes\n",
    "head(x$counts)"
   ]
  },
  {
   "cell_type": "code",
   "execution_count": 22,
   "metadata": {
    "colab": {
     "base_uri": "https://localhost:8080/",
     "height": 320
    },
    "executionInfo": {
     "elapsed": 123,
     "status": "ok",
     "timestamp": 1636989630458,
     "user": {
      "displayName": "Shaoqiu He",
      "photoUrl": "https://lh3.googleusercontent.com/a-/AOh14GjqxDDKIvj-k4BT2y4gflK2grm-E052z036TINn0w=s64",
      "userId": "16738992239117859264"
     },
     "user_tz": 300
    },
    "id": "R3MIJLXbdohR",
    "outputId": "d10c353a-8007-4209-ee54-93b24da9133f"
   },
   "outputs": [
    {
     "data": {
      "text/html": [
       "<style>\n",
       ".list-inline {list-style: none; margin:0; padding: 0}\n",
       ".list-inline>li {display: inline-block}\n",
       ".list-inline>li:not(:last-child)::after {content: \"\\00b7\"; padding: 0 .5ex}\n",
       "</style>\n",
       "<ol class=list-inline><li>control</li><li>control</li><li>control</li><li>hhp.24hr</li><li>hhp.24hr</li><li>hhp.24hr</li></ol>\n",
       "\n",
       "<details>\n",
       "\t<summary style=display:list-item;cursor:pointer>\n",
       "\t\t<strong>Levels</strong>:\n",
       "\t</summary>\n",
       "\t<style>\n",
       "\t.list-inline {list-style: none; margin:0; padding: 0}\n",
       "\t.list-inline>li {display: inline-block}\n",
       "\t.list-inline>li:not(:last-child)::after {content: \"\\00b7\"; padding: 0 .5ex}\n",
       "\t</style>\n",
       "\t<ol class=list-inline><li>'control'</li><li>'hhp.24hr'</li></ol>\n",
       "</details>"
      ],
      "text/latex": [
       "\\begin{enumerate*}\n",
       "\\item control\n",
       "\\item control\n",
       "\\item control\n",
       "\\item hhp.24hr\n",
       "\\item hhp.24hr\n",
       "\\item hhp.24hr\n",
       "\\end{enumerate*}\n",
       "\n",
       "\\emph{Levels}: \\begin{enumerate*}\n",
       "\\item 'control'\n",
       "\\item 'hhp.24hr'\n",
       "\\end{enumerate*}\n"
      ],
      "text/markdown": [
       "1. control\n",
       "2. control\n",
       "3. control\n",
       "4. hhp.24hr\n",
       "5. hhp.24hr\n",
       "6. hhp.24hr\n",
       "\n",
       "\n",
       "\n",
       "**Levels**: 1. 'control'\n",
       "2. 'hhp.24hr'\n",
       "\n",
       "\n"
      ],
      "text/plain": [
       "[1] control  control  control  hhp.24hr hhp.24hr hhp.24hr\n",
       "Levels: control hhp.24hr"
      ]
     },
     "metadata": {},
     "output_type": "display_data"
    },
    {
     "data": {
      "text/html": [
       "<table class=\"dataframe\">\n",
       "<caption>A data.frame: 6 × 4</caption>\n",
       "<thead>\n",
       "\t<tr><th></th><th scope=col>files</th><th scope=col>group</th><th scope=col>lib.size</th><th scope=col>norm.factors</th></tr>\n",
       "\t<tr><th></th><th scope=col>&lt;chr&gt;</th><th scope=col>&lt;fct&gt;</th><th scope=col>&lt;dbl&gt;</th><th scope=col>&lt;dbl&gt;</th></tr>\n",
       "</thead>\n",
       "<tbody>\n",
       "\t<tr><th scope=row>CON_1</th><td>C:/Users/shaoq/OneDrive/PythonScripts/Experiment Project/GitHub/RNAseq/input/HHP_2h_24h_WT/Control_1_counts.txt</td><td>control </td><td>42516054</td><td>1</td></tr>\n",
       "\t<tr><th scope=row>CON_2</th><td>C:/Users/shaoq/OneDrive/PythonScripts/Experiment Project/GitHub/RNAseq/input/HHP_2h_24h_WT/Control_2_counts.txt</td><td>control </td><td>42617496</td><td>1</td></tr>\n",
       "\t<tr><th scope=row>CON_3</th><td>C:/Users/shaoq/OneDrive/PythonScripts/Experiment Project/GitHub/RNAseq/input/HHP_2h_24h_WT/Control_3_counts.txt</td><td>control </td><td>54117547</td><td>1</td></tr>\n",
       "\t<tr><th scope=row>HHP.24H_1</th><td>C:/Users/shaoq/OneDrive/PythonScripts/Experiment Project/GitHub/RNAseq/input/HHP_2h_24h_WT/24h_1_counts.txt    </td><td>hhp.24hr</td><td>37998071</td><td>1</td></tr>\n",
       "\t<tr><th scope=row>HHP.24H_2</th><td>C:/Users/shaoq/OneDrive/PythonScripts/Experiment Project/GitHub/RNAseq/input/HHP_2h_24h_WT/24h_2_counts.txt    </td><td>hhp.24hr</td><td>37434266</td><td>1</td></tr>\n",
       "\t<tr><th scope=row>HHP.24H_3</th><td>C:/Users/shaoq/OneDrive/PythonScripts/Experiment Project/GitHub/RNAseq/input/HHP_2h_24h_WT/24h_3_counts.txt    </td><td>hhp.24hr</td><td>38420247</td><td>1</td></tr>\n",
       "</tbody>\n",
       "</table>\n"
      ],
      "text/latex": [
       "A data.frame: 6 × 4\n",
       "\\begin{tabular}{r|llll}\n",
       "  & files & group & lib.size & norm.factors\\\\\n",
       "  & <chr> & <fct> & <dbl> & <dbl>\\\\\n",
       "\\hline\n",
       "\tCON\\_1 & C:/Users/shaoq/OneDrive/PythonScripts/Experiment Project/GitHub/RNAseq/input/HHP\\_2h\\_24h\\_WT/Control\\_1\\_counts.txt & control  & 42516054 & 1\\\\\n",
       "\tCON\\_2 & C:/Users/shaoq/OneDrive/PythonScripts/Experiment Project/GitHub/RNAseq/input/HHP\\_2h\\_24h\\_WT/Control\\_2\\_counts.txt & control  & 42617496 & 1\\\\\n",
       "\tCON\\_3 & C:/Users/shaoq/OneDrive/PythonScripts/Experiment Project/GitHub/RNAseq/input/HHP\\_2h\\_24h\\_WT/Control\\_3\\_counts.txt & control  & 54117547 & 1\\\\\n",
       "\tHHP.24H\\_1 & C:/Users/shaoq/OneDrive/PythonScripts/Experiment Project/GitHub/RNAseq/input/HHP\\_2h\\_24h\\_WT/24h\\_1\\_counts.txt     & hhp.24hr & 37998071 & 1\\\\\n",
       "\tHHP.24H\\_2 & C:/Users/shaoq/OneDrive/PythonScripts/Experiment Project/GitHub/RNAseq/input/HHP\\_2h\\_24h\\_WT/24h\\_2\\_counts.txt     & hhp.24hr & 37434266 & 1\\\\\n",
       "\tHHP.24H\\_3 & C:/Users/shaoq/OneDrive/PythonScripts/Experiment Project/GitHub/RNAseq/input/HHP\\_2h\\_24h\\_WT/24h\\_3\\_counts.txt     & hhp.24hr & 38420247 & 1\\\\\n",
       "\\end{tabular}\n"
      ],
      "text/markdown": [
       "\n",
       "A data.frame: 6 × 4\n",
       "\n",
       "| <!--/--> | files &lt;chr&gt; | group &lt;fct&gt; | lib.size &lt;dbl&gt; | norm.factors &lt;dbl&gt; |\n",
       "|---|---|---|---|---|\n",
       "| CON_1 | C:/Users/shaoq/OneDrive/PythonScripts/Experiment Project/GitHub/RNAseq/input/HHP_2h_24h_WT/Control_1_counts.txt | control  | 42516054 | 1 |\n",
       "| CON_2 | C:/Users/shaoq/OneDrive/PythonScripts/Experiment Project/GitHub/RNAseq/input/HHP_2h_24h_WT/Control_2_counts.txt | control  | 42617496 | 1 |\n",
       "| CON_3 | C:/Users/shaoq/OneDrive/PythonScripts/Experiment Project/GitHub/RNAseq/input/HHP_2h_24h_WT/Control_3_counts.txt | control  | 54117547 | 1 |\n",
       "| HHP.24H_1 | C:/Users/shaoq/OneDrive/PythonScripts/Experiment Project/GitHub/RNAseq/input/HHP_2h_24h_WT/24h_1_counts.txt     | hhp.24hr | 37998071 | 1 |\n",
       "| HHP.24H_2 | C:/Users/shaoq/OneDrive/PythonScripts/Experiment Project/GitHub/RNAseq/input/HHP_2h_24h_WT/24h_2_counts.txt     | hhp.24hr | 37434266 | 1 |\n",
       "| HHP.24H_3 | C:/Users/shaoq/OneDrive/PythonScripts/Experiment Project/GitHub/RNAseq/input/HHP_2h_24h_WT/24h_3_counts.txt     | hhp.24hr | 38420247 | 1 |\n",
       "\n"
      ],
      "text/plain": [
       "          files                                                                                                          \n",
       "CON_1     C:/Users/shaoq/OneDrive/PythonScripts/Experiment Project/GitHub/RNAseq/input/HHP_2h_24h_WT/Control_1_counts.txt\n",
       "CON_2     C:/Users/shaoq/OneDrive/PythonScripts/Experiment Project/GitHub/RNAseq/input/HHP_2h_24h_WT/Control_2_counts.txt\n",
       "CON_3     C:/Users/shaoq/OneDrive/PythonScripts/Experiment Project/GitHub/RNAseq/input/HHP_2h_24h_WT/Control_3_counts.txt\n",
       "HHP.24H_1 C:/Users/shaoq/OneDrive/PythonScripts/Experiment Project/GitHub/RNAseq/input/HHP_2h_24h_WT/24h_1_counts.txt    \n",
       "HHP.24H_2 C:/Users/shaoq/OneDrive/PythonScripts/Experiment Project/GitHub/RNAseq/input/HHP_2h_24h_WT/24h_2_counts.txt    \n",
       "HHP.24H_3 C:/Users/shaoq/OneDrive/PythonScripts/Experiment Project/GitHub/RNAseq/input/HHP_2h_24h_WT/24h_3_counts.txt    \n",
       "          group    lib.size norm.factors\n",
       "CON_1     control  42516054 1           \n",
       "CON_2     control  42617496 1           \n",
       "CON_3     control  54117547 1           \n",
       "HHP.24H_1 hhp.24hr 37998071 1           \n",
       "HHP.24H_2 hhp.24hr 37434266 1           \n",
       "HHP.24H_3 hhp.24hr 38420247 1           "
      ]
     },
     "metadata": {},
     "output_type": "display_data"
    }
   ],
   "source": [
    "group <- sampleinfo$Treatment\n",
    "# Take a look\n",
    "group\n",
    "# Add the group information into the DGEList\n",
    "x$samples$group <- group\n",
    "x$samples"
   ]
  },
  {
   "cell_type": "markdown",
   "metadata": {
    "id": "micKzRwytPGc"
   },
   "source": [
    "### Organising gene annotations\n",
    "A second data frame named genes in the DGEList-object is used to store gene-level information associated with rows of the counts matrix. This information can be retrieved using organism specific packages such as Mus.musculus (Bioconductor Core Team 2016b) for mouse or the biomaRt package (Durinck et al. 2005, 2009) which interfaces the Ensembl genome databases in order to perform gene annotation.\n",
    "\n",
    "The type of information that can be retrieved includes gene symbols, gene names, chromosome names and locations, Entrez gene IDs, Refseq gene IDs and Ensembl gene IDs to name just a few. biomaRt primarily works off Ensembl gene IDs, whereas Mus.musculus packages information from various sources and allows users to choose between many different gene IDs as the key.\n",
    "\n",
    "The Entrez gene IDs available in our dataset were annotated using the Mus.musculus package to retrieve associated gene symbols and chromosome information."
   ]
  },
  {
   "cell_type": "code",
   "execution_count": 23,
   "metadata": {
    "colab": {
     "base_uri": "https://localhost:8080/",
     "height": 576
    },
    "executionInfo": {
     "elapsed": 676,
     "status": "ok",
     "timestamp": 1636989632964,
     "user": {
      "displayName": "Shaoqiu He",
      "photoUrl": "https://lh3.googleusercontent.com/a-/AOh14GjqxDDKIvj-k4BT2y4gflK2grm-E052z036TINn0w=s64",
      "userId": "16738992239117859264"
     },
     "user_tz": 300
    },
    "id": "r64QnPJVoppl",
    "outputId": "94aaa8a6-c107-4263-dfd3-124686dc9bd7"
   },
   "outputs": [
    {
     "data": {
      "text/html": [
       "<table class=\"dataframe\">\n",
       "<caption>A matrix: 6 × 6 of type dbl</caption>\n",
       "<thead>\n",
       "\t<tr><th></th><th scope=col>CON_1</th><th scope=col>CON_2</th><th scope=col>CON_3</th><th scope=col>HHP.24H_1</th><th scope=col>HHP.24H_2</th><th scope=col>HHP.24H_3</th></tr>\n",
       "</thead>\n",
       "<tbody>\n",
       "\t<tr><th scope=row>Xkr4</th><td>2502</td><td>1912</td><td>2264</td><td>1682</td><td>1262</td><td>1342</td></tr>\n",
       "\t<tr><th scope=row>Gm39585</th><td>   1</td><td>   0</td><td>   2</td><td>   0</td><td>   0</td><td>   0</td></tr>\n",
       "\t<tr><th scope=row>Gm38717</th><td>  31</td><td>  39</td><td>  15</td><td>  37</td><td>  43</td><td>  10</td></tr>\n",
       "\t<tr><th scope=row>Rp1</th><td>   0</td><td>   0</td><td>   1</td><td>   1</td><td>   0</td><td>   0</td></tr>\n",
       "\t<tr><th scope=row>Sox17</th><td> 161</td><td> 234</td><td> 335</td><td> 189</td><td> 199</td><td> 202</td></tr>\n",
       "\t<tr><th scope=row>LOC108167609</th><td>   0</td><td>   1</td><td>   0</td><td>   2</td><td>   0</td><td>   3</td></tr>\n",
       "</tbody>\n",
       "</table>\n"
      ],
      "text/latex": [
       "A matrix: 6 × 6 of type dbl\n",
       "\\begin{tabular}{r|llllll}\n",
       "  & CON\\_1 & CON\\_2 & CON\\_3 & HHP.24H\\_1 & HHP.24H\\_2 & HHP.24H\\_3\\\\\n",
       "\\hline\n",
       "\tXkr4 & 2502 & 1912 & 2264 & 1682 & 1262 & 1342\\\\\n",
       "\tGm39585 &    1 &    0 &    2 &    0 &    0 &    0\\\\\n",
       "\tGm38717 &   31 &   39 &   15 &   37 &   43 &   10\\\\\n",
       "\tRp1 &    0 &    0 &    1 &    1 &    0 &    0\\\\\n",
       "\tSox17 &  161 &  234 &  335 &  189 &  199 &  202\\\\\n",
       "\tLOC108167609 &    0 &    1 &    0 &    2 &    0 &    3\\\\\n",
       "\\end{tabular}\n"
      ],
      "text/markdown": [
       "\n",
       "A matrix: 6 × 6 of type dbl\n",
       "\n",
       "| <!--/--> | CON_1 | CON_2 | CON_3 | HHP.24H_1 | HHP.24H_2 | HHP.24H_3 |\n",
       "|---|---|---|---|---|---|---|\n",
       "| Xkr4 | 2502 | 1912 | 2264 | 1682 | 1262 | 1342 |\n",
       "| Gm39585 |    1 |    0 |    2 |    0 |    0 |    0 |\n",
       "| Gm38717 |   31 |   39 |   15 |   37 |   43 |   10 |\n",
       "| Rp1 |    0 |    0 |    1 |    1 |    0 |    0 |\n",
       "| Sox17 |  161 |  234 |  335 |  189 |  199 |  202 |\n",
       "| LOC108167609 |    0 |    1 |    0 |    2 |    0 |    3 |\n",
       "\n"
      ],
      "text/plain": [
       "              Samples\n",
       "Tags           CON_1 CON_2 CON_3 HHP.24H_1 HHP.24H_2 HHP.24H_3\n",
       "  Xkr4         2502  1912  2264  1682      1262      1342     \n",
       "  Gm39585         1     0     2     0         0         0     \n",
       "  Gm38717        31    39    15    37        43        10     \n",
       "  Rp1             0     0     1     1         0         0     \n",
       "  Sox17         161   234   335   189       199       202     \n",
       "  LOC108167609    0     1     0     2         0         3     "
      ]
     },
     "metadata": {},
     "output_type": "display_data"
    },
    {
     "data": {
      "text/html": [
       "<style>\n",
       ".list-inline {list-style: none; margin:0; padding: 0}\n",
       ".list-inline>li {display: inline-block}\n",
       ".list-inline>li:not(:last-child)::after {content: \"\\00b7\"; padding: 0 .5ex}\n",
       "</style>\n",
       "<ol class=list-inline><li>35976</li><li>6</li></ol>\n"
      ],
      "text/latex": [
       "\\begin{enumerate*}\n",
       "\\item 35976\n",
       "\\item 6\n",
       "\\end{enumerate*}\n"
      ],
      "text/markdown": [
       "1. 35976\n",
       "2. 6\n",
       "\n",
       "\n"
      ],
      "text/plain": [
       "[1] 35976     6"
      ]
     },
     "metadata": {},
     "output_type": "display_data"
    },
    {
     "name": "stderr",
     "output_type": "stream",
     "text": [
      "'select()' returned 1:1 mapping between keys and columns\n",
      "\n"
     ]
    },
    {
     "data": {
      "text/html": [
       "<table class=\"dataframe\">\n",
       "<caption>A data.frame: 6 × 3</caption>\n",
       "<thead>\n",
       "\t<tr><th></th><th scope=col>SYMBOL</th><th scope=col>ENTREZID</th><th scope=col>GENENAME</th></tr>\n",
       "\t<tr><th></th><th scope=col>&lt;chr&gt;</th><th scope=col>&lt;chr&gt;</th><th scope=col>&lt;chr&gt;</th></tr>\n",
       "</thead>\n",
       "<tbody>\n",
       "\t<tr><th scope=row>1</th><td>Xkr4        </td><td>497097   </td><td>X-linked Kx blood group related 4    </td></tr>\n",
       "\t<tr><th scope=row>2</th><td>Gm39585     </td><td>105243853</td><td>predicted gene, 39585                </td></tr>\n",
       "\t<tr><th scope=row>3</th><td>Gm38717     </td><td>NA       </td><td>NA                                   </td></tr>\n",
       "\t<tr><th scope=row>4</th><td>Rp1         </td><td>19888    </td><td>retinitis pigmentosa 1 (human)       </td></tr>\n",
       "\t<tr><th scope=row>5</th><td>Sox17       </td><td>20671    </td><td>SRY (sex determining region Y)-box 17</td></tr>\n",
       "\t<tr><th scope=row>6</th><td>LOC108167609</td><td>NA       </td><td>NA                                   </td></tr>\n",
       "</tbody>\n",
       "</table>\n"
      ],
      "text/latex": [
       "A data.frame: 6 × 3\n",
       "\\begin{tabular}{r|lll}\n",
       "  & SYMBOL & ENTREZID & GENENAME\\\\\n",
       "  & <chr> & <chr> & <chr>\\\\\n",
       "\\hline\n",
       "\t1 & Xkr4         & 497097    & X-linked Kx blood group related 4    \\\\\n",
       "\t2 & Gm39585      & 105243853 & predicted gene, 39585                \\\\\n",
       "\t3 & Gm38717      & NA        & NA                                   \\\\\n",
       "\t4 & Rp1          & 19888     & retinitis pigmentosa 1 (human)       \\\\\n",
       "\t5 & Sox17        & 20671     & SRY (sex determining region Y)-box 17\\\\\n",
       "\t6 & LOC108167609 & NA        & NA                                   \\\\\n",
       "\\end{tabular}\n"
      ],
      "text/markdown": [
       "\n",
       "A data.frame: 6 × 3\n",
       "\n",
       "| <!--/--> | SYMBOL &lt;chr&gt; | ENTREZID &lt;chr&gt; | GENENAME &lt;chr&gt; |\n",
       "|---|---|---|---|\n",
       "| 1 | Xkr4         | 497097    | X-linked Kx blood group related 4     |\n",
       "| 2 | Gm39585      | 105243853 | predicted gene, 39585                 |\n",
       "| 3 | Gm38717      | NA        | NA                                    |\n",
       "| 4 | Rp1          | 19888     | retinitis pigmentosa 1 (human)        |\n",
       "| 5 | Sox17        | 20671     | SRY (sex determining region Y)-box 17 |\n",
       "| 6 | LOC108167609 | NA        | NA                                    |\n",
       "\n"
      ],
      "text/plain": [
       "  SYMBOL       ENTREZID  GENENAME                             \n",
       "1 Xkr4         497097    X-linked Kx blood group related 4    \n",
       "2 Gm39585      105243853 predicted gene, 39585                \n",
       "3 Gm38717      NA        NA                                   \n",
       "4 Rp1          19888     retinitis pigmentosa 1 (human)       \n",
       "5 Sox17        20671     SRY (sex determining region Y)-box 17\n",
       "6 LOC108167609 NA        NA                                   "
      ]
     },
     "metadata": {},
     "output_type": "display_data"
    }
   ],
   "source": [
    "# Annotate the genes.\n",
    "head(x$counts)\n",
    "dim(x$counts)\n",
    "geneid <- rownames(x)\n",
    "genes <- AnnotationDbi::select(org.Mm.eg.db, keys = geneid, columns = c(\"ENTREZID\",\n",
    "    \"SYMBOL\", \"GENENAME\"), keytype = \"SYMBOL\")\n",
    "# retrieve the ENTRZIS, GENENAME based on the SYMBOL keytype\n",
    "head(genes)\n",
    "genes <- genes[!duplicated(genes$ENTREZID), ]"
   ]
  },
  {
   "cell_type": "markdown",
   "metadata": {},
   "source": [
    "As with any gene ID, Entrez gene IDs may not map one-to-one to the gene information of interest. It is important to check for duplicated gene IDs and to understand the source of duplication before resolving them."
   ]
  },
  {
   "cell_type": "code",
   "execution_count": 24,
   "metadata": {
    "colab": {
     "base_uri": "https://localhost:8080/",
     "height": 585
    },
    "executionInfo": {
     "elapsed": 129,
     "status": "ok",
     "timestamp": 1636989634646,
     "user": {
      "displayName": "Shaoqiu He",
      "photoUrl": "https://lh3.googleusercontent.com/a-/AOh14GjqxDDKIvj-k4BT2y4gflK2grm-E052z036TINn0w=s64",
      "userId": "16738992239117859264"
     },
     "user_tz": 300
    },
    "id": "xpODgOWAdohS",
    "outputId": "f108a4d1-c3d4-4e27-a7cf-3026e076bdc2"
   },
   "outputs": [
    {
     "data": {
      "text/html": [
       "<dl>\n",
       "\t<dt>$samples</dt>\n",
       "\t\t<dd><table class=\"dataframe\">\n",
       "<caption>A data.frame: 6 × 4</caption>\n",
       "<thead>\n",
       "\t<tr><th></th><th scope=col>files</th><th scope=col>group</th><th scope=col>lib.size</th><th scope=col>norm.factors</th></tr>\n",
       "\t<tr><th></th><th scope=col>&lt;chr&gt;</th><th scope=col>&lt;fct&gt;</th><th scope=col>&lt;dbl&gt;</th><th scope=col>&lt;dbl&gt;</th></tr>\n",
       "</thead>\n",
       "<tbody>\n",
       "\t<tr><th scope=row>CON_1</th><td>C:/Users/shaoq/OneDrive/PythonScripts/Experiment Project/GitHub/RNAseq/input/HHP_2h_24h_WT/Control_1_counts.txt</td><td>control </td><td>42516054</td><td>1</td></tr>\n",
       "\t<tr><th scope=row>CON_2</th><td>C:/Users/shaoq/OneDrive/PythonScripts/Experiment Project/GitHub/RNAseq/input/HHP_2h_24h_WT/Control_2_counts.txt</td><td>control </td><td>42617496</td><td>1</td></tr>\n",
       "\t<tr><th scope=row>CON_3</th><td>C:/Users/shaoq/OneDrive/PythonScripts/Experiment Project/GitHub/RNAseq/input/HHP_2h_24h_WT/Control_3_counts.txt</td><td>control </td><td>54117547</td><td>1</td></tr>\n",
       "\t<tr><th scope=row>HHP.24H_1</th><td>C:/Users/shaoq/OneDrive/PythonScripts/Experiment Project/GitHub/RNAseq/input/HHP_2h_24h_WT/24h_1_counts.txt    </td><td>hhp.24hr</td><td>37998071</td><td>1</td></tr>\n",
       "\t<tr><th scope=row>HHP.24H_2</th><td>C:/Users/shaoq/OneDrive/PythonScripts/Experiment Project/GitHub/RNAseq/input/HHP_2h_24h_WT/24h_2_counts.txt    </td><td>hhp.24hr</td><td>37434266</td><td>1</td></tr>\n",
       "\t<tr><th scope=row>HHP.24H_3</th><td>C:/Users/shaoq/OneDrive/PythonScripts/Experiment Project/GitHub/RNAseq/input/HHP_2h_24h_WT/24h_3_counts.txt    </td><td>hhp.24hr</td><td>38420247</td><td>1</td></tr>\n",
       "</tbody>\n",
       "</table>\n",
       "</dd>\n",
       "\t<dt>$counts</dt>\n",
       "\t\t<dd><table class=\"dataframe\">\n",
       "<caption>A matrix: 6 × 6 of type dbl</caption>\n",
       "<thead>\n",
       "\t<tr><th></th><th scope=col>CON_1</th><th scope=col>CON_2</th><th scope=col>CON_3</th><th scope=col>HHP.24H_1</th><th scope=col>HHP.24H_2</th><th scope=col>HHP.24H_3</th></tr>\n",
       "</thead>\n",
       "<tbody>\n",
       "\t<tr><th scope=row>Xkr4</th><td>2502</td><td>1912</td><td>2264</td><td>1682</td><td>1262</td><td>1342</td></tr>\n",
       "\t<tr><th scope=row>Gm39585</th><td>   1</td><td>   0</td><td>   2</td><td>   0</td><td>   0</td><td>   0</td></tr>\n",
       "\t<tr><th scope=row>Gm38717</th><td>  31</td><td>  39</td><td>  15</td><td>  37</td><td>  43</td><td>  10</td></tr>\n",
       "\t<tr><th scope=row>Rp1</th><td>   0</td><td>   0</td><td>   1</td><td>   1</td><td>   0</td><td>   0</td></tr>\n",
       "\t<tr><th scope=row>Sox17</th><td> 161</td><td> 234</td><td> 335</td><td> 189</td><td> 199</td><td> 202</td></tr>\n",
       "\t<tr><th scope=row>Gm39586</th><td>   1</td><td>   0</td><td>   0</td><td>   0</td><td>   1</td><td>   1</td></tr>\n",
       "</tbody>\n",
       "</table>\n",
       "</dd>\n",
       "</dl>\n"
      ],
      "text/latex": [
       "\\begin{description}\n",
       "\\item[\\$samples] A data.frame: 6 × 4\n",
       "\\begin{tabular}{r|llll}\n",
       "  & files & group & lib.size & norm.factors\\\\\n",
       "  & <chr> & <fct> & <dbl> & <dbl>\\\\\n",
       "\\hline\n",
       "\tCON\\_1 & C:/Users/shaoq/OneDrive/PythonScripts/Experiment Project/GitHub/RNAseq/input/HHP\\_2h\\_24h\\_WT/Control\\_1\\_counts.txt & control  & 42516054 & 1\\\\\n",
       "\tCON\\_2 & C:/Users/shaoq/OneDrive/PythonScripts/Experiment Project/GitHub/RNAseq/input/HHP\\_2h\\_24h\\_WT/Control\\_2\\_counts.txt & control  & 42617496 & 1\\\\\n",
       "\tCON\\_3 & C:/Users/shaoq/OneDrive/PythonScripts/Experiment Project/GitHub/RNAseq/input/HHP\\_2h\\_24h\\_WT/Control\\_3\\_counts.txt & control  & 54117547 & 1\\\\\n",
       "\tHHP.24H\\_1 & C:/Users/shaoq/OneDrive/PythonScripts/Experiment Project/GitHub/RNAseq/input/HHP\\_2h\\_24h\\_WT/24h\\_1\\_counts.txt     & hhp.24hr & 37998071 & 1\\\\\n",
       "\tHHP.24H\\_2 & C:/Users/shaoq/OneDrive/PythonScripts/Experiment Project/GitHub/RNAseq/input/HHP\\_2h\\_24h\\_WT/24h\\_2\\_counts.txt     & hhp.24hr & 37434266 & 1\\\\\n",
       "\tHHP.24H\\_3 & C:/Users/shaoq/OneDrive/PythonScripts/Experiment Project/GitHub/RNAseq/input/HHP\\_2h\\_24h\\_WT/24h\\_3\\_counts.txt     & hhp.24hr & 38420247 & 1\\\\\n",
       "\\end{tabular}\n",
       "\n",
       "\\item[\\$counts] A matrix: 6 × 6 of type dbl\n",
       "\\begin{tabular}{r|llllll}\n",
       "  & CON\\_1 & CON\\_2 & CON\\_3 & HHP.24H\\_1 & HHP.24H\\_2 & HHP.24H\\_3\\\\\n",
       "\\hline\n",
       "\tXkr4 & 2502 & 1912 & 2264 & 1682 & 1262 & 1342\\\\\n",
       "\tGm39585 &    1 &    0 &    2 &    0 &    0 &    0\\\\\n",
       "\tGm38717 &   31 &   39 &   15 &   37 &   43 &   10\\\\\n",
       "\tRp1 &    0 &    0 &    1 &    1 &    0 &    0\\\\\n",
       "\tSox17 &  161 &  234 &  335 &  189 &  199 &  202\\\\\n",
       "\tGm39586 &    1 &    0 &    0 &    0 &    1 &    1\\\\\n",
       "\\end{tabular}\n",
       "\n",
       "\\end{description}\n"
      ],
      "text/markdown": [
       "$samples\n",
       ":   \n",
       "A data.frame: 6 × 4\n",
       "\n",
       "| <!--/--> | files &lt;chr&gt; | group &lt;fct&gt; | lib.size &lt;dbl&gt; | norm.factors &lt;dbl&gt; |\n",
       "|---|---|---|---|---|\n",
       "| CON_1 | C:/Users/shaoq/OneDrive/PythonScripts/Experiment Project/GitHub/RNAseq/input/HHP_2h_24h_WT/Control_1_counts.txt | control  | 42516054 | 1 |\n",
       "| CON_2 | C:/Users/shaoq/OneDrive/PythonScripts/Experiment Project/GitHub/RNAseq/input/HHP_2h_24h_WT/Control_2_counts.txt | control  | 42617496 | 1 |\n",
       "| CON_3 | C:/Users/shaoq/OneDrive/PythonScripts/Experiment Project/GitHub/RNAseq/input/HHP_2h_24h_WT/Control_3_counts.txt | control  | 54117547 | 1 |\n",
       "| HHP.24H_1 | C:/Users/shaoq/OneDrive/PythonScripts/Experiment Project/GitHub/RNAseq/input/HHP_2h_24h_WT/24h_1_counts.txt     | hhp.24hr | 37998071 | 1 |\n",
       "| HHP.24H_2 | C:/Users/shaoq/OneDrive/PythonScripts/Experiment Project/GitHub/RNAseq/input/HHP_2h_24h_WT/24h_2_counts.txt     | hhp.24hr | 37434266 | 1 |\n",
       "| HHP.24H_3 | C:/Users/shaoq/OneDrive/PythonScripts/Experiment Project/GitHub/RNAseq/input/HHP_2h_24h_WT/24h_3_counts.txt     | hhp.24hr | 38420247 | 1 |\n",
       "\n",
       "\n",
       "$counts\n",
       ":   \n",
       "A matrix: 6 × 6 of type dbl\n",
       "\n",
       "| <!--/--> | CON_1 | CON_2 | CON_3 | HHP.24H_1 | HHP.24H_2 | HHP.24H_3 |\n",
       "|---|---|---|---|---|---|---|\n",
       "| Xkr4 | 2502 | 1912 | 2264 | 1682 | 1262 | 1342 |\n",
       "| Gm39585 |    1 |    0 |    2 |    0 |    0 |    0 |\n",
       "| Gm38717 |   31 |   39 |   15 |   37 |   43 |   10 |\n",
       "| Rp1 |    0 |    0 |    1 |    1 |    0 |    0 |\n",
       "| Sox17 |  161 |  234 |  335 |  189 |  199 |  202 |\n",
       "| Gm39586 |    1 |    0 |    0 |    0 |    1 |    1 |\n",
       "\n",
       "\n",
       "\n",
       "\n"
      ],
      "text/plain": [
       "An object of class \"DGEList\"\n",
       "$samples\n",
       "                                                                                                                    files\n",
       "CON_1     C:/Users/shaoq/OneDrive/PythonScripts/Experiment Project/GitHub/RNAseq/input/HHP_2h_24h_WT/Control_1_counts.txt\n",
       "CON_2     C:/Users/shaoq/OneDrive/PythonScripts/Experiment Project/GitHub/RNAseq/input/HHP_2h_24h_WT/Control_2_counts.txt\n",
       "CON_3     C:/Users/shaoq/OneDrive/PythonScripts/Experiment Project/GitHub/RNAseq/input/HHP_2h_24h_WT/Control_3_counts.txt\n",
       "HHP.24H_1     C:/Users/shaoq/OneDrive/PythonScripts/Experiment Project/GitHub/RNAseq/input/HHP_2h_24h_WT/24h_1_counts.txt\n",
       "HHP.24H_2     C:/Users/shaoq/OneDrive/PythonScripts/Experiment Project/GitHub/RNAseq/input/HHP_2h_24h_WT/24h_2_counts.txt\n",
       "HHP.24H_3     C:/Users/shaoq/OneDrive/PythonScripts/Experiment Project/GitHub/RNAseq/input/HHP_2h_24h_WT/24h_3_counts.txt\n",
       "             group lib.size norm.factors\n",
       "CON_1      control 42516054            1\n",
       "CON_2      control 42617496            1\n",
       "CON_3      control 54117547            1\n",
       "HHP.24H_1 hhp.24hr 37998071            1\n",
       "HHP.24H_2 hhp.24hr 37434266            1\n",
       "HHP.24H_3 hhp.24hr 38420247            1\n",
       "\n",
       "$counts\n",
       "         Samples\n",
       "Tags      CON_1 CON_2 CON_3 HHP.24H_1 HHP.24H_2 HHP.24H_3\n",
       "  Xkr4     2502  1912  2264      1682      1262      1342\n",
       "  Gm39585     1     0     2         0         0         0\n",
       "  Gm38717    31    39    15        37        43        10\n",
       "  Rp1         0     0     1         1         0         0\n",
       "  Sox17     161   234   335       189       199       202\n",
       "  Gm39586     1     0     0         0         1         1\n"
      ]
     },
     "metadata": {},
     "output_type": "display_data"
    }
   ],
   "source": [
    "x <- x[genes$SYMBOL, ]  # keep only the genes with corresponding SYMBOLs in genes\n",
    "head(x)"
   ]
  },
  {
   "cell_type": "code",
   "execution_count": 25,
   "metadata": {
    "colab": {
     "base_uri": "https://localhost:8080/",
     "height": 925
    },
    "executionInfo": {
     "elapsed": 320,
     "status": "ok",
     "timestamp": 1636989636670,
     "user": {
      "displayName": "Shaoqiu He",
      "photoUrl": "https://lh3.googleusercontent.com/a-/AOh14GjqxDDKIvj-k4BT2y4gflK2grm-E052z036TINn0w=s64",
      "userId": "16738992239117859264"
     },
     "user_tz": 300
    },
    "id": "4-pIiZEndohS",
    "outputId": "fe2e49de-0e3e-4a47-e94f-60f2c9d945ba"
   },
   "outputs": [
    {
     "data": {
      "text/html": [
       "<dl>\n",
       "\t<dt>$samples</dt>\n",
       "\t\t<dd><table class=\"dataframe\">\n",
       "<caption>A data.frame: 6 × 4</caption>\n",
       "<thead>\n",
       "\t<tr><th></th><th scope=col>files</th><th scope=col>group</th><th scope=col>lib.size</th><th scope=col>norm.factors</th></tr>\n",
       "\t<tr><th></th><th scope=col>&lt;chr&gt;</th><th scope=col>&lt;fct&gt;</th><th scope=col>&lt;dbl&gt;</th><th scope=col>&lt;dbl&gt;</th></tr>\n",
       "</thead>\n",
       "<tbody>\n",
       "\t<tr><th scope=row>CON_1</th><td>C:/Users/shaoq/OneDrive/PythonScripts/Experiment Project/GitHub/RNAseq/input/HHP_2h_24h_WT/Control_1_counts.txt</td><td>control </td><td>42516054</td><td>1</td></tr>\n",
       "\t<tr><th scope=row>CON_2</th><td>C:/Users/shaoq/OneDrive/PythonScripts/Experiment Project/GitHub/RNAseq/input/HHP_2h_24h_WT/Control_2_counts.txt</td><td>control </td><td>42617496</td><td>1</td></tr>\n",
       "\t<tr><th scope=row>CON_3</th><td>C:/Users/shaoq/OneDrive/PythonScripts/Experiment Project/GitHub/RNAseq/input/HHP_2h_24h_WT/Control_3_counts.txt</td><td>control </td><td>54117547</td><td>1</td></tr>\n",
       "\t<tr><th scope=row>HHP.24H_1</th><td>C:/Users/shaoq/OneDrive/PythonScripts/Experiment Project/GitHub/RNAseq/input/HHP_2h_24h_WT/24h_1_counts.txt    </td><td>hhp.24hr</td><td>37998071</td><td>1</td></tr>\n",
       "\t<tr><th scope=row>HHP.24H_2</th><td>C:/Users/shaoq/OneDrive/PythonScripts/Experiment Project/GitHub/RNAseq/input/HHP_2h_24h_WT/24h_2_counts.txt    </td><td>hhp.24hr</td><td>37434266</td><td>1</td></tr>\n",
       "\t<tr><th scope=row>HHP.24H_3</th><td>C:/Users/shaoq/OneDrive/PythonScripts/Experiment Project/GitHub/RNAseq/input/HHP_2h_24h_WT/24h_3_counts.txt    </td><td>hhp.24hr</td><td>38420247</td><td>1</td></tr>\n",
       "</tbody>\n",
       "</table>\n",
       "</dd>\n",
       "\t<dt>$counts</dt>\n",
       "\t\t<dd><table class=\"dataframe\">\n",
       "<caption>A matrix: 6 × 6 of type dbl</caption>\n",
       "<thead>\n",
       "\t<tr><th></th><th scope=col>CON_1</th><th scope=col>CON_2</th><th scope=col>CON_3</th><th scope=col>HHP.24H_1</th><th scope=col>HHP.24H_2</th><th scope=col>HHP.24H_3</th></tr>\n",
       "</thead>\n",
       "<tbody>\n",
       "\t<tr><th scope=row>Xkr4</th><td>2502</td><td>1912</td><td>2264</td><td>1682</td><td>1262</td><td>1342</td></tr>\n",
       "\t<tr><th scope=row>Gm39585</th><td>   1</td><td>   0</td><td>   2</td><td>   0</td><td>   0</td><td>   0</td></tr>\n",
       "\t<tr><th scope=row>Gm38717</th><td>  31</td><td>  39</td><td>  15</td><td>  37</td><td>  43</td><td>  10</td></tr>\n",
       "\t<tr><th scope=row>Rp1</th><td>   0</td><td>   0</td><td>   1</td><td>   1</td><td>   0</td><td>   0</td></tr>\n",
       "\t<tr><th scope=row>Sox17</th><td> 161</td><td> 234</td><td> 335</td><td> 189</td><td> 199</td><td> 202</td></tr>\n",
       "\t<tr><th scope=row>Gm39586</th><td>   1</td><td>   0</td><td>   0</td><td>   0</td><td>   1</td><td>   1</td></tr>\n",
       "</tbody>\n",
       "</table>\n",
       "</dd>\n",
       "\t<dt>$genes</dt>\n",
       "\t\t<dd><table class=\"dataframe\">\n",
       "<caption>A data.frame: 6 × 3</caption>\n",
       "<thead>\n",
       "\t<tr><th></th><th scope=col>SYMBOL</th><th scope=col>ENTREZID</th><th scope=col>GENENAME</th></tr>\n",
       "\t<tr><th></th><th scope=col>&lt;chr&gt;</th><th scope=col>&lt;chr&gt;</th><th scope=col>&lt;chr&gt;</th></tr>\n",
       "</thead>\n",
       "<tbody>\n",
       "\t<tr><th scope=row>1</th><td>Xkr4   </td><td>497097   </td><td>X-linked Kx blood group related 4    </td></tr>\n",
       "\t<tr><th scope=row>2</th><td>Gm39585</td><td>105243853</td><td>predicted gene, 39585                </td></tr>\n",
       "\t<tr><th scope=row>3</th><td>Gm38717</td><td>NA       </td><td>NA                                   </td></tr>\n",
       "\t<tr><th scope=row>4</th><td>Rp1    </td><td>19888    </td><td>retinitis pigmentosa 1 (human)       </td></tr>\n",
       "\t<tr><th scope=row>5</th><td>Sox17  </td><td>20671    </td><td>SRY (sex determining region Y)-box 17</td></tr>\n",
       "\t<tr><th scope=row>7</th><td>Gm39586</td><td>105243854</td><td>predicted gene, 39586                </td></tr>\n",
       "</tbody>\n",
       "</table>\n",
       "</dd>\n",
       "</dl>\n"
      ],
      "text/latex": [
       "\\begin{description}\n",
       "\\item[\\$samples] A data.frame: 6 × 4\n",
       "\\begin{tabular}{r|llll}\n",
       "  & files & group & lib.size & norm.factors\\\\\n",
       "  & <chr> & <fct> & <dbl> & <dbl>\\\\\n",
       "\\hline\n",
       "\tCON\\_1 & C:/Users/shaoq/OneDrive/PythonScripts/Experiment Project/GitHub/RNAseq/input/HHP\\_2h\\_24h\\_WT/Control\\_1\\_counts.txt & control  & 42516054 & 1\\\\\n",
       "\tCON\\_2 & C:/Users/shaoq/OneDrive/PythonScripts/Experiment Project/GitHub/RNAseq/input/HHP\\_2h\\_24h\\_WT/Control\\_2\\_counts.txt & control  & 42617496 & 1\\\\\n",
       "\tCON\\_3 & C:/Users/shaoq/OneDrive/PythonScripts/Experiment Project/GitHub/RNAseq/input/HHP\\_2h\\_24h\\_WT/Control\\_3\\_counts.txt & control  & 54117547 & 1\\\\\n",
       "\tHHP.24H\\_1 & C:/Users/shaoq/OneDrive/PythonScripts/Experiment Project/GitHub/RNAseq/input/HHP\\_2h\\_24h\\_WT/24h\\_1\\_counts.txt     & hhp.24hr & 37998071 & 1\\\\\n",
       "\tHHP.24H\\_2 & C:/Users/shaoq/OneDrive/PythonScripts/Experiment Project/GitHub/RNAseq/input/HHP\\_2h\\_24h\\_WT/24h\\_2\\_counts.txt     & hhp.24hr & 37434266 & 1\\\\\n",
       "\tHHP.24H\\_3 & C:/Users/shaoq/OneDrive/PythonScripts/Experiment Project/GitHub/RNAseq/input/HHP\\_2h\\_24h\\_WT/24h\\_3\\_counts.txt     & hhp.24hr & 38420247 & 1\\\\\n",
       "\\end{tabular}\n",
       "\n",
       "\\item[\\$counts] A matrix: 6 × 6 of type dbl\n",
       "\\begin{tabular}{r|llllll}\n",
       "  & CON\\_1 & CON\\_2 & CON\\_3 & HHP.24H\\_1 & HHP.24H\\_2 & HHP.24H\\_3\\\\\n",
       "\\hline\n",
       "\tXkr4 & 2502 & 1912 & 2264 & 1682 & 1262 & 1342\\\\\n",
       "\tGm39585 &    1 &    0 &    2 &    0 &    0 &    0\\\\\n",
       "\tGm38717 &   31 &   39 &   15 &   37 &   43 &   10\\\\\n",
       "\tRp1 &    0 &    0 &    1 &    1 &    0 &    0\\\\\n",
       "\tSox17 &  161 &  234 &  335 &  189 &  199 &  202\\\\\n",
       "\tGm39586 &    1 &    0 &    0 &    0 &    1 &    1\\\\\n",
       "\\end{tabular}\n",
       "\n",
       "\\item[\\$genes] A data.frame: 6 × 3\n",
       "\\begin{tabular}{r|lll}\n",
       "  & SYMBOL & ENTREZID & GENENAME\\\\\n",
       "  & <chr> & <chr> & <chr>\\\\\n",
       "\\hline\n",
       "\t1 & Xkr4    & 497097    & X-linked Kx blood group related 4    \\\\\n",
       "\t2 & Gm39585 & 105243853 & predicted gene, 39585                \\\\\n",
       "\t3 & Gm38717 & NA        & NA                                   \\\\\n",
       "\t4 & Rp1     & 19888     & retinitis pigmentosa 1 (human)       \\\\\n",
       "\t5 & Sox17   & 20671     & SRY (sex determining region Y)-box 17\\\\\n",
       "\t7 & Gm39586 & 105243854 & predicted gene, 39586                \\\\\n",
       "\\end{tabular}\n",
       "\n",
       "\\end{description}\n"
      ],
      "text/markdown": [
       "$samples\n",
       ":   \n",
       "A data.frame: 6 × 4\n",
       "\n",
       "| <!--/--> | files &lt;chr&gt; | group &lt;fct&gt; | lib.size &lt;dbl&gt; | norm.factors &lt;dbl&gt; |\n",
       "|---|---|---|---|---|\n",
       "| CON_1 | C:/Users/shaoq/OneDrive/PythonScripts/Experiment Project/GitHub/RNAseq/input/HHP_2h_24h_WT/Control_1_counts.txt | control  | 42516054 | 1 |\n",
       "| CON_2 | C:/Users/shaoq/OneDrive/PythonScripts/Experiment Project/GitHub/RNAseq/input/HHP_2h_24h_WT/Control_2_counts.txt | control  | 42617496 | 1 |\n",
       "| CON_3 | C:/Users/shaoq/OneDrive/PythonScripts/Experiment Project/GitHub/RNAseq/input/HHP_2h_24h_WT/Control_3_counts.txt | control  | 54117547 | 1 |\n",
       "| HHP.24H_1 | C:/Users/shaoq/OneDrive/PythonScripts/Experiment Project/GitHub/RNAseq/input/HHP_2h_24h_WT/24h_1_counts.txt     | hhp.24hr | 37998071 | 1 |\n",
       "| HHP.24H_2 | C:/Users/shaoq/OneDrive/PythonScripts/Experiment Project/GitHub/RNAseq/input/HHP_2h_24h_WT/24h_2_counts.txt     | hhp.24hr | 37434266 | 1 |\n",
       "| HHP.24H_3 | C:/Users/shaoq/OneDrive/PythonScripts/Experiment Project/GitHub/RNAseq/input/HHP_2h_24h_WT/24h_3_counts.txt     | hhp.24hr | 38420247 | 1 |\n",
       "\n",
       "\n",
       "$counts\n",
       ":   \n",
       "A matrix: 6 × 6 of type dbl\n",
       "\n",
       "| <!--/--> | CON_1 | CON_2 | CON_3 | HHP.24H_1 | HHP.24H_2 | HHP.24H_3 |\n",
       "|---|---|---|---|---|---|---|\n",
       "| Xkr4 | 2502 | 1912 | 2264 | 1682 | 1262 | 1342 |\n",
       "| Gm39585 |    1 |    0 |    2 |    0 |    0 |    0 |\n",
       "| Gm38717 |   31 |   39 |   15 |   37 |   43 |   10 |\n",
       "| Rp1 |    0 |    0 |    1 |    1 |    0 |    0 |\n",
       "| Sox17 |  161 |  234 |  335 |  189 |  199 |  202 |\n",
       "| Gm39586 |    1 |    0 |    0 |    0 |    1 |    1 |\n",
       "\n",
       "\n",
       "$genes\n",
       ":   \n",
       "A data.frame: 6 × 3\n",
       "\n",
       "| <!--/--> | SYMBOL &lt;chr&gt; | ENTREZID &lt;chr&gt; | GENENAME &lt;chr&gt; |\n",
       "|---|---|---|---|\n",
       "| 1 | Xkr4    | 497097    | X-linked Kx blood group related 4     |\n",
       "| 2 | Gm39585 | 105243853 | predicted gene, 39585                 |\n",
       "| 3 | Gm38717 | NA        | NA                                    |\n",
       "| 4 | Rp1     | 19888     | retinitis pigmentosa 1 (human)        |\n",
       "| 5 | Sox17   | 20671     | SRY (sex determining region Y)-box 17 |\n",
       "| 7 | Gm39586 | 105243854 | predicted gene, 39586                 |\n",
       "\n",
       "\n",
       "\n",
       "\n"
      ],
      "text/plain": [
       "An object of class \"DGEList\"\n",
       "$samples\n",
       "                                                                                                                    files\n",
       "CON_1     C:/Users/shaoq/OneDrive/PythonScripts/Experiment Project/GitHub/RNAseq/input/HHP_2h_24h_WT/Control_1_counts.txt\n",
       "CON_2     C:/Users/shaoq/OneDrive/PythonScripts/Experiment Project/GitHub/RNAseq/input/HHP_2h_24h_WT/Control_2_counts.txt\n",
       "CON_3     C:/Users/shaoq/OneDrive/PythonScripts/Experiment Project/GitHub/RNAseq/input/HHP_2h_24h_WT/Control_3_counts.txt\n",
       "HHP.24H_1     C:/Users/shaoq/OneDrive/PythonScripts/Experiment Project/GitHub/RNAseq/input/HHP_2h_24h_WT/24h_1_counts.txt\n",
       "HHP.24H_2     C:/Users/shaoq/OneDrive/PythonScripts/Experiment Project/GitHub/RNAseq/input/HHP_2h_24h_WT/24h_2_counts.txt\n",
       "HHP.24H_3     C:/Users/shaoq/OneDrive/PythonScripts/Experiment Project/GitHub/RNAseq/input/HHP_2h_24h_WT/24h_3_counts.txt\n",
       "             group lib.size norm.factors\n",
       "CON_1      control 42516054            1\n",
       "CON_2      control 42617496            1\n",
       "CON_3      control 54117547            1\n",
       "HHP.24H_1 hhp.24hr 37998071            1\n",
       "HHP.24H_2 hhp.24hr 37434266            1\n",
       "HHP.24H_3 hhp.24hr 38420247            1\n",
       "\n",
       "$counts\n",
       "         Samples\n",
       "Tags      CON_1 CON_2 CON_3 HHP.24H_1 HHP.24H_2 HHP.24H_3\n",
       "  Xkr4     2502  1912  2264      1682      1262      1342\n",
       "  Gm39585     1     0     2         0         0         0\n",
       "  Gm38717    31    39    15        37        43        10\n",
       "  Rp1         0     0     1         1         0         0\n",
       "  Sox17     161   234   335       189       199       202\n",
       "  Gm39586     1     0     0         0         1         1\n",
       "\n",
       "$genes\n",
       "   SYMBOL  ENTREZID                              GENENAME\n",
       "1    Xkr4    497097     X-linked Kx blood group related 4\n",
       "2 Gm39585 105243853                 predicted gene, 39585\n",
       "3 Gm38717      <NA>                                  <NA>\n",
       "4     Rp1     19888        retinitis pigmentosa 1 (human)\n",
       "5   Sox17     20671 SRY (sex determining region Y)-box 17\n",
       "7 Gm39586 105243854                 predicted gene, 39586\n"
      ]
     },
     "metadata": {},
     "output_type": "display_data"
    },
    {
     "data": {
      "text/plain": [
       "\n",
       " TRUE \n",
       "32773 "
      ]
     },
     "metadata": {},
     "output_type": "display_data"
    }
   ],
   "source": [
    "x$genes <- genes  # add genes annotation to x\n",
    "head(x)  # x has samples, counts, genes annotation attributes\n",
    "table(genes$SYMBOL == rownames(x))  # test the genes and x rownames are the same\n",
    "# 32879 genes total"
   ]
  },
  {
   "cell_type": "markdown",
   "metadata": {},
   "source": [
    "In this example, the gene order is the same in both the annotation and the data object. If this is not the case due to missing and/or rearranged gene IDs, the match function can be used to order genes correctly. The data frame of gene annotations is then added to the data object and neatly packaged in a DGEList-object containing raw count data with associated sample information and gene annotations."
   ]
  },
  {
   "cell_type": "code",
   "execution_count": 26,
   "metadata": {},
   "outputs": [],
   "source": [
    "# save the raw count maxtrix before batch correction\n",
    "saveRDS(x, \"./x_without_correction.RDS\")"
   ]
  },
  {
   "cell_type": "markdown",
   "metadata": {
    "id": "YuRVN6Qo-78B"
   },
   "source": [
    "## Batch effect correction with ComBat-seq\n",
    "Because the plotting of the gene loadings showed some batch effects, we minimized the technical variations between each batch during the differential expression analysis by using ComBat-seq package or the EdgeR package, which have been commonly used in previous studies.\n",
    "\n",
    "ComBat-seq is a batch effect adjustment tool for bulk RNA-seq count data. It is an improved model based on the popular ComBat, to address its limitations through novel methods designed specifically for RNA-Seq studies. ComBat-seq takes untransformed, raw count matrix as input. Same as ComBat, it requires a known batch variable."
   ]
  },
  {
   "cell_type": "code",
   "execution_count": 27,
   "metadata": {
    "id": "3qV3XMB93cYD"
   },
   "outputs": [],
   "source": [
    "# use ComBat-seq to correct batch effect, keep the counts\n",
    "treatment = c(\"control\", \"control\", \"control\", \"hhp.24hr\", \"hhp.24hr\", \"hhp.24hr\")\n",
    "batch = c(\"first\", \"second\", \"third\",  \"first\", \"second\", \"third\")"
   ]
  },
  {
   "cell_type": "code",
   "execution_count": 28,
   "metadata": {
    "id": "Fp_mS4PQ5zQr"
   },
   "outputs": [],
   "source": [
    "groups = sapply(as.character(treatment), switch, control = 1, hhp.24hr = 2, USE.NAMES = F)\n",
    "batches = sapply(as.character(batch), switch, first = 1, second = 2, third = 3, USE.NAMES = F)\n",
    "# create levels to compare"
   ]
  },
  {
   "cell_type": "code",
   "execution_count": 29,
   "metadata": {
    "colab": {
     "base_uri": "https://localhost:8080/",
     "height": 52
    },
    "executionInfo": {
     "elapsed": 118,
     "status": "ok",
     "timestamp": 1636989694875,
     "user": {
      "displayName": "Shaoqiu He",
      "photoUrl": "https://lh3.googleusercontent.com/a-/AOh14GjqxDDKIvj-k4BT2y4gflK2grm-E052z036TINn0w=s64",
      "userId": "16738992239117859264"
     },
     "user_tz": 300
    },
    "id": "1KfH0_aA6Xzk",
    "outputId": "34aaf052-da89-4b83-f20d-4afba3d60222"
   },
   "outputs": [
    {
     "data": {
      "text/html": [
       "<style>\n",
       ".list-inline {list-style: none; margin:0; padding: 0}\n",
       ".list-inline>li {display: inline-block}\n",
       ".list-inline>li:not(:last-child)::after {content: \"\\00b7\"; padding: 0 .5ex}\n",
       "</style>\n",
       "<ol class=list-inline><li>1</li><li>1</li><li>1</li><li>2</li><li>2</li><li>2</li></ol>\n"
      ],
      "text/latex": [
       "\\begin{enumerate*}\n",
       "\\item 1\n",
       "\\item 1\n",
       "\\item 1\n",
       "\\item 2\n",
       "\\item 2\n",
       "\\item 2\n",
       "\\end{enumerate*}\n"
      ],
      "text/markdown": [
       "1. 1\n",
       "2. 1\n",
       "3. 1\n",
       "4. 2\n",
       "5. 2\n",
       "6. 2\n",
       "\n",
       "\n"
      ],
      "text/plain": [
       "[1] 1 1 1 2 2 2"
      ]
     },
     "metadata": {},
     "output_type": "display_data"
    },
    {
     "data": {
      "text/html": [
       "<style>\n",
       ".list-inline {list-style: none; margin:0; padding: 0}\n",
       ".list-inline>li {display: inline-block}\n",
       ".list-inline>li:not(:last-child)::after {content: \"\\00b7\"; padding: 0 .5ex}\n",
       "</style>\n",
       "<ol class=list-inline><li>1</li><li>2</li><li>3</li><li>1</li><li>2</li><li>3</li></ol>\n"
      ],
      "text/latex": [
       "\\begin{enumerate*}\n",
       "\\item 1\n",
       "\\item 2\n",
       "\\item 3\n",
       "\\item 1\n",
       "\\item 2\n",
       "\\item 3\n",
       "\\end{enumerate*}\n"
      ],
      "text/markdown": [
       "1. 1\n",
       "2. 2\n",
       "3. 3\n",
       "4. 1\n",
       "5. 2\n",
       "6. 3\n",
       "\n",
       "\n"
      ],
      "text/plain": [
       "[1] 1 2 3 1 2 3"
      ]
     },
     "metadata": {},
     "output_type": "display_data"
    }
   ],
   "source": [
    "groups\n",
    "batches"
   ]
  },
  {
   "cell_type": "code",
   "execution_count": 30,
   "metadata": {
    "colab": {
     "base_uri": "https://localhost:8080/"
    },
    "executionInfo": {
     "elapsed": 3878,
     "status": "ok",
     "timestamp": 1636989699591,
     "user": {
      "displayName": "Shaoqiu He",
      "photoUrl": "https://lh3.googleusercontent.com/a-/AOh14GjqxDDKIvj-k4BT2y4gflK2grm-E052z036TINn0w=s64",
      "userId": "16738992239117859264"
     },
     "user_tz": 300
    },
    "id": "jfrMe-vL51pg",
    "outputId": "0c249010-066d-4501-c9d1-197b81f53217"
   },
   "outputs": [
    {
     "name": "stdout",
     "output_type": "stream",
     "text": [
      "Found 3 batches\n",
      "Using full model in ComBat-seq.\n",
      "Adjusting for 1 covariate(s) or covariate level(s)\n",
      "Estimating dispersions\n",
      "Fitting the GLM model\n",
      "Shrinkage off - using GLM estimates for parameters\n",
      "Adjusting the data\n"
     ]
    }
   ],
   "source": [
    "x_corrected_counts <- ComBat_seq(counts = as.matrix(x), batch = batches, group = groups)\n",
    "# transform counts"
   ]
  },
  {
   "cell_type": "code",
   "execution_count": 31,
   "metadata": {
    "colab": {
     "base_uri": "https://localhost:8080/",
     "height": 491
    },
    "executionInfo": {
     "elapsed": 8,
     "status": "ok",
     "timestamp": 1636989699593,
     "user": {
      "displayName": "Shaoqiu He",
      "photoUrl": "https://lh3.googleusercontent.com/a-/AOh14GjqxDDKIvj-k4BT2y4gflK2grm-E052z036TINn0w=s64",
      "userId": "16738992239117859264"
     },
     "user_tz": 300
    },
    "id": "VU4dYi-IQV6q",
    "outputId": "986a818a-bf64-4b72-8d86-9e8a72a5e6b0"
   },
   "outputs": [
    {
     "data": {
      "text/html": [
       "<table class=\"dataframe\">\n",
       "<caption>A matrix: 6 × 6 of type dbl</caption>\n",
       "<thead>\n",
       "\t<tr><th></th><th scope=col>CON_1</th><th scope=col>CON_2</th><th scope=col>CON_3</th><th scope=col>HHP.24H_1</th><th scope=col>HHP.24H_2</th><th scope=col>HHP.24H_3</th></tr>\n",
       "</thead>\n",
       "<tbody>\n",
       "\t<tr><th scope=row>Xkr4</th><td>2502</td><td>1912</td><td>2264</td><td>1682</td><td>1262</td><td>1342</td></tr>\n",
       "\t<tr><th scope=row>Gm39585</th><td>   1</td><td>   0</td><td>   2</td><td>   0</td><td>   0</td><td>   0</td></tr>\n",
       "\t<tr><th scope=row>Gm38717</th><td>  31</td><td>  39</td><td>  15</td><td>  37</td><td>  43</td><td>  10</td></tr>\n",
       "\t<tr><th scope=row>Rp1</th><td>   0</td><td>   0</td><td>   1</td><td>   1</td><td>   0</td><td>   0</td></tr>\n",
       "\t<tr><th scope=row>Sox17</th><td> 161</td><td> 234</td><td> 335</td><td> 189</td><td> 199</td><td> 202</td></tr>\n",
       "\t<tr><th scope=row>Gm39586</th><td>   1</td><td>   0</td><td>   0</td><td>   0</td><td>   1</td><td>   1</td></tr>\n",
       "</tbody>\n",
       "</table>\n"
      ],
      "text/latex": [
       "A matrix: 6 × 6 of type dbl\n",
       "\\begin{tabular}{r|llllll}\n",
       "  & CON\\_1 & CON\\_2 & CON\\_3 & HHP.24H\\_1 & HHP.24H\\_2 & HHP.24H\\_3\\\\\n",
       "\\hline\n",
       "\tXkr4 & 2502 & 1912 & 2264 & 1682 & 1262 & 1342\\\\\n",
       "\tGm39585 &    1 &    0 &    2 &    0 &    0 &    0\\\\\n",
       "\tGm38717 &   31 &   39 &   15 &   37 &   43 &   10\\\\\n",
       "\tRp1 &    0 &    0 &    1 &    1 &    0 &    0\\\\\n",
       "\tSox17 &  161 &  234 &  335 &  189 &  199 &  202\\\\\n",
       "\tGm39586 &    1 &    0 &    0 &    0 &    1 &    1\\\\\n",
       "\\end{tabular}\n"
      ],
      "text/markdown": [
       "\n",
       "A matrix: 6 × 6 of type dbl\n",
       "\n",
       "| <!--/--> | CON_1 | CON_2 | CON_3 | HHP.24H_1 | HHP.24H_2 | HHP.24H_3 |\n",
       "|---|---|---|---|---|---|---|\n",
       "| Xkr4 | 2502 | 1912 | 2264 | 1682 | 1262 | 1342 |\n",
       "| Gm39585 |    1 |    0 |    2 |    0 |    0 |    0 |\n",
       "| Gm38717 |   31 |   39 |   15 |   37 |   43 |   10 |\n",
       "| Rp1 |    0 |    0 |    1 |    1 |    0 |    0 |\n",
       "| Sox17 |  161 |  234 |  335 |  189 |  199 |  202 |\n",
       "| Gm39586 |    1 |    0 |    0 |    0 |    1 |    1 |\n",
       "\n"
      ],
      "text/plain": [
       "         Samples\n",
       "Tags      CON_1 CON_2 CON_3 HHP.24H_1 HHP.24H_2 HHP.24H_3\n",
       "  Xkr4    2502  1912  2264  1682      1262      1342     \n",
       "  Gm39585    1     0     2     0         0         0     \n",
       "  Gm38717   31    39    15    37        43        10     \n",
       "  Rp1        0     0     1     1         0         0     \n",
       "  Sox17    161   234   335   189       199       202     \n",
       "  Gm39586    1     0     0     0         1         1     "
      ]
     },
     "metadata": {},
     "output_type": "display_data"
    },
    {
     "data": {
      "text/html": [
       "<table class=\"dataframe\">\n",
       "<caption>A matrix: 6 × 6 of type dbl</caption>\n",
       "<thead>\n",
       "\t<tr><th></th><th scope=col>CON_1</th><th scope=col>CON_2</th><th scope=col>CON_3</th><th scope=col>HHP.24H_1</th><th scope=col>HHP.24H_2</th><th scope=col>HHP.24H_3</th></tr>\n",
       "</thead>\n",
       "<tbody>\n",
       "\t<tr><th scope=row>Xkr4</th><td>2078</td><td>2084</td><td>2527</td><td>1398</td><td>1364</td><td>1479</td></tr>\n",
       "\t<tr><th scope=row>Gm39585</th><td>   1</td><td>   0</td><td>   2</td><td>   0</td><td>   0</td><td>   0</td></tr>\n",
       "\t<tr><th scope=row>Gm38717</th><td>  23</td><td>  24</td><td>  33</td><td>  28</td><td>  26</td><td>  24</td></tr>\n",
       "\t<tr><th scope=row>Rp1</th><td>   0</td><td>   0</td><td>   1</td><td>   1</td><td>   0</td><td>   0</td></tr>\n",
       "\t<tr><th scope=row>Sox17</th><td> 191</td><td> 224</td><td> 298</td><td> 221</td><td> 187</td><td> 184</td></tr>\n",
       "\t<tr><th scope=row>Gm39586</th><td>   1</td><td>   0</td><td>   0</td><td>   0</td><td>   1</td><td>   1</td></tr>\n",
       "</tbody>\n",
       "</table>\n"
      ],
      "text/latex": [
       "A matrix: 6 × 6 of type dbl\n",
       "\\begin{tabular}{r|llllll}\n",
       "  & CON\\_1 & CON\\_2 & CON\\_3 & HHP.24H\\_1 & HHP.24H\\_2 & HHP.24H\\_3\\\\\n",
       "\\hline\n",
       "\tXkr4 & 2078 & 2084 & 2527 & 1398 & 1364 & 1479\\\\\n",
       "\tGm39585 &    1 &    0 &    2 &    0 &    0 &    0\\\\\n",
       "\tGm38717 &   23 &   24 &   33 &   28 &   26 &   24\\\\\n",
       "\tRp1 &    0 &    0 &    1 &    1 &    0 &    0\\\\\n",
       "\tSox17 &  191 &  224 &  298 &  221 &  187 &  184\\\\\n",
       "\tGm39586 &    1 &    0 &    0 &    0 &    1 &    1\\\\\n",
       "\\end{tabular}\n"
      ],
      "text/markdown": [
       "\n",
       "A matrix: 6 × 6 of type dbl\n",
       "\n",
       "| <!--/--> | CON_1 | CON_2 | CON_3 | HHP.24H_1 | HHP.24H_2 | HHP.24H_3 |\n",
       "|---|---|---|---|---|---|---|\n",
       "| Xkr4 | 2078 | 2084 | 2527 | 1398 | 1364 | 1479 |\n",
       "| Gm39585 |    1 |    0 |    2 |    0 |    0 |    0 |\n",
       "| Gm38717 |   23 |   24 |   33 |   28 |   26 |   24 |\n",
       "| Rp1 |    0 |    0 |    1 |    1 |    0 |    0 |\n",
       "| Sox17 |  191 |  224 |  298 |  221 |  187 |  184 |\n",
       "| Gm39586 |    1 |    0 |    0 |    0 |    1 |    1 |\n",
       "\n"
      ],
      "text/plain": [
       "         Samples\n",
       "Tags      CON_1 CON_2 CON_3 HHP.24H_1 HHP.24H_2 HHP.24H_3\n",
       "  Xkr4    2078  2084  2527  1398      1364      1479     \n",
       "  Gm39585    1     0     2     0         0         0     \n",
       "  Gm38717   23    24    33    28        26        24     \n",
       "  Rp1        0     0     1     1         0         0     \n",
       "  Sox17    191   224   298   221       187       184     \n",
       "  Gm39586    1     0     0     0         1         1     "
      ]
     },
     "metadata": {},
     "output_type": "display_data"
    }
   ],
   "source": [
    "head(x$counts)\n",
    "head(x_corrected_counts)"
   ]
  },
  {
   "cell_type": "code",
   "execution_count": 32,
   "metadata": {
    "id": "nQWg5TrZ-j0n"
   },
   "outputs": [],
   "source": [
    "x$counts <- x_corrected_counts"
   ]
  },
  {
   "cell_type": "code",
   "execution_count": 33,
   "metadata": {},
   "outputs": [],
   "source": [
    "saveRDS(x, \"./x_with_correction.RDS\")"
   ]
  },
  {
   "cell_type": "markdown",
   "metadata": {
    "id": "WDwJ6sArtVK5"
   },
   "source": [
    "### Pre-filtering\n",
    "While it is not necessary to pre-filter low count genes before running the functions, there are two reasons which make pre-filtering useful: by removing rows in which there are very few reads, we reduce the memory size of the dds data object, and we increase the speed of the transformation and testing functions within analysis. It can also improve visualizations, as features with no information for differential expression are not plotted.\n",
    "\n",
    "Here we perform a minimal pre-filtering to keep only rows that have at least 10 reads total. Note that more strict filtering to increase power is automatically applied via independent filtering on the mean of normalized counts within the results function."
   ]
  },
  {
   "cell_type": "code",
   "execution_count": 34,
   "metadata": {
    "colab": {
     "base_uri": "https://localhost:8080/",
     "height": 600
    },
    "executionInfo": {
     "elapsed": 216,
     "status": "ok",
     "timestamp": 1636989703183,
     "user": {
      "displayName": "Shaoqiu He",
      "photoUrl": "https://lh3.googleusercontent.com/a-/AOh14GjqxDDKIvj-k4BT2y4gflK2grm-E052z036TINn0w=s64",
      "userId": "16738992239117859264"
     },
     "user_tz": 300
    },
    "id": "tbBWICkS3VeI",
    "outputId": "29c8bcc0-9cd6-4382-d418-8a69b7c162bd"
   },
   "outputs": [
    {
     "data": {
      "text/html": [
       "<table class=\"dataframe\">\n",
       "<caption>A matrix: 6 × 6 of type dbl</caption>\n",
       "<thead>\n",
       "\t<tr><th></th><th scope=col>CON_1</th><th scope=col>CON_2</th><th scope=col>CON_3</th><th scope=col>HHP.24H_1</th><th scope=col>HHP.24H_2</th><th scope=col>HHP.24H_3</th></tr>\n",
       "</thead>\n",
       "<tbody>\n",
       "\t<tr><th scope=row>Xkr4</th><td>48.87565530</td><td>48.900104</td><td>46.69465155</td><td>36.79134133</td><td>36.43720435</td><td>38.49532774</td></tr>\n",
       "\t<tr><th scope=row>Gm39585</th><td> 0.02352053</td><td> 0.000000</td><td> 0.03695659</td><td> 0.00000000</td><td> 0.00000000</td><td> 0.00000000</td></tr>\n",
       "\t<tr><th scope=row>Gm38717</th><td> 0.54097212</td><td> 0.563149</td><td> 0.60978374</td><td> 0.73687951</td><td> 0.69455082</td><td> 0.62467063</td></tr>\n",
       "\t<tr><th scope=row>Rp1</th><td> 0.00000000</td><td> 0.000000</td><td> 0.01847830</td><td> 0.02631713</td><td> 0.00000000</td><td> 0.00000000</td></tr>\n",
       "\t<tr><th scope=row>Sox17</th><td> 4.49242067</td><td> 5.256057</td><td> 5.50653192</td><td> 5.81608472</td><td> 4.99542318</td><td> 4.78914152</td></tr>\n",
       "\t<tr><th scope=row>Gm39586</th><td> 0.02352053</td><td> 0.000000</td><td> 0.00000000</td><td> 0.00000000</td><td> 0.02671349</td><td> 0.02602794</td></tr>\n",
       "</tbody>\n",
       "</table>\n"
      ],
      "text/latex": [
       "A matrix: 6 × 6 of type dbl\n",
       "\\begin{tabular}{r|llllll}\n",
       "  & CON\\_1 & CON\\_2 & CON\\_3 & HHP.24H\\_1 & HHP.24H\\_2 & HHP.24H\\_3\\\\\n",
       "\\hline\n",
       "\tXkr4 & 48.87565530 & 48.900104 & 46.69465155 & 36.79134133 & 36.43720435 & 38.49532774\\\\\n",
       "\tGm39585 &  0.02352053 &  0.000000 &  0.03695659 &  0.00000000 &  0.00000000 &  0.00000000\\\\\n",
       "\tGm38717 &  0.54097212 &  0.563149 &  0.60978374 &  0.73687951 &  0.69455082 &  0.62467063\\\\\n",
       "\tRp1 &  0.00000000 &  0.000000 &  0.01847830 &  0.02631713 &  0.00000000 &  0.00000000\\\\\n",
       "\tSox17 &  4.49242067 &  5.256057 &  5.50653192 &  5.81608472 &  4.99542318 &  4.78914152\\\\\n",
       "\tGm39586 &  0.02352053 &  0.000000 &  0.00000000 &  0.00000000 &  0.02671349 &  0.02602794\\\\\n",
       "\\end{tabular}\n"
      ],
      "text/markdown": [
       "\n",
       "A matrix: 6 × 6 of type dbl\n",
       "\n",
       "| <!--/--> | CON_1 | CON_2 | CON_3 | HHP.24H_1 | HHP.24H_2 | HHP.24H_3 |\n",
       "|---|---|---|---|---|---|---|\n",
       "| Xkr4 | 48.87565530 | 48.900104 | 46.69465155 | 36.79134133 | 36.43720435 | 38.49532774 |\n",
       "| Gm39585 |  0.02352053 |  0.000000 |  0.03695659 |  0.00000000 |  0.00000000 |  0.00000000 |\n",
       "| Gm38717 |  0.54097212 |  0.563149 |  0.60978374 |  0.73687951 |  0.69455082 |  0.62467063 |\n",
       "| Rp1 |  0.00000000 |  0.000000 |  0.01847830 |  0.02631713 |  0.00000000 |  0.00000000 |\n",
       "| Sox17 |  4.49242067 |  5.256057 |  5.50653192 |  5.81608472 |  4.99542318 |  4.78914152 |\n",
       "| Gm39586 |  0.02352053 |  0.000000 |  0.00000000 |  0.00000000 |  0.02671349 |  0.02602794 |\n",
       "\n"
      ],
      "text/plain": [
       "         Samples\n",
       "Tags      CON_1       CON_2     CON_3       HHP.24H_1   HHP.24H_2   HHP.24H_3  \n",
       "  Xkr4    48.87565530 48.900104 46.69465155 36.79134133 36.43720435 38.49532774\n",
       "  Gm39585  0.02352053  0.000000  0.03695659  0.00000000  0.00000000  0.00000000\n",
       "  Gm38717  0.54097212  0.563149  0.60978374  0.73687951  0.69455082  0.62467063\n",
       "  Rp1      0.00000000  0.000000  0.01847830  0.02631713  0.00000000  0.00000000\n",
       "  Sox17    4.49242067  5.256057  5.50653192  5.81608472  4.99542318  4.78914152\n",
       "  Gm39586  0.02352053  0.000000  0.00000000  0.00000000  0.02671349  0.02602794"
      ]
     },
     "metadata": {},
     "output_type": "display_data"
    },
    {
     "data": {
      "text/html": [
       "<table class=\"dataframe\">\n",
       "<caption>A matrix: 6 × 6 of type lgl</caption>\n",
       "<thead>\n",
       "\t<tr><th></th><th scope=col>CON_1</th><th scope=col>CON_2</th><th scope=col>CON_3</th><th scope=col>HHP.24H_1</th><th scope=col>HHP.24H_2</th><th scope=col>HHP.24H_3</th></tr>\n",
       "</thead>\n",
       "<tbody>\n",
       "\t<tr><th scope=row>Xkr4</th><td> TRUE</td><td> TRUE</td><td> TRUE</td><td> TRUE</td><td> TRUE</td><td> TRUE</td></tr>\n",
       "\t<tr><th scope=row>Gm39585</th><td>FALSE</td><td>FALSE</td><td>FALSE</td><td>FALSE</td><td>FALSE</td><td>FALSE</td></tr>\n",
       "\t<tr><th scope=row>Gm38717</th><td> TRUE</td><td> TRUE</td><td> TRUE</td><td> TRUE</td><td> TRUE</td><td> TRUE</td></tr>\n",
       "\t<tr><th scope=row>Rp1</th><td>FALSE</td><td>FALSE</td><td>FALSE</td><td>FALSE</td><td>FALSE</td><td>FALSE</td></tr>\n",
       "\t<tr><th scope=row>Sox17</th><td> TRUE</td><td> TRUE</td><td> TRUE</td><td> TRUE</td><td> TRUE</td><td> TRUE</td></tr>\n",
       "\t<tr><th scope=row>Gm39586</th><td>FALSE</td><td>FALSE</td><td>FALSE</td><td>FALSE</td><td>FALSE</td><td>FALSE</td></tr>\n",
       "</tbody>\n",
       "</table>\n"
      ],
      "text/latex": [
       "A matrix: 6 × 6 of type lgl\n",
       "\\begin{tabular}{r|llllll}\n",
       "  & CON\\_1 & CON\\_2 & CON\\_3 & HHP.24H\\_1 & HHP.24H\\_2 & HHP.24H\\_3\\\\\n",
       "\\hline\n",
       "\tXkr4 &  TRUE &  TRUE &  TRUE &  TRUE &  TRUE &  TRUE\\\\\n",
       "\tGm39585 & FALSE & FALSE & FALSE & FALSE & FALSE & FALSE\\\\\n",
       "\tGm38717 &  TRUE &  TRUE &  TRUE &  TRUE &  TRUE &  TRUE\\\\\n",
       "\tRp1 & FALSE & FALSE & FALSE & FALSE & FALSE & FALSE\\\\\n",
       "\tSox17 &  TRUE &  TRUE &  TRUE &  TRUE &  TRUE &  TRUE\\\\\n",
       "\tGm39586 & FALSE & FALSE & FALSE & FALSE & FALSE & FALSE\\\\\n",
       "\\end{tabular}\n"
      ],
      "text/markdown": [
       "\n",
       "A matrix: 6 × 6 of type lgl\n",
       "\n",
       "| <!--/--> | CON_1 | CON_2 | CON_3 | HHP.24H_1 | HHP.24H_2 | HHP.24H_3 |\n",
       "|---|---|---|---|---|---|---|\n",
       "| Xkr4 |  TRUE |  TRUE |  TRUE |  TRUE |  TRUE |  TRUE |\n",
       "| Gm39585 | FALSE | FALSE | FALSE | FALSE | FALSE | FALSE |\n",
       "| Gm38717 |  TRUE |  TRUE |  TRUE |  TRUE |  TRUE |  TRUE |\n",
       "| Rp1 | FALSE | FALSE | FALSE | FALSE | FALSE | FALSE |\n",
       "| Sox17 |  TRUE |  TRUE |  TRUE |  TRUE |  TRUE |  TRUE |\n",
       "| Gm39586 | FALSE | FALSE | FALSE | FALSE | FALSE | FALSE |\n",
       "\n"
      ],
      "text/plain": [
       "         Samples\n",
       "Tags      CON_1 CON_2 CON_3 HHP.24H_1 HHP.24H_2 HHP.24H_3\n",
       "  Xkr4     TRUE  TRUE  TRUE  TRUE      TRUE      TRUE    \n",
       "  Gm39585 FALSE FALSE FALSE FALSE     FALSE     FALSE    \n",
       "  Gm38717  TRUE  TRUE  TRUE  TRUE      TRUE      TRUE    \n",
       "  Rp1     FALSE FALSE FALSE FALSE     FALSE     FALSE    \n",
       "  Sox17    TRUE  TRUE  TRUE  TRUE      TRUE      TRUE    \n",
       "  Gm39586 FALSE FALSE FALSE FALSE     FALSE     FALSE    "
      ]
     },
     "metadata": {},
     "output_type": "display_data"
    },
    {
     "data": {
      "text/plain": [
       "\n",
       "    0     1     2     3     4     5     6 \n",
       "15668   390   267   421   263   354 15410 "
      ]
     },
     "metadata": {},
     "output_type": "display_data"
    },
    {
     "data": {
      "text/plain": [
       "keep\n",
       "FALSE  TRUE \n",
       "16058 16715 "
      ]
     },
     "metadata": {},
     "output_type": "display_data"
    }
   ],
   "source": [
    "# Filtering lowly expressed genes Obtain CPMs\n",
    "myCPM <- cpm(x)\n",
    "# Have a look at the output\n",
    "head(myCPM)\n",
    "# Which values in myCPM are greater than 0.33?  A CPM of 0.33 is used as it\n",
    "# corresponds to a count of 10-15 for the library sizes in this data set.  If\n",
    "# the count is any smaller, it is considered to be very low, indicating that\n",
    "# the associated gene is not expressed in that sample.  Let's have a look and\n",
    "# see whether our threshold of 0.33 does indeed correspond to a count of about\n",
    "# 10-15 We will look at the first sample\n",
    "thresh <- myCPM > 0.33\n",
    "# This produces a logical matrix with TRUEs and FALSEs\n",
    "head(thresh)\n",
    "# Summary of how many TRUEs there are in each row There are 11433 genes that\n",
    "# have TRUEs in all 12 samples.\n",
    "table(rowSums(thresh))\n",
    "# we would like to keep genes that have at least 2 TRUES in each row of thresh\n",
    "keep <- rowSums(thresh) >= 2\n",
    "table(keep)"
   ]
  },
  {
   "cell_type": "code",
   "execution_count": 35,
   "metadata": {
    "colab": {
     "base_uri": "https://localhost:8080/",
     "height": 437
    },
    "executionInfo": {
     "elapsed": 1362,
     "status": "ok",
     "timestamp": 1636989706586,
     "user": {
      "displayName": "Shaoqiu He",
      "photoUrl": "https://lh3.googleusercontent.com/a-/AOh14GjqxDDKIvj-k4BT2y4gflK2grm-E052z036TINn0w=s64",
      "userId": "16738992239117859264"
     },
     "user_tz": 300
    },
    "id": "HiE0y2Sjqdt4",
    "outputId": "ee6c5860-2896-4e1d-c064-b7585a424d34"
   },
   "outputs": [
    {
     "data": {
      "image/png": "[encoded data removed]",
      "text/plain": [
       "plot without title"
      ]
     },
     "metadata": {
      "image/png": {
       "height": 420,
       "width": 420
      }
     },
     "output_type": "display_data"
    }
   ],
   "source": [
    "plot(myCPM[, 1], x$counts[, 1])\n",
    "# Let us limit the x and y-axis so we can actually look to see what is\n",
    "# happening at the smaller counts"
   ]
  },
  {
   "cell_type": "code",
   "execution_count": 36,
   "metadata": {
    "colab": {
     "base_uri": "https://localhost:8080/",
     "height": 437
    },
    "executionInfo": {
     "elapsed": 1065,
     "status": "ok",
     "timestamp": 1636989708321,
     "user": {
      "displayName": "Shaoqiu He",
      "photoUrl": "https://lh3.googleusercontent.com/a-/AOh14GjqxDDKIvj-k4BT2y4gflK2grm-E052z036TINn0w=s64",
      "userId": "16738992239117859264"
     },
     "user_tz": 300
    },
    "id": "cvNZRoM9pe4f",
    "outputId": "fb1a94ed-0bbf-4e66-9325-23c8708334d5"
   },
   "outputs": [
    {
     "data": {
      "image/png": "[encoded data removed]",
      "text/plain": [
       "plot without title"
      ]
     },
     "metadata": {
      "image/png": {
       "height": 420,
       "width": 420
      }
     },
     "output_type": "display_data"
    }
   ],
   "source": [
    "plot(myCPM[, 1], x$counts[, 1], ylim = c(0, 50), xlim = c(0, 3))\n",
    "# Add a vertical line at 0.5 CPM\n",
    "abline(v = 0.33, h = 15, col = \"blue\")\n",
    "# Now that we've checked our filtering method we will filter the DGEList\n",
    "# object.)  Let us limit the x and y-axis so we can actually look to see what\n",
    "# is happening at the smaller counts"
   ]
  },
  {
   "cell_type": "code",
   "execution_count": 37,
   "metadata": {
    "id": "y_ZmT0wRtRuO"
   },
   "outputs": [],
   "source": [
    "# Now that we've checked our filtering method we will filter the DGEList\n",
    "# object.\n",
    "x <- x[keep, keep.lib.sizes = FALSE]"
   ]
  },
  {
   "cell_type": "code",
   "execution_count": 38,
   "metadata": {
    "colab": {
     "base_uri": "https://localhost:8080/",
     "height": 1000
    },
    "executionInfo": {
     "elapsed": 129,
     "status": "ok",
     "timestamp": 1636989710400,
     "user": {
      "displayName": "Shaoqiu He",
      "photoUrl": "https://lh3.googleusercontent.com/a-/AOh14GjqxDDKIvj-k4BT2y4gflK2grm-E052z036TINn0w=s64",
      "userId": "16738992239117859264"
     },
     "user_tz": 300
    },
    "id": "FhWbQbu0vAUw",
    "outputId": "d1e63ed6-d238-49a4-cacb-aaa02a01947c"
   },
   "outputs": [
    {
     "data": {
      "text/html": [
       "<style>\n",
       ".list-inline {list-style: none; margin:0; padding: 0}\n",
       ".list-inline>li {display: inline-block}\n",
       ".list-inline>li:not(:last-child)::after {content: \"\\00b7\"; padding: 0 .5ex}\n",
       "</style>\n",
       "<ol class=list-inline><li>16715</li><li>6</li></ol>\n"
      ],
      "text/latex": [
       "\\begin{enumerate*}\n",
       "\\item 16715\n",
       "\\item 6\n",
       "\\end{enumerate*}\n"
      ],
      "text/markdown": [
       "1. 16715\n",
       "2. 6\n",
       "\n",
       "\n"
      ],
      "text/plain": [
       "[1] 16715     6"
      ]
     },
     "metadata": {},
     "output_type": "display_data"
    },
    {
     "data": {
      "text/html": [
       "<dl>\n",
       "\t<dt>$samples</dt>\n",
       "\t\t<dd><table class=\"dataframe\">\n",
       "<caption>A data.frame: 6 × 4</caption>\n",
       "<thead>\n",
       "\t<tr><th></th><th scope=col>files</th><th scope=col>group</th><th scope=col>lib.size</th><th scope=col>norm.factors</th></tr>\n",
       "\t<tr><th></th><th scope=col>&lt;chr&gt;</th><th scope=col>&lt;fct&gt;</th><th scope=col>&lt;dbl&gt;</th><th scope=col>&lt;dbl&gt;</th></tr>\n",
       "</thead>\n",
       "<tbody>\n",
       "\t<tr><th scope=row>CON_1</th><td>C:/Users/shaoq/OneDrive/PythonScripts/Experiment Project/GitHub/RNAseq/input/HHP_2h_24h_WT/Control_1_counts.txt</td><td>control </td><td>40903070</td><td>1</td></tr>\n",
       "\t<tr><th scope=row>CON_2</th><td>C:/Users/shaoq/OneDrive/PythonScripts/Experiment Project/GitHub/RNAseq/input/HHP_2h_24h_WT/Control_2_counts.txt</td><td>control </td><td>40768747</td><td>1</td></tr>\n",
       "\t<tr><th scope=row>CON_3</th><td>C:/Users/shaoq/OneDrive/PythonScripts/Experiment Project/GitHub/RNAseq/input/HHP_2h_24h_WT/Control_3_counts.txt</td><td>control </td><td>52504852</td><td>1</td></tr>\n",
       "\t<tr><th scope=row>HHP.24H_1</th><td>C:/Users/shaoq/OneDrive/PythonScripts/Experiment Project/GitHub/RNAseq/input/HHP_2h_24h_WT/24h_1_counts.txt    </td><td>hhp.24hr</td><td>36777977</td><td>1</td></tr>\n",
       "\t<tr><th scope=row>HHP.24H_2</th><td>C:/Users/shaoq/OneDrive/PythonScripts/Experiment Project/GitHub/RNAseq/input/HHP_2h_24h_WT/24h_2_counts.txt    </td><td>hhp.24hr</td><td>36030235</td><td>1</td></tr>\n",
       "\t<tr><th scope=row>HHP.24H_3</th><td>C:/Users/shaoq/OneDrive/PythonScripts/Experiment Project/GitHub/RNAseq/input/HHP_2h_24h_WT/24h_3_counts.txt    </td><td>hhp.24hr</td><td>36947812</td><td>1</td></tr>\n",
       "</tbody>\n",
       "</table>\n",
       "</dd>\n",
       "\t<dt>$counts</dt>\n",
       "\t\t<dd><table class=\"dataframe\">\n",
       "<caption>A matrix: 6 × 6 of type dbl</caption>\n",
       "<thead>\n",
       "\t<tr><th></th><th scope=col>CON_1</th><th scope=col>CON_2</th><th scope=col>CON_3</th><th scope=col>HHP.24H_1</th><th scope=col>HHP.24H_2</th><th scope=col>HHP.24H_3</th></tr>\n",
       "</thead>\n",
       "<tbody>\n",
       "\t<tr><th scope=row>Xkr4</th><td>2078</td><td>2084</td><td>2527</td><td>1398</td><td>1364</td><td>1479</td></tr>\n",
       "\t<tr><th scope=row>Gm38717</th><td>  23</td><td>  24</td><td>  33</td><td>  28</td><td>  26</td><td>  24</td></tr>\n",
       "\t<tr><th scope=row>Sox17</th><td> 191</td><td> 224</td><td> 298</td><td> 221</td><td> 187</td><td> 184</td></tr>\n",
       "\t<tr><th scope=row>Mrpl15</th><td> 992</td><td>1018</td><td>1380</td><td> 896</td><td> 856</td><td> 828</td></tr>\n",
       "\t<tr><th scope=row>Lypla1</th><td>1715</td><td>1684</td><td>2188</td><td>1380</td><td>1376</td><td>1393</td></tr>\n",
       "\t<tr><th scope=row>Tcea1</th><td>3599</td><td>3443</td><td>4685</td><td>2810</td><td>2874</td><td>2777</td></tr>\n",
       "</tbody>\n",
       "</table>\n",
       "</dd>\n",
       "\t<dt>$genes</dt>\n",
       "\t\t<dd><table class=\"dataframe\">\n",
       "<caption>A data.frame: 6 × 3</caption>\n",
       "<thead>\n",
       "\t<tr><th></th><th scope=col>SYMBOL</th><th scope=col>ENTREZID</th><th scope=col>GENENAME</th></tr>\n",
       "\t<tr><th></th><th scope=col>&lt;chr&gt;</th><th scope=col>&lt;chr&gt;</th><th scope=col>&lt;chr&gt;</th></tr>\n",
       "</thead>\n",
       "<tbody>\n",
       "\t<tr><th scope=row>1</th><td>Xkr4   </td><td>497097</td><td>X-linked Kx blood group related 4        </td></tr>\n",
       "\t<tr><th scope=row>3</th><td>Gm38717</td><td>NA    </td><td>NA                                       </td></tr>\n",
       "\t<tr><th scope=row>5</th><td>Sox17  </td><td>20671 </td><td>SRY (sex determining region Y)-box 17    </td></tr>\n",
       "\t<tr><th scope=row>10</th><td>Mrpl15 </td><td>27395 </td><td>mitochondrial ribosomal protein L15      </td></tr>\n",
       "\t<tr><th scope=row>11</th><td>Lypla1 </td><td>18777 </td><td>lysophospholipase 1                      </td></tr>\n",
       "\t<tr><th scope=row>13</th><td>Tcea1  </td><td>21399 </td><td>transcription elongation factor A (SII) 1</td></tr>\n",
       "</tbody>\n",
       "</table>\n",
       "</dd>\n",
       "</dl>\n"
      ],
      "text/latex": [
       "\\begin{description}\n",
       "\\item[\\$samples] A data.frame: 6 × 4\n",
       "\\begin{tabular}{r|llll}\n",
       "  & files & group & lib.size & norm.factors\\\\\n",
       "  & <chr> & <fct> & <dbl> & <dbl>\\\\\n",
       "\\hline\n",
       "\tCON\\_1 & C:/Users/shaoq/OneDrive/PythonScripts/Experiment Project/GitHub/RNAseq/input/HHP\\_2h\\_24h\\_WT/Control\\_1\\_counts.txt & control  & 40903070 & 1\\\\\n",
       "\tCON\\_2 & C:/Users/shaoq/OneDrive/PythonScripts/Experiment Project/GitHub/RNAseq/input/HHP\\_2h\\_24h\\_WT/Control\\_2\\_counts.txt & control  & 40768747 & 1\\\\\n",
       "\tCON\\_3 & C:/Users/shaoq/OneDrive/PythonScripts/Experiment Project/GitHub/RNAseq/input/HHP\\_2h\\_24h\\_WT/Control\\_3\\_counts.txt & control  & 52504852 & 1\\\\\n",
       "\tHHP.24H\\_1 & C:/Users/shaoq/OneDrive/PythonScripts/Experiment Project/GitHub/RNAseq/input/HHP\\_2h\\_24h\\_WT/24h\\_1\\_counts.txt     & hhp.24hr & 36777977 & 1\\\\\n",
       "\tHHP.24H\\_2 & C:/Users/shaoq/OneDrive/PythonScripts/Experiment Project/GitHub/RNAseq/input/HHP\\_2h\\_24h\\_WT/24h\\_2\\_counts.txt     & hhp.24hr & 36030235 & 1\\\\\n",
       "\tHHP.24H\\_3 & C:/Users/shaoq/OneDrive/PythonScripts/Experiment Project/GitHub/RNAseq/input/HHP\\_2h\\_24h\\_WT/24h\\_3\\_counts.txt     & hhp.24hr & 36947812 & 1\\\\\n",
       "\\end{tabular}\n",
       "\n",
       "\\item[\\$counts] A matrix: 6 × 6 of type dbl\n",
       "\\begin{tabular}{r|llllll}\n",
       "  & CON\\_1 & CON\\_2 & CON\\_3 & HHP.24H\\_1 & HHP.24H\\_2 & HHP.24H\\_3\\\\\n",
       "\\hline\n",
       "\tXkr4 & 2078 & 2084 & 2527 & 1398 & 1364 & 1479\\\\\n",
       "\tGm38717 &   23 &   24 &   33 &   28 &   26 &   24\\\\\n",
       "\tSox17 &  191 &  224 &  298 &  221 &  187 &  184\\\\\n",
       "\tMrpl15 &  992 & 1018 & 1380 &  896 &  856 &  828\\\\\n",
       "\tLypla1 & 1715 & 1684 & 2188 & 1380 & 1376 & 1393\\\\\n",
       "\tTcea1 & 3599 & 3443 & 4685 & 2810 & 2874 & 2777\\\\\n",
       "\\end{tabular}\n",
       "\n",
       "\\item[\\$genes] A data.frame: 6 × 3\n",
       "\\begin{tabular}{r|lll}\n",
       "  & SYMBOL & ENTREZID & GENENAME\\\\\n",
       "  & <chr> & <chr> & <chr>\\\\\n",
       "\\hline\n",
       "\t1 & Xkr4    & 497097 & X-linked Kx blood group related 4        \\\\\n",
       "\t3 & Gm38717 & NA     & NA                                       \\\\\n",
       "\t5 & Sox17   & 20671  & SRY (sex determining region Y)-box 17    \\\\\n",
       "\t10 & Mrpl15  & 27395  & mitochondrial ribosomal protein L15      \\\\\n",
       "\t11 & Lypla1  & 18777  & lysophospholipase 1                      \\\\\n",
       "\t13 & Tcea1   & 21399  & transcription elongation factor A (SII) 1\\\\\n",
       "\\end{tabular}\n",
       "\n",
       "\\end{description}\n"
      ],
      "text/markdown": [
       "$samples\n",
       ":   \n",
       "A data.frame: 6 × 4\n",
       "\n",
       "| <!--/--> | files &lt;chr&gt; | group &lt;fct&gt; | lib.size &lt;dbl&gt; | norm.factors &lt;dbl&gt; |\n",
       "|---|---|---|---|---|\n",
       "| CON_1 | C:/Users/shaoq/OneDrive/PythonScripts/Experiment Project/GitHub/RNAseq/input/HHP_2h_24h_WT/Control_1_counts.txt | control  | 40903070 | 1 |\n",
       "| CON_2 | C:/Users/shaoq/OneDrive/PythonScripts/Experiment Project/GitHub/RNAseq/input/HHP_2h_24h_WT/Control_2_counts.txt | control  | 40768747 | 1 |\n",
       "| CON_3 | C:/Users/shaoq/OneDrive/PythonScripts/Experiment Project/GitHub/RNAseq/input/HHP_2h_24h_WT/Control_3_counts.txt | control  | 52504852 | 1 |\n",
       "| HHP.24H_1 | C:/Users/shaoq/OneDrive/PythonScripts/Experiment Project/GitHub/RNAseq/input/HHP_2h_24h_WT/24h_1_counts.txt     | hhp.24hr | 36777977 | 1 |\n",
       "| HHP.24H_2 | C:/Users/shaoq/OneDrive/PythonScripts/Experiment Project/GitHub/RNAseq/input/HHP_2h_24h_WT/24h_2_counts.txt     | hhp.24hr | 36030235 | 1 |\n",
       "| HHP.24H_3 | C:/Users/shaoq/OneDrive/PythonScripts/Experiment Project/GitHub/RNAseq/input/HHP_2h_24h_WT/24h_3_counts.txt     | hhp.24hr | 36947812 | 1 |\n",
       "\n",
       "\n",
       "$counts\n",
       ":   \n",
       "A matrix: 6 × 6 of type dbl\n",
       "\n",
       "| <!--/--> | CON_1 | CON_2 | CON_3 | HHP.24H_1 | HHP.24H_2 | HHP.24H_3 |\n",
       "|---|---|---|---|---|---|---|\n",
       "| Xkr4 | 2078 | 2084 | 2527 | 1398 | 1364 | 1479 |\n",
       "| Gm38717 |   23 |   24 |   33 |   28 |   26 |   24 |\n",
       "| Sox17 |  191 |  224 |  298 |  221 |  187 |  184 |\n",
       "| Mrpl15 |  992 | 1018 | 1380 |  896 |  856 |  828 |\n",
       "| Lypla1 | 1715 | 1684 | 2188 | 1380 | 1376 | 1393 |\n",
       "| Tcea1 | 3599 | 3443 | 4685 | 2810 | 2874 | 2777 |\n",
       "\n",
       "\n",
       "$genes\n",
       ":   \n",
       "A data.frame: 6 × 3\n",
       "\n",
       "| <!--/--> | SYMBOL &lt;chr&gt; | ENTREZID &lt;chr&gt; | GENENAME &lt;chr&gt; |\n",
       "|---|---|---|---|\n",
       "| 1 | Xkr4    | 497097 | X-linked Kx blood group related 4         |\n",
       "| 3 | Gm38717 | NA     | NA                                        |\n",
       "| 5 | Sox17   | 20671  | SRY (sex determining region Y)-box 17     |\n",
       "| 10 | Mrpl15  | 27395  | mitochondrial ribosomal protein L15       |\n",
       "| 11 | Lypla1  | 18777  | lysophospholipase 1                       |\n",
       "| 13 | Tcea1   | 21399  | transcription elongation factor A (SII) 1 |\n",
       "\n",
       "\n",
       "\n",
       "\n"
      ],
      "text/plain": [
       "An object of class \"DGEList\"\n",
       "$samples\n",
       "                                                                                                                    files\n",
       "CON_1     C:/Users/shaoq/OneDrive/PythonScripts/Experiment Project/GitHub/RNAseq/input/HHP_2h_24h_WT/Control_1_counts.txt\n",
       "CON_2     C:/Users/shaoq/OneDrive/PythonScripts/Experiment Project/GitHub/RNAseq/input/HHP_2h_24h_WT/Control_2_counts.txt\n",
       "CON_3     C:/Users/shaoq/OneDrive/PythonScripts/Experiment Project/GitHub/RNAseq/input/HHP_2h_24h_WT/Control_3_counts.txt\n",
       "HHP.24H_1     C:/Users/shaoq/OneDrive/PythonScripts/Experiment Project/GitHub/RNAseq/input/HHP_2h_24h_WT/24h_1_counts.txt\n",
       "HHP.24H_2     C:/Users/shaoq/OneDrive/PythonScripts/Experiment Project/GitHub/RNAseq/input/HHP_2h_24h_WT/24h_2_counts.txt\n",
       "HHP.24H_3     C:/Users/shaoq/OneDrive/PythonScripts/Experiment Project/GitHub/RNAseq/input/HHP_2h_24h_WT/24h_3_counts.txt\n",
       "             group lib.size norm.factors\n",
       "CON_1      control 40903070            1\n",
       "CON_2      control 40768747            1\n",
       "CON_3      control 52504852            1\n",
       "HHP.24H_1 hhp.24hr 36777977            1\n",
       "HHP.24H_2 hhp.24hr 36030235            1\n",
       "HHP.24H_3 hhp.24hr 36947812            1\n",
       "\n",
       "$counts\n",
       "         Samples\n",
       "Tags      CON_1 CON_2 CON_3 HHP.24H_1 HHP.24H_2 HHP.24H_3\n",
       "  Xkr4     2078  2084  2527      1398      1364      1479\n",
       "  Gm38717    23    24    33        28        26        24\n",
       "  Sox17     191   224   298       221       187       184\n",
       "  Mrpl15    992  1018  1380       896       856       828\n",
       "  Lypla1   1715  1684  2188      1380      1376      1393\n",
       "  Tcea1    3599  3443  4685      2810      2874      2777\n",
       "\n",
       "$genes\n",
       "    SYMBOL ENTREZID                                  GENENAME\n",
       "1     Xkr4   497097         X-linked Kx blood group related 4\n",
       "3  Gm38717     <NA>                                      <NA>\n",
       "5    Sox17    20671     SRY (sex determining region Y)-box 17\n",
       "10  Mrpl15    27395       mitochondrial ribosomal protein L15\n",
       "11  Lypla1    18777                       lysophospholipase 1\n",
       "13   Tcea1    21399 transcription elongation factor A (SII) 1\n"
      ]
     },
     "metadata": {},
     "output_type": "display_data"
    }
   ],
   "source": [
    "dim(x)\n",
    "head(x)"
   ]
  },
  {
   "cell_type": "markdown",
   "metadata": {
    "id": "RQtnpmT0tdrx"
   },
   "source": [
    "### Normalising gene expression distributions\n",
    "During the sample preparation or sequencing process, external factors that are not of biological interest can affect the expression of individual samples. For example, samples processed in the first batch of an experiment can have higher expression overall when compared to samples processed in a second batch. It is assumed that all samples should have a similar range and distribution of expression values. Normalisation is required to ensure that the expression distributions of each sample are similar across the entire experiment.\n",
    "\n",
    "Any plot showing the per sample expression distributions, such as a density or boxplot, is useful in determining whether any samples are dissimilar to others. Distributions of log-CPM values are similar throughout all samples within this dataset (panel B of the figure above).\n"
   ]
  },
  {
   "cell_type": "code",
   "execution_count": 39,
   "metadata": {
    "colab": {
     "base_uri": "https://localhost:8080/",
     "height": 455
    },
    "executionInfo": {
     "elapsed": 238,
     "status": "ok",
     "timestamp": 1636989713085,
     "user": {
      "displayName": "Shaoqiu He",
      "photoUrl": "https://lh3.googleusercontent.com/a-/AOh14GjqxDDKIvj-k4BT2y4gflK2grm-E052z036TINn0w=s64",
      "userId": "16738992239117859264"
     },
     "user_tz": 300
    },
    "id": "y3SXUOjwvJXX",
    "outputId": "a78c32b4-bbbf-4872-d073-854d26d1953f"
   },
   "outputs": [
    {
     "data": {
      "text/html": [
       "<style>\n",
       ".list-inline {list-style: none; margin:0; padding: 0}\n",
       ".list-inline>li {display: inline-block}\n",
       ".list-inline>li:not(:last-child)::after {content: \"\\00b7\"; padding: 0 .5ex}\n",
       "</style>\n",
       "<ol class=list-inline><li>40903070</li><li>40768747</li><li>52504852</li><li>36777977</li><li>36030235</li><li>36947812</li></ol>\n"
      ],
      "text/latex": [
       "\\begin{enumerate*}\n",
       "\\item 40903070\n",
       "\\item 40768747\n",
       "\\item 52504852\n",
       "\\item 36777977\n",
       "\\item 36030235\n",
       "\\item 36947812\n",
       "\\end{enumerate*}\n"
      ],
      "text/markdown": [
       "1. 40903070\n",
       "2. 40768747\n",
       "3. 52504852\n",
       "4. 36777977\n",
       "5. 36030235\n",
       "6. 36947812\n",
       "\n",
       "\n"
      ],
      "text/plain": [
       "[1] 40903070 40768747 52504852 36777977 36030235 36947812"
      ]
     },
     "metadata": {},
     "output_type": "display_data"
    },
    {
     "data": {
      "image/png": "[encoded data removed]",
      "text/plain": [
       "Plot with title \"Barplot of library sizes\""
      ]
     },
     "metadata": {
      "image/png": {
       "height": 420,
       "width": 420
      }
     },
     "output_type": "display_data"
    }
   ],
   "source": [
    "# Quality control Library size and distribution plots First, we can check how\n",
    "# many reads we have for each sample in the y.\n",
    "x$samples$lib.size\n",
    "# The names argument tells the barplot to use the sample names on the x-axis\n",
    "# The las argument rotates the axis names\n",
    "barplot(x$samples$lib.size, names = colnames(x), las = 2)\n",
    "# Add a title to the plot\n",
    "title(\"Barplot of library sizes\")"
   ]
  },
  {
   "cell_type": "code",
   "execution_count": 40,
   "metadata": {
    "colab": {
     "base_uri": "https://localhost:8080/",
     "height": 437
    },
    "executionInfo": {
     "elapsed": 99,
     "status": "ok",
     "timestamp": 1636989715100,
     "user": {
      "displayName": "Shaoqiu He",
      "photoUrl": "https://lh3.googleusercontent.com/a-/AOh14GjqxDDKIvj-k4BT2y4gflK2grm-E052z036TINn0w=s64",
      "userId": "16738992239117859264"
     },
     "user_tz": 300
    },
    "id": "e-EeCDCd6wsi",
    "outputId": "5f6a301c-c8aa-4802-8271-fa9f7eaaea16"
   },
   "outputs": [
    {
     "data": {
      "image/png": "[encoded data removed]",
      "text/plain": [
       "Plot with title \"Barplot of library sizes\""
      ]
     },
     "metadata": {
      "image/png": {
       "height": 420,
       "width": 420
      }
     },
     "output_type": "display_data"
    }
   ],
   "source": [
    "# we can also adjust the labelling if we want\n",
    "barplot(x$samples$lib.size/1e+06, names = colnames(x), las = 2, ann = FALSE, cex.names = 0.75)\n",
    "mtext(side = 1, text = \"Samples\", line = 0.5)\n",
    "mtext(side = 2, text = \"Library size (millions)\", line = 3)\n",
    "title(\"Barplot of library sizes\")"
   ]
  },
  {
   "cell_type": "code",
   "execution_count": 41,
   "metadata": {
    "colab": {
     "base_uri": "https://localhost:8080/",
     "height": 437
    },
    "executionInfo": {
     "elapsed": 233,
     "status": "ok",
     "timestamp": 1636989717241,
     "user": {
      "displayName": "Shaoqiu He",
      "photoUrl": "https://lh3.googleusercontent.com/a-/AOh14GjqxDDKIvj-k4BT2y4gflK2grm-E052z036TINn0w=s64",
      "userId": "16738992239117859264"
     },
     "user_tz": 300
    },
    "id": "kDNdmFGBvmTj",
    "outputId": "6900511a-a0af-4e25-80f0-bf1df20e395d"
   },
   "outputs": [
    {
     "data": {
      "image/png": "[encoded data removed]",
      "text/plain": [
       "Plot with title \"Boxplots of logCPMs (unnormalised)\""
      ]
     },
     "metadata": {
      "image/png": {
       "height": 420,
       "width": 420
      }
     },
     "output_type": "display_data"
    }
   ],
   "source": [
    "# Count data is not normally distributed, so if we want to examine the\n",
    "# distributions of the raw counts we need to log the counts.  Get log2 counts\n",
    "# per million\n",
    "logcounts <- cpm(x, log = TRUE, prior.count = 1)\n",
    "# Check distributions of samples using boxplots\n",
    "boxplot(logcounts, xlab = \"\", ylab = \"Log2 counts per million\", las = 2)\n",
    "# Let's add a blue horizontal line that corresponds to the median logCPM\n",
    "abline(h = median(logcounts), col = \"blue\")\n",
    "title(\"Boxplots of logCPMs (unnormalised)\")"
   ]
  },
  {
   "cell_type": "markdown",
   "metadata": {
    "id": "9iuTAvLwtnrT"
   },
   "source": [
    "## Unsupervised clustering of samples\n",
    "One of the most important exploratory plots to examine for gene expression analyses is the multi-dimensional scaling (MDS) plot, or similar. The plot shows similarities and dissimilarities between samples in an unsupervised manner so that one can have an idea of the extent to which differential expression can be detected before carrying out formal tests. Ideally, samples would cluster well within the primary condition of interest, and any sample straying far from its group could be identified and followed up for sources of error or extra variation. If present, technical replicates should lie very close to one another.\n",
    "\n",
    "Such a plot can be made in limma using the plotMDS function. The first dimension represents the leading-fold-change that best separates samples and explains the largest proportion of variation in the data, with subsequent dimensions having a smaller effect and being orthogonal to the ones before it. When experimental design involves multiple factors, it is recommended that each factor is examined over several dimensions. If samples cluster by a given factor in any of these dimensions, it suggests that the factor contributes to expression differences and is worth including in the linear modelling. On the other hand, factors that show little or no effect may be left out of downstream analysis.\n"
   ]
  },
  {
   "cell_type": "code",
   "execution_count": 42,
   "metadata": {
    "colab": {
     "base_uri": "https://localhost:8080/",
     "height": 437
    },
    "executionInfo": {
     "elapsed": 226,
     "status": "ok",
     "timestamp": 1636989736595,
     "user": {
      "displayName": "Shaoqiu He",
      "photoUrl": "https://lh3.googleusercontent.com/a-/AOh14GjqxDDKIvj-k4BT2y4gflK2grm-E052z036TINn0w=s64",
      "userId": "16738992239117859264"
     },
     "user_tz": 300
    },
    "id": "6NeuuMEAv57g",
    "outputId": "16d2d7a1-7881-4c60-c3b2-360eebd18b73"
   },
   "outputs": [
    {
     "data": {
      "image/png": "[encoded data removed]",
      "text/plain": [
       "plot without title"
      ]
     },
     "metadata": {
      "image/png": {
       "height": 420,
       "width": 420
      }
     },
     "output_type": "display_data"
    }
   ],
   "source": [
    "# An MDSplot is a visualisation of a principle components analysis, which\n",
    "# determines the greatest sources of variation in the data.\n",
    "plotMDS(x)"
   ]
  },
  {
   "cell_type": "code",
   "execution_count": 43,
   "metadata": {
    "colab": {
     "base_uri": "https://localhost:8080/",
     "height": 857
    },
    "executionInfo": {
     "elapsed": 423,
     "status": "ok",
     "timestamp": 1636989734868,
     "user": {
      "displayName": "Shaoqiu He",
      "photoUrl": "https://lh3.googleusercontent.com/a-/AOh14GjqxDDKIvj-k4BT2y4gflK2grm-E052z036TINn0w=s64",
      "userId": "16738992239117859264"
     },
     "user_tz": 300
    },
    "id": "wBEARf3AwBCo",
    "outputId": "91eadff7-26bb-4dff-e0f0-3a8d4d0dc59b"
   },
   "outputs": [
    {
     "data": {
      "image/png": "[encoded data removed]",
      "text/plain": [
       "Plot with title \"Treatment\""
      ]
     },
     "metadata": {
      "image/png": {
       "height": 420,
       "width": 420
      }
     },
     "output_type": "display_data"
    },
    {
     "data": {
      "image/png": "[encoded data removed]",
      "text/plain": [
       "Plot with title \"Batch\""
      ]
     },
     "metadata": {
      "image/png": {
       "height": 420,
       "width": 420
      }
     },
     "output_type": "display_data"
    }
   ],
   "source": [
    "# Redo the MDSplot with corrected information\n",
    "col.cell <- c(\"purple\", \"orange\", \"red\", \"blue\")[sampleinfo$Treatment]\n",
    "col.status <- c(\"#1B9E77\", \"#D95F02\", \"#7570B3\")[sampleinfo$Batch]\n",
    "char.celltype <- c(1, 4)[sampleinfo$Treatment]\n",
    "plotMDS(x, col = col.cell)\n",
    "legend(\"bottom\", fill = c(\"purple\", \"orange\", \"red\", \"blue\"), legend = levels(sampleinfo$Treatment))\n",
    "title(\"Treatment\")\n",
    "\n",
    "p1 <- plotMDS(x, col = col.status)\n",
    "legend(\"bottom\", fill = c(\"#1B9E77\", \"#D95F02\", \"#7570B3\"), legend = levels(sampleinfo$Batch),\n",
    "    cex = 0.8)\n",
    "title(\"Batch\")"
   ]
  },
  {
   "cell_type": "code",
   "execution_count": 44,
   "metadata": {
    "colab": {
     "base_uri": "https://localhost:8080/",
     "height": 437
    },
    "executionInfo": {
     "elapsed": 279,
     "status": "ok",
     "timestamp": 1636989740133,
     "user": {
      "displayName": "Shaoqiu He",
      "photoUrl": "https://lh3.googleusercontent.com/a-/AOh14GjqxDDKIvj-k4BT2y4gflK2grm-E052z036TINn0w=s64",
      "userId": "16738992239117859264"
     },
     "user_tz": 300
    },
    "id": "jXKR_fmRzOd1",
    "outputId": "83a56069-bd08-419c-84d5-8f4d37171e86"
   },
   "outputs": [
    {
     "data": {
      "image/png": "[encoded data removed]",
      "text/plain": [
       "plot without title"
      ]
     },
     "metadata": {
      "image/png": {
       "height": 420,
       "width": 420
      }
     },
     "output_type": "display_data"
    }
   ],
   "source": [
    "char.status <- c(1, 3, 3)[sampleinfo$Batch]\n",
    "plotMDS(x, dim = c(1, 2), col = col.cell, pch = char.status, cex = 1.5)\n",
    "legend(\"bottom\", legend = levels(sampleinfo$Treatment), col = c(\"purple\", \"orange\",\n",
    "    \"red\", \"blue\"), pch = 16)\n",
    "legend(\"right\", legend = levels(sampleinfo$Batch), pch = c(16, 3, 4))"
   ]
  },
  {
   "cell_type": "markdown",
   "metadata": {
    "id": "lu48k11Stu3D"
   },
   "source": [
    "### Hierarchical clustering with heatmaps\n",
    "A heatmap is created for the top 200 most variable genes and plot the heatmap using the heatmap.2 function from the gplots package. The heatmap correctly clusters samples by cell type and reorders the genes into blocks with similar expression patterns. From the heatmap, we observe that the expression of contol and drug samples are very similar for the top 200 most variable genes."
   ]
  },
  {
   "cell_type": "code",
   "execution_count": 45,
   "metadata": {
    "colab": {
     "base_uri": "https://localhost:8080/",
     "height": 323
    },
    "executionInfo": {
     "elapsed": 393,
     "status": "ok",
     "timestamp": 1636989742185,
     "user": {
      "displayName": "Shaoqiu He",
      "photoUrl": "https://lh3.googleusercontent.com/a-/AOh14GjqxDDKIvj-k4BT2y4gflK2grm-E052z036TINn0w=s64",
      "userId": "16738992239117859264"
     },
     "user_tz": 300
    },
    "id": "aEX4ZPRR0mMo",
    "outputId": "87df6211-2e72-412d-8c18-8a58bf6c3e04"
   },
   "outputs": [
    {
     "data": {
      "text/html": [
       "<style>\n",
       ".dl-inline {width: auto; margin:0; padding: 0}\n",
       ".dl-inline>dt, .dl-inline>dd {float: none; width: auto; display: inline-block}\n",
       ".dl-inline>dt::after {content: \":\\0020\"; padding-right: .5ex}\n",
       ".dl-inline>dt:not(:first-of-type) {padding-left: .5ex}\n",
       "</style><dl class=dl-inline><dt>Xkr4</dt><dd>0.0433029398459798</dd><dt>Gm38717</dt><dd>0.0262247029426089</dd><dt>Sox17</dt><dd>0.0173378883776703</dd><dt>Mrpl15</dt><dd>0.00580351193857371</dd><dt>Lypla1</dt><dd>0.00592712870755051</dd><dt>Tcea1</dt><dd>0.0109499382443862</dd></dl>\n"
      ],
      "text/latex": [
       "\\begin{description*}\n",
       "\\item[Xkr4] 0.0433029398459798\n",
       "\\item[Gm38717] 0.0262247029426089\n",
       "\\item[Sox17] 0.0173378883776703\n",
       "\\item[Mrpl15] 0.00580351193857371\n",
       "\\item[Lypla1] 0.00592712870755051\n",
       "\\item[Tcea1] 0.0109499382443862\n",
       "\\end{description*}\n"
      ],
      "text/markdown": [
       "Xkr4\n",
       ":   0.0433029398459798Gm38717\n",
       ":   0.0262247029426089Sox17\n",
       ":   0.0173378883776703Mrpl15\n",
       ":   0.00580351193857371Lypla1\n",
       ":   0.00592712870755051Tcea1\n",
       ":   0.0109499382443862\n",
       "\n"
      ],
      "text/plain": [
       "       Xkr4     Gm38717       Sox17      Mrpl15      Lypla1       Tcea1 \n",
       "0.043302940 0.026224703 0.017337888 0.005803512 0.005927129 0.010949938 "
      ]
     },
     "metadata": {},
     "output_type": "display_data"
    },
    {
     "data": {
      "text/html": [
       "<style>\n",
       ".list-inline {list-style: none; margin:0; padding: 0}\n",
       ".list-inline>li {display: inline-block}\n",
       ".list-inline>li:not(:last-child)::after {content: \"\\00b7\"; padding: 0 .5ex}\n",
       "</style>\n",
       "<ol class=list-inline><li>'A230052G05Rik'</li><li>'Myod1'</li><li>'D730045A05Rik'</li><li>'Slc28a3'</li><li>'Gm36317'</li><li>'1700034P13Rik'</li></ol>\n"
      ],
      "text/latex": [
       "\\begin{enumerate*}\n",
       "\\item 'A230052G05Rik'\n",
       "\\item 'Myod1'\n",
       "\\item 'D730045A05Rik'\n",
       "\\item 'Slc28a3'\n",
       "\\item 'Gm36317'\n",
       "\\item '1700034P13Rik'\n",
       "\\end{enumerate*}\n"
      ],
      "text/markdown": [
       "1. 'A230052G05Rik'\n",
       "2. 'Myod1'\n",
       "3. 'D730045A05Rik'\n",
       "4. 'Slc28a3'\n",
       "5. 'Gm36317'\n",
       "6. '1700034P13Rik'\n",
       "\n",
       "\n"
      ],
      "text/plain": [
       "[1] \"A230052G05Rik\" \"Myod1\"         \"D730045A05Rik\" \"Slc28a3\"      \n",
       "[5] \"Gm36317\"       \"1700034P13Rik\""
      ]
     },
     "metadata": {},
     "output_type": "display_data"
    },
    {
     "data": {
      "text/html": [
       "<style>\n",
       ".list-inline {list-style: none; margin:0; padding: 0}\n",
       ".list-inline>li {display: inline-block}\n",
       ".list-inline>li:not(:last-child)::after {content: \"\\00b7\"; padding: 0 .5ex}\n",
       "</style>\n",
       "<ol class=list-inline><li>200</li><li>6</li></ol>\n"
      ],
      "text/latex": [
       "\\begin{enumerate*}\n",
       "\\item 200\n",
       "\\item 6\n",
       "\\end{enumerate*}\n"
      ],
      "text/markdown": [
       "1. 200\n",
       "2. 6\n",
       "\n",
       "\n"
      ],
      "text/plain": [
       "[1] 200   6"
      ]
     },
     "metadata": {},
     "output_type": "display_data"
    },
    {
     "data": {
      "text/html": [
       "<table class=\"dataframe\">\n",
       "<caption>A matrix: 6 × 6 of type dbl</caption>\n",
       "<thead>\n",
       "\t<tr><th></th><th scope=col>CON_1</th><th scope=col>CON_2</th><th scope=col>CON_3</th><th scope=col>HHP.24H_1</th><th scope=col>HHP.24H_2</th><th scope=col>HHP.24H_3</th></tr>\n",
       "</thead>\n",
       "<tbody>\n",
       "\t<tr><th scope=row>A230052G05Rik</th><td>-3.351942</td><td>-4.347383</td><td>-2.3510033</td><td> 0.6548364</td><td> 0.6588714</td><td> 0.2815093</td></tr>\n",
       "\t<tr><th scope=row>Myod1</th><td>-5.345377</td><td>-2.348889</td><td>-0.1206828</td><td>-5.3453769</td><td>-2.1917997</td><td>-0.9664309</td></tr>\n",
       "\t<tr><th scope=row>D730045A05Rik</th><td>-5.345377</td><td>-2.179020</td><td>-4.5181123</td><td>-0.5624284</td><td>-1.4833775</td><td>-0.6279471</td></tr>\n",
       "\t<tr><th scope=row>Slc28a3</th><td>-5.345377</td><td>-1.027263</td><td>-3.9956516</td><td>-5.3453769</td><td>-1.0103585</td><td>-3.6669913</td></tr>\n",
       "\t<tr><th scope=row>Gm36317</th><td>-5.345377</td><td>-3.763090</td><td>-5.3453769</td><td>-1.3030820</td><td>-1.5999165</td><td>-1.3093245</td></tr>\n",
       "\t<tr><th scope=row>1700034P13Rik</th><td>-5.345377</td><td>-3.348387</td><td>-3.0609843</td><td>-0.5624284</td><td>-0.7866558</td><td>-0.8920825</td></tr>\n",
       "</tbody>\n",
       "</table>\n"
      ],
      "text/latex": [
       "A matrix: 6 × 6 of type dbl\n",
       "\\begin{tabular}{r|llllll}\n",
       "  & CON\\_1 & CON\\_2 & CON\\_3 & HHP.24H\\_1 & HHP.24H\\_2 & HHP.24H\\_3\\\\\n",
       "\\hline\n",
       "\tA230052G05Rik & -3.351942 & -4.347383 & -2.3510033 &  0.6548364 &  0.6588714 &  0.2815093\\\\\n",
       "\tMyod1 & -5.345377 & -2.348889 & -0.1206828 & -5.3453769 & -2.1917997 & -0.9664309\\\\\n",
       "\tD730045A05Rik & -5.345377 & -2.179020 & -4.5181123 & -0.5624284 & -1.4833775 & -0.6279471\\\\\n",
       "\tSlc28a3 & -5.345377 & -1.027263 & -3.9956516 & -5.3453769 & -1.0103585 & -3.6669913\\\\\n",
       "\tGm36317 & -5.345377 & -3.763090 & -5.3453769 & -1.3030820 & -1.5999165 & -1.3093245\\\\\n",
       "\t1700034P13Rik & -5.345377 & -3.348387 & -3.0609843 & -0.5624284 & -0.7866558 & -0.8920825\\\\\n",
       "\\end{tabular}\n"
      ],
      "text/markdown": [
       "\n",
       "A matrix: 6 × 6 of type dbl\n",
       "\n",
       "| <!--/--> | CON_1 | CON_2 | CON_3 | HHP.24H_1 | HHP.24H_2 | HHP.24H_3 |\n",
       "|---|---|---|---|---|---|---|\n",
       "| A230052G05Rik | -3.351942 | -4.347383 | -2.3510033 |  0.6548364 |  0.6588714 |  0.2815093 |\n",
       "| Myod1 | -5.345377 | -2.348889 | -0.1206828 | -5.3453769 | -2.1917997 | -0.9664309 |\n",
       "| D730045A05Rik | -5.345377 | -2.179020 | -4.5181123 | -0.5624284 | -1.4833775 | -0.6279471 |\n",
       "| Slc28a3 | -5.345377 | -1.027263 | -3.9956516 | -5.3453769 | -1.0103585 | -3.6669913 |\n",
       "| Gm36317 | -5.345377 | -3.763090 | -5.3453769 | -1.3030820 | -1.5999165 | -1.3093245 |\n",
       "| 1700034P13Rik | -5.345377 | -3.348387 | -3.0609843 | -0.5624284 | -0.7866558 | -0.8920825 |\n",
       "\n"
      ],
      "text/plain": [
       "               Samples\n",
       "Tags            CON_1     CON_2     CON_3      HHP.24H_1  HHP.24H_2  HHP.24H_3 \n",
       "  A230052G05Rik -3.351942 -4.347383 -2.3510033  0.6548364  0.6588714  0.2815093\n",
       "  Myod1         -5.345377 -2.348889 -0.1206828 -5.3453769 -2.1917997 -0.9664309\n",
       "  D730045A05Rik -5.345377 -2.179020 -4.5181123 -0.5624284 -1.4833775 -0.6279471\n",
       "  Slc28a3       -5.345377 -1.027263 -3.9956516 -5.3453769 -1.0103585 -3.6669913\n",
       "  Gm36317       -5.345377 -3.763090 -5.3453769 -1.3030820 -1.5999165 -1.3093245\n",
       "  1700034P13Rik -5.345377 -3.348387 -3.0609843 -0.5624284 -0.7866558 -0.8920825"
      ]
     },
     "metadata": {},
     "output_type": "display_data"
    }
   ],
   "source": [
    "# Let's select data for the 500 most variable genes and plot the heatmap We\n",
    "# estimate the variance for each row in the logcounts matrix\n",
    "var_genes <- apply(logcounts, 1, var)\n",
    "head(var_genes)\n",
    "# Get the gene names for the top 500 most variable genes\n",
    "select_var <- names(sort(var_genes, decreasing = TRUE))[1:200]\n",
    "head(select_var)\n",
    "# Subset logcounts matrix\n",
    "highly_variable_lcpm <- logcounts[select_var, ]\n",
    "dim(highly_variable_lcpm)\n",
    "head(highly_variable_lcpm)"
   ]
  },
  {
   "cell_type": "code",
   "execution_count": 46,
   "metadata": {
    "colab": {
     "base_uri": "https://localhost:8080/",
     "height": 474
    },
    "executionInfo": {
     "elapsed": 633,
     "status": "ok",
     "timestamp": 1636751798596,
     "user": {
      "displayName": "Shaoqiu He",
      "photoUrl": "https://lh3.googleusercontent.com/a-/AOh14GjqxDDKIvj-k4BT2y4gflK2grm-E052z036TINn0w=s64",
      "userId": "16738992239117859264"
     },
     "user_tz": 300
    },
    "id": "_fTFi8zh1cH5",
    "outputId": "1e31f5db-b8e1-4ffa-d4bd-dadd8113c832"
   },
   "outputs": [
    {
     "name": "stderr",
     "output_type": "stream",
     "text": [
      "Warning message in heatmap.2(highly_variable_lcpm, scale = \"row\", col = rev(morecols(100)), :\n",
      "\"Discrepancy: Colv is FALSE, while dendrogram is `both'. Omitting column dendogram.\"\n"
     ]
    },
    {
     "data": {
      "image/png": "[encoded data removed]",
      "text/plain": [
       "Plot with title \"Color Key\""
      ]
     },
     "metadata": {
      "image/png": {
       "height": 420,
       "width": 420
      }
     },
     "output_type": "display_data"
    }
   ],
   "source": [
    "## Get some nicer colours\n",
    "mypalette <- brewer.pal(11, \"RdYlBu\")\n",
    "morecols <- colorRampPalette(mypalette)\n",
    "# Set up colour vector for celltype variable\n",
    "col.status <- c(\"#1B9E77\", \"#D95F02\", \"#7570B3\")[sampleinfo$Batch]\n",
    "# Plot the heatmap\n",
    "heatmap.2(highly_variable_lcpm, scale = \"row\", col = rev(morecols(100)), density.info='none', Colv = F, trace = \"none\",\n",
    "    main = \"Top 200 most variable genes across samples\", ColSideColors = col.status)"
   ]
  },
  {
   "cell_type": "markdown",
   "metadata": {
    "id": "_F0WwW9at6zU"
   },
   "source": [
    "### Normalisation for composition bias"
   ]
  },
  {
   "cell_type": "code",
   "execution_count": 47,
   "metadata": {
    "colab": {
     "base_uri": "https://localhost:8080/",
     "height": 1000
    },
    "executionInfo": {
     "elapsed": 2173,
     "status": "ok",
     "timestamp": 1636989747974,
     "user": {
      "displayName": "Shaoqiu He",
      "photoUrl": "https://lh3.googleusercontent.com/a-/AOh14GjqxDDKIvj-k4BT2y4gflK2grm-E052z036TINn0w=s64",
      "userId": "16738992239117859264"
     },
     "user_tz": 300
    },
    "id": "DXdFluo11y6r",
    "outputId": "84d588b0-1c29-469c-fa8f-e6e5eee6c4f7"
   },
   "outputs": [
    {
     "data": {
      "text/html": [
       "<table class=\"dataframe\">\n",
       "<caption>A data.frame: 6 × 4</caption>\n",
       "<thead>\n",
       "\t<tr><th></th><th scope=col>files</th><th scope=col>group</th><th scope=col>lib.size</th><th scope=col>norm.factors</th></tr>\n",
       "\t<tr><th></th><th scope=col>&lt;chr&gt;</th><th scope=col>&lt;fct&gt;</th><th scope=col>&lt;dbl&gt;</th><th scope=col>&lt;dbl&gt;</th></tr>\n",
       "</thead>\n",
       "<tbody>\n",
       "\t<tr><th scope=row>CON_1</th><td>C:/Users/shaoq/OneDrive/PythonScripts/Experiment Project/GitHub/RNAseq/input/HHP_2h_24h_WT/Control_1_counts.txt</td><td>control </td><td>40903070</td><td>0.9880901</td></tr>\n",
       "\t<tr><th scope=row>CON_2</th><td>C:/Users/shaoq/OneDrive/PythonScripts/Experiment Project/GitHub/RNAseq/input/HHP_2h_24h_WT/Control_2_counts.txt</td><td>control </td><td>40768747</td><td>1.0124112</td></tr>\n",
       "\t<tr><th scope=row>CON_3</th><td>C:/Users/shaoq/OneDrive/PythonScripts/Experiment Project/GitHub/RNAseq/input/HHP_2h_24h_WT/Control_3_counts.txt</td><td>control </td><td>52504852</td><td>1.0007507</td></tr>\n",
       "\t<tr><th scope=row>HHP.24H_1</th><td>C:/Users/shaoq/OneDrive/PythonScripts/Experiment Project/GitHub/RNAseq/input/HHP_2h_24h_WT/24h_1_counts.txt    </td><td>hhp.24hr</td><td>36777977</td><td>1.0111621</td></tr>\n",
       "\t<tr><th scope=row>HHP.24H_2</th><td>C:/Users/shaoq/OneDrive/PythonScripts/Experiment Project/GitHub/RNAseq/input/HHP_2h_24h_WT/24h_2_counts.txt    </td><td>hhp.24hr</td><td>36030235</td><td>0.9940135</td></tr>\n",
       "\t<tr><th scope=row>HHP.24H_3</th><td>C:/Users/shaoq/OneDrive/PythonScripts/Experiment Project/GitHub/RNAseq/input/HHP_2h_24h_WT/24h_3_counts.txt    </td><td>hhp.24hr</td><td>36947812</td><td>0.9938195</td></tr>\n",
       "</tbody>\n",
       "</table>\n"
      ],
      "text/latex": [
       "A data.frame: 6 × 4\n",
       "\\begin{tabular}{r|llll}\n",
       "  & files & group & lib.size & norm.factors\\\\\n",
       "  & <chr> & <fct> & <dbl> & <dbl>\\\\\n",
       "\\hline\n",
       "\tCON\\_1 & C:/Users/shaoq/OneDrive/PythonScripts/Experiment Project/GitHub/RNAseq/input/HHP\\_2h\\_24h\\_WT/Control\\_1\\_counts.txt & control  & 40903070 & 0.9880901\\\\\n",
       "\tCON\\_2 & C:/Users/shaoq/OneDrive/PythonScripts/Experiment Project/GitHub/RNAseq/input/HHP\\_2h\\_24h\\_WT/Control\\_2\\_counts.txt & control  & 40768747 & 1.0124112\\\\\n",
       "\tCON\\_3 & C:/Users/shaoq/OneDrive/PythonScripts/Experiment Project/GitHub/RNAseq/input/HHP\\_2h\\_24h\\_WT/Control\\_3\\_counts.txt & control  & 52504852 & 1.0007507\\\\\n",
       "\tHHP.24H\\_1 & C:/Users/shaoq/OneDrive/PythonScripts/Experiment Project/GitHub/RNAseq/input/HHP\\_2h\\_24h\\_WT/24h\\_1\\_counts.txt     & hhp.24hr & 36777977 & 1.0111621\\\\\n",
       "\tHHP.24H\\_2 & C:/Users/shaoq/OneDrive/PythonScripts/Experiment Project/GitHub/RNAseq/input/HHP\\_2h\\_24h\\_WT/24h\\_2\\_counts.txt     & hhp.24hr & 36030235 & 0.9940135\\\\\n",
       "\tHHP.24H\\_3 & C:/Users/shaoq/OneDrive/PythonScripts/Experiment Project/GitHub/RNAseq/input/HHP\\_2h\\_24h\\_WT/24h\\_3\\_counts.txt     & hhp.24hr & 36947812 & 0.9938195\\\\\n",
       "\\end{tabular}\n"
      ],
      "text/markdown": [
       "\n",
       "A data.frame: 6 × 4\n",
       "\n",
       "| <!--/--> | files &lt;chr&gt; | group &lt;fct&gt; | lib.size &lt;dbl&gt; | norm.factors &lt;dbl&gt; |\n",
       "|---|---|---|---|---|\n",
       "| CON_1 | C:/Users/shaoq/OneDrive/PythonScripts/Experiment Project/GitHub/RNAseq/input/HHP_2h_24h_WT/Control_1_counts.txt | control  | 40903070 | 0.9880901 |\n",
       "| CON_2 | C:/Users/shaoq/OneDrive/PythonScripts/Experiment Project/GitHub/RNAseq/input/HHP_2h_24h_WT/Control_2_counts.txt | control  | 40768747 | 1.0124112 |\n",
       "| CON_3 | C:/Users/shaoq/OneDrive/PythonScripts/Experiment Project/GitHub/RNAseq/input/HHP_2h_24h_WT/Control_3_counts.txt | control  | 52504852 | 1.0007507 |\n",
       "| HHP.24H_1 | C:/Users/shaoq/OneDrive/PythonScripts/Experiment Project/GitHub/RNAseq/input/HHP_2h_24h_WT/24h_1_counts.txt     | hhp.24hr | 36777977 | 1.0111621 |\n",
       "| HHP.24H_2 | C:/Users/shaoq/OneDrive/PythonScripts/Experiment Project/GitHub/RNAseq/input/HHP_2h_24h_WT/24h_2_counts.txt     | hhp.24hr | 36030235 | 0.9940135 |\n",
       "| HHP.24H_3 | C:/Users/shaoq/OneDrive/PythonScripts/Experiment Project/GitHub/RNAseq/input/HHP_2h_24h_WT/24h_3_counts.txt     | hhp.24hr | 36947812 | 0.9938195 |\n",
       "\n"
      ],
      "text/plain": [
       "          files                                                                                                          \n",
       "CON_1     C:/Users/shaoq/OneDrive/PythonScripts/Experiment Project/GitHub/RNAseq/input/HHP_2h_24h_WT/Control_1_counts.txt\n",
       "CON_2     C:/Users/shaoq/OneDrive/PythonScripts/Experiment Project/GitHub/RNAseq/input/HHP_2h_24h_WT/Control_2_counts.txt\n",
       "CON_3     C:/Users/shaoq/OneDrive/PythonScripts/Experiment Project/GitHub/RNAseq/input/HHP_2h_24h_WT/Control_3_counts.txt\n",
       "HHP.24H_1 C:/Users/shaoq/OneDrive/PythonScripts/Experiment Project/GitHub/RNAseq/input/HHP_2h_24h_WT/24h_1_counts.txt    \n",
       "HHP.24H_2 C:/Users/shaoq/OneDrive/PythonScripts/Experiment Project/GitHub/RNAseq/input/HHP_2h_24h_WT/24h_2_counts.txt    \n",
       "HHP.24H_3 C:/Users/shaoq/OneDrive/PythonScripts/Experiment Project/GitHub/RNAseq/input/HHP_2h_24h_WT/24h_3_counts.txt    \n",
       "          group    lib.size norm.factors\n",
       "CON_1     control  40903070 0.9880901   \n",
       "CON_2     control  40768747 1.0124112   \n",
       "CON_3     control  52504852 1.0007507   \n",
       "HHP.24H_1 hhp.24hr 36777977 1.0111621   \n",
       "HHP.24H_2 hhp.24hr 36030235 0.9940135   \n",
       "HHP.24H_3 hhp.24hr 36947812 0.9938195   "
      ]
     },
     "metadata": {},
     "output_type": "display_data"
    },
    {
     "data": {
      "image/png": "[encoded data removed]",
      "text/plain": [
       "Plot with title \"HHP.24H_1\""
      ]
     },
     "metadata": {
      "image/png": {
       "height": 420,
       "width": 420
      }
     },
     "output_type": "display_data"
    },
    {
     "data": {
      "image/png": "[encoded data removed]",
      "text/plain": [
       "Plot with title \"HHP.24H_1\""
      ]
     },
     "metadata": {
      "image/png": {
       "height": 420,
       "width": 420
      }
     },
     "output_type": "display_data"
    },
    {
     "data": {
      "image/png": "[encoded data removed]",
      "text/plain": [
       "Plot with title \"After TMM normalisation\""
      ]
     },
     "metadata": {
      "image/png": {
       "height": 420,
       "width": 420
      }
     },
     "output_type": "display_data"
    }
   ],
   "source": [
    "# The calcNormFactors function calculates the normalization factors between\n",
    "# libraries.  TMM normalisation (and most scaling normalisation methods) scale\n",
    "# relative to one sample.  Apply normalisation to DGEList object\n",
    "x <- calcNormFactors(x)\n",
    "x$samples\n",
    "# The last two samples have much smaller normalisation factors, and MCL1.LA and\n",
    "# MCL1.LB have the largest.  If we plot mean difference plots using the plotMD\n",
    "# function for these samples, we should be able to see the composition bias\n",
    "# problem.\n",
    "par(mfrow = c(1, 2))\n",
    "plotMD(logcounts, column = 1)\n",
    "abline(h = 0, col = \"grey\")\n",
    "plotMD(logcounts, column = 4)\n",
    "abline(h = 0, col = \"grey\")\n",
    "# if we redo these plots using y, we should see the composition bias problem\n",
    "# has been solved.\n",
    "par(mfrow = c(1, 2))\n",
    "plotMD(x, column = 1)\n",
    "abline(h = 0, col = \"grey\")\n",
    "plotMD(x, column = 4)\n",
    "abline(h = 0, col = \"grey\")\n",
    "# Plot the biased and unbiased MD plots side by side for the same sample to see\n",
    "# the before and after TMM normalisation effect.\n",
    "par(mfrow = c(1, 2))\n",
    "plotMD(logcounts, column = 3, main = \"Before TMM normalisation\")\n",
    "abline(h = 0, col = \"grey\")\n",
    "plotMD(x, column = 3, main = \"After TMM normalisation\")\n",
    "abline(h = 0, col = \"grey\")"
   ]
  },
  {
   "cell_type": "code",
   "execution_count": 48,
   "metadata": {
    "colab": {
     "base_uri": "https://localhost:8080/",
     "height": 1000
    },
    "executionInfo": {
     "elapsed": 376,
     "status": "ok",
     "timestamp": 1636989751903,
     "user": {
      "displayName": "Shaoqiu He",
      "photoUrl": "https://lh3.googleusercontent.com/a-/AOh14GjqxDDKIvj-k4BT2y4gflK2grm-E052z036TINn0w=s64",
      "userId": "16738992239117859264"
     },
     "user_tz": 300
    },
    "id": "Rgn5oPyl9KXH",
    "outputId": "1541cc66-bcc5-4076-f851-cc15db62a37a"
   },
   "outputs": [
    {
     "data": {
      "text/html": [
       "<dl>\n",
       "\t<dt>$samples</dt>\n",
       "\t\t<dd><table class=\"dataframe\">\n",
       "<caption>A data.frame: 6 × 4</caption>\n",
       "<thead>\n",
       "\t<tr><th></th><th scope=col>files</th><th scope=col>group</th><th scope=col>lib.size</th><th scope=col>norm.factors</th></tr>\n",
       "\t<tr><th></th><th scope=col>&lt;chr&gt;</th><th scope=col>&lt;fct&gt;</th><th scope=col>&lt;dbl&gt;</th><th scope=col>&lt;dbl&gt;</th></tr>\n",
       "</thead>\n",
       "<tbody>\n",
       "\t<tr><th scope=row>CON_1</th><td>C:/Users/shaoq/OneDrive/PythonScripts/Experiment Project/GitHub/RNAseq/input/HHP_2h_24h_WT/Control_1_counts.txt</td><td>control </td><td>40903070</td><td>0.9880901</td></tr>\n",
       "\t<tr><th scope=row>CON_2</th><td>C:/Users/shaoq/OneDrive/PythonScripts/Experiment Project/GitHub/RNAseq/input/HHP_2h_24h_WT/Control_2_counts.txt</td><td>control </td><td>40768747</td><td>1.0124112</td></tr>\n",
       "\t<tr><th scope=row>CON_3</th><td>C:/Users/shaoq/OneDrive/PythonScripts/Experiment Project/GitHub/RNAseq/input/HHP_2h_24h_WT/Control_3_counts.txt</td><td>control </td><td>52504852</td><td>1.0007507</td></tr>\n",
       "\t<tr><th scope=row>HHP.24H_1</th><td>C:/Users/shaoq/OneDrive/PythonScripts/Experiment Project/GitHub/RNAseq/input/HHP_2h_24h_WT/24h_1_counts.txt    </td><td>hhp.24hr</td><td>36777977</td><td>1.0111621</td></tr>\n",
       "\t<tr><th scope=row>HHP.24H_2</th><td>C:/Users/shaoq/OneDrive/PythonScripts/Experiment Project/GitHub/RNAseq/input/HHP_2h_24h_WT/24h_2_counts.txt    </td><td>hhp.24hr</td><td>36030235</td><td>0.9940135</td></tr>\n",
       "\t<tr><th scope=row>HHP.24H_3</th><td>C:/Users/shaoq/OneDrive/PythonScripts/Experiment Project/GitHub/RNAseq/input/HHP_2h_24h_WT/24h_3_counts.txt    </td><td>hhp.24hr</td><td>36947812</td><td>0.9938195</td></tr>\n",
       "</tbody>\n",
       "</table>\n",
       "</dd>\n",
       "\t<dt>$counts</dt>\n",
       "\t\t<dd><table class=\"dataframe\">\n",
       "<caption>A matrix: 200 × 6 of type dbl</caption>\n",
       "<thead>\n",
       "\t<tr><th></th><th scope=col>CON_1</th><th scope=col>CON_2</th><th scope=col>CON_3</th><th scope=col>HHP.24H_1</th><th scope=col>HHP.24H_2</th><th scope=col>HHP.24H_3</th></tr>\n",
       "</thead>\n",
       "<tbody>\n",
       "\t<tr><th scope=row>A230052G05Rik</th><td>   3</td><td>   1</td><td>   9</td><td> 57</td><td> 56</td><td> 44</td></tr>\n",
       "\t<tr><th scope=row>Myod1</th><td>   0</td><td>   7</td><td>  47</td><td>  0</td><td>  7</td><td> 18</td></tr>\n",
       "\t<tr><th scope=row>D730045A05Rik</th><td>   0</td><td>   8</td><td>   1</td><td> 24</td><td> 12</td><td> 23</td></tr>\n",
       "\t<tr><th scope=row>Slc28a3</th><td>   0</td><td>  19</td><td>   2</td><td>  0</td><td> 17</td><td>  2</td></tr>\n",
       "\t<tr><th scope=row>Gm36317</th><td>   0</td><td>   2</td><td>   0</td><td> 14</td><td> 11</td><td> 14</td></tr>\n",
       "\t<tr><th scope=row>1700034P13Rik</th><td>   0</td><td>   3</td><td>   5</td><td> 24</td><td> 20</td><td> 19</td></tr>\n",
       "\t<tr><th scope=row>Gm27204</th><td>   4</td><td>   1</td><td>   4</td><td> 28</td><td> 31</td><td> 29</td></tr>\n",
       "\t<tr><th scope=row>Cxcl3</th><td>   1</td><td>  30</td><td>  36</td><td> 50</td><td> 25</td><td> 27</td></tr>\n",
       "\t<tr><th scope=row>Cbr2</th><td>  16</td><td>  11</td><td>  18</td><td>  0</td><td>  5</td><td>  1</td></tr>\n",
       "\t<tr><th scope=row>Mt2</th><td>1044</td><td>1119</td><td>1470</td><td>135</td><td>122</td><td>121</td></tr>\n",
       "\t<tr><th scope=row>1700016L04Rik</th><td>   3</td><td>   1</td><td>   2</td><td> 15</td><td> 16</td><td> 18</td></tr>\n",
       "\t<tr><th scope=row>Fgd2</th><td>  15</td><td>  10</td><td>  24</td><td>  6</td><td> 10</td><td>  0</td></tr>\n",
       "\t<tr><th scope=row>Gm30873</th><td>  18</td><td>  10</td><td>  20</td><td>  0</td><td> 10</td><td>  6</td></tr>\n",
       "\t<tr><th scope=row>Gpr55</th><td>   5</td><td>   0</td><td>   8</td><td> 13</td><td> 16</td><td> 11</td></tr>\n",
       "\t<tr><th scope=row>Cxcl2</th><td>   1</td><td>  19</td><td>  26</td><td> 36</td><td> 22</td><td> 20</td></tr>\n",
       "\t<tr><th scope=row>Fam83e</th><td>   1</td><td>  23</td><td>  32</td><td> 35</td><td> 19</td><td> 16</td></tr>\n",
       "\t<tr><th scope=row>2410012E07Rik</th><td>   4</td><td>   1</td><td>   5</td><td> 20</td><td> 20</td><td> 18</td></tr>\n",
       "\t<tr><th scope=row>Gm39590</th><td>   2</td><td>   5</td><td>   3</td><td> 24</td><td> 18</td><td> 23</td></tr>\n",
       "\t<tr><th scope=row>C1ql4</th><td>   7</td><td>   1</td><td>  20</td><td> 26</td><td> 26</td><td> 14</td></tr>\n",
       "\t<tr><th scope=row>Gm13270</th><td>   1</td><td>  19</td><td>  20</td><td> 34</td><td> 15</td><td> 19</td></tr>\n",
       "\t<tr><th scope=row>Gp1ba</th><td>   1</td><td>   7</td><td>  21</td><td> 27</td><td> 24</td><td> 13</td></tr>\n",
       "\t<tr><th scope=row>Gm34159</th><td>   6</td><td>  29</td><td>  27</td><td> 98</td><td> 51</td><td> 66</td></tr>\n",
       "\t<tr><th scope=row>Gm7284</th><td>   4</td><td>   5</td><td>   6</td><td> 31</td><td> 28</td><td> 29</td></tr>\n",
       "\t<tr><th scope=row>Cnksr1</th><td>   1</td><td>  12</td><td>  13</td><td> 27</td><td> 16</td><td> 19</td></tr>\n",
       "\t<tr><th scope=row>Dhrs2</th><td>  20</td><td>  19</td><td>  32</td><td> 17</td><td> 18</td><td>  1</td></tr>\n",
       "\t<tr><th scope=row>Gm39786</th><td>   1</td><td>   4</td><td>   7</td><td> 19</td><td> 17</td><td> 14</td></tr>\n",
       "\t<tr><th scope=row>2210409E12Rik</th><td>  31</td><td>  47</td><td>  50</td><td>208</td><td>156</td><td>183</td></tr>\n",
       "\t<tr><th scope=row>Gm33309</th><td>  45</td><td>  76</td><td>  77</td><td>318</td><td>218</td><td>272</td></tr>\n",
       "\t<tr><th scope=row>Gm30888</th><td>   5</td><td>   1</td><td>  10</td><td> 17</td><td> 18</td><td> 12</td></tr>\n",
       "\t<tr><th scope=row>Kng2</th><td>  16</td><td>  22</td><td>  26</td><td> 14</td><td>  9</td><td>  1</td></tr>\n",
       "\t<tr><th scope=row>⋮</th><td>⋮</td><td>⋮</td><td>⋮</td><td>⋮</td><td>⋮</td><td>⋮</td></tr>\n",
       "\t<tr><th scope=row>4930505N22Rik</th><td>   7</td><td>   5</td><td>   7</td><td>  15</td><td> 16</td><td>  17</td></tr>\n",
       "\t<tr><th scope=row>Ttc21a</th><td>   6</td><td>  23</td><td>  21</td><td>  20</td><td>  5</td><td>  11</td></tr>\n",
       "\t<tr><th scope=row>Aurkb</th><td> 277</td><td> 248</td><td> 463</td><td> 112</td><td>123</td><td>  72</td></tr>\n",
       "\t<tr><th scope=row>4930486L24Rik</th><td>   7</td><td>   5</td><td>   5</td><td>  12</td><td> 14</td><td>  16</td></tr>\n",
       "\t<tr><th scope=row>Tcp10b</th><td>  11</td><td>  25</td><td>  18</td><td>  43</td><td> 23</td><td>  40</td></tr>\n",
       "\t<tr><th scope=row>Zfp13</th><td> 399</td><td> 305</td><td> 512</td><td> 109</td><td>145</td><td> 109</td></tr>\n",
       "\t<tr><th scope=row>Serpinb5</th><td>  86</td><td> 113</td><td> 124</td><td> 271</td><td>211</td><td> 250</td></tr>\n",
       "\t<tr><th scope=row>Gm20756</th><td>   9</td><td>  24</td><td>  22</td><td>  19</td><td>  4</td><td>  11</td></tr>\n",
       "\t<tr><th scope=row>Cdc20</th><td> 527</td><td> 468</td><td> 866</td><td> 205</td><td>226</td><td> 142</td></tr>\n",
       "\t<tr><th scope=row>Kif11</th><td>1255</td><td>1037</td><td>1948</td><td> 444</td><td>519</td><td> 337</td></tr>\n",
       "\t<tr><th scope=row>Lrr1</th><td>  52</td><td>  49</td><td>  75</td><td>  18</td><td> 19</td><td>  14</td></tr>\n",
       "\t<tr><th scope=row>Ccnb1</th><td> 512</td><td> 463</td><td> 825</td><td> 197</td><td>212</td><td> 141</td></tr>\n",
       "\t<tr><th scope=row>Kif2c</th><td> 440</td><td> 336</td><td> 702</td><td> 164</td><td>207</td><td> 111</td></tr>\n",
       "\t<tr><th scope=row>Gm29684</th><td>   9</td><td>  11</td><td>  16</td><td>  31</td><td> 27</td><td>  25</td></tr>\n",
       "\t<tr><th scope=row>Gm29711</th><td>  16</td><td>  28</td><td>  23</td><td>  55</td><td> 36</td><td>  52</td></tr>\n",
       "\t<tr><th scope=row>Cdca3</th><td> 573</td><td> 438</td><td> 835</td><td> 187</td><td>239</td><td> 151</td></tr>\n",
       "\t<tr><th scope=row>Fcrls</th><td>  71</td><td>  68</td><td> 122</td><td>  33</td><td> 35</td><td>  18</td></tr>\n",
       "\t<tr><th scope=row>Gm41142</th><td>  13</td><td>  24</td><td>  15</td><td>  40</td><td> 23</td><td>  41</td></tr>\n",
       "\t<tr><th scope=row>Nupr1l</th><td>  17</td><td>  11</td><td>   6</td><td>   4</td><td> 10</td><td>  17</td></tr>\n",
       "\t<tr><th scope=row>2810039B14Rik</th><td>  26</td><td>  31</td><td>  46</td><td>  15</td><td> 11</td><td>   7</td></tr>\n",
       "\t<tr><th scope=row>Car14</th><td>   5</td><td>   6</td><td>   7</td><td>  15</td><td> 15</td><td>  15</td></tr>\n",
       "\t<tr><th scope=row>Gm36409</th><td>  29</td><td>  34</td><td>  38</td><td>  81</td><td> 70</td><td>  80</td></tr>\n",
       "\t<tr><th scope=row>Krt8</th><td>  16</td><td>   4</td><td>  17</td><td>  10</td><td> 23</td><td>  12</td></tr>\n",
       "\t<tr><th scope=row>Iqgap3</th><td> 748</td><td> 695</td><td>1232</td><td> 301</td><td>317</td><td> 213</td></tr>\n",
       "\t<tr><th scope=row>Camk1g</th><td> 241</td><td> 171</td><td> 244</td><td>  52</td><td> 83</td><td>  75</td></tr>\n",
       "\t<tr><th scope=row>Gm32701</th><td>   4</td><td>   7</td><td>  11</td><td>  19</td><td> 14</td><td>  13</td></tr>\n",
       "\t<tr><th scope=row>Procr</th><td> 413</td><td> 538</td><td> 538</td><td>1183</td><td>897</td><td>1177</td></tr>\n",
       "\t<tr><th scope=row>Ttll8</th><td>   9</td><td>  17</td><td>  12</td><td>  30</td><td> 19</td><td>  30</td></tr>\n",
       "\t<tr><th scope=row>Troap</th><td> 181</td><td> 179</td><td> 293</td><td>  75</td><td> 75</td><td>  52</td></tr>\n",
       "\t<tr><th scope=row>Gm36847</th><td>  11</td><td>  16</td><td>  18</td><td>  38</td><td> 30</td><td>  33</td></tr>\n",
       "</tbody>\n",
       "</table>\n",
       "</dd>\n",
       "\t<dt>$genes</dt>\n",
       "\t\t<dd><table class=\"dataframe\">\n",
       "<caption>A data.frame: 200 × 3</caption>\n",
       "<thead>\n",
       "\t<tr><th></th><th scope=col>SYMBOL</th><th scope=col>ENTREZID</th><th scope=col>GENENAME</th></tr>\n",
       "\t<tr><th></th><th scope=col>&lt;chr&gt;</th><th scope=col>&lt;chr&gt;</th><th scope=col>&lt;chr&gt;</th></tr>\n",
       "</thead>\n",
       "<tbody>\n",
       "\t<tr><th scope=row>31273</th><td>A230052G05Rik</td><td>442796   </td><td>RIKEN cDNA A230052G05 gene                                                </td></tr>\n",
       "\t<tr><th scope=row>28840</th><td>Myod1        </td><td>17927    </td><td>myogenic differentiation 1                                                </td></tr>\n",
       "\t<tr><th scope=row>15515</th><td>D730045A05Rik</td><td>77855    </td><td>RIKEN cDNA D730045A05 gene                                                </td></tr>\n",
       "\t<tr><th scope=row>8428</th><td>Slc28a3      </td><td>114304   </td><td>solute carrier family 28 (sodium-coupled nucleoside transporter), member 3</td></tr>\n",
       "\t<tr><th scope=row>23286</th><td>Gm36317      </td><td>102640189</td><td>predicted gene, 36317                                                     </td></tr>\n",
       "\t<tr><th scope=row>36</th><td>1700034P13Rik</td><td>73331    </td><td>RIKEN cDNA 1700034P13 gene                                                </td></tr>\n",
       "\t<tr><th scope=row>33409</th><td>Gm27204      </td><td>102635951</td><td>predicted gene 27204                                                      </td></tr>\n",
       "\t<tr><th scope=row>24450</th><td>Cxcl3        </td><td>330122   </td><td>chemokine (C-X-C motif) ligand 3                                          </td></tr>\n",
       "\t<tr><th scope=row>6213</th><td>Cbr2         </td><td>12409    </td><td>carbonyl reductase 2                                                      </td></tr>\n",
       "\t<tr><th scope=row>31653</th><td>Mt2          </td><td>17750    </td><td>metallothionein 2                                                         </td></tr>\n",
       "\t<tr><th scope=row>2194</th><td>1700016L04Rik</td><td>69412    </td><td>RIKEN cDNA 1700016L04 gene                                                </td></tr>\n",
       "\t<tr><th scope=row>13686</th><td>Fgd2         </td><td>26382    </td><td>FYVE, RhoGEF and PH domain containing 2                                   </td></tr>\n",
       "\t<tr><th scope=row>29264</th><td>Gm30873      </td><td>102632922</td><td>predicted gene, 30873                                                     </td></tr>\n",
       "\t<tr><th scope=row>784</th><td>Gpr55        </td><td>227326   </td><td>G protein-coupled receptor 55                                             </td></tr>\n",
       "\t<tr><th scope=row>24453</th><td>Cxcl2        </td><td>20310    </td><td>chemokine (C-X-C motif) ligand 2                                          </td></tr>\n",
       "\t<tr><th scope=row>28817</th><td>Fam83e       </td><td>73813    </td><td>family with sequence similarity 83, member E                              </td></tr>\n",
       "\t<tr><th scope=row>10289</th><td>2410012E07Rik</td><td>73648    </td><td>RIKEN cDNA 2410012E07 gene                                                </td></tr>\n",
       "\t<tr><th scope=row>37</th><td>Gm39590      </td><td>105243859</td><td>predicted gene, 39590                                                     </td></tr>\n",
       "\t<tr><th scope=row>11807</th><td>C1ql4        </td><td>239659   </td><td>complement component 1, q subcomponent-like 4                             </td></tr>\n",
       "\t<tr><th scope=row>16949</th><td>Gm13270      </td><td>105244084</td><td>predicted gene 13270                                                      </td></tr>\n",
       "\t<tr><th scope=row>4838</th><td>Gp1ba        </td><td>14723    </td><td>glycoprotein 1b, alpha polypeptide                                        </td></tr>\n",
       "\t<tr><th scope=row>34111</th><td>Gm34159      </td><td>102637315</td><td>predicted gene, 34159                                                     </td></tr>\n",
       "\t<tr><th scope=row>25345</th><td>Gm7284       </td><td>102632711</td><td>2-acylglycerol O-acyltransferase 2-A-like                                 </td></tr>\n",
       "\t<tr><th scope=row>23004</th><td>Cnksr1       </td><td>194231   </td><td>connector enhancer of kinase suppressor of Ras 1                          </td></tr>\n",
       "\t<tr><th scope=row>9939</th><td>Dhrs2        </td><td>71412    </td><td>dehydrogenase/reductase member 2                                          </td></tr>\n",
       "\t<tr><th scope=row>17279</th><td>Gm39786      </td><td>105244113</td><td>predicted gene, 39786                                                     </td></tr>\n",
       "\t<tr><th scope=row>5319</th><td>2210409E12Rik</td><td>72381    </td><td>transcription elongation factor B (SIII), polypeptide 2 pseudogene        </td></tr>\n",
       "\t<tr><th scope=row>20771</th><td>Gm33309      </td><td>102636166</td><td>predicted gene, 33309                                                     </td></tr>\n",
       "\t<tr><th scope=row>23043</th><td>Gm30888      </td><td>102632942</td><td>predicted gene, 30888                                                     </td></tr>\n",
       "\t<tr><th scope=row>12339</th><td>Kng2         </td><td>385643   </td><td>kininogen 2                                                               </td></tr>\n",
       "\t<tr><th scope=row>⋮</th><td>⋮</td><td>⋮</td><td>⋮</td></tr>\n",
       "\t<tr><th scope=row>16534</th><td>4930505N22Rik</td><td>100174921</td><td>RIKEN cDNA 4930505N22 gene                                 </td></tr>\n",
       "\t<tr><th scope=row>34097</th><td>Ttc21a       </td><td>74052    </td><td>tetratricopeptide repeat domain 21A                        </td></tr>\n",
       "\t<tr><th scope=row>4727</th><td>Aurkb        </td><td>20877    </td><td>aurora kinase B                                            </td></tr>\n",
       "\t<tr><th scope=row>8470</th><td>4930486L24Rik</td><td>214639   </td><td>RIKEN cDNA 4930486L24 gene                                 </td></tr>\n",
       "\t<tr><th scope=row>13246</th><td>Tcp10b       </td><td>21462    </td><td>t-complex protein 10b                                      </td></tr>\n",
       "\t<tr><th scope=row>13421</th><td>Zfp13        </td><td>22654    </td><td>zinc finger protein 13                                     </td></tr>\n",
       "\t<tr><th scope=row>1032</th><td>Serpinb5     </td><td>20724    </td><td>serine (or cysteine) peptidase inhibitor, clade B, member 5</td></tr>\n",
       "\t<tr><th scope=row>25886</th><td>Gm20756      </td><td>626904   </td><td>predicted gene, 20756                                      </td></tr>\n",
       "\t<tr><th scope=row>22596</th><td>Cdc20        </td><td>107995   </td><td>cell division cycle 20                                     </td></tr>\n",
       "\t<tr><th scope=row>16349</th><td>Kif11        </td><td>16551    </td><td>kinesin family member 11                                   </td></tr>\n",
       "\t<tr><th scope=row>6797</th><td>Lrr1         </td><td>69706    </td><td>leucine rich repeat protein 1                              </td></tr>\n",
       "\t<tr><th scope=row>8948</th><td>Ccnb1        </td><td>268697   </td><td>cyclin B1                                                  </td></tr>\n",
       "\t<tr><th scope=row>22563</th><td>Kif2c        </td><td>73804    </td><td>kinesin family member 2C                                   </td></tr>\n",
       "\t<tr><th scope=row>3277</th><td>Gm29684      </td><td>628062   </td><td>predicted gene, 29684                                      </td></tr>\n",
       "\t<tr><th scope=row>13200</th><td>Gm29711      </td><td>101055693</td><td>predicted gene, 29711                                      </td></tr>\n",
       "\t<tr><th scope=row>27161</th><td>Cdca3        </td><td>14793    </td><td>cell division cycle associated 3                           </td></tr>\n",
       "\t<tr><th scope=row>20327</th><td>Fcrls        </td><td>80891    </td><td>Fc receptor-like S, scavenger receptor                     </td></tr>\n",
       "\t<tr><th scope=row>9711</th><td>Gm41142      </td><td>105245743</td><td>predicted gene, 41142                                      </td></tr>\n",
       "\t<tr><th scope=row>25229</th><td>Nupr1l       </td><td>69034    </td><td>nuclear protein transcriptional regulator 1 like           </td></tr>\n",
       "\t<tr><th scope=row>11198</th><td>2810039B14Rik</td><td>72665    </td><td>RIKEN cDNA 2810039B14 gene                                 </td></tr>\n",
       "\t<tr><th scope=row>20641</th><td>Car14        </td><td>23831    </td><td>carbonic anhydrase 14                                      </td></tr>\n",
       "\t<tr><th scope=row>26741</th><td>Gm36409      </td><td>102640310</td><td>predicted gene, 36409                                      </td></tr>\n",
       "\t<tr><th scope=row>11919</th><td>Krt8         </td><td>16691    </td><td>keratin 8                                                  </td></tr>\n",
       "\t<tr><th scope=row>20361</th><td>Iqgap3       </td><td>404710   </td><td>IQ motif containing GTPase activating protein 3            </td></tr>\n",
       "\t<tr><th scope=row>2072</th><td>Camk1g       </td><td>215303   </td><td>calcium/calmodulin-dependent protein kinase I gamma        </td></tr>\n",
       "\t<tr><th scope=row>25167</th><td>Gm32701      </td><td>102635335</td><td>predicted gene, 32701                                      </td></tr>\n",
       "\t<tr><th scope=row>19091</th><td>Procr        </td><td>19124    </td><td>protein C receptor, endothelial                            </td></tr>\n",
       "\t<tr><th scope=row>11607</th><td>Ttll8        </td><td>239591   </td><td>tubulin tyrosine ligase-like family, member 8              </td></tr>\n",
       "\t<tr><th scope=row>11805</th><td>Troap        </td><td>78733    </td><td>trophinin associated protein                               </td></tr>\n",
       "\t<tr><th scope=row>29663</th><td>Gm36847      </td><td>102640889</td><td>predicted gene, 36847                                      </td></tr>\n",
       "</tbody>\n",
       "</table>\n",
       "</dd>\n",
       "</dl>\n"
      ],
      "text/latex": [
       "\\begin{description}\n",
       "\\item[\\$samples] A data.frame: 6 × 4\n",
       "\\begin{tabular}{r|llll}\n",
       "  & files & group & lib.size & norm.factors\\\\\n",
       "  & <chr> & <fct> & <dbl> & <dbl>\\\\\n",
       "\\hline\n",
       "\tCON\\_1 & C:/Users/shaoq/OneDrive/PythonScripts/Experiment Project/GitHub/RNAseq/input/HHP\\_2h\\_24h\\_WT/Control\\_1\\_counts.txt & control  & 40903070 & 0.9880901\\\\\n",
       "\tCON\\_2 & C:/Users/shaoq/OneDrive/PythonScripts/Experiment Project/GitHub/RNAseq/input/HHP\\_2h\\_24h\\_WT/Control\\_2\\_counts.txt & control  & 40768747 & 1.0124112\\\\\n",
       "\tCON\\_3 & C:/Users/shaoq/OneDrive/PythonScripts/Experiment Project/GitHub/RNAseq/input/HHP\\_2h\\_24h\\_WT/Control\\_3\\_counts.txt & control  & 52504852 & 1.0007507\\\\\n",
       "\tHHP.24H\\_1 & C:/Users/shaoq/OneDrive/PythonScripts/Experiment Project/GitHub/RNAseq/input/HHP\\_2h\\_24h\\_WT/24h\\_1\\_counts.txt     & hhp.24hr & 36777977 & 1.0111621\\\\\n",
       "\tHHP.24H\\_2 & C:/Users/shaoq/OneDrive/PythonScripts/Experiment Project/GitHub/RNAseq/input/HHP\\_2h\\_24h\\_WT/24h\\_2\\_counts.txt     & hhp.24hr & 36030235 & 0.9940135\\\\\n",
       "\tHHP.24H\\_3 & C:/Users/shaoq/OneDrive/PythonScripts/Experiment Project/GitHub/RNAseq/input/HHP\\_2h\\_24h\\_WT/24h\\_3\\_counts.txt     & hhp.24hr & 36947812 & 0.9938195\\\\\n",
       "\\end{tabular}\n",
       "\n",
       "\\item[\\$counts] A matrix: 200 × 6 of type dbl\n",
       "\\begin{tabular}{r|llllll}\n",
       "  & CON\\_1 & CON\\_2 & CON\\_3 & HHP.24H\\_1 & HHP.24H\\_2 & HHP.24H\\_3\\\\\n",
       "\\hline\n",
       "\tA230052G05Rik &    3 &    1 &    9 &  57 &  56 &  44\\\\\n",
       "\tMyod1 &    0 &    7 &   47 &   0 &   7 &  18\\\\\n",
       "\tD730045A05Rik &    0 &    8 &    1 &  24 &  12 &  23\\\\\n",
       "\tSlc28a3 &    0 &   19 &    2 &   0 &  17 &   2\\\\\n",
       "\tGm36317 &    0 &    2 &    0 &  14 &  11 &  14\\\\\n",
       "\t1700034P13Rik &    0 &    3 &    5 &  24 &  20 &  19\\\\\n",
       "\tGm27204 &    4 &    1 &    4 &  28 &  31 &  29\\\\\n",
       "\tCxcl3 &    1 &   30 &   36 &  50 &  25 &  27\\\\\n",
       "\tCbr2 &   16 &   11 &   18 &   0 &   5 &   1\\\\\n",
       "\tMt2 & 1044 & 1119 & 1470 & 135 & 122 & 121\\\\\n",
       "\t1700016L04Rik &    3 &    1 &    2 &  15 &  16 &  18\\\\\n",
       "\tFgd2 &   15 &   10 &   24 &   6 &  10 &   0\\\\\n",
       "\tGm30873 &   18 &   10 &   20 &   0 &  10 &   6\\\\\n",
       "\tGpr55 &    5 &    0 &    8 &  13 &  16 &  11\\\\\n",
       "\tCxcl2 &    1 &   19 &   26 &  36 &  22 &  20\\\\\n",
       "\tFam83e &    1 &   23 &   32 &  35 &  19 &  16\\\\\n",
       "\t2410012E07Rik &    4 &    1 &    5 &  20 &  20 &  18\\\\\n",
       "\tGm39590 &    2 &    5 &    3 &  24 &  18 &  23\\\\\n",
       "\tC1ql4 &    7 &    1 &   20 &  26 &  26 &  14\\\\\n",
       "\tGm13270 &    1 &   19 &   20 &  34 &  15 &  19\\\\\n",
       "\tGp1ba &    1 &    7 &   21 &  27 &  24 &  13\\\\\n",
       "\tGm34159 &    6 &   29 &   27 &  98 &  51 &  66\\\\\n",
       "\tGm7284 &    4 &    5 &    6 &  31 &  28 &  29\\\\\n",
       "\tCnksr1 &    1 &   12 &   13 &  27 &  16 &  19\\\\\n",
       "\tDhrs2 &   20 &   19 &   32 &  17 &  18 &   1\\\\\n",
       "\tGm39786 &    1 &    4 &    7 &  19 &  17 &  14\\\\\n",
       "\t2210409E12Rik &   31 &   47 &   50 & 208 & 156 & 183\\\\\n",
       "\tGm33309 &   45 &   76 &   77 & 318 & 218 & 272\\\\\n",
       "\tGm30888 &    5 &    1 &   10 &  17 &  18 &  12\\\\\n",
       "\tKng2 &   16 &   22 &   26 &  14 &   9 &   1\\\\\n",
       "\t⋮ & ⋮ & ⋮ & ⋮ & ⋮ & ⋮ & ⋮\\\\\n",
       "\t4930505N22Rik &    7 &    5 &    7 &   15 &  16 &   17\\\\\n",
       "\tTtc21a &    6 &   23 &   21 &   20 &   5 &   11\\\\\n",
       "\tAurkb &  277 &  248 &  463 &  112 & 123 &   72\\\\\n",
       "\t4930486L24Rik &    7 &    5 &    5 &   12 &  14 &   16\\\\\n",
       "\tTcp10b &   11 &   25 &   18 &   43 &  23 &   40\\\\\n",
       "\tZfp13 &  399 &  305 &  512 &  109 & 145 &  109\\\\\n",
       "\tSerpinb5 &   86 &  113 &  124 &  271 & 211 &  250\\\\\n",
       "\tGm20756 &    9 &   24 &   22 &   19 &   4 &   11\\\\\n",
       "\tCdc20 &  527 &  468 &  866 &  205 & 226 &  142\\\\\n",
       "\tKif11 & 1255 & 1037 & 1948 &  444 & 519 &  337\\\\\n",
       "\tLrr1 &   52 &   49 &   75 &   18 &  19 &   14\\\\\n",
       "\tCcnb1 &  512 &  463 &  825 &  197 & 212 &  141\\\\\n",
       "\tKif2c &  440 &  336 &  702 &  164 & 207 &  111\\\\\n",
       "\tGm29684 &    9 &   11 &   16 &   31 &  27 &   25\\\\\n",
       "\tGm29711 &   16 &   28 &   23 &   55 &  36 &   52\\\\\n",
       "\tCdca3 &  573 &  438 &  835 &  187 & 239 &  151\\\\\n",
       "\tFcrls &   71 &   68 &  122 &   33 &  35 &   18\\\\\n",
       "\tGm41142 &   13 &   24 &   15 &   40 &  23 &   41\\\\\n",
       "\tNupr1l &   17 &   11 &    6 &    4 &  10 &   17\\\\\n",
       "\t2810039B14Rik &   26 &   31 &   46 &   15 &  11 &    7\\\\\n",
       "\tCar14 &    5 &    6 &    7 &   15 &  15 &   15\\\\\n",
       "\tGm36409 &   29 &   34 &   38 &   81 &  70 &   80\\\\\n",
       "\tKrt8 &   16 &    4 &   17 &   10 &  23 &   12\\\\\n",
       "\tIqgap3 &  748 &  695 & 1232 &  301 & 317 &  213\\\\\n",
       "\tCamk1g &  241 &  171 &  244 &   52 &  83 &   75\\\\\n",
       "\tGm32701 &    4 &    7 &   11 &   19 &  14 &   13\\\\\n",
       "\tProcr &  413 &  538 &  538 & 1183 & 897 & 1177\\\\\n",
       "\tTtll8 &    9 &   17 &   12 &   30 &  19 &   30\\\\\n",
       "\tTroap &  181 &  179 &  293 &   75 &  75 &   52\\\\\n",
       "\tGm36847 &   11 &   16 &   18 &   38 &  30 &   33\\\\\n",
       "\\end{tabular}\n",
       "\n",
       "\\item[\\$genes] A data.frame: 200 × 3\n",
       "\\begin{tabular}{r|lll}\n",
       "  & SYMBOL & ENTREZID & GENENAME\\\\\n",
       "  & <chr> & <chr> & <chr>\\\\\n",
       "\\hline\n",
       "\t31273 & A230052G05Rik & 442796    & RIKEN cDNA A230052G05 gene                                                \\\\\n",
       "\t28840 & Myod1         & 17927     & myogenic differentiation 1                                                \\\\\n",
       "\t15515 & D730045A05Rik & 77855     & RIKEN cDNA D730045A05 gene                                                \\\\\n",
       "\t8428 & Slc28a3       & 114304    & solute carrier family 28 (sodium-coupled nucleoside transporter), member 3\\\\\n",
       "\t23286 & Gm36317       & 102640189 & predicted gene, 36317                                                     \\\\\n",
       "\t36 & 1700034P13Rik & 73331     & RIKEN cDNA 1700034P13 gene                                                \\\\\n",
       "\t33409 & Gm27204       & 102635951 & predicted gene 27204                                                      \\\\\n",
       "\t24450 & Cxcl3         & 330122    & chemokine (C-X-C motif) ligand 3                                          \\\\\n",
       "\t6213 & Cbr2          & 12409     & carbonyl reductase 2                                                      \\\\\n",
       "\t31653 & Mt2           & 17750     & metallothionein 2                                                         \\\\\n",
       "\t2194 & 1700016L04Rik & 69412     & RIKEN cDNA 1700016L04 gene                                                \\\\\n",
       "\t13686 & Fgd2          & 26382     & FYVE, RhoGEF and PH domain containing 2                                   \\\\\n",
       "\t29264 & Gm30873       & 102632922 & predicted gene, 30873                                                     \\\\\n",
       "\t784 & Gpr55         & 227326    & G protein-coupled receptor 55                                             \\\\\n",
       "\t24453 & Cxcl2         & 20310     & chemokine (C-X-C motif) ligand 2                                          \\\\\n",
       "\t28817 & Fam83e        & 73813     & family with sequence similarity 83, member E                              \\\\\n",
       "\t10289 & 2410012E07Rik & 73648     & RIKEN cDNA 2410012E07 gene                                                \\\\\n",
       "\t37 & Gm39590       & 105243859 & predicted gene, 39590                                                     \\\\\n",
       "\t11807 & C1ql4         & 239659    & complement component 1, q subcomponent-like 4                             \\\\\n",
       "\t16949 & Gm13270       & 105244084 & predicted gene 13270                                                      \\\\\n",
       "\t4838 & Gp1ba         & 14723     & glycoprotein 1b, alpha polypeptide                                        \\\\\n",
       "\t34111 & Gm34159       & 102637315 & predicted gene, 34159                                                     \\\\\n",
       "\t25345 & Gm7284        & 102632711 & 2-acylglycerol O-acyltransferase 2-A-like                                 \\\\\n",
       "\t23004 & Cnksr1        & 194231    & connector enhancer of kinase suppressor of Ras 1                          \\\\\n",
       "\t9939 & Dhrs2         & 71412     & dehydrogenase/reductase member 2                                          \\\\\n",
       "\t17279 & Gm39786       & 105244113 & predicted gene, 39786                                                     \\\\\n",
       "\t5319 & 2210409E12Rik & 72381     & transcription elongation factor B (SIII), polypeptide 2 pseudogene        \\\\\n",
       "\t20771 & Gm33309       & 102636166 & predicted gene, 33309                                                     \\\\\n",
       "\t23043 & Gm30888       & 102632942 & predicted gene, 30888                                                     \\\\\n",
       "\t12339 & Kng2          & 385643    & kininogen 2                                                               \\\\\n",
       "\t⋮ & ⋮ & ⋮ & ⋮\\\\\n",
       "\t16534 & 4930505N22Rik & 100174921 & RIKEN cDNA 4930505N22 gene                                 \\\\\n",
       "\t34097 & Ttc21a        & 74052     & tetratricopeptide repeat domain 21A                        \\\\\n",
       "\t4727 & Aurkb         & 20877     & aurora kinase B                                            \\\\\n",
       "\t8470 & 4930486L24Rik & 214639    & RIKEN cDNA 4930486L24 gene                                 \\\\\n",
       "\t13246 & Tcp10b        & 21462     & t-complex protein 10b                                      \\\\\n",
       "\t13421 & Zfp13         & 22654     & zinc finger protein 13                                     \\\\\n",
       "\t1032 & Serpinb5      & 20724     & serine (or cysteine) peptidase inhibitor, clade B, member 5\\\\\n",
       "\t25886 & Gm20756       & 626904    & predicted gene, 20756                                      \\\\\n",
       "\t22596 & Cdc20         & 107995    & cell division cycle 20                                     \\\\\n",
       "\t16349 & Kif11         & 16551     & kinesin family member 11                                   \\\\\n",
       "\t6797 & Lrr1          & 69706     & leucine rich repeat protein 1                              \\\\\n",
       "\t8948 & Ccnb1         & 268697    & cyclin B1                                                  \\\\\n",
       "\t22563 & Kif2c         & 73804     & kinesin family member 2C                                   \\\\\n",
       "\t3277 & Gm29684       & 628062    & predicted gene, 29684                                      \\\\\n",
       "\t13200 & Gm29711       & 101055693 & predicted gene, 29711                                      \\\\\n",
       "\t27161 & Cdca3         & 14793     & cell division cycle associated 3                           \\\\\n",
       "\t20327 & Fcrls         & 80891     & Fc receptor-like S, scavenger receptor                     \\\\\n",
       "\t9711 & Gm41142       & 105245743 & predicted gene, 41142                                      \\\\\n",
       "\t25229 & Nupr1l        & 69034     & nuclear protein transcriptional regulator 1 like           \\\\\n",
       "\t11198 & 2810039B14Rik & 72665     & RIKEN cDNA 2810039B14 gene                                 \\\\\n",
       "\t20641 & Car14         & 23831     & carbonic anhydrase 14                                      \\\\\n",
       "\t26741 & Gm36409       & 102640310 & predicted gene, 36409                                      \\\\\n",
       "\t11919 & Krt8          & 16691     & keratin 8                                                  \\\\\n",
       "\t20361 & Iqgap3        & 404710    & IQ motif containing GTPase activating protein 3            \\\\\n",
       "\t2072 & Camk1g        & 215303    & calcium/calmodulin-dependent protein kinase I gamma        \\\\\n",
       "\t25167 & Gm32701       & 102635335 & predicted gene, 32701                                      \\\\\n",
       "\t19091 & Procr         & 19124     & protein C receptor, endothelial                            \\\\\n",
       "\t11607 & Ttll8         & 239591    & tubulin tyrosine ligase-like family, member 8              \\\\\n",
       "\t11805 & Troap         & 78733     & trophinin associated protein                               \\\\\n",
       "\t29663 & Gm36847       & 102640889 & predicted gene, 36847                                      \\\\\n",
       "\\end{tabular}\n",
       "\n",
       "\\end{description}\n"
      ],
      "text/markdown": [
       "$samples\n",
       ":   \n",
       "A data.frame: 6 × 4\n",
       "\n",
       "| <!--/--> | files &lt;chr&gt; | group &lt;fct&gt; | lib.size &lt;dbl&gt; | norm.factors &lt;dbl&gt; |\n",
       "|---|---|---|---|---|\n",
       "| CON_1 | C:/Users/shaoq/OneDrive/PythonScripts/Experiment Project/GitHub/RNAseq/input/HHP_2h_24h_WT/Control_1_counts.txt | control  | 40903070 | 0.9880901 |\n",
       "| CON_2 | C:/Users/shaoq/OneDrive/PythonScripts/Experiment Project/GitHub/RNAseq/input/HHP_2h_24h_WT/Control_2_counts.txt | control  | 40768747 | 1.0124112 |\n",
       "| CON_3 | C:/Users/shaoq/OneDrive/PythonScripts/Experiment Project/GitHub/RNAseq/input/HHP_2h_24h_WT/Control_3_counts.txt | control  | 52504852 | 1.0007507 |\n",
       "| HHP.24H_1 | C:/Users/shaoq/OneDrive/PythonScripts/Experiment Project/GitHub/RNAseq/input/HHP_2h_24h_WT/24h_1_counts.txt     | hhp.24hr | 36777977 | 1.0111621 |\n",
       "| HHP.24H_2 | C:/Users/shaoq/OneDrive/PythonScripts/Experiment Project/GitHub/RNAseq/input/HHP_2h_24h_WT/24h_2_counts.txt     | hhp.24hr | 36030235 | 0.9940135 |\n",
       "| HHP.24H_3 | C:/Users/shaoq/OneDrive/PythonScripts/Experiment Project/GitHub/RNAseq/input/HHP_2h_24h_WT/24h_3_counts.txt     | hhp.24hr | 36947812 | 0.9938195 |\n",
       "\n",
       "\n",
       "$counts\n",
       ":   \n",
       "A matrix: 200 × 6 of type dbl\n",
       "\n",
       "| <!--/--> | CON_1 | CON_2 | CON_3 | HHP.24H_1 | HHP.24H_2 | HHP.24H_3 |\n",
       "|---|---|---|---|---|---|---|\n",
       "| A230052G05Rik |    3 |    1 |    9 |  57 |  56 |  44 |\n",
       "| Myod1 |    0 |    7 |   47 |   0 |   7 |  18 |\n",
       "| D730045A05Rik |    0 |    8 |    1 |  24 |  12 |  23 |\n",
       "| Slc28a3 |    0 |   19 |    2 |   0 |  17 |   2 |\n",
       "| Gm36317 |    0 |    2 |    0 |  14 |  11 |  14 |\n",
       "| 1700034P13Rik |    0 |    3 |    5 |  24 |  20 |  19 |\n",
       "| Gm27204 |    4 |    1 |    4 |  28 |  31 |  29 |\n",
       "| Cxcl3 |    1 |   30 |   36 |  50 |  25 |  27 |\n",
       "| Cbr2 |   16 |   11 |   18 |   0 |   5 |   1 |\n",
       "| Mt2 | 1044 | 1119 | 1470 | 135 | 122 | 121 |\n",
       "| 1700016L04Rik |    3 |    1 |    2 |  15 |  16 |  18 |\n",
       "| Fgd2 |   15 |   10 |   24 |   6 |  10 |   0 |\n",
       "| Gm30873 |   18 |   10 |   20 |   0 |  10 |   6 |\n",
       "| Gpr55 |    5 |    0 |    8 |  13 |  16 |  11 |\n",
       "| Cxcl2 |    1 |   19 |   26 |  36 |  22 |  20 |\n",
       "| Fam83e |    1 |   23 |   32 |  35 |  19 |  16 |\n",
       "| 2410012E07Rik |    4 |    1 |    5 |  20 |  20 |  18 |\n",
       "| Gm39590 |    2 |    5 |    3 |  24 |  18 |  23 |\n",
       "| C1ql4 |    7 |    1 |   20 |  26 |  26 |  14 |\n",
       "| Gm13270 |    1 |   19 |   20 |  34 |  15 |  19 |\n",
       "| Gp1ba |    1 |    7 |   21 |  27 |  24 |  13 |\n",
       "| Gm34159 |    6 |   29 |   27 |  98 |  51 |  66 |\n",
       "| Gm7284 |    4 |    5 |    6 |  31 |  28 |  29 |\n",
       "| Cnksr1 |    1 |   12 |   13 |  27 |  16 |  19 |\n",
       "| Dhrs2 |   20 |   19 |   32 |  17 |  18 |   1 |\n",
       "| Gm39786 |    1 |    4 |    7 |  19 |  17 |  14 |\n",
       "| 2210409E12Rik |   31 |   47 |   50 | 208 | 156 | 183 |\n",
       "| Gm33309 |   45 |   76 |   77 | 318 | 218 | 272 |\n",
       "| Gm30888 |    5 |    1 |   10 |  17 |  18 |  12 |\n",
       "| Kng2 |   16 |   22 |   26 |  14 |   9 |   1 |\n",
       "| ⋮ | ⋮ | ⋮ | ⋮ | ⋮ | ⋮ | ⋮ |\n",
       "| 4930505N22Rik |    7 |    5 |    7 |   15 |  16 |   17 |\n",
       "| Ttc21a |    6 |   23 |   21 |   20 |   5 |   11 |\n",
       "| Aurkb |  277 |  248 |  463 |  112 | 123 |   72 |\n",
       "| 4930486L24Rik |    7 |    5 |    5 |   12 |  14 |   16 |\n",
       "| Tcp10b |   11 |   25 |   18 |   43 |  23 |   40 |\n",
       "| Zfp13 |  399 |  305 |  512 |  109 | 145 |  109 |\n",
       "| Serpinb5 |   86 |  113 |  124 |  271 | 211 |  250 |\n",
       "| Gm20756 |    9 |   24 |   22 |   19 |   4 |   11 |\n",
       "| Cdc20 |  527 |  468 |  866 |  205 | 226 |  142 |\n",
       "| Kif11 | 1255 | 1037 | 1948 |  444 | 519 |  337 |\n",
       "| Lrr1 |   52 |   49 |   75 |   18 |  19 |   14 |\n",
       "| Ccnb1 |  512 |  463 |  825 |  197 | 212 |  141 |\n",
       "| Kif2c |  440 |  336 |  702 |  164 | 207 |  111 |\n",
       "| Gm29684 |    9 |   11 |   16 |   31 |  27 |   25 |\n",
       "| Gm29711 |   16 |   28 |   23 |   55 |  36 |   52 |\n",
       "| Cdca3 |  573 |  438 |  835 |  187 | 239 |  151 |\n",
       "| Fcrls |   71 |   68 |  122 |   33 |  35 |   18 |\n",
       "| Gm41142 |   13 |   24 |   15 |   40 |  23 |   41 |\n",
       "| Nupr1l |   17 |   11 |    6 |    4 |  10 |   17 |\n",
       "| 2810039B14Rik |   26 |   31 |   46 |   15 |  11 |    7 |\n",
       "| Car14 |    5 |    6 |    7 |   15 |  15 |   15 |\n",
       "| Gm36409 |   29 |   34 |   38 |   81 |  70 |   80 |\n",
       "| Krt8 |   16 |    4 |   17 |   10 |  23 |   12 |\n",
       "| Iqgap3 |  748 |  695 | 1232 |  301 | 317 |  213 |\n",
       "| Camk1g |  241 |  171 |  244 |   52 |  83 |   75 |\n",
       "| Gm32701 |    4 |    7 |   11 |   19 |  14 |   13 |\n",
       "| Procr |  413 |  538 |  538 | 1183 | 897 | 1177 |\n",
       "| Ttll8 |    9 |   17 |   12 |   30 |  19 |   30 |\n",
       "| Troap |  181 |  179 |  293 |   75 |  75 |   52 |\n",
       "| Gm36847 |   11 |   16 |   18 |   38 |  30 |   33 |\n",
       "\n",
       "\n",
       "$genes\n",
       ":   \n",
       "A data.frame: 200 × 3\n",
       "\n",
       "| <!--/--> | SYMBOL &lt;chr&gt; | ENTREZID &lt;chr&gt; | GENENAME &lt;chr&gt; |\n",
       "|---|---|---|---|\n",
       "| 31273 | A230052G05Rik | 442796    | RIKEN cDNA A230052G05 gene                                                 |\n",
       "| 28840 | Myod1         | 17927     | myogenic differentiation 1                                                 |\n",
       "| 15515 | D730045A05Rik | 77855     | RIKEN cDNA D730045A05 gene                                                 |\n",
       "| 8428 | Slc28a3       | 114304    | solute carrier family 28 (sodium-coupled nucleoside transporter), member 3 |\n",
       "| 23286 | Gm36317       | 102640189 | predicted gene, 36317                                                      |\n",
       "| 36 | 1700034P13Rik | 73331     | RIKEN cDNA 1700034P13 gene                                                 |\n",
       "| 33409 | Gm27204       | 102635951 | predicted gene 27204                                                       |\n",
       "| 24450 | Cxcl3         | 330122    | chemokine (C-X-C motif) ligand 3                                           |\n",
       "| 6213 | Cbr2          | 12409     | carbonyl reductase 2                                                       |\n",
       "| 31653 | Mt2           | 17750     | metallothionein 2                                                          |\n",
       "| 2194 | 1700016L04Rik | 69412     | RIKEN cDNA 1700016L04 gene                                                 |\n",
       "| 13686 | Fgd2          | 26382     | FYVE, RhoGEF and PH domain containing 2                                    |\n",
       "| 29264 | Gm30873       | 102632922 | predicted gene, 30873                                                      |\n",
       "| 784 | Gpr55         | 227326    | G protein-coupled receptor 55                                              |\n",
       "| 24453 | Cxcl2         | 20310     | chemokine (C-X-C motif) ligand 2                                           |\n",
       "| 28817 | Fam83e        | 73813     | family with sequence similarity 83, member E                               |\n",
       "| 10289 | 2410012E07Rik | 73648     | RIKEN cDNA 2410012E07 gene                                                 |\n",
       "| 37 | Gm39590       | 105243859 | predicted gene, 39590                                                      |\n",
       "| 11807 | C1ql4         | 239659    | complement component 1, q subcomponent-like 4                              |\n",
       "| 16949 | Gm13270       | 105244084 | predicted gene 13270                                                       |\n",
       "| 4838 | Gp1ba         | 14723     | glycoprotein 1b, alpha polypeptide                                         |\n",
       "| 34111 | Gm34159       | 102637315 | predicted gene, 34159                                                      |\n",
       "| 25345 | Gm7284        | 102632711 | 2-acylglycerol O-acyltransferase 2-A-like                                  |\n",
       "| 23004 | Cnksr1        | 194231    | connector enhancer of kinase suppressor of Ras 1                           |\n",
       "| 9939 | Dhrs2         | 71412     | dehydrogenase/reductase member 2                                           |\n",
       "| 17279 | Gm39786       | 105244113 | predicted gene, 39786                                                      |\n",
       "| 5319 | 2210409E12Rik | 72381     | transcription elongation factor B (SIII), polypeptide 2 pseudogene         |\n",
       "| 20771 | Gm33309       | 102636166 | predicted gene, 33309                                                      |\n",
       "| 23043 | Gm30888       | 102632942 | predicted gene, 30888                                                      |\n",
       "| 12339 | Kng2          | 385643    | kininogen 2                                                                |\n",
       "| ⋮ | ⋮ | ⋮ | ⋮ |\n",
       "| 16534 | 4930505N22Rik | 100174921 | RIKEN cDNA 4930505N22 gene                                  |\n",
       "| 34097 | Ttc21a        | 74052     | tetratricopeptide repeat domain 21A                         |\n",
       "| 4727 | Aurkb         | 20877     | aurora kinase B                                             |\n",
       "| 8470 | 4930486L24Rik | 214639    | RIKEN cDNA 4930486L24 gene                                  |\n",
       "| 13246 | Tcp10b        | 21462     | t-complex protein 10b                                       |\n",
       "| 13421 | Zfp13         | 22654     | zinc finger protein 13                                      |\n",
       "| 1032 | Serpinb5      | 20724     | serine (or cysteine) peptidase inhibitor, clade B, member 5 |\n",
       "| 25886 | Gm20756       | 626904    | predicted gene, 20756                                       |\n",
       "| 22596 | Cdc20         | 107995    | cell division cycle 20                                      |\n",
       "| 16349 | Kif11         | 16551     | kinesin family member 11                                    |\n",
       "| 6797 | Lrr1          | 69706     | leucine rich repeat protein 1                               |\n",
       "| 8948 | Ccnb1         | 268697    | cyclin B1                                                   |\n",
       "| 22563 | Kif2c         | 73804     | kinesin family member 2C                                    |\n",
       "| 3277 | Gm29684       | 628062    | predicted gene, 29684                                       |\n",
       "| 13200 | Gm29711       | 101055693 | predicted gene, 29711                                       |\n",
       "| 27161 | Cdca3         | 14793     | cell division cycle associated 3                            |\n",
       "| 20327 | Fcrls         | 80891     | Fc receptor-like S, scavenger receptor                      |\n",
       "| 9711 | Gm41142       | 105245743 | predicted gene, 41142                                       |\n",
       "| 25229 | Nupr1l        | 69034     | nuclear protein transcriptional regulator 1 like            |\n",
       "| 11198 | 2810039B14Rik | 72665     | RIKEN cDNA 2810039B14 gene                                  |\n",
       "| 20641 | Car14         | 23831     | carbonic anhydrase 14                                       |\n",
       "| 26741 | Gm36409       | 102640310 | predicted gene, 36409                                       |\n",
       "| 11919 | Krt8          | 16691     | keratin 8                                                   |\n",
       "| 20361 | Iqgap3        | 404710    | IQ motif containing GTPase activating protein 3             |\n",
       "| 2072 | Camk1g        | 215303    | calcium/calmodulin-dependent protein kinase I gamma         |\n",
       "| 25167 | Gm32701       | 102635335 | predicted gene, 32701                                       |\n",
       "| 19091 | Procr         | 19124     | protein C receptor, endothelial                             |\n",
       "| 11607 | Ttll8         | 239591    | tubulin tyrosine ligase-like family, member 8               |\n",
       "| 11805 | Troap         | 78733     | trophinin associated protein                                |\n",
       "| 29663 | Gm36847       | 102640889 | predicted gene, 36847                                       |\n",
       "\n",
       "\n",
       "\n",
       "\n"
      ],
      "text/plain": [
       "An object of class \"DGEList\"\n",
       "$samples\n",
       "                                                                                                                    files\n",
       "CON_1     C:/Users/shaoq/OneDrive/PythonScripts/Experiment Project/GitHub/RNAseq/input/HHP_2h_24h_WT/Control_1_counts.txt\n",
       "CON_2     C:/Users/shaoq/OneDrive/PythonScripts/Experiment Project/GitHub/RNAseq/input/HHP_2h_24h_WT/Control_2_counts.txt\n",
       "CON_3     C:/Users/shaoq/OneDrive/PythonScripts/Experiment Project/GitHub/RNAseq/input/HHP_2h_24h_WT/Control_3_counts.txt\n",
       "HHP.24H_1     C:/Users/shaoq/OneDrive/PythonScripts/Experiment Project/GitHub/RNAseq/input/HHP_2h_24h_WT/24h_1_counts.txt\n",
       "HHP.24H_2     C:/Users/shaoq/OneDrive/PythonScripts/Experiment Project/GitHub/RNAseq/input/HHP_2h_24h_WT/24h_2_counts.txt\n",
       "HHP.24H_3     C:/Users/shaoq/OneDrive/PythonScripts/Experiment Project/GitHub/RNAseq/input/HHP_2h_24h_WT/24h_3_counts.txt\n",
       "             group lib.size norm.factors\n",
       "CON_1      control 40903070    0.9880901\n",
       "CON_2      control 40768747    1.0124112\n",
       "CON_3      control 52504852    1.0007507\n",
       "HHP.24H_1 hhp.24hr 36777977    1.0111621\n",
       "HHP.24H_2 hhp.24hr 36030235    0.9940135\n",
       "HHP.24H_3 hhp.24hr 36947812    0.9938195\n",
       "\n",
       "$counts\n",
       "               Samples\n",
       "Tags            CON_1 CON_2 CON_3 HHP.24H_1 HHP.24H_2 HHP.24H_3\n",
       "  A230052G05Rik     3     1     9        57        56        44\n",
       "  Myod1             0     7    47         0         7        18\n",
       "  D730045A05Rik     0     8     1        24        12        23\n",
       "  Slc28a3           0    19     2         0        17         2\n",
       "  Gm36317           0     2     0        14        11        14\n",
       "195 more rows ...\n",
       "\n",
       "$genes\n",
       "             SYMBOL  ENTREZID\n",
       "31273 A230052G05Rik    442796\n",
       "28840         Myod1     17927\n",
       "15515 D730045A05Rik     77855\n",
       "8428        Slc28a3    114304\n",
       "23286       Gm36317 102640189\n",
       "                                                                        GENENAME\n",
       "31273                                                 RIKEN cDNA A230052G05 gene\n",
       "28840                                                 myogenic differentiation 1\n",
       "15515                                                 RIKEN cDNA D730045A05 gene\n",
       "8428  solute carrier family 28 (sodium-coupled nucleoside transporter), member 3\n",
       "23286                                                      predicted gene, 36317\n",
       "195 more rows ...\n"
      ]
     },
     "metadata": {},
     "output_type": "display_data"
    }
   ],
   "source": [
    "x[select_var, ]"
   ]
  },
  {
   "cell_type": "code",
   "execution_count": 49,
   "metadata": {
    "id": "sYGoyRZ3p8U7"
   },
   "outputs": [],
   "source": [
    "saveRDS(x, \"./x_with_correction.rds\")\n",
    "# saveRDS(x, './x_without_correction.rds')"
   ]
  },
  {
   "cell_type": "markdown",
   "metadata": {
    "id": "bFzH4H-gueD4"
   },
   "source": [
    "## Differential expression with limma-voom\n",
    "Linear modelling in limma is carried out using the lmFit and contrasts.fit functions originally written for application to microarrays. The functions can be used for both microarray and RNA-seq data and fit a separate model to the expression values for each gene. Next, empirical Bayes moderation is carried out by borrowing information across all the genes to obtain more precise estimates of gene-wise variability. The model’s residual variances are plotted against average expression values in the next figure. It can be seen from this plot that the variance is no longer dependent on the mean expression level.\n"
   ]
  },
  {
   "cell_type": "code",
   "execution_count": null,
   "metadata": {
    "colab": {
     "base_uri": "https://localhost:8080/",
     "height": 254
    },
    "executionInfo": {
     "elapsed": 205,
     "status": "ok",
     "timestamp": 1634230726918,
     "user": {
      "displayName": "Shaoqiu He",
      "photoUrl": "https://lh3.googleusercontent.com/a-/AOh14GjqxDDKIvj-k4BT2y4gflK2grm-E052z036TINn0w=s64",
      "userId": "16738992239117859264"
     },
     "user_tz": 240
    },
    "id": "tiOFL0Ldp8U7",
    "outputId": "4e0e246c-be40-4f8a-e86f-baca5906d3bb"
   },
   "outputs": [
    {
     "data": {
      "text/plain": [
       "                   Length Class      Mode     \n",
       "samples                 4 data.frame list     \n",
       "counts             153693 -none-     numeric  \n",
       "genes                   3 data.frame list     \n",
       "design                 45 -none-     numeric  \n",
       "common.dispersion       1 -none-     numeric  \n",
       "trended.dispersion  17077 -none-     numeric  \n",
       "tagwise.dispersion  17077 -none-     numeric  \n",
       "AveLogCPM           17077 -none-     numeric  \n",
       "trend.method            1 -none-     character\n",
       "prior.df            17077 -none-     numeric  \n",
       "prior.n             17077 -none-     numeric  \n",
       "span                    1 -none-     numeric  "
      ]
     },
     "metadata": {},
     "output_type": "display_data"
    }
   ],
   "source": [
    "x <- readRDS(\"./output/for_publication/x_with_correction.rds\")\n",
    "summary(x)"
   ]
  },
  {
   "cell_type": "code",
   "execution_count": 50,
   "metadata": {
    "colab": {
     "base_uri": "https://localhost:8080/",
     "height": 525
    },
    "executionInfo": {
     "elapsed": 134,
     "status": "ok",
     "timestamp": 1636989760839,
     "user": {
      "displayName": "Shaoqiu He",
      "photoUrl": "https://lh3.googleusercontent.com/a-/AOh14GjqxDDKIvj-k4BT2y4gflK2grm-E052z036TINn0w=s64",
      "userId": "16738992239117859264"
     },
     "user_tz": 300
    },
    "id": "UG7aceZj1-rb",
    "outputId": "6fa33d9a-531d-4ff4-f4ee-307ba25f645a"
   },
   "outputs": [
    {
     "data": {
      "text/html": [
       "<style>\n",
       ".list-inline {list-style: none; margin:0; padding: 0}\n",
       ".list-inline>li {display: inline-block}\n",
       ".list-inline>li:not(:last-child)::after {content: \"\\00b7\"; padding: 0 .5ex}\n",
       "</style>\n",
       "<ol class=list-inline><li>control</li><li>control</li><li>control</li><li>hhp.24hr</li><li>hhp.24hr</li><li>hhp.24hr</li></ol>\n",
       "\n",
       "<details>\n",
       "\t<summary style=display:list-item;cursor:pointer>\n",
       "\t\t<strong>Levels</strong>:\n",
       "\t</summary>\n",
       "\t<style>\n",
       "\t.list-inline {list-style: none; margin:0; padding: 0}\n",
       "\t.list-inline>li {display: inline-block}\n",
       "\t.list-inline>li:not(:last-child)::after {content: \"\\00b7\"; padding: 0 .5ex}\n",
       "\t</style>\n",
       "\t<ol class=list-inline><li>'control'</li><li>'hhp.24hr'</li></ol>\n",
       "</details>"
      ],
      "text/latex": [
       "\\begin{enumerate*}\n",
       "\\item control\n",
       "\\item control\n",
       "\\item control\n",
       "\\item hhp.24hr\n",
       "\\item hhp.24hr\n",
       "\\item hhp.24hr\n",
       "\\end{enumerate*}\n",
       "\n",
       "\\emph{Levels}: \\begin{enumerate*}\n",
       "\\item 'control'\n",
       "\\item 'hhp.24hr'\n",
       "\\end{enumerate*}\n"
      ],
      "text/markdown": [
       "1. control\n",
       "2. control\n",
       "3. control\n",
       "4. hhp.24hr\n",
       "5. hhp.24hr\n",
       "6. hhp.24hr\n",
       "\n",
       "\n",
       "\n",
       "**Levels**: 1. 'control'\n",
       "2. 'hhp.24hr'\n",
       "\n",
       "\n"
      ],
      "text/plain": [
       "[1] control  control  control  hhp.24hr hhp.24hr hhp.24hr\n",
       "Levels: control hhp.24hr"
      ]
     },
     "metadata": {},
     "output_type": "display_data"
    },
    {
     "data": {
      "text/html": [
       "<table class=\"dataframe\">\n",
       "<caption>A matrix: 6 × 2 of type dbl</caption>\n",
       "<thead>\n",
       "\t<tr><th></th><th scope=col>treatmentcontrol</th><th scope=col>treatmenthhp.24hr</th></tr>\n",
       "</thead>\n",
       "<tbody>\n",
       "\t<tr><th scope=row>1</th><td>1</td><td>0</td></tr>\n",
       "\t<tr><th scope=row>2</th><td>1</td><td>0</td></tr>\n",
       "\t<tr><th scope=row>3</th><td>1</td><td>0</td></tr>\n",
       "\t<tr><th scope=row>4</th><td>0</td><td>1</td></tr>\n",
       "\t<tr><th scope=row>5</th><td>0</td><td>1</td></tr>\n",
       "\t<tr><th scope=row>6</th><td>0</td><td>1</td></tr>\n",
       "</tbody>\n",
       "</table>\n"
      ],
      "text/latex": [
       "A matrix: 6 × 2 of type dbl\n",
       "\\begin{tabular}{r|ll}\n",
       "  & treatmentcontrol & treatmenthhp.24hr\\\\\n",
       "\\hline\n",
       "\t1 & 1 & 0\\\\\n",
       "\t2 & 1 & 0\\\\\n",
       "\t3 & 1 & 0\\\\\n",
       "\t4 & 0 & 1\\\\\n",
       "\t5 & 0 & 1\\\\\n",
       "\t6 & 0 & 1\\\\\n",
       "\\end{tabular}\n"
      ],
      "text/markdown": [
       "\n",
       "A matrix: 6 × 2 of type dbl\n",
       "\n",
       "| <!--/--> | treatmentcontrol | treatmenthhp.24hr |\n",
       "|---|---|---|\n",
       "| 1 | 1 | 0 |\n",
       "| 2 | 1 | 0 |\n",
       "| 3 | 1 | 0 |\n",
       "| 4 | 0 | 1 |\n",
       "| 5 | 0 | 1 |\n",
       "| 6 | 0 | 1 |\n",
       "\n"
      ],
      "text/plain": [
       "  treatmentcontrol treatmenthhp.24hr\n",
       "1 1                0                \n",
       "2 1                0                \n",
       "3 1                0                \n",
       "4 0                1                \n",
       "5 0                1                \n",
       "6 0                1                "
      ]
     },
     "metadata": {},
     "output_type": "display_data"
    },
    {
     "data": {
      "text/html": [
       "<table class=\"dataframe\">\n",
       "<caption>A matrix: 6 × 2 of type dbl</caption>\n",
       "<thead>\n",
       "\t<tr><th></th><th scope=col>control</th><th scope=col>hhp.24hr</th></tr>\n",
       "</thead>\n",
       "<tbody>\n",
       "\t<tr><th scope=row>1</th><td>1</td><td>0</td></tr>\n",
       "\t<tr><th scope=row>2</th><td>1</td><td>0</td></tr>\n",
       "\t<tr><th scope=row>3</th><td>1</td><td>0</td></tr>\n",
       "\t<tr><th scope=row>4</th><td>0</td><td>1</td></tr>\n",
       "\t<tr><th scope=row>5</th><td>0</td><td>1</td></tr>\n",
       "\t<tr><th scope=row>6</th><td>0</td><td>1</td></tr>\n",
       "</tbody>\n",
       "</table>\n"
      ],
      "text/latex": [
       "A matrix: 6 × 2 of type dbl\n",
       "\\begin{tabular}{r|ll}\n",
       "  & control & hhp.24hr\\\\\n",
       "\\hline\n",
       "\t1 & 1 & 0\\\\\n",
       "\t2 & 1 & 0\\\\\n",
       "\t3 & 1 & 0\\\\\n",
       "\t4 & 0 & 1\\\\\n",
       "\t5 & 0 & 1\\\\\n",
       "\t6 & 0 & 1\\\\\n",
       "\\end{tabular}\n"
      ],
      "text/markdown": [
       "\n",
       "A matrix: 6 × 2 of type dbl\n",
       "\n",
       "| <!--/--> | control | hhp.24hr |\n",
       "|---|---|---|\n",
       "| 1 | 1 | 0 |\n",
       "| 2 | 1 | 0 |\n",
       "| 3 | 1 | 0 |\n",
       "| 4 | 0 | 1 |\n",
       "| 5 | 0 | 1 |\n",
       "| 6 | 0 | 1 |\n",
       "\n"
      ],
      "text/plain": [
       "  control hhp.24hr\n",
       "1 1       0       \n",
       "2 1       0       \n",
       "3 1       0       \n",
       "4 0       1       \n",
       "5 0       1       \n",
       "6 0       1       "
      ]
     },
     "metadata": {},
     "output_type": "display_data"
    }
   ],
   "source": [
    "# Create the design matrix Look at group variable again\n",
    "treatment <- sampleinfo$Treatment\n",
    "# Take a look\n",
    "treatment\n",
    "# Convert to factor\n",
    "treatment <- factor(treatment)\n",
    "# Specify a design matrix without an intercept term\n",
    "design <- model.matrix(~0 + treatment)\n",
    "design\n",
    "# Make the column names of the design matrix a bit nicer\n",
    "colnames(design) <- levels(treatment)\n",
    "design"
   ]
  },
  {
   "cell_type": "code",
   "execution_count": 51,
   "metadata": {
    "colab": {
     "base_uri": "https://localhost:8080/",
     "height": 1000
    },
    "executionInfo": {
     "elapsed": 770,
     "status": "ok",
     "timestamp": 1636989763840,
     "user": {
      "displayName": "Shaoqiu He",
      "photoUrl": "https://lh3.googleusercontent.com/a-/AOh14GjqxDDKIvj-k4BT2y4gflK2grm-E052z036TINn0w=s64",
      "userId": "16738992239117859264"
     },
     "user_tz": 300
    },
    "id": "NtSjfF83129K",
    "outputId": "3b2a70fe-5293-4225-c127-ca32918f93a9",
    "scrolled": false
   },
   "outputs": [
    {
     "data": {
      "text/html": [
       "<dl>\n",
       "\t<dt>$genes</dt>\n",
       "\t\t<dd><table class=\"dataframe\">\n",
       "<caption>A data.frame: 6 × 3</caption>\n",
       "<thead>\n",
       "\t<tr><th></th><th scope=col>SYMBOL</th><th scope=col>ENTREZID</th><th scope=col>GENENAME</th></tr>\n",
       "\t<tr><th></th><th scope=col>&lt;chr&gt;</th><th scope=col>&lt;chr&gt;</th><th scope=col>&lt;chr&gt;</th></tr>\n",
       "</thead>\n",
       "<tbody>\n",
       "\t<tr><th scope=row>1</th><td>Xkr4   </td><td>497097</td><td>X-linked Kx blood group related 4        </td></tr>\n",
       "\t<tr><th scope=row>3</th><td>Gm38717</td><td>NA    </td><td>NA                                       </td></tr>\n",
       "\t<tr><th scope=row>5</th><td>Sox17  </td><td>20671 </td><td>SRY (sex determining region Y)-box 17    </td></tr>\n",
       "\t<tr><th scope=row>10</th><td>Mrpl15 </td><td>27395 </td><td>mitochondrial ribosomal protein L15      </td></tr>\n",
       "\t<tr><th scope=row>11</th><td>Lypla1 </td><td>18777 </td><td>lysophospholipase 1                      </td></tr>\n",
       "\t<tr><th scope=row>13</th><td>Tcea1  </td><td>21399 </td><td>transcription elongation factor A (SII) 1</td></tr>\n",
       "</tbody>\n",
       "</table>\n",
       "</dd>\n",
       "\t<dt>$targets</dt>\n",
       "\t\t<dd><table class=\"dataframe\">\n",
       "<caption>A data.frame: 6 × 4</caption>\n",
       "<thead>\n",
       "\t<tr><th></th><th scope=col>files</th><th scope=col>group</th><th scope=col>lib.size</th><th scope=col>norm.factors</th></tr>\n",
       "\t<tr><th></th><th scope=col>&lt;chr&gt;</th><th scope=col>&lt;fct&gt;</th><th scope=col>&lt;dbl&gt;</th><th scope=col>&lt;dbl&gt;</th></tr>\n",
       "</thead>\n",
       "<tbody>\n",
       "\t<tr><th scope=row>CON_1</th><td>C:/Users/shaoq/OneDrive/PythonScripts/Experiment Project/GitHub/RNAseq/input/HHP_2h_24h_WT/Control_1_counts.txt</td><td>control </td><td>40415920</td><td>0.9880901</td></tr>\n",
       "\t<tr><th scope=row>CON_2</th><td>C:/Users/shaoq/OneDrive/PythonScripts/Experiment Project/GitHub/RNAseq/input/HHP_2h_24h_WT/Control_2_counts.txt</td><td>control </td><td>41274738</td><td>1.0124112</td></tr>\n",
       "\t<tr><th scope=row>CON_3</th><td>C:/Users/shaoq/OneDrive/PythonScripts/Experiment Project/GitHub/RNAseq/input/HHP_2h_24h_WT/Control_3_counts.txt</td><td>control </td><td>52544269</td><td>1.0007507</td></tr>\n",
       "\t<tr><th scope=row>HHP.24H_1</th><td>C:/Users/shaoq/OneDrive/PythonScripts/Experiment Project/GitHub/RNAseq/input/HHP_2h_24h_WT/24h_1_counts.txt    </td><td>hhp.24hr</td><td>37188495</td><td>1.0111621</td></tr>\n",
       "\t<tr><th scope=row>HHP.24H_2</th><td>C:/Users/shaoq/OneDrive/PythonScripts/Experiment Project/GitHub/RNAseq/input/HHP_2h_24h_WT/24h_2_counts.txt    </td><td>hhp.24hr</td><td>35814539</td><td>0.9940135</td></tr>\n",
       "\t<tr><th scope=row>HHP.24H_3</th><td>C:/Users/shaoq/OneDrive/PythonScripts/Experiment Project/GitHub/RNAseq/input/HHP_2h_24h_WT/24h_3_counts.txt    </td><td>hhp.24hr</td><td>36719458</td><td>0.9938195</td></tr>\n",
       "</tbody>\n",
       "</table>\n",
       "</dd>\n",
       "\t<dt>$E</dt>\n",
       "\t\t<dd><table class=\"dataframe\">\n",
       "<caption>A matrix: 6 × 6 of type dbl</caption>\n",
       "<thead>\n",
       "\t<tr><th></th><th scope=col>CON_1</th><th scope=col>CON_2</th><th scope=col>CON_3</th><th scope=col>HHP.24H_1</th><th scope=col>HHP.24H_2</th><th scope=col>HHP.24H_3</th></tr>\n",
       "</thead>\n",
       "<tbody>\n",
       "\t<tr><th scope=row>Xkr4</th><td> 5.684475</td><td> 5.6582985</td><td> 5.5880338</td><td> 5.2328800</td><td> 5.251683</td><td> 5.332421</td></tr>\n",
       "\t<tr><th scope=row>Gm38717</th><td>-0.782263</td><td>-0.7524773</td><td>-0.6493723</td><td>-0.3838945</td><td>-0.434553</td><td>-0.583763</td></tr>\n",
       "\t<tr><th scope=row>Sox17</th><td> 2.244349</td><td> 2.4433845</td><td> 2.5061256</td><td> 2.5743784</td><td> 2.388273</td><td> 2.329004</td></tr>\n",
       "\t<tr><th scope=row>Mrpl15</th><td> 4.618071</td><td> 4.6250431</td><td> 4.7155136</td><td> 4.5913753</td><td> 4.579836</td><td> 4.495885</td></tr>\n",
       "\t<tr><th scope=row>Lypla1</th><td> 5.407562</td><td> 5.3509175</td><td> 5.3802651</td><td> 5.2141907</td><td> 5.264315</td><td> 5.246024</td></tr>\n",
       "\t<tr><th scope=row>Tcea1</th><td> 6.476729</td><td> 6.3824728</td><td> 6.4785258</td><td> 6.2398266</td><td> 6.326622</td><td> 6.241098</td></tr>\n",
       "</tbody>\n",
       "</table>\n",
       "</dd>\n",
       "\t<dt>$weights</dt>\n",
       "\t\t<dd><table class=\"dataframe\">\n",
       "<caption>A matrix: 6 × 6 of type dbl</caption>\n",
       "<tbody>\n",
       "\t<tr><td>287.36416</td><td>289.71359</td><td>315.68111</td><td>247.39937</td><td>242.92796</td><td>245.88038</td></tr>\n",
       "\t<tr><td> 16.53484</td><td> 16.76849</td><td> 19.75457</td><td> 17.65097</td><td> 17.20995</td><td> 17.50071</td></tr>\n",
       "\t<tr><td> 78.51406</td><td> 79.62666</td><td> 93.43411</td><td> 75.33314</td><td> 73.41975</td><td> 74.68113</td></tr>\n",
       "\t<tr><td>207.03513</td><td>209.44369</td><td>237.54682</td><td>190.55273</td><td>186.58473</td><td>189.20319</td></tr>\n",
       "\t<tr><td>266.20437</td><td>268.68942</td><td>296.30691</td><td>244.84964</td><td>240.43563</td><td>243.35017</td></tr>\n",
       "\t<tr><td>344.29706</td><td>346.17882</td><td>366.36087</td><td>324.68526</td><td>320.96998</td><td>323.45098</td></tr>\n",
       "</tbody>\n",
       "</table>\n",
       "</dd>\n",
       "\t<dt>$design</dt>\n",
       "\t\t<dd><table class=\"dataframe\">\n",
       "<caption>A matrix: 6 × 2 of type dbl</caption>\n",
       "<thead>\n",
       "\t<tr><th></th><th scope=col>control</th><th scope=col>hhp.24hr</th></tr>\n",
       "</thead>\n",
       "<tbody>\n",
       "\t<tr><th scope=row>1</th><td>1</td><td>0</td></tr>\n",
       "\t<tr><th scope=row>2</th><td>1</td><td>0</td></tr>\n",
       "\t<tr><th scope=row>3</th><td>1</td><td>0</td></tr>\n",
       "\t<tr><th scope=row>4</th><td>0</td><td>1</td></tr>\n",
       "\t<tr><th scope=row>5</th><td>0</td><td>1</td></tr>\n",
       "\t<tr><th scope=row>6</th><td>0</td><td>1</td></tr>\n",
       "</tbody>\n",
       "</table>\n",
       "</dd>\n",
       "</dl>\n"
      ],
      "text/latex": [
       "\\begin{description}\n",
       "\\item[\\$genes] A data.frame: 6 × 3\n",
       "\\begin{tabular}{r|lll}\n",
       "  & SYMBOL & ENTREZID & GENENAME\\\\\n",
       "  & <chr> & <chr> & <chr>\\\\\n",
       "\\hline\n",
       "\t1 & Xkr4    & 497097 & X-linked Kx blood group related 4        \\\\\n",
       "\t3 & Gm38717 & NA     & NA                                       \\\\\n",
       "\t5 & Sox17   & 20671  & SRY (sex determining region Y)-box 17    \\\\\n",
       "\t10 & Mrpl15  & 27395  & mitochondrial ribosomal protein L15      \\\\\n",
       "\t11 & Lypla1  & 18777  & lysophospholipase 1                      \\\\\n",
       "\t13 & Tcea1   & 21399  & transcription elongation factor A (SII) 1\\\\\n",
       "\\end{tabular}\n",
       "\n",
       "\\item[\\$targets] A data.frame: 6 × 4\n",
       "\\begin{tabular}{r|llll}\n",
       "  & files & group & lib.size & norm.factors\\\\\n",
       "  & <chr> & <fct> & <dbl> & <dbl>\\\\\n",
       "\\hline\n",
       "\tCON\\_1 & C:/Users/shaoq/OneDrive/PythonScripts/Experiment Project/GitHub/RNAseq/input/HHP\\_2h\\_24h\\_WT/Control\\_1\\_counts.txt & control  & 40415920 & 0.9880901\\\\\n",
       "\tCON\\_2 & C:/Users/shaoq/OneDrive/PythonScripts/Experiment Project/GitHub/RNAseq/input/HHP\\_2h\\_24h\\_WT/Control\\_2\\_counts.txt & control  & 41274738 & 1.0124112\\\\\n",
       "\tCON\\_3 & C:/Users/shaoq/OneDrive/PythonScripts/Experiment Project/GitHub/RNAseq/input/HHP\\_2h\\_24h\\_WT/Control\\_3\\_counts.txt & control  & 52544269 & 1.0007507\\\\\n",
       "\tHHP.24H\\_1 & C:/Users/shaoq/OneDrive/PythonScripts/Experiment Project/GitHub/RNAseq/input/HHP\\_2h\\_24h\\_WT/24h\\_1\\_counts.txt     & hhp.24hr & 37188495 & 1.0111621\\\\\n",
       "\tHHP.24H\\_2 & C:/Users/shaoq/OneDrive/PythonScripts/Experiment Project/GitHub/RNAseq/input/HHP\\_2h\\_24h\\_WT/24h\\_2\\_counts.txt     & hhp.24hr & 35814539 & 0.9940135\\\\\n",
       "\tHHP.24H\\_3 & C:/Users/shaoq/OneDrive/PythonScripts/Experiment Project/GitHub/RNAseq/input/HHP\\_2h\\_24h\\_WT/24h\\_3\\_counts.txt     & hhp.24hr & 36719458 & 0.9938195\\\\\n",
       "\\end{tabular}\n",
       "\n",
       "\\item[\\$E] A matrix: 6 × 6 of type dbl\n",
       "\\begin{tabular}{r|llllll}\n",
       "  & CON\\_1 & CON\\_2 & CON\\_3 & HHP.24H\\_1 & HHP.24H\\_2 & HHP.24H\\_3\\\\\n",
       "\\hline\n",
       "\tXkr4 &  5.684475 &  5.6582985 &  5.5880338 &  5.2328800 &  5.251683 &  5.332421\\\\\n",
       "\tGm38717 & -0.782263 & -0.7524773 & -0.6493723 & -0.3838945 & -0.434553 & -0.583763\\\\\n",
       "\tSox17 &  2.244349 &  2.4433845 &  2.5061256 &  2.5743784 &  2.388273 &  2.329004\\\\\n",
       "\tMrpl15 &  4.618071 &  4.6250431 &  4.7155136 &  4.5913753 &  4.579836 &  4.495885\\\\\n",
       "\tLypla1 &  5.407562 &  5.3509175 &  5.3802651 &  5.2141907 &  5.264315 &  5.246024\\\\\n",
       "\tTcea1 &  6.476729 &  6.3824728 &  6.4785258 &  6.2398266 &  6.326622 &  6.241098\\\\\n",
       "\\end{tabular}\n",
       "\n",
       "\\item[\\$weights] A matrix: 6 × 6 of type dbl\n",
       "\\begin{tabular}{llllll}\n",
       "\t 287.36416 & 289.71359 & 315.68111 & 247.39937 & 242.92796 & 245.88038\\\\\n",
       "\t  16.53484 &  16.76849 &  19.75457 &  17.65097 &  17.20995 &  17.50071\\\\\n",
       "\t  78.51406 &  79.62666 &  93.43411 &  75.33314 &  73.41975 &  74.68113\\\\\n",
       "\t 207.03513 & 209.44369 & 237.54682 & 190.55273 & 186.58473 & 189.20319\\\\\n",
       "\t 266.20437 & 268.68942 & 296.30691 & 244.84964 & 240.43563 & 243.35017\\\\\n",
       "\t 344.29706 & 346.17882 & 366.36087 & 324.68526 & 320.96998 & 323.45098\\\\\n",
       "\\end{tabular}\n",
       "\n",
       "\\item[\\$design] A matrix: 6 × 2 of type dbl\n",
       "\\begin{tabular}{r|ll}\n",
       "  & control & hhp.24hr\\\\\n",
       "\\hline\n",
       "\t1 & 1 & 0\\\\\n",
       "\t2 & 1 & 0\\\\\n",
       "\t3 & 1 & 0\\\\\n",
       "\t4 & 0 & 1\\\\\n",
       "\t5 & 0 & 1\\\\\n",
       "\t6 & 0 & 1\\\\\n",
       "\\end{tabular}\n",
       "\n",
       "\\end{description}\n"
      ],
      "text/markdown": [
       "$genes\n",
       ":   \n",
       "A data.frame: 6 × 3\n",
       "\n",
       "| <!--/--> | SYMBOL &lt;chr&gt; | ENTREZID &lt;chr&gt; | GENENAME &lt;chr&gt; |\n",
       "|---|---|---|---|\n",
       "| 1 | Xkr4    | 497097 | X-linked Kx blood group related 4         |\n",
       "| 3 | Gm38717 | NA     | NA                                        |\n",
       "| 5 | Sox17   | 20671  | SRY (sex determining region Y)-box 17     |\n",
       "| 10 | Mrpl15  | 27395  | mitochondrial ribosomal protein L15       |\n",
       "| 11 | Lypla1  | 18777  | lysophospholipase 1                       |\n",
       "| 13 | Tcea1   | 21399  | transcription elongation factor A (SII) 1 |\n",
       "\n",
       "\n",
       "$targets\n",
       ":   \n",
       "A data.frame: 6 × 4\n",
       "\n",
       "| <!--/--> | files &lt;chr&gt; | group &lt;fct&gt; | lib.size &lt;dbl&gt; | norm.factors &lt;dbl&gt; |\n",
       "|---|---|---|---|---|\n",
       "| CON_1 | C:/Users/shaoq/OneDrive/PythonScripts/Experiment Project/GitHub/RNAseq/input/HHP_2h_24h_WT/Control_1_counts.txt | control  | 40415920 | 0.9880901 |\n",
       "| CON_2 | C:/Users/shaoq/OneDrive/PythonScripts/Experiment Project/GitHub/RNAseq/input/HHP_2h_24h_WT/Control_2_counts.txt | control  | 41274738 | 1.0124112 |\n",
       "| CON_3 | C:/Users/shaoq/OneDrive/PythonScripts/Experiment Project/GitHub/RNAseq/input/HHP_2h_24h_WT/Control_3_counts.txt | control  | 52544269 | 1.0007507 |\n",
       "| HHP.24H_1 | C:/Users/shaoq/OneDrive/PythonScripts/Experiment Project/GitHub/RNAseq/input/HHP_2h_24h_WT/24h_1_counts.txt     | hhp.24hr | 37188495 | 1.0111621 |\n",
       "| HHP.24H_2 | C:/Users/shaoq/OneDrive/PythonScripts/Experiment Project/GitHub/RNAseq/input/HHP_2h_24h_WT/24h_2_counts.txt     | hhp.24hr | 35814539 | 0.9940135 |\n",
       "| HHP.24H_3 | C:/Users/shaoq/OneDrive/PythonScripts/Experiment Project/GitHub/RNAseq/input/HHP_2h_24h_WT/24h_3_counts.txt     | hhp.24hr | 36719458 | 0.9938195 |\n",
       "\n",
       "\n",
       "$E\n",
       ":   \n",
       "A matrix: 6 × 6 of type dbl\n",
       "\n",
       "| <!--/--> | CON_1 | CON_2 | CON_3 | HHP.24H_1 | HHP.24H_2 | HHP.24H_3 |\n",
       "|---|---|---|---|---|---|---|\n",
       "| Xkr4 |  5.684475 |  5.6582985 |  5.5880338 |  5.2328800 |  5.251683 |  5.332421 |\n",
       "| Gm38717 | -0.782263 | -0.7524773 | -0.6493723 | -0.3838945 | -0.434553 | -0.583763 |\n",
       "| Sox17 |  2.244349 |  2.4433845 |  2.5061256 |  2.5743784 |  2.388273 |  2.329004 |\n",
       "| Mrpl15 |  4.618071 |  4.6250431 |  4.7155136 |  4.5913753 |  4.579836 |  4.495885 |\n",
       "| Lypla1 |  5.407562 |  5.3509175 |  5.3802651 |  5.2141907 |  5.264315 |  5.246024 |\n",
       "| Tcea1 |  6.476729 |  6.3824728 |  6.4785258 |  6.2398266 |  6.326622 |  6.241098 |\n",
       "\n",
       "\n",
       "$weights\n",
       ":   \n",
       "A matrix: 6 × 6 of type dbl\n",
       "\n",
       "| 287.36416 | 289.71359 | 315.68111 | 247.39937 | 242.92796 | 245.88038 |\n",
       "|  16.53484 |  16.76849 |  19.75457 |  17.65097 |  17.20995 |  17.50071 |\n",
       "|  78.51406 |  79.62666 |  93.43411 |  75.33314 |  73.41975 |  74.68113 |\n",
       "| 207.03513 | 209.44369 | 237.54682 | 190.55273 | 186.58473 | 189.20319 |\n",
       "| 266.20437 | 268.68942 | 296.30691 | 244.84964 | 240.43563 | 243.35017 |\n",
       "| 344.29706 | 346.17882 | 366.36087 | 324.68526 | 320.96998 | 323.45098 |\n",
       "\n",
       "\n",
       "$design\n",
       ":   \n",
       "A matrix: 6 × 2 of type dbl\n",
       "\n",
       "| <!--/--> | control | hhp.24hr |\n",
       "|---|---|---|\n",
       "| 1 | 1 | 0 |\n",
       "| 2 | 1 | 0 |\n",
       "| 3 | 1 | 0 |\n",
       "| 4 | 0 | 1 |\n",
       "| 5 | 0 | 1 |\n",
       "| 6 | 0 | 1 |\n",
       "\n",
       "\n",
       "\n",
       "\n"
      ],
      "text/plain": [
       "An object of class \"EList\"\n",
       "$genes\n",
       "    SYMBOL ENTREZID                                  GENENAME\n",
       "1     Xkr4   497097         X-linked Kx blood group related 4\n",
       "3  Gm38717     <NA>                                      <NA>\n",
       "5    Sox17    20671     SRY (sex determining region Y)-box 17\n",
       "10  Mrpl15    27395       mitochondrial ribosomal protein L15\n",
       "11  Lypla1    18777                       lysophospholipase 1\n",
       "13   Tcea1    21399 transcription elongation factor A (SII) 1\n",
       "\n",
       "$targets\n",
       "                                                                                                                    files\n",
       "CON_1     C:/Users/shaoq/OneDrive/PythonScripts/Experiment Project/GitHub/RNAseq/input/HHP_2h_24h_WT/Control_1_counts.txt\n",
       "CON_2     C:/Users/shaoq/OneDrive/PythonScripts/Experiment Project/GitHub/RNAseq/input/HHP_2h_24h_WT/Control_2_counts.txt\n",
       "CON_3     C:/Users/shaoq/OneDrive/PythonScripts/Experiment Project/GitHub/RNAseq/input/HHP_2h_24h_WT/Control_3_counts.txt\n",
       "HHP.24H_1     C:/Users/shaoq/OneDrive/PythonScripts/Experiment Project/GitHub/RNAseq/input/HHP_2h_24h_WT/24h_1_counts.txt\n",
       "HHP.24H_2     C:/Users/shaoq/OneDrive/PythonScripts/Experiment Project/GitHub/RNAseq/input/HHP_2h_24h_WT/24h_2_counts.txt\n",
       "HHP.24H_3     C:/Users/shaoq/OneDrive/PythonScripts/Experiment Project/GitHub/RNAseq/input/HHP_2h_24h_WT/24h_3_counts.txt\n",
       "             group lib.size norm.factors\n",
       "CON_1      control 40415920    0.9880901\n",
       "CON_2      control 41274738    1.0124112\n",
       "CON_3      control 52544269    1.0007507\n",
       "HHP.24H_1 hhp.24hr 37188495    1.0111621\n",
       "HHP.24H_2 hhp.24hr 35814539    0.9940135\n",
       "HHP.24H_3 hhp.24hr 36719458    0.9938195\n",
       "\n",
       "$E\n",
       "         Samples\n",
       "Tags          CON_1      CON_2      CON_3  HHP.24H_1 HHP.24H_2 HHP.24H_3\n",
       "  Xkr4     5.684475  5.6582985  5.5880338  5.2328800  5.251683  5.332421\n",
       "  Gm38717 -0.782263 -0.7524773 -0.6493723 -0.3838945 -0.434553 -0.583763\n",
       "  Sox17    2.244349  2.4433845  2.5061256  2.5743784  2.388273  2.329004\n",
       "  Mrpl15   4.618071  4.6250431  4.7155136  4.5913753  4.579836  4.495885\n",
       "  Lypla1   5.407562  5.3509175  5.3802651  5.2141907  5.264315  5.246024\n",
       "  Tcea1    6.476729  6.3824728  6.4785258  6.2398266  6.326622  6.241098\n",
       "\n",
       "$weights\n",
       "          [,1]      [,2]      [,3]      [,4]      [,5]      [,6]\n",
       "[1,] 287.36416 289.71359 315.68111 247.39937 242.92796 245.88038\n",
       "[2,]  16.53484  16.76849  19.75457  17.65097  17.20995  17.50071\n",
       "[3,]  78.51406  79.62666  93.43411  75.33314  73.41975  74.68113\n",
       "[4,] 207.03513 209.44369 237.54682 190.55273 186.58473 189.20319\n",
       "[5,] 266.20437 268.68942 296.30691 244.84964 240.43563 243.35017\n",
       "[6,] 344.29706 346.17882 366.36087 324.68526 320.96998 323.45098\n",
       "\n",
       "$design\n",
       "  control hhp.24hr\n",
       "1       1        0\n",
       "2       1        0\n",
       "3       1        0\n",
       "4       0        1\n",
       "5       0        1\n",
       "6       0        1\n",
       "attr(,\"assign\")\n",
       "[1] 1 1\n",
       "attr(,\"contrasts\")\n",
       "attr(,\"contrasts\")$treatment\n",
       "[1] \"contr.treatment\"\n",
       "\n"
      ]
     },
     "metadata": {},
     "output_type": "display_data"
    },
    {
     "data": {
      "text/html": [
       "<style>\n",
       ".list-inline {list-style: none; margin:0; padding: 0}\n",
       ".list-inline>li {display: inline-block}\n",
       ".list-inline>li:not(:last-child)::after {content: \"\\00b7\"; padding: 0 .5ex}\n",
       "</style>\n",
       "<ol class=list-inline><li>'genes'</li><li>'targets'</li><li>'E'</li><li>'weights'</li><li>'design'</li></ol>\n"
      ],
      "text/latex": [
       "\\begin{enumerate*}\n",
       "\\item 'genes'\n",
       "\\item 'targets'\n",
       "\\item 'E'\n",
       "\\item 'weights'\n",
       "\\item 'design'\n",
       "\\end{enumerate*}\n"
      ],
      "text/markdown": [
       "1. 'genes'\n",
       "2. 'targets'\n",
       "3. 'E'\n",
       "4. 'weights'\n",
       "5. 'design'\n",
       "\n",
       "\n"
      ],
      "text/plain": [
       "[1] \"genes\"   \"targets\" \"E\"       \"weights\" \"design\" "
      ]
     },
     "metadata": {},
     "output_type": "display_data"
    },
    {
     "data": {
      "text/html": [
       "<style>\n",
       ".list-inline {list-style: none; margin:0; padding: 0}\n",
       ".list-inline>li {display: inline-block}\n",
       ".list-inline>li:not(:last-child)::after {content: \"\\00b7\"; padding: 0 .5ex}\n",
       "</style>\n",
       "<ol class=list-inline><li>16715</li><li>6</li></ol>\n"
      ],
      "text/latex": [
       "\\begin{enumerate*}\n",
       "\\item 16715\n",
       "\\item 6\n",
       "\\end{enumerate*}\n"
      ],
      "text/markdown": [
       "1. 16715\n",
       "2. 6\n",
       "\n",
       "\n"
      ],
      "text/plain": [
       "[1] 16715     6"
      ]
     },
     "metadata": {},
     "output_type": "display_data"
    },
    {
     "data": {
      "image/png": "[encoded data removed]",
      "text/plain": [
       "Plot with title \"voom: Mean-variance trend\""
      ]
     },
     "metadata": {
      "image/png": {
       "height": 420,
       "width": 420
      }
     },
     "output_type": "display_data"
    },
    {
     "data": {
      "image/png": "[encoded data removed]",
      "text/plain": [
       "Plot with title \"Voom transformed logCPM\""
      ]
     },
     "metadata": {
      "image/png": {
       "height": 420,
       "width": 420
      }
     },
     "output_type": "display_data"
    }
   ],
   "source": [
    "# Voom transform the data\n",
    "v <- voom(x, design, plot = TRUE)\n",
    "head(v)\n",
    "# What is contained in this object?\n",
    "names(v)\n",
    "dim(v$weights)\n",
    "# We can repeat the box plots for the normalised data to compare to before\n",
    "# normalisation.  The expression values in v$E are already log2 values so we\n",
    "# don't need to log-transform.\n",
    "par(mfrow = c(1, 2))\n",
    "boxplot(logcounts, xlab = \"\", ylab = \"Log2 counts per million\", las = 2, main = \"Unnormalised logCPM\")\n",
    "## Let's add a blue horizontal line that corresponds to the median logCPM\n",
    "abline(h = median(logcounts), col = \"blue\")\n",
    "boxplot(v$E, xlab = \"\", ylab = \"Log2 counts per million\", las = 2, main = \"Voom transformed logCPM\")\n",
    "## Let's add a blue horizontal line that corresponds to the median logCPM\n",
    "abline(h = median(v$E), col = \"blue\")"
   ]
  },
  {
   "cell_type": "markdown",
   "metadata": {
    "id": "9sYuG6p1ujro"
   },
   "source": [
    "## Testing for differential expression, contro vs HHP.24h"
   ]
  },
  {
   "cell_type": "code",
   "execution_count": 52,
   "metadata": {
    "colab": {
     "base_uri": "https://localhost:8080/",
     "height": 271
    },
    "executionInfo": {
     "elapsed": 1209,
     "status": "ok",
     "timestamp": 1636990187714,
     "user": {
      "displayName": "Shaoqiu He",
      "photoUrl": "https://lh3.googleusercontent.com/a-/AOh14GjqxDDKIvj-k4BT2y4gflK2grm-E052z036TINn0w=s64",
      "userId": "16738992239117859264"
     },
     "user_tz": 300
    },
    "id": "N7wBKlt833uI",
    "outputId": "a0d37906-ee6a-40c3-817a-ba27101d2ee5"
   },
   "outputs": [
    {
     "data": {
      "text/html": [
       "<style>\n",
       ".list-inline {list-style: none; margin:0; padding: 0}\n",
       ".list-inline>li {display: inline-block}\n",
       ".list-inline>li:not(:last-child)::after {content: \"\\00b7\"; padding: 0 .5ex}\n",
       "</style>\n",
       "<ol class=list-inline><li>'coefficients'</li><li>'stdev.unscaled'</li><li>'sigma'</li><li>'df.residual'</li><li>'cov.coefficients'</li><li>'pivot'</li><li>'rank'</li><li>'genes'</li><li>'Amean'</li><li>'method'</li><li>'design'</li></ol>\n"
      ],
      "text/latex": [
       "\\begin{enumerate*}\n",
       "\\item 'coefficients'\n",
       "\\item 'stdev.unscaled'\n",
       "\\item 'sigma'\n",
       "\\item 'df.residual'\n",
       "\\item 'cov.coefficients'\n",
       "\\item 'pivot'\n",
       "\\item 'rank'\n",
       "\\item 'genes'\n",
       "\\item 'Amean'\n",
       "\\item 'method'\n",
       "\\item 'design'\n",
       "\\end{enumerate*}\n"
      ],
      "text/markdown": [
       "1. 'coefficients'\n",
       "2. 'stdev.unscaled'\n",
       "3. 'sigma'\n",
       "4. 'df.residual'\n",
       "5. 'cov.coefficients'\n",
       "6. 'pivot'\n",
       "7. 'rank'\n",
       "8. 'genes'\n",
       "9. 'Amean'\n",
       "10. 'method'\n",
       "11. 'design'\n",
       "\n",
       "\n"
      ],
      "text/plain": [
       " [1] \"coefficients\"     \"stdev.unscaled\"   \"sigma\"            \"df.residual\"     \n",
       " [5] \"cov.coefficients\" \"pivot\"            \"rank\"             \"genes\"           \n",
       " [9] \"Amean\"            \"method\"           \"design\"          "
      ]
     },
     "metadata": {},
     "output_type": "display_data"
    },
    {
     "data": {
      "text/html": [
       "<table class=\"dataframe\">\n",
       "<caption>A matrix: 2 × 1 of type dbl</caption>\n",
       "<thead>\n",
       "\t<tr><th></th><th scope=col>convs24h</th></tr>\n",
       "</thead>\n",
       "<tbody>\n",
       "\t<tr><th scope=row>control</th><td>-1</td></tr>\n",
       "\t<tr><th scope=row>hhp.24hr</th><td> 1</td></tr>\n",
       "</tbody>\n",
       "</table>\n"
      ],
      "text/latex": [
       "A matrix: 2 × 1 of type dbl\n",
       "\\begin{tabular}{r|l}\n",
       "  & convs24h\\\\\n",
       "\\hline\n",
       "\tcontrol & -1\\\\\n",
       "\thhp.24hr &  1\\\\\n",
       "\\end{tabular}\n"
      ],
      "text/markdown": [
       "\n",
       "A matrix: 2 × 1 of type dbl\n",
       "\n",
       "| <!--/--> | convs24h |\n",
       "|---|---|\n",
       "| control | -1 |\n",
       "| hhp.24hr |  1 |\n",
       "\n"
      ],
      "text/plain": [
       "          Contrasts\n",
       "Levels     convs24h\n",
       "  control  -1      \n",
       "  hhp.24hr  1      "
      ]
     },
     "metadata": {},
     "output_type": "display_data"
    },
    {
     "data": {
      "text/html": [
       "<style>\n",
       ".list-inline {list-style: none; margin:0; padding: 0}\n",
       ".list-inline>li {display: inline-block}\n",
       ".list-inline>li:not(:last-child)::after {content: \"\\00b7\"; padding: 0 .5ex}\n",
       "</style>\n",
       "<ol class=list-inline><li>16715</li><li>1</li></ol>\n"
      ],
      "text/latex": [
       "\\begin{enumerate*}\n",
       "\\item 16715\n",
       "\\item 1\n",
       "\\end{enumerate*}\n"
      ],
      "text/markdown": [
       "1. 16715\n",
       "2. 1\n",
       "\n",
       "\n"
      ],
      "text/plain": [
       "[1] 16715     1"
      ]
     },
     "metadata": {},
     "output_type": "display_data"
    },
    {
     "data": {
      "text/plain": [
       "       convs24h\n",
       "Down       1019\n",
       "NotSig    14673\n",
       "Up         1023"
      ]
     },
     "metadata": {},
     "output_type": "display_data"
    }
   ],
   "source": [
    "# Now that we have the voom transformed data we can use limma to test for\n",
    "# differential expression.  Fit the linear model\n",
    "fit <- lmFit(v)\n",
    "names(fit)\n",
    "# The comparison of interest can be specified using the makeContrasts function.\n",
    "cont.matrix <- makeContrasts(convs24h = hhp.24hr - control, levels = design)\n",
    "cont.matrix\n",
    "# Now we can apply the contrasts matrix to the fit object to get the statistics\n",
    "# and estimated parameters of our comparison that we are interested in.  Now we\n",
    "# can apply the contrasts matrix to the fit object to get the statistics and\n",
    "# estimated parameters of our comparison that we are interested in.\n",
    "fit.cont.B <- contrasts.fit(fit, cont.matrix)\n",
    "# The final step is to call the eBayes function, which performs empirical Bayes\n",
    "# shrinkage on the variances, and estimates moderated t-statistics and the\n",
    "# associated p-values.\n",
    "fit.cont.B <- eBayes(fit.cont.B)\n",
    "# Check the dimensions of the fit object\n",
    "dim(fit.cont.B)\n",
    "# We can use the limma decideTests function to generate a quick summary of DE\n",
    "# genes for the contrasts.\n",
    "summa.fit.B <- decideTests(fit.cont.B, adjust.method = \"BH\", lfc = 0.5)\n",
    "summary(summa.fit.B)"
   ]
  },
  {
   "cell_type": "code",
   "execution_count": 53,
   "metadata": {
    "colab": {
     "base_uri": "https://localhost:8080/",
     "height": 1000
    },
    "executionInfo": {
     "elapsed": 259,
     "status": "ok",
     "timestamp": 1636990190512,
     "user": {
      "displayName": "Shaoqiu He",
      "photoUrl": "https://lh3.googleusercontent.com/a-/AOh14GjqxDDKIvj-k4BT2y4gflK2grm-E052z036TINn0w=s64",
      "userId": "16738992239117859264"
     },
     "user_tz": 300
    },
    "id": "fba2JTTXdohb",
    "outputId": "c3014806-c464-4859-a5c2-9b1b8782cc5b"
   },
   "outputs": [
    {
     "data": {
      "text/html": [
       "<dl>\n",
       "\t<dt>$coefficients</dt>\n",
       "\t\t<dd><table class=\"dataframe\">\n",
       "<caption>A matrix: 6 × 1 of type dbl</caption>\n",
       "<thead>\n",
       "\t<tr><th></th><th scope=col>convs24h</th></tr>\n",
       "</thead>\n",
       "<tbody>\n",
       "\t<tr><th scope=row>Xkr4</th><td>-0.36954913</td></tr>\n",
       "\t<tr><th scope=row>Gm38717</th><td> 0.25602519</td></tr>\n",
       "\t<tr><th scope=row>Sox17</th><td> 0.02664111</td></tr>\n",
       "\t<tr><th scope=row>Mrpl15</th><td>-0.10002359</td></tr>\n",
       "\t<tr><th scope=row>Lypla1</th><td>-0.13815777</td></tr>\n",
       "\t<tr><th scope=row>Tcea1</th><td>-0.17747936</td></tr>\n",
       "</tbody>\n",
       "</table>\n",
       "</dd>\n",
       "\t<dt>$stdev.unscaled</dt>\n",
       "\t\t<dd><table class=\"dataframe\">\n",
       "<caption>A matrix: 6 × 1 of type dbl</caption>\n",
       "<thead>\n",
       "\t<tr><th></th><th scope=col>convs24h</th></tr>\n",
       "</thead>\n",
       "<tbody>\n",
       "\t<tr><th scope=row>Xkr4</th><td>0.04978389</td></tr>\n",
       "\t<tr><th scope=row>Gm38717</th><td>0.19479551</td></tr>\n",
       "\t<tr><th scope=row>Sox17</th><td>0.09192690</td></tr>\n",
       "\t<tr><th scope=row>Mrpl15</th><td>0.05739960</td></tr>\n",
       "\t<tr><th scope=row>Lypla1</th><td>0.05074946</td></tr>\n",
       "\t<tr><th scope=row>Tcea1</th><td>0.04447582</td></tr>\n",
       "</tbody>\n",
       "</table>\n",
       "</dd>\n",
       "\t<dt>$sigma</dt>\n",
       "\t\t<dd><style>\n",
       ".list-inline {list-style: none; margin:0; padding: 0}\n",
       ".list-inline>li {display: inline-block}\n",
       ".list-inline>li:not(:last-child)::after {content: \"\\00b7\"; padding: 0 .5ex}\n",
       "</style>\n",
       "<ol class=list-inline><li>0.850177934362412</li><li>0.373611538741528</li><li>1.17884629386745</li><li>0.769415987133329</li><li>0.430708072255453</li><li>0.962208367750373</li></ol>\n",
       "</dd>\n",
       "\t<dt>$df.residual</dt>\n",
       "\t\t<dd><style>\n",
       ".list-inline {list-style: none; margin:0; padding: 0}\n",
       ".list-inline>li {display: inline-block}\n",
       ".list-inline>li:not(:last-child)::after {content: \"\\00b7\"; padding: 0 .5ex}\n",
       "</style>\n",
       "<ol class=list-inline><li>4</li><li>4</li><li>4</li><li>4</li><li>4</li><li>4</li></ol>\n",
       "</dd>\n",
       "\t<dt>$cov.coefficients</dt>\n",
       "\t\t<dd><table class=\"dataframe\">\n",
       "<caption>A matrix: 1 × 1 of type dbl</caption>\n",
       "<thead>\n",
       "\t<tr><th></th><th scope=col>convs24h</th></tr>\n",
       "</thead>\n",
       "<tbody>\n",
       "\t<tr><th scope=row>convs24h</th><td>0.6666667</td></tr>\n",
       "</tbody>\n",
       "</table>\n",
       "</dd>\n",
       "\t<dt>$pivot</dt>\n",
       "\t\t<dd><style>\n",
       ".list-inline {list-style: none; margin:0; padding: 0}\n",
       ".list-inline>li {display: inline-block}\n",
       ".list-inline>li:not(:last-child)::after {content: \"\\00b7\"; padding: 0 .5ex}\n",
       "</style>\n",
       "<ol class=list-inline><li>1</li><li>2</li></ol>\n",
       "</dd>\n",
       "\t<dt>$rank</dt>\n",
       "\t\t<dd>2</dd>\n",
       "\t<dt>$genes</dt>\n",
       "\t\t<dd><table class=\"dataframe\">\n",
       "<caption>A data.frame: 6 × 3</caption>\n",
       "<thead>\n",
       "\t<tr><th></th><th scope=col>SYMBOL</th><th scope=col>ENTREZID</th><th scope=col>GENENAME</th></tr>\n",
       "\t<tr><th></th><th scope=col>&lt;chr&gt;</th><th scope=col>&lt;chr&gt;</th><th scope=col>&lt;chr&gt;</th></tr>\n",
       "</thead>\n",
       "<tbody>\n",
       "\t<tr><th scope=row>1</th><td>Xkr4   </td><td>497097</td><td>X-linked Kx blood group related 4        </td></tr>\n",
       "\t<tr><th scope=row>3</th><td>Gm38717</td><td>NA    </td><td>NA                                       </td></tr>\n",
       "\t<tr><th scope=row>5</th><td>Sox17  </td><td>20671 </td><td>SRY (sex determining region Y)-box 17    </td></tr>\n",
       "\t<tr><th scope=row>10</th><td>Mrpl15 </td><td>27395 </td><td>mitochondrial ribosomal protein L15      </td></tr>\n",
       "\t<tr><th scope=row>11</th><td>Lypla1 </td><td>18777 </td><td>lysophospholipase 1                      </td></tr>\n",
       "\t<tr><th scope=row>13</th><td>Tcea1  </td><td>21399 </td><td>transcription elongation factor A (SII) 1</td></tr>\n",
       "</tbody>\n",
       "</table>\n",
       "</dd>\n",
       "\t<dt>$Amean</dt>\n",
       "\t\t<dd><style>\n",
       ".dl-inline {width: auto; margin:0; padding: 0}\n",
       ".dl-inline>dt, .dl-inline>dd {float: none; width: auto; display: inline-block}\n",
       ".dl-inline>dt::after {content: \":\\0020\"; padding-right: .5ex}\n",
       ".dl-inline>dt:not(:first-of-type) {padding-left: .5ex}\n",
       "</style><dl class=dl-inline><dt>Xkr4</dt><dd>5.45796531070923</dd><dt>Gm38717</dt><dd>-0.597720533636376</dd><dt>Sox17</dt><dd>2.41425243616959</dd><dt>Mrpl15</dt><dd>4.60428740414101</dd><dt>Lypla1</dt><dd>5.31054579094898</dd><dt>Tcea1</dt><dd>6.35754571149225</dd></dl>\n",
       "</dd>\n",
       "\t<dt>$method</dt>\n",
       "\t\t<dd>'ls'</dd>\n",
       "\t<dt>$design</dt>\n",
       "\t\t<dd><table class=\"dataframe\">\n",
       "<caption>A matrix: 6 × 2 of type dbl</caption>\n",
       "<thead>\n",
       "\t<tr><th></th><th scope=col>control</th><th scope=col>hhp.24hr</th></tr>\n",
       "</thead>\n",
       "<tbody>\n",
       "\t<tr><th scope=row>1</th><td>1</td><td>0</td></tr>\n",
       "\t<tr><th scope=row>2</th><td>1</td><td>0</td></tr>\n",
       "\t<tr><th scope=row>3</th><td>1</td><td>0</td></tr>\n",
       "\t<tr><th scope=row>4</th><td>0</td><td>1</td></tr>\n",
       "\t<tr><th scope=row>5</th><td>0</td><td>1</td></tr>\n",
       "\t<tr><th scope=row>6</th><td>0</td><td>1</td></tr>\n",
       "</tbody>\n",
       "</table>\n",
       "</dd>\n",
       "\t<dt>$contrasts</dt>\n",
       "\t\t<dd><table class=\"dataframe\">\n",
       "<caption>A matrix: 2 × 1 of type dbl</caption>\n",
       "<thead>\n",
       "\t<tr><th></th><th scope=col>convs24h</th></tr>\n",
       "</thead>\n",
       "<tbody>\n",
       "\t<tr><th scope=row>control</th><td>-1</td></tr>\n",
       "\t<tr><th scope=row>hhp.24hr</th><td> 1</td></tr>\n",
       "</tbody>\n",
       "</table>\n",
       "</dd>\n",
       "\t<dt>$df.prior</dt>\n",
       "\t\t<dd>2.48453393363096</dd>\n",
       "\t<dt>$s2.prior</dt>\n",
       "\t\t<dd>0.681879776409876</dd>\n",
       "\t<dt>$var.prior</dt>\n",
       "\t\t<dd>1.29560175245812</dd>\n",
       "\t<dt>$proportion</dt>\n",
       "\t\t<dd>0.01</dd>\n",
       "\t<dt>$s2.post</dt>\n",
       "\t\t<dd><style>\n",
       ".list-inline {list-style: none; margin:0; padding: 0}\n",
       ".list-inline>li {display: inline-block}\n",
       ".list-inline>li:not(:last-child)::after {content: \"\\00b7\"; padding: 0 .5ex}\n",
       "</style>\n",
       "<ol class=list-inline><li>0.707123067036899</li><li>0.347364327756553</li><li>1.1184871350262</li><li>0.626437818006433</li><li>0.375692569752185</li><li>0.832370262884888</li></ol>\n",
       "</dd>\n",
       "\t<dt>$t</dt>\n",
       "\t\t<dd><table class=\"dataframe\">\n",
       "<caption>A matrix: 6 × 1 of type dbl</caption>\n",
       "<thead>\n",
       "\t<tr><th></th><th scope=col>convs24h</th></tr>\n",
       "</thead>\n",
       "<tbody>\n",
       "\t<tr><th scope=row>Xkr4</th><td>-8.8274620</td></tr>\n",
       "\t<tr><th scope=row>Gm38717</th><td> 2.2300322</td></tr>\n",
       "\t<tr><th scope=row>Sox17</th><td> 0.2740275</td></tr>\n",
       "\t<tr><th scope=row>Mrpl15</th><td>-2.2016820</td></tr>\n",
       "\t<tr><th scope=row>Lypla1</th><td>-4.4414790</td></tr>\n",
       "\t<tr><th scope=row>Tcea1</th><td>-4.3738675</td></tr>\n",
       "</tbody>\n",
       "</table>\n",
       "</dd>\n",
       "\t<dt>$df.total</dt>\n",
       "\t\t<dd><style>\n",
       ".list-inline {list-style: none; margin:0; padding: 0}\n",
       ".list-inline>li {display: inline-block}\n",
       ".list-inline>li:not(:last-child)::after {content: \"\\00b7\"; padding: 0 .5ex}\n",
       "</style>\n",
       "<ol class=list-inline><li>6.48453393363096</li><li>6.48453393363096</li><li>6.48453393363096</li><li>6.48453393363096</li><li>6.48453393363096</li><li>6.48453393363096</li></ol>\n",
       "</dd>\n",
       "\t<dt>$p.value</dt>\n",
       "\t\t<dd><table class=\"dataframe\">\n",
       "<caption>A matrix: 6 × 1 of type dbl</caption>\n",
       "<thead>\n",
       "\t<tr><th></th><th scope=col>convs24h</th></tr>\n",
       "</thead>\n",
       "<tbody>\n",
       "\t<tr><th scope=row>Xkr4</th><td>7.567725e-05</td></tr>\n",
       "\t<tr><th scope=row>Gm38717</th><td>6.396243e-02</td></tr>\n",
       "\t<tr><th scope=row>Sox17</th><td>7.925854e-01</td></tr>\n",
       "\t<tr><th scope=row>Mrpl15</th><td>6.660284e-02</td></tr>\n",
       "\t<tr><th scope=row>Lypla1</th><td>3.618635e-03</td></tr>\n",
       "\t<tr><th scope=row>Tcea1</th><td>3.909700e-03</td></tr>\n",
       "</tbody>\n",
       "</table>\n",
       "</dd>\n",
       "\t<dt>$lods</dt>\n",
       "\t\t<dd><table class=\"dataframe\">\n",
       "<caption>A matrix: 6 × 1 of type dbl</caption>\n",
       "<thead>\n",
       "\t<tr><th></th><th scope=col>convs24h</th></tr>\n",
       "</thead>\n",
       "<tbody>\n",
       "\t<tr><th scope=row>Xkr4</th><td> 1.793072</td></tr>\n",
       "\t<tr><th scope=row>Gm38717</th><td>-4.325415</td></tr>\n",
       "\t<tr><th scope=row>Sox17</th><td>-7.071814</td></tr>\n",
       "\t<tr><th scope=row>Mrpl15</th><td>-5.501732</td></tr>\n",
       "\t<tr><th scope=row>Lypla1</th><td>-2.501889</td></tr>\n",
       "\t<tr><th scope=row>Tcea1</th><td>-2.713966</td></tr>\n",
       "</tbody>\n",
       "</table>\n",
       "</dd>\n",
       "\t<dt>$F</dt>\n",
       "\t\t<dd><style>\n",
       ".list-inline {list-style: none; margin:0; padding: 0}\n",
       ".list-inline>li {display: inline-block}\n",
       ".list-inline>li:not(:last-child)::after {content: \"\\00b7\"; padding: 0 .5ex}\n",
       "</style>\n",
       "<ol class=list-inline><li>77.9240862093401</li><li>4.9730437490282</li><li>0.0750910918233302</li><li>4.84740378274116</li><li>19.7267361023218</li><li>19.1307168005966</li></ol>\n",
       "</dd>\n",
       "\t<dt>$F.p.value</dt>\n",
       "\t\t<dd><style>\n",
       ".list-inline {list-style: none; margin:0; padding: 0}\n",
       ".list-inline>li {display: inline-block}\n",
       ".list-inline>li:not(:last-child)::after {content: \"\\00b7\"; padding: 0 .5ex}\n",
       "</style>\n",
       "<ol class=list-inline><li>7.56772460147642e-05</li><li>0.0639624340836265</li><li>0.792585366465415</li><li>0.0666028352249024</li><li>0.00361863526772186</li><li>0.00390970026723356</li></ol>\n",
       "</dd>\n",
       "</dl>\n"
      ],
      "text/latex": [
       "\\begin{description}\n",
       "\\item[\\$coefficients] A matrix: 6 × 1 of type dbl\n",
       "\\begin{tabular}{r|l}\n",
       "  & convs24h\\\\\n",
       "\\hline\n",
       "\tXkr4 & -0.36954913\\\\\n",
       "\tGm38717 &  0.25602519\\\\\n",
       "\tSox17 &  0.02664111\\\\\n",
       "\tMrpl15 & -0.10002359\\\\\n",
       "\tLypla1 & -0.13815777\\\\\n",
       "\tTcea1 & -0.17747936\\\\\n",
       "\\end{tabular}\n",
       "\n",
       "\\item[\\$stdev.unscaled] A matrix: 6 × 1 of type dbl\n",
       "\\begin{tabular}{r|l}\n",
       "  & convs24h\\\\\n",
       "\\hline\n",
       "\tXkr4 & 0.04978389\\\\\n",
       "\tGm38717 & 0.19479551\\\\\n",
       "\tSox17 & 0.09192690\\\\\n",
       "\tMrpl15 & 0.05739960\\\\\n",
       "\tLypla1 & 0.05074946\\\\\n",
       "\tTcea1 & 0.04447582\\\\\n",
       "\\end{tabular}\n",
       "\n",
       "\\item[\\$sigma] \\begin{enumerate*}\n",
       "\\item 0.850177934362412\n",
       "\\item 0.373611538741528\n",
       "\\item 1.17884629386745\n",
       "\\item 0.769415987133329\n",
       "\\item 0.430708072255453\n",
       "\\item 0.962208367750373\n",
       "\\end{enumerate*}\n",
       "\n",
       "\\item[\\$df.residual] \\begin{enumerate*}\n",
       "\\item 4\n",
       "\\item 4\n",
       "\\item 4\n",
       "\\item 4\n",
       "\\item 4\n",
       "\\item 4\n",
       "\\end{enumerate*}\n",
       "\n",
       "\\item[\\$cov.coefficients] A matrix: 1 × 1 of type dbl\n",
       "\\begin{tabular}{r|l}\n",
       "  & convs24h\\\\\n",
       "\\hline\n",
       "\tconvs24h & 0.6666667\\\\\n",
       "\\end{tabular}\n",
       "\n",
       "\\item[\\$pivot] \\begin{enumerate*}\n",
       "\\item 1\n",
       "\\item 2\n",
       "\\end{enumerate*}\n",
       "\n",
       "\\item[\\$rank] 2\n",
       "\\item[\\$genes] A data.frame: 6 × 3\n",
       "\\begin{tabular}{r|lll}\n",
       "  & SYMBOL & ENTREZID & GENENAME\\\\\n",
       "  & <chr> & <chr> & <chr>\\\\\n",
       "\\hline\n",
       "\t1 & Xkr4    & 497097 & X-linked Kx blood group related 4        \\\\\n",
       "\t3 & Gm38717 & NA     & NA                                       \\\\\n",
       "\t5 & Sox17   & 20671  & SRY (sex determining region Y)-box 17    \\\\\n",
       "\t10 & Mrpl15  & 27395  & mitochondrial ribosomal protein L15      \\\\\n",
       "\t11 & Lypla1  & 18777  & lysophospholipase 1                      \\\\\n",
       "\t13 & Tcea1   & 21399  & transcription elongation factor A (SII) 1\\\\\n",
       "\\end{tabular}\n",
       "\n",
       "\\item[\\$Amean] \\begin{description*}\n",
       "\\item[Xkr4] 5.45796531070923\n",
       "\\item[Gm38717] -0.597720533636376\n",
       "\\item[Sox17] 2.41425243616959\n",
       "\\item[Mrpl15] 4.60428740414101\n",
       "\\item[Lypla1] 5.31054579094898\n",
       "\\item[Tcea1] 6.35754571149225\n",
       "\\end{description*}\n",
       "\n",
       "\\item[\\$method] 'ls'\n",
       "\\item[\\$design] A matrix: 6 × 2 of type dbl\n",
       "\\begin{tabular}{r|ll}\n",
       "  & control & hhp.24hr\\\\\n",
       "\\hline\n",
       "\t1 & 1 & 0\\\\\n",
       "\t2 & 1 & 0\\\\\n",
       "\t3 & 1 & 0\\\\\n",
       "\t4 & 0 & 1\\\\\n",
       "\t5 & 0 & 1\\\\\n",
       "\t6 & 0 & 1\\\\\n",
       "\\end{tabular}\n",
       "\n",
       "\\item[\\$contrasts] A matrix: 2 × 1 of type dbl\n",
       "\\begin{tabular}{r|l}\n",
       "  & convs24h\\\\\n",
       "\\hline\n",
       "\tcontrol & -1\\\\\n",
       "\thhp.24hr &  1\\\\\n",
       "\\end{tabular}\n",
       "\n",
       "\\item[\\$df.prior] 2.48453393363096\n",
       "\\item[\\$s2.prior] 0.681879776409876\n",
       "\\item[\\$var.prior] 1.29560175245812\n",
       "\\item[\\$proportion] 0.01\n",
       "\\item[\\$s2.post] \\begin{enumerate*}\n",
       "\\item 0.707123067036899\n",
       "\\item 0.347364327756553\n",
       "\\item 1.1184871350262\n",
       "\\item 0.626437818006433\n",
       "\\item 0.375692569752185\n",
       "\\item 0.832370262884888\n",
       "\\end{enumerate*}\n",
       "\n",
       "\\item[\\$t] A matrix: 6 × 1 of type dbl\n",
       "\\begin{tabular}{r|l}\n",
       "  & convs24h\\\\\n",
       "\\hline\n",
       "\tXkr4 & -8.8274620\\\\\n",
       "\tGm38717 &  2.2300322\\\\\n",
       "\tSox17 &  0.2740275\\\\\n",
       "\tMrpl15 & -2.2016820\\\\\n",
       "\tLypla1 & -4.4414790\\\\\n",
       "\tTcea1 & -4.3738675\\\\\n",
       "\\end{tabular}\n",
       "\n",
       "\\item[\\$df.total] \\begin{enumerate*}\n",
       "\\item 6.48453393363096\n",
       "\\item 6.48453393363096\n",
       "\\item 6.48453393363096\n",
       "\\item 6.48453393363096\n",
       "\\item 6.48453393363096\n",
       "\\item 6.48453393363096\n",
       "\\end{enumerate*}\n",
       "\n",
       "\\item[\\$p.value] A matrix: 6 × 1 of type dbl\n",
       "\\begin{tabular}{r|l}\n",
       "  & convs24h\\\\\n",
       "\\hline\n",
       "\tXkr4 & 7.567725e-05\\\\\n",
       "\tGm38717 & 6.396243e-02\\\\\n",
       "\tSox17 & 7.925854e-01\\\\\n",
       "\tMrpl15 & 6.660284e-02\\\\\n",
       "\tLypla1 & 3.618635e-03\\\\\n",
       "\tTcea1 & 3.909700e-03\\\\\n",
       "\\end{tabular}\n",
       "\n",
       "\\item[\\$lods] A matrix: 6 × 1 of type dbl\n",
       "\\begin{tabular}{r|l}\n",
       "  & convs24h\\\\\n",
       "\\hline\n",
       "\tXkr4 &  1.793072\\\\\n",
       "\tGm38717 & -4.325415\\\\\n",
       "\tSox17 & -7.071814\\\\\n",
       "\tMrpl15 & -5.501732\\\\\n",
       "\tLypla1 & -2.501889\\\\\n",
       "\tTcea1 & -2.713966\\\\\n",
       "\\end{tabular}\n",
       "\n",
       "\\item[\\$F] \\begin{enumerate*}\n",
       "\\item 77.9240862093401\n",
       "\\item 4.9730437490282\n",
       "\\item 0.0750910918233302\n",
       "\\item 4.84740378274116\n",
       "\\item 19.7267361023218\n",
       "\\item 19.1307168005966\n",
       "\\end{enumerate*}\n",
       "\n",
       "\\item[\\$F.p.value] \\begin{enumerate*}\n",
       "\\item 7.56772460147642e-05\n",
       "\\item 0.0639624340836265\n",
       "\\item 0.792585366465415\n",
       "\\item 0.0666028352249024\n",
       "\\item 0.00361863526772186\n",
       "\\item 0.00390970026723356\n",
       "\\end{enumerate*}\n",
       "\n",
       "\\end{description}\n"
      ],
      "text/markdown": [
       "$coefficients\n",
       ":   \n",
       "A matrix: 6 × 1 of type dbl\n",
       "\n",
       "| <!--/--> | convs24h |\n",
       "|---|---|\n",
       "| Xkr4 | -0.36954913 |\n",
       "| Gm38717 |  0.25602519 |\n",
       "| Sox17 |  0.02664111 |\n",
       "| Mrpl15 | -0.10002359 |\n",
       "| Lypla1 | -0.13815777 |\n",
       "| Tcea1 | -0.17747936 |\n",
       "\n",
       "\n",
       "$stdev.unscaled\n",
       ":   \n",
       "A matrix: 6 × 1 of type dbl\n",
       "\n",
       "| <!--/--> | convs24h |\n",
       "|---|---|\n",
       "| Xkr4 | 0.04978389 |\n",
       "| Gm38717 | 0.19479551 |\n",
       "| Sox17 | 0.09192690 |\n",
       "| Mrpl15 | 0.05739960 |\n",
       "| Lypla1 | 0.05074946 |\n",
       "| Tcea1 | 0.04447582 |\n",
       "\n",
       "\n",
       "$sigma\n",
       ":   1. 0.850177934362412\n",
       "2. 0.373611538741528\n",
       "3. 1.17884629386745\n",
       "4. 0.769415987133329\n",
       "5. 0.430708072255453\n",
       "6. 0.962208367750373\n",
       "\n",
       "\n",
       "\n",
       "$df.residual\n",
       ":   1. 4\n",
       "2. 4\n",
       "3. 4\n",
       "4. 4\n",
       "5. 4\n",
       "6. 4\n",
       "\n",
       "\n",
       "\n",
       "$cov.coefficients\n",
       ":   \n",
       "A matrix: 1 × 1 of type dbl\n",
       "\n",
       "| <!--/--> | convs24h |\n",
       "|---|---|\n",
       "| convs24h | 0.6666667 |\n",
       "\n",
       "\n",
       "$pivot\n",
       ":   1. 1\n",
       "2. 2\n",
       "\n",
       "\n",
       "\n",
       "$rank\n",
       ":   2\n",
       "$genes\n",
       ":   \n",
       "A data.frame: 6 × 3\n",
       "\n",
       "| <!--/--> | SYMBOL &lt;chr&gt; | ENTREZID &lt;chr&gt; | GENENAME &lt;chr&gt; |\n",
       "|---|---|---|---|\n",
       "| 1 | Xkr4    | 497097 | X-linked Kx blood group related 4         |\n",
       "| 3 | Gm38717 | NA     | NA                                        |\n",
       "| 5 | Sox17   | 20671  | SRY (sex determining region Y)-box 17     |\n",
       "| 10 | Mrpl15  | 27395  | mitochondrial ribosomal protein L15       |\n",
       "| 11 | Lypla1  | 18777  | lysophospholipase 1                       |\n",
       "| 13 | Tcea1   | 21399  | transcription elongation factor A (SII) 1 |\n",
       "\n",
       "\n",
       "$Amean\n",
       ":   Xkr4\n",
       ":   5.45796531070923Gm38717\n",
       ":   -0.597720533636376Sox17\n",
       ":   2.41425243616959Mrpl15\n",
       ":   4.60428740414101Lypla1\n",
       ":   5.31054579094898Tcea1\n",
       ":   6.35754571149225\n",
       "\n",
       "\n",
       "$method\n",
       ":   'ls'\n",
       "$design\n",
       ":   \n",
       "A matrix: 6 × 2 of type dbl\n",
       "\n",
       "| <!--/--> | control | hhp.24hr |\n",
       "|---|---|---|\n",
       "| 1 | 1 | 0 |\n",
       "| 2 | 1 | 0 |\n",
       "| 3 | 1 | 0 |\n",
       "| 4 | 0 | 1 |\n",
       "| 5 | 0 | 1 |\n",
       "| 6 | 0 | 1 |\n",
       "\n",
       "\n",
       "$contrasts\n",
       ":   \n",
       "A matrix: 2 × 1 of type dbl\n",
       "\n",
       "| <!--/--> | convs24h |\n",
       "|---|---|\n",
       "| control | -1 |\n",
       "| hhp.24hr |  1 |\n",
       "\n",
       "\n",
       "$df.prior\n",
       ":   2.48453393363096\n",
       "$s2.prior\n",
       ":   0.681879776409876\n",
       "$var.prior\n",
       ":   1.29560175245812\n",
       "$proportion\n",
       ":   0.01\n",
       "$s2.post\n",
       ":   1. 0.707123067036899\n",
       "2. 0.347364327756553\n",
       "3. 1.1184871350262\n",
       "4. 0.626437818006433\n",
       "5. 0.375692569752185\n",
       "6. 0.832370262884888\n",
       "\n",
       "\n",
       "\n",
       "$t\n",
       ":   \n",
       "A matrix: 6 × 1 of type dbl\n",
       "\n",
       "| <!--/--> | convs24h |\n",
       "|---|---|\n",
       "| Xkr4 | -8.8274620 |\n",
       "| Gm38717 |  2.2300322 |\n",
       "| Sox17 |  0.2740275 |\n",
       "| Mrpl15 | -2.2016820 |\n",
       "| Lypla1 | -4.4414790 |\n",
       "| Tcea1 | -4.3738675 |\n",
       "\n",
       "\n",
       "$df.total\n",
       ":   1. 6.48453393363096\n",
       "2. 6.48453393363096\n",
       "3. 6.48453393363096\n",
       "4. 6.48453393363096\n",
       "5. 6.48453393363096\n",
       "6. 6.48453393363096\n",
       "\n",
       "\n",
       "\n",
       "$p.value\n",
       ":   \n",
       "A matrix: 6 × 1 of type dbl\n",
       "\n",
       "| <!--/--> | convs24h |\n",
       "|---|---|\n",
       "| Xkr4 | 7.567725e-05 |\n",
       "| Gm38717 | 6.396243e-02 |\n",
       "| Sox17 | 7.925854e-01 |\n",
       "| Mrpl15 | 6.660284e-02 |\n",
       "| Lypla1 | 3.618635e-03 |\n",
       "| Tcea1 | 3.909700e-03 |\n",
       "\n",
       "\n",
       "$lods\n",
       ":   \n",
       "A matrix: 6 × 1 of type dbl\n",
       "\n",
       "| <!--/--> | convs24h |\n",
       "|---|---|\n",
       "| Xkr4 |  1.793072 |\n",
       "| Gm38717 | -4.325415 |\n",
       "| Sox17 | -7.071814 |\n",
       "| Mrpl15 | -5.501732 |\n",
       "| Lypla1 | -2.501889 |\n",
       "| Tcea1 | -2.713966 |\n",
       "\n",
       "\n",
       "$F\n",
       ":   1. 77.9240862093401\n",
       "2. 4.9730437490282\n",
       "3. 0.0750910918233302\n",
       "4. 4.84740378274116\n",
       "5. 19.7267361023218\n",
       "6. 19.1307168005966\n",
       "\n",
       "\n",
       "\n",
       "$F.p.value\n",
       ":   1. 7.56772460147642e-05\n",
       "2. 0.0639624340836265\n",
       "3. 0.792585366465415\n",
       "4. 0.0666028352249024\n",
       "5. 0.00361863526772186\n",
       "6. 0.00390970026723356\n",
       "\n",
       "\n",
       "\n",
       "\n",
       "\n"
      ],
      "text/plain": [
       "An object of class \"MArrayLM\"\n",
       "$coefficients\n",
       "         Contrasts\n",
       "             convs24h\n",
       "  Xkr4    -0.36954913\n",
       "  Gm38717  0.25602519\n",
       "  Sox17    0.02664111\n",
       "  Mrpl15  -0.10002359\n",
       "  Lypla1  -0.13815777\n",
       "  Tcea1   -0.17747936\n",
       "\n",
       "$stdev.unscaled\n",
       "         Contrasts\n",
       "            convs24h\n",
       "  Xkr4    0.04978389\n",
       "  Gm38717 0.19479551\n",
       "  Sox17   0.09192690\n",
       "  Mrpl15  0.05739960\n",
       "  Lypla1  0.05074946\n",
       "  Tcea1   0.04447582\n",
       "\n",
       "$sigma\n",
       "[1] 0.8501779 0.3736115 1.1788463 0.7694160 0.4307081 0.9622084\n",
       "\n",
       "$df.residual\n",
       "[1] 4 4 4 4 4 4\n",
       "\n",
       "$cov.coefficients\n",
       "          Contrasts\n",
       "Contrasts   convs24h\n",
       "  convs24h 0.6666667\n",
       "\n",
       "$pivot\n",
       "[1] 1 2\n",
       "\n",
       "$rank\n",
       "[1] 2\n",
       "\n",
       "$genes\n",
       "    SYMBOL ENTREZID                                  GENENAME\n",
       "1     Xkr4   497097         X-linked Kx blood group related 4\n",
       "3  Gm38717     <NA>                                      <NA>\n",
       "5    Sox17    20671     SRY (sex determining region Y)-box 17\n",
       "10  Mrpl15    27395       mitochondrial ribosomal protein L15\n",
       "11  Lypla1    18777                       lysophospholipase 1\n",
       "13   Tcea1    21399 transcription elongation factor A (SII) 1\n",
       "\n",
       "$Amean\n",
       "      Xkr4    Gm38717      Sox17     Mrpl15     Lypla1      Tcea1 \n",
       " 5.4579653 -0.5977205  2.4142524  4.6042874  5.3105458  6.3575457 \n",
       "\n",
       "$method\n",
       "[1] \"ls\"\n",
       "\n",
       "$design\n",
       "  control hhp.24hr\n",
       "1       1        0\n",
       "2       1        0\n",
       "3       1        0\n",
       "4       0        1\n",
       "5       0        1\n",
       "6       0        1\n",
       "attr(,\"assign\")\n",
       "[1] 1 1\n",
       "attr(,\"contrasts\")\n",
       "attr(,\"contrasts\")$treatment\n",
       "[1] \"contr.treatment\"\n",
       "\n",
       "\n",
       "$contrasts\n",
       "          Contrasts\n",
       "Levels     convs24h\n",
       "  control        -1\n",
       "  hhp.24hr        1\n",
       "\n",
       "$df.prior\n",
       "[1] 2.484534\n",
       "\n",
       "$s2.prior\n",
       "[1] 0.6818798\n",
       "\n",
       "$var.prior\n",
       "[1] 1.295602\n",
       "\n",
       "$proportion\n",
       "[1] 0.01\n",
       "\n",
       "$s2.post\n",
       "[1] 0.7071231 0.3473643 1.1184871 0.6264378 0.3756926 0.8323703\n",
       "\n",
       "$t\n",
       "         Contrasts\n",
       "            convs24h\n",
       "  Xkr4    -8.8274620\n",
       "  Gm38717  2.2300322\n",
       "  Sox17    0.2740275\n",
       "  Mrpl15  -2.2016820\n",
       "  Lypla1  -4.4414790\n",
       "  Tcea1   -4.3738675\n",
       "\n",
       "$df.total\n",
       "[1] 6.484534 6.484534 6.484534 6.484534 6.484534 6.484534\n",
       "\n",
       "$p.value\n",
       "         Contrasts\n",
       "              convs24h\n",
       "  Xkr4    7.567725e-05\n",
       "  Gm38717 6.396243e-02\n",
       "  Sox17   7.925854e-01\n",
       "  Mrpl15  6.660284e-02\n",
       "  Lypla1  3.618635e-03\n",
       "  Tcea1   3.909700e-03\n",
       "\n",
       "$lods\n",
       "         Contrasts\n",
       "           convs24h\n",
       "  Xkr4     1.793072\n",
       "  Gm38717 -4.325415\n",
       "  Sox17   -7.071814\n",
       "  Mrpl15  -5.501732\n",
       "  Lypla1  -2.501889\n",
       "  Tcea1   -2.713966\n",
       "\n",
       "$F\n",
       "[1] 77.92408621  4.97304375  0.07509109  4.84740378 19.72673610 19.13071680\n",
       "\n",
       "$F.p.value\n",
       "[1] 7.567725e-05 6.396243e-02 7.925854e-01 6.660284e-02 3.618635e-03\n",
       "[6] 3.909700e-03\n"
      ]
     },
     "metadata": {},
     "output_type": "display_data"
    }
   ],
   "source": [
    "head(fit.cont.B)"
   ]
  },
  {
   "cell_type": "code",
   "execution_count": 55,
   "metadata": {
    "colab": {
     "base_uri": "https://localhost:8080/",
     "height": 495
    },
    "executionInfo": {
     "elapsed": 132,
     "status": "ok",
     "timestamp": 1636990193708,
     "user": {
      "displayName": "Shaoqiu He",
      "photoUrl": "https://lh3.googleusercontent.com/a-/AOh14GjqxDDKIvj-k4BT2y4gflK2grm-E052z036TINn0w=s64",
      "userId": "16738992239117859264"
     },
     "user_tz": 300
    },
    "id": "TbMWF-njC87a",
    "outputId": "06a9b604-c8c6-4131-9812-63f4a4144ecd"
   },
   "outputs": [
    {
     "data": {
      "text/html": [
       "<table class=\"dataframe\">\n",
       "<caption>A data.frame: 6 × 9</caption>\n",
       "<thead>\n",
       "\t<tr><th></th><th scope=col>SYMBOL</th><th scope=col>ENTREZID</th><th scope=col>GENENAME</th><th scope=col>logFC</th><th scope=col>AveExpr</th><th scope=col>t</th><th scope=col>P.Value</th><th scope=col>adj.P.Val</th><th scope=col>B</th></tr>\n",
       "\t<tr><th></th><th scope=col>&lt;chr&gt;</th><th scope=col>&lt;chr&gt;</th><th scope=col>&lt;chr&gt;</th><th scope=col>&lt;dbl&gt;</th><th scope=col>&lt;dbl&gt;</th><th scope=col>&lt;dbl&gt;</th><th scope=col>&lt;dbl&gt;</th><th scope=col>&lt;dbl&gt;</th><th scope=col>&lt;dbl&gt;</th></tr>\n",
       "</thead>\n",
       "<tbody>\n",
       "\t<tr><th scope=row>Mt2</th><td>Mt2     </td><td>17750 </td><td>metallothionein 2                                     </td><td>-2.9667881</td><td>3.270949</td><td>-44.71491</td><td>2.542220e-09</td><td>4.249321e-05</td><td>10.447207</td></tr>\n",
       "\t<tr><th scope=row>Slc39a10</th><td>Slc39a10</td><td>227059</td><td>solute carrier family 39 (zinc transporter), member 10</td><td> 1.3895970</td><td>6.915651</td><td> 31.86317</td><td>2.267839e-08</td><td>9.476731e-05</td><td>10.312108</td></tr>\n",
       "\t<tr><th scope=row>Slc30a1</th><td>Slc30a1 </td><td>22782 </td><td>solute carrier family 30 (zinc transporter), member 1 </td><td>-1.6030999</td><td>3.909567</td><td>-34.12957</td><td>1.455843e-08</td><td>8.111470e-05</td><td>10.152328</td></tr>\n",
       "\t<tr><th scope=row>Tac1</th><td>Tac1    </td><td>21333 </td><td>tachykinin 1                                          </td><td> 1.0300185</td><td>6.560883</td><td> 30.01384</td><td>3.334243e-08</td><td>1.114637e-04</td><td> 9.938360</td></tr>\n",
       "\t<tr><th scope=row>Pdrg1</th><td>Pdrg1   </td><td>68559 </td><td>p53 and DNA damage regulated 1                        </td><td> 0.9789992</td><td>5.655328</td><td> 29.13716</td><td>4.035889e-08</td><td>1.124331e-04</td><td> 9.722825</td></tr>\n",
       "\t<tr><th scope=row>Calr3</th><td>Calr3   </td><td>73316 </td><td>calreticulin 3                                        </td><td> 1.7956720</td><td>2.624883</td><td> 34.73253</td><td>1.300266e-08</td><td>8.111470e-05</td><td> 9.550633</td></tr>\n",
       "</tbody>\n",
       "</table>\n"
      ],
      "text/latex": [
       "A data.frame: 6 × 9\n",
       "\\begin{tabular}{r|lllllllll}\n",
       "  & SYMBOL & ENTREZID & GENENAME & logFC & AveExpr & t & P.Value & adj.P.Val & B\\\\\n",
       "  & <chr> & <chr> & <chr> & <dbl> & <dbl> & <dbl> & <dbl> & <dbl> & <dbl>\\\\\n",
       "\\hline\n",
       "\tMt2 & Mt2      & 17750  & metallothionein 2                                      & -2.9667881 & 3.270949 & -44.71491 & 2.542220e-09 & 4.249321e-05 & 10.447207\\\\\n",
       "\tSlc39a10 & Slc39a10 & 227059 & solute carrier family 39 (zinc transporter), member 10 &  1.3895970 & 6.915651 &  31.86317 & 2.267839e-08 & 9.476731e-05 & 10.312108\\\\\n",
       "\tSlc30a1 & Slc30a1  & 22782  & solute carrier family 30 (zinc transporter), member 1  & -1.6030999 & 3.909567 & -34.12957 & 1.455843e-08 & 8.111470e-05 & 10.152328\\\\\n",
       "\tTac1 & Tac1     & 21333  & tachykinin 1                                           &  1.0300185 & 6.560883 &  30.01384 & 3.334243e-08 & 1.114637e-04 &  9.938360\\\\\n",
       "\tPdrg1 & Pdrg1    & 68559  & p53 and DNA damage regulated 1                         &  0.9789992 & 5.655328 &  29.13716 & 4.035889e-08 & 1.124331e-04 &  9.722825\\\\\n",
       "\tCalr3 & Calr3    & 73316  & calreticulin 3                                         &  1.7956720 & 2.624883 &  34.73253 & 1.300266e-08 & 8.111470e-05 &  9.550633\\\\\n",
       "\\end{tabular}\n"
      ],
      "text/markdown": [
       "\n",
       "A data.frame: 6 × 9\n",
       "\n",
       "| <!--/--> | SYMBOL &lt;chr&gt; | ENTREZID &lt;chr&gt; | GENENAME &lt;chr&gt; | logFC &lt;dbl&gt; | AveExpr &lt;dbl&gt; | t &lt;dbl&gt; | P.Value &lt;dbl&gt; | adj.P.Val &lt;dbl&gt; | B &lt;dbl&gt; |\n",
       "|---|---|---|---|---|---|---|---|---|---|\n",
       "| Mt2 | Mt2      | 17750  | metallothionein 2                                      | -2.9667881 | 3.270949 | -44.71491 | 2.542220e-09 | 4.249321e-05 | 10.447207 |\n",
       "| Slc39a10 | Slc39a10 | 227059 | solute carrier family 39 (zinc transporter), member 10 |  1.3895970 | 6.915651 |  31.86317 | 2.267839e-08 | 9.476731e-05 | 10.312108 |\n",
       "| Slc30a1 | Slc30a1  | 22782  | solute carrier family 30 (zinc transporter), member 1  | -1.6030999 | 3.909567 | -34.12957 | 1.455843e-08 | 8.111470e-05 | 10.152328 |\n",
       "| Tac1 | Tac1     | 21333  | tachykinin 1                                           |  1.0300185 | 6.560883 |  30.01384 | 3.334243e-08 | 1.114637e-04 |  9.938360 |\n",
       "| Pdrg1 | Pdrg1    | 68559  | p53 and DNA damage regulated 1                         |  0.9789992 | 5.655328 |  29.13716 | 4.035889e-08 | 1.124331e-04 |  9.722825 |\n",
       "| Calr3 | Calr3    | 73316  | calreticulin 3                                         |  1.7956720 | 2.624883 |  34.73253 | 1.300266e-08 | 8.111470e-05 |  9.550633 |\n",
       "\n"
      ],
      "text/plain": [
       "         SYMBOL   ENTREZID\n",
       "Mt2      Mt2      17750   \n",
       "Slc39a10 Slc39a10 227059  \n",
       "Slc30a1  Slc30a1  22782   \n",
       "Tac1     Tac1     21333   \n",
       "Pdrg1    Pdrg1    68559   \n",
       "Calr3    Calr3    73316   \n",
       "         GENENAME                                               logFC     \n",
       "Mt2      metallothionein 2                                      -2.9667881\n",
       "Slc39a10 solute carrier family 39 (zinc transporter), member 10  1.3895970\n",
       "Slc30a1  solute carrier family 30 (zinc transporter), member 1  -1.6030999\n",
       "Tac1     tachykinin 1                                            1.0300185\n",
       "Pdrg1    p53 and DNA damage regulated 1                          0.9789992\n",
       "Calr3    calreticulin 3                                          1.7956720\n",
       "         AveExpr  t         P.Value      adj.P.Val    B        \n",
       "Mt2      3.270949 -44.71491 2.542220e-09 4.249321e-05 10.447207\n",
       "Slc39a10 6.915651  31.86317 2.267839e-08 9.476731e-05 10.312108\n",
       "Slc30a1  3.909567 -34.12957 1.455843e-08 8.111470e-05 10.152328\n",
       "Tac1     6.560883  30.01384 3.334243e-08 1.114637e-04  9.938360\n",
       "Pdrg1    5.655328  29.13716 4.035889e-08 1.124331e-04  9.722825\n",
       "Calr3    2.624883  34.73253 1.300266e-08 8.111470e-05  9.550633"
      ]
     },
     "metadata": {},
     "output_type": "display_data"
    },
    {
     "data": {
      "text/html": [
       "<style>\n",
       ".list-inline {list-style: none; margin:0; padding: 0}\n",
       ".list-inline>li {display: inline-block}\n",
       ".list-inline>li:not(:last-child)::after {content: \"\\00b7\"; padding: 0 .5ex}\n",
       "</style>\n",
       "<ol class=list-inline><li>16715</li><li>9</li></ol>\n"
      ],
      "text/latex": [
       "\\begin{enumerate*}\n",
       "\\item 16715\n",
       "\\item 9\n",
       "\\end{enumerate*}\n"
      ],
      "text/markdown": [
       "1. 16715\n",
       "2. 9\n",
       "\n",
       "\n"
      ],
      "text/plain": [
       "[1] 16715     9"
      ]
     },
     "metadata": {},
     "output_type": "display_data"
    }
   ],
   "source": [
    "seq_tab <- topTable(fit.cont.B, adjust = \"BH\", n = \"inf\")\n",
    "head(seq_tab)\n",
    "dim(seq_tab)"
   ]
  },
  {
   "cell_type": "code",
   "execution_count": 56,
   "metadata": {
    "id": "C1QnjdABFMH6"
   },
   "outputs": [],
   "source": [
    "write.csv(seq_tab, \"RNA-seqResults-Convs24h.csv\")"
   ]
  },
  {
   "cell_type": "code",
   "execution_count": 57,
   "metadata": {
    "id": "MM3NU_aZp8U9"
   },
   "outputs": [],
   "source": [
    "saveRDS(seq_tab, \"./seq_tab.rds\")"
   ]
  },
  {
   "cell_type": "markdown",
   "metadata": {
    "id": "VfKXbhVTusac"
   },
   "source": [
    "### Plots after testing for DE\n",
    "To summarise results for all genes visually, mean-difference plots, which display log-FCs from the linear model fit against the average log-CPM values can be generated using the plotMD function, with the differentially expressed genes highlighted."
   ]
  },
  {
   "cell_type": "code",
   "execution_count": 58,
   "metadata": {
    "colab": {
     "base_uri": "https://localhost:8080/",
     "height": 857
    },
    "executionInfo": {
     "elapsed": 602,
     "status": "ok",
     "timestamp": 1636989800522,
     "user": {
      "displayName": "Shaoqiu He",
      "photoUrl": "https://lh3.googleusercontent.com/a-/AOh14GjqxDDKIvj-k4BT2y4gflK2grm-E052z036TINn0w=s64",
      "userId": "16738992239117859264"
     },
     "user_tz": 300
    },
    "id": "GwenLqvgDqW7",
    "outputId": "f3f86772-d929-411f-ec40-a2067098b327",
    "scrolled": true
   },
   "outputs": [
    {
     "data": {
      "image/png": "[encoded data removed]",
      "text/plain": [
       "Plot with title \"convs24h\""
      ]
     },
     "metadata": {
      "image/png": {
       "height": 420,
       "width": 420
      }
     },
     "output_type": "display_data"
    },
    {
     "data": {
      "image/png": "[encoded data removed]",
      "text/plain": [
       "Plot with title \"convs24h\""
      ]
     },
     "metadata": {
      "image/png": {
       "height": 420,
       "width": 420
      }
     },
     "output_type": "display_data"
    }
   ],
   "source": [
    "# We want to highlight the significant genes. We can get this from decideTests.\n",
    "plotMD(fit.cont.B, coef = 1, status = summa.fit.B[, \"convs24h\"], values = c(-1, 1),\n",
    "    hl.col = c(\"blue\", \"red\"))\n",
    "# For the volcano plot we have to specify how many of the top genes to\n",
    "# highlight.  We can also specify that we want to plot the gene symbol for the\n",
    "# highlighted genes.  let's highlight the top 100 most DE genes\n",
    "volcanoplot(fit.cont.B, coef = 1,  names = fit.cont.B$genes$SYMBOL,\n",
    "    main = \"convs24h\")\n",
    "# ook at the MD plot and volcano plot for the second comparison, L.PregVsLac.\n",
    "# Change the number of highlighted genes to 200 in the volcano plot."
   ]
  },
  {
   "cell_type": "markdown",
   "metadata": {
    "colab": {
     "base_uri": "https://localhost:8080/",
     "height": 437
    },
    "executionInfo": {
     "elapsed": 286,
     "status": "ok",
     "timestamp": 1636989803034,
     "user": {
      "displayName": "Shaoqiu He",
      "photoUrl": "https://lh3.googleusercontent.com/a-/AOh14GjqxDDKIvj-k4BT2y4gflK2grm-E052z036TINn0w=s64",
      "userId": "16738992239117859264"
     },
     "user_tz": 300
    },
    "id": "zmu_7z_lCJ3x",
    "outputId": "082ea296-b4f1-4158-841c-74b686b60cff",
    "scrolled": true
   },
   "source": [
    "### Examining the number of DE genes\n",
    "For a quick look at differential expression levels, the number of significantly up- and down-regulated genes can be summarised in a table. Significance is defined using an adjusted p-value cutoff that is set at 5% by default. For the comparison between expression levels in basal and LP, 4,648 genes are found to be down-regulated in basal relative to LP and 4,863 genes are up-regulated in basal relative to LP – a total of 9,511 DE genes. A total of 9,598 DE genes are found between basal and ML (4,927 down- and 4,671 up-regulated genes), and a total of 5,652 DE genes are found between LP and ML (3,135 down- and 2,517 up-regulated). The larger numbers of DE genes observed for comparisons involving the basal population are consistent with our observations from the MDS plots."
   ]
  },
  {
   "cell_type": "code",
   "execution_count": 59,
   "metadata": {
    "colab": {
     "base_uri": "https://localhost:8080/",
     "height": 437
    },
    "executionInfo": {
     "elapsed": 348,
     "status": "ok",
     "timestamp": 1634224578015,
     "user": {
      "displayName": "Shaoqiu He",
      "photoUrl": "https://lh3.googleusercontent.com/a-/AOh14GjqxDDKIvj-k4BT2y4gflK2grm-E052z036TINn0w=s64",
      "userId": "16738992239117859264"
     },
     "user_tz": 240
    },
    "id": "YrMSCbntfoic",
    "outputId": "9311d6d2-b680-48ec-d33c-b2ac493e2b6c"
   },
   "outputs": [
    {
     "data": {
      "text/plain": [
       "       convs24h\n",
       "Down       1019\n",
       "NotSig    14673\n",
       "Up         1023"
      ]
     },
     "metadata": {},
     "output_type": "display_data"
    }
   ],
   "source": [
    "summary(summa.fit.B)"
   ]
  },
  {
   "cell_type": "markdown",
   "metadata": {
    "id": "hwcdvH40xzcQ"
   },
   "source": [
    "### Testing relative to a threshold (TREAT)\n",
    "In other words, you are not controlling the false discovery rate at 5% any  more. There is a function called treat in the limma package that performs this style of analysis correctly (McCarthy and Smyth 2009).  Let's decide that we are only interested in genes that have a absolute logFC of 1.  This corresponds to a fold change of 2, or 0.5 (i.e.  double or half).  We can perform a treat analysis which ranks our genes according to p-value AND logFC.  This is easy to do after our analysis, we just give the treat function the fit.cont object and specify our cut-off.\n"
   ]
  },
  {
   "cell_type": "code",
   "execution_count": 60,
   "metadata": {
    "colab": {
     "base_uri": "https://localhost:8080/",
     "height": 1000
    },
    "executionInfo": {
     "elapsed": 2151,
     "status": "ok",
     "timestamp": 1634226159793,
     "user": {
      "displayName": "Shaoqiu He",
      "photoUrl": "https://lh3.googleusercontent.com/a-/AOh14GjqxDDKIvj-k4BT2y4gflK2grm-E052z036TINn0w=s64",
      "userId": "16738992239117859264"
     },
     "user_tz": 240
    },
    "id": "TR1ammKGGObn",
    "outputId": "64406fc0-3564-4b5f-e440-2cd9799c8e86"
   },
   "outputs": [
    {
     "data": {
      "text/plain": [
       "       convs24h\n",
       "Down        455\n",
       "NotSig    15881\n",
       "Up          379"
      ]
     },
     "metadata": {},
     "output_type": "display_data"
    },
    {
     "data": {
      "text/html": [
       "<table class=\"dataframe\">\n",
       "<caption>A data.frame: 10 × 8</caption>\n",
       "<thead>\n",
       "\t<tr><th></th><th scope=col>SYMBOL</th><th scope=col>ENTREZID</th><th scope=col>GENENAME</th><th scope=col>logFC</th><th scope=col>AveExpr</th><th scope=col>t</th><th scope=col>P.Value</th><th scope=col>adj.P.Val</th></tr>\n",
       "\t<tr><th></th><th scope=col>&lt;chr&gt;</th><th scope=col>&lt;chr&gt;</th><th scope=col>&lt;chr&gt;</th><th scope=col>&lt;dbl&gt;</th><th scope=col>&lt;dbl&gt;</th><th scope=col>&lt;dbl&gt;</th><th scope=col>&lt;dbl&gt;</th><th scope=col>&lt;dbl&gt;</th></tr>\n",
       "</thead>\n",
       "<tbody>\n",
       "\t<tr><th scope=row>Mt2</th><td>Mt2     </td><td>17750    </td><td>metallothionein 2                                                                        </td><td>-2.9667881</td><td>3.2709491</td><td>-40.19336</td><td>3.213648e-09</td><td>5.371613e-05</td></tr>\n",
       "\t<tr><th scope=row>Calr3</th><td>Calr3   </td><td>73316    </td><td>calreticulin 3                                                                           </td><td> 1.7956720</td><td>2.6248831</td><td> 28.92983</td><td>2.352637e-08</td><td>1.675800e-04</td></tr>\n",
       "\t<tr><th scope=row>Slc30a1</th><td>Slc30a1 </td><td>22782    </td><td>solute carrier family 30 (zinc transporter), member 1                                    </td><td>-1.6030999</td><td>3.9095666</td><td>-27.74265</td><td>3.007718e-08</td><td>1.675800e-04</td></tr>\n",
       "\t<tr><th scope=row>Slc39a10</th><td>Slc39a10</td><td>227059   </td><td>solute carrier family 39 (zinc transporter), member 10                                   </td><td> 1.3895970</td><td>6.9156506</td><td> 24.98423</td><td>5.748201e-08</td><td>2.402029e-04</td></tr>\n",
       "\t<tr><th scope=row>Tac1</th><td>Tac1    </td><td>21333    </td><td>tachykinin 1                                                                             </td><td> 1.0300185</td><td>6.5608828</td><td> 21.27210</td><td>1.555075e-07</td><td>5.198617e-04</td></tr>\n",
       "\t<tr><th scope=row>Pdrg1</th><td>Pdrg1   </td><td>68559    </td><td>p53 and DNA damage regulated 1                                                           </td><td> 0.9789992</td><td>5.6553276</td><td> 20.20850</td><td>2.150767e-07</td><td>5.991678e-04</td></tr>\n",
       "\t<tr><th scope=row>Gm39663</th><td>Gm39663 </td><td>105243956</td><td>predicted gene, 39663                                                                    </td><td> 1.8814494</td><td>2.0653861</td><td> 19.70893</td><td>2.797036e-07</td><td>6.310893e-04</td></tr>\n",
       "\t<tr><th scope=row>Kcnn1</th><td>Kcnn1   </td><td>84036    </td><td>potassium intermediate/small conductance calcium-activated channel, subfamily N, member 1</td><td> 1.2059196</td><td>3.6281919</td><td> 19.22472</td><td>3.020469e-07</td><td>6.310893e-04</td></tr>\n",
       "\t<tr><th scope=row>Apob</th><td>Apob    </td><td>238055   </td><td>apolipoprotein B                                                                         </td><td> 1.9301616</td><td>0.3158911</td><td> 18.59523</td><td>4.081239e-07</td><td>7.579768e-04</td></tr>\n",
       "\t<tr><th scope=row>Prrg2</th><td>Prrg2   </td><td>65116    </td><td>proline-rich Gla (G-carboxyglutamic acid) polypeptide 2                                  </td><td> 1.3884162</td><td>3.5676610</td><td> 16.88250</td><td>7.058462e-07</td><td>1.040659e-03</td></tr>\n",
       "</tbody>\n",
       "</table>\n"
      ],
      "text/latex": [
       "A data.frame: 10 × 8\n",
       "\\begin{tabular}{r|llllllll}\n",
       "  & SYMBOL & ENTREZID & GENENAME & logFC & AveExpr & t & P.Value & adj.P.Val\\\\\n",
       "  & <chr> & <chr> & <chr> & <dbl> & <dbl> & <dbl> & <dbl> & <dbl>\\\\\n",
       "\\hline\n",
       "\tMt2 & Mt2      & 17750     & metallothionein 2                                                                         & -2.9667881 & 3.2709491 & -40.19336 & 3.213648e-09 & 5.371613e-05\\\\\n",
       "\tCalr3 & Calr3    & 73316     & calreticulin 3                                                                            &  1.7956720 & 2.6248831 &  28.92983 & 2.352637e-08 & 1.675800e-04\\\\\n",
       "\tSlc30a1 & Slc30a1  & 22782     & solute carrier family 30 (zinc transporter), member 1                                     & -1.6030999 & 3.9095666 & -27.74265 & 3.007718e-08 & 1.675800e-04\\\\\n",
       "\tSlc39a10 & Slc39a10 & 227059    & solute carrier family 39 (zinc transporter), member 10                                    &  1.3895970 & 6.9156506 &  24.98423 & 5.748201e-08 & 2.402029e-04\\\\\n",
       "\tTac1 & Tac1     & 21333     & tachykinin 1                                                                              &  1.0300185 & 6.5608828 &  21.27210 & 1.555075e-07 & 5.198617e-04\\\\\n",
       "\tPdrg1 & Pdrg1    & 68559     & p53 and DNA damage regulated 1                                                            &  0.9789992 & 5.6553276 &  20.20850 & 2.150767e-07 & 5.991678e-04\\\\\n",
       "\tGm39663 & Gm39663  & 105243956 & predicted gene, 39663                                                                     &  1.8814494 & 2.0653861 &  19.70893 & 2.797036e-07 & 6.310893e-04\\\\\n",
       "\tKcnn1 & Kcnn1    & 84036     & potassium intermediate/small conductance calcium-activated channel, subfamily N, member 1 &  1.2059196 & 3.6281919 &  19.22472 & 3.020469e-07 & 6.310893e-04\\\\\n",
       "\tApob & Apob     & 238055    & apolipoprotein B                                                                          &  1.9301616 & 0.3158911 &  18.59523 & 4.081239e-07 & 7.579768e-04\\\\\n",
       "\tPrrg2 & Prrg2    & 65116     & proline-rich Gla (G-carboxyglutamic acid) polypeptide 2                                   &  1.3884162 & 3.5676610 &  16.88250 & 7.058462e-07 & 1.040659e-03\\\\\n",
       "\\end{tabular}\n"
      ],
      "text/markdown": [
       "\n",
       "A data.frame: 10 × 8\n",
       "\n",
       "| <!--/--> | SYMBOL &lt;chr&gt; | ENTREZID &lt;chr&gt; | GENENAME &lt;chr&gt; | logFC &lt;dbl&gt; | AveExpr &lt;dbl&gt; | t &lt;dbl&gt; | P.Value &lt;dbl&gt; | adj.P.Val &lt;dbl&gt; |\n",
       "|---|---|---|---|---|---|---|---|---|\n",
       "| Mt2 | Mt2      | 17750     | metallothionein 2                                                                         | -2.9667881 | 3.2709491 | -40.19336 | 3.213648e-09 | 5.371613e-05 |\n",
       "| Calr3 | Calr3    | 73316     | calreticulin 3                                                                            |  1.7956720 | 2.6248831 |  28.92983 | 2.352637e-08 | 1.675800e-04 |\n",
       "| Slc30a1 | Slc30a1  | 22782     | solute carrier family 30 (zinc transporter), member 1                                     | -1.6030999 | 3.9095666 | -27.74265 | 3.007718e-08 | 1.675800e-04 |\n",
       "| Slc39a10 | Slc39a10 | 227059    | solute carrier family 39 (zinc transporter), member 10                                    |  1.3895970 | 6.9156506 |  24.98423 | 5.748201e-08 | 2.402029e-04 |\n",
       "| Tac1 | Tac1     | 21333     | tachykinin 1                                                                              |  1.0300185 | 6.5608828 |  21.27210 | 1.555075e-07 | 5.198617e-04 |\n",
       "| Pdrg1 | Pdrg1    | 68559     | p53 and DNA damage regulated 1                                                            |  0.9789992 | 5.6553276 |  20.20850 | 2.150767e-07 | 5.991678e-04 |\n",
       "| Gm39663 | Gm39663  | 105243956 | predicted gene, 39663                                                                     |  1.8814494 | 2.0653861 |  19.70893 | 2.797036e-07 | 6.310893e-04 |\n",
       "| Kcnn1 | Kcnn1    | 84036     | potassium intermediate/small conductance calcium-activated channel, subfamily N, member 1 |  1.2059196 | 3.6281919 |  19.22472 | 3.020469e-07 | 6.310893e-04 |\n",
       "| Apob | Apob     | 238055    | apolipoprotein B                                                                          |  1.9301616 | 0.3158911 |  18.59523 | 4.081239e-07 | 7.579768e-04 |\n",
       "| Prrg2 | Prrg2    | 65116     | proline-rich Gla (G-carboxyglutamic acid) polypeptide 2                                   |  1.3884162 | 3.5676610 |  16.88250 | 7.058462e-07 | 1.040659e-03 |\n",
       "\n"
      ],
      "text/plain": [
       "         SYMBOL   ENTREZID \n",
       "Mt2      Mt2      17750    \n",
       "Calr3    Calr3    73316    \n",
       "Slc30a1  Slc30a1  22782    \n",
       "Slc39a10 Slc39a10 227059   \n",
       "Tac1     Tac1     21333    \n",
       "Pdrg1    Pdrg1    68559    \n",
       "Gm39663  Gm39663  105243956\n",
       "Kcnn1    Kcnn1    84036    \n",
       "Apob     Apob     238055   \n",
       "Prrg2    Prrg2    65116    \n",
       "         GENENAME                                                                                 \n",
       "Mt2      metallothionein 2                                                                        \n",
       "Calr3    calreticulin 3                                                                           \n",
       "Slc30a1  solute carrier family 30 (zinc transporter), member 1                                    \n",
       "Slc39a10 solute carrier family 39 (zinc transporter), member 10                                   \n",
       "Tac1     tachykinin 1                                                                             \n",
       "Pdrg1    p53 and DNA damage regulated 1                                                           \n",
       "Gm39663  predicted gene, 39663                                                                    \n",
       "Kcnn1    potassium intermediate/small conductance calcium-activated channel, subfamily N, member 1\n",
       "Apob     apolipoprotein B                                                                         \n",
       "Prrg2    proline-rich Gla (G-carboxyglutamic acid) polypeptide 2                                  \n",
       "         logFC      AveExpr   t         P.Value      adj.P.Val   \n",
       "Mt2      -2.9667881 3.2709491 -40.19336 3.213648e-09 5.371613e-05\n",
       "Calr3     1.7956720 2.6248831  28.92983 2.352637e-08 1.675800e-04\n",
       "Slc30a1  -1.6030999 3.9095666 -27.74265 3.007718e-08 1.675800e-04\n",
       "Slc39a10  1.3895970 6.9156506  24.98423 5.748201e-08 2.402029e-04\n",
       "Tac1      1.0300185 6.5608828  21.27210 1.555075e-07 5.198617e-04\n",
       "Pdrg1     0.9789992 5.6553276  20.20850 2.150767e-07 5.991678e-04\n",
       "Gm39663   1.8814494 2.0653861  19.70893 2.797036e-07 6.310893e-04\n",
       "Kcnn1     1.2059196 3.6281919  19.22472 3.020469e-07 6.310893e-04\n",
       "Apob      1.9301616 0.3158911  18.59523 4.081239e-07 7.579768e-04\n",
       "Prrg2     1.3884162 3.5676610  16.88250 7.058462e-07 1.040659e-03"
      ]
     },
     "metadata": {},
     "output_type": "display_data"
    },
    {
     "data": {
      "image/png": "[encoded data removed]",
      "text/plain": [
       "Plot with title \"convs24h\""
      ]
     },
     "metadata": {
      "image/png": {
       "height": 420,
       "width": 420
      }
     },
     "output_type": "display_data"
    }
   ],
   "source": [
    "# In other words, you are not controlling the false discovery rate at 5% any\n",
    "# more. There is a function called treat in the limma package that performs\n",
    "# this style of analysis correctly (McCarthy and Smyth 2009).  Let's decide\n",
    "# that we are only interested in genes that have a absolute logFC of 1.  This\n",
    "# corresponds to a fold change of 2, or 0.5 (i.e.  double or half).  We can\n",
    "# perform a treat analysis which ranks our genes according to p-value AND\n",
    "# logFC.  This is easy to do after our analysis, we just give the treat\n",
    "# function the fit.cont object and specify our cut-off.\n",
    "fit.treat.B <- treat(fit.cont.B, lfc = 0.3)\n",
    "res.treat.B <- decideTests(fit.treat.B)\n",
    "summary(res.treat.B)\n",
    "\n",
    "# Calculate the treat seperately\n",
    "topTable(fit.treat.B, coef = 1, sort.by = \"p\")\n",
    "# Notice that much fewer genes are highlighted in the MAplot\n",
    "par(mfrow = c(1, 2))\n",
    "plotMD(fit.treat.B, coef = 1, status = res.treat.B[, \"convs24h\"], values = c(-1,\n",
    "    1), hl.col = c(\"blue\", \"red\"))\n",
    "abline(h = 0, col = \"grey\")\n",
    "\n",
    "# An interactive version of the mean-difference plots is possible via the\n",
    "# glMDPlot function in the Glimma package.\n",
    "glMDPlot(fit.treat.B, coef = 1, counts = v$E, groups = treatment, status = res.treat.B,\n",
    "    side.main = \"ENTREZID\", main = \"convs24h\", folder = \"md\")"
   ]
  },
  {
   "cell_type": "code",
   "execution_count": 61,
   "metadata": {
    "colab": {
     "base_uri": "https://localhost:8080/",
     "height": 795
    },
    "executionInfo": {
     "elapsed": 237,
     "status": "ok",
     "timestamp": 1624911168367,
     "user": {
      "displayName": "Shaoqiu He",
      "photoUrl": "",
      "userId": "16738992239117859264"
     },
     "user_tz": 240
    },
    "id": "rHBBSivxy5sq",
    "outputId": "780c3fa6-f1c2-4e4d-bb82-85bd0e17d938"
   },
   "outputs": [
    {
     "data": {
      "text/html": [
       "<table class=\"dataframe\">\n",
       "<caption>A data.frame: 10 × 8</caption>\n",
       "<thead>\n",
       "\t<tr><th></th><th scope=col>SYMBOL</th><th scope=col>ENTREZID</th><th scope=col>GENENAME</th><th scope=col>logFC</th><th scope=col>AveExpr</th><th scope=col>t</th><th scope=col>P.Value</th><th scope=col>adj.P.Val</th></tr>\n",
       "\t<tr><th></th><th scope=col>&lt;chr&gt;</th><th scope=col>&lt;chr&gt;</th><th scope=col>&lt;chr&gt;</th><th scope=col>&lt;dbl&gt;</th><th scope=col>&lt;dbl&gt;</th><th scope=col>&lt;dbl&gt;</th><th scope=col>&lt;dbl&gt;</th><th scope=col>&lt;dbl&gt;</th></tr>\n",
       "</thead>\n",
       "<tbody>\n",
       "\t<tr><th scope=row>Mt2</th><td>Mt2     </td><td>17750    </td><td>metallothionein 2                                                                        </td><td>-2.9667881</td><td>3.2709491</td><td>-40.19336</td><td>3.213648e-09</td><td>5.371613e-05</td></tr>\n",
       "\t<tr><th scope=row>Calr3</th><td>Calr3   </td><td>73316    </td><td>calreticulin 3                                                                           </td><td> 1.7956720</td><td>2.6248831</td><td> 28.92983</td><td>2.352637e-08</td><td>1.675800e-04</td></tr>\n",
       "\t<tr><th scope=row>Slc30a1</th><td>Slc30a1 </td><td>22782    </td><td>solute carrier family 30 (zinc transporter), member 1                                    </td><td>-1.6030999</td><td>3.9095666</td><td>-27.74265</td><td>3.007718e-08</td><td>1.675800e-04</td></tr>\n",
       "\t<tr><th scope=row>Slc39a10</th><td>Slc39a10</td><td>227059   </td><td>solute carrier family 39 (zinc transporter), member 10                                   </td><td> 1.3895970</td><td>6.9156506</td><td> 24.98423</td><td>5.748201e-08</td><td>2.402029e-04</td></tr>\n",
       "\t<tr><th scope=row>Tac1</th><td>Tac1    </td><td>21333    </td><td>tachykinin 1                                                                             </td><td> 1.0300185</td><td>6.5608828</td><td> 21.27210</td><td>1.555075e-07</td><td>5.198617e-04</td></tr>\n",
       "\t<tr><th scope=row>Pdrg1</th><td>Pdrg1   </td><td>68559    </td><td>p53 and DNA damage regulated 1                                                           </td><td> 0.9789992</td><td>5.6553276</td><td> 20.20850</td><td>2.150767e-07</td><td>5.991678e-04</td></tr>\n",
       "\t<tr><th scope=row>Gm39663</th><td>Gm39663 </td><td>105243956</td><td>predicted gene, 39663                                                                    </td><td> 1.8814494</td><td>2.0653861</td><td> 19.70893</td><td>2.797036e-07</td><td>6.310893e-04</td></tr>\n",
       "\t<tr><th scope=row>Kcnn1</th><td>Kcnn1   </td><td>84036    </td><td>potassium intermediate/small conductance calcium-activated channel, subfamily N, member 1</td><td> 1.2059196</td><td>3.6281919</td><td> 19.22472</td><td>3.020469e-07</td><td>6.310893e-04</td></tr>\n",
       "\t<tr><th scope=row>Apob</th><td>Apob    </td><td>238055   </td><td>apolipoprotein B                                                                         </td><td> 1.9301616</td><td>0.3158911</td><td> 18.59523</td><td>4.081239e-07</td><td>7.579768e-04</td></tr>\n",
       "\t<tr><th scope=row>Prrg2</th><td>Prrg2   </td><td>65116    </td><td>proline-rich Gla (G-carboxyglutamic acid) polypeptide 2                                  </td><td> 1.3884162</td><td>3.5676610</td><td> 16.88250</td><td>7.058462e-07</td><td>1.040659e-03</td></tr>\n",
       "</tbody>\n",
       "</table>\n"
      ],
      "text/latex": [
       "A data.frame: 10 × 8\n",
       "\\begin{tabular}{r|llllllll}\n",
       "  & SYMBOL & ENTREZID & GENENAME & logFC & AveExpr & t & P.Value & adj.P.Val\\\\\n",
       "  & <chr> & <chr> & <chr> & <dbl> & <dbl> & <dbl> & <dbl> & <dbl>\\\\\n",
       "\\hline\n",
       "\tMt2 & Mt2      & 17750     & metallothionein 2                                                                         & -2.9667881 & 3.2709491 & -40.19336 & 3.213648e-09 & 5.371613e-05\\\\\n",
       "\tCalr3 & Calr3    & 73316     & calreticulin 3                                                                            &  1.7956720 & 2.6248831 &  28.92983 & 2.352637e-08 & 1.675800e-04\\\\\n",
       "\tSlc30a1 & Slc30a1  & 22782     & solute carrier family 30 (zinc transporter), member 1                                     & -1.6030999 & 3.9095666 & -27.74265 & 3.007718e-08 & 1.675800e-04\\\\\n",
       "\tSlc39a10 & Slc39a10 & 227059    & solute carrier family 39 (zinc transporter), member 10                                    &  1.3895970 & 6.9156506 &  24.98423 & 5.748201e-08 & 2.402029e-04\\\\\n",
       "\tTac1 & Tac1     & 21333     & tachykinin 1                                                                              &  1.0300185 & 6.5608828 &  21.27210 & 1.555075e-07 & 5.198617e-04\\\\\n",
       "\tPdrg1 & Pdrg1    & 68559     & p53 and DNA damage regulated 1                                                            &  0.9789992 & 5.6553276 &  20.20850 & 2.150767e-07 & 5.991678e-04\\\\\n",
       "\tGm39663 & Gm39663  & 105243956 & predicted gene, 39663                                                                     &  1.8814494 & 2.0653861 &  19.70893 & 2.797036e-07 & 6.310893e-04\\\\\n",
       "\tKcnn1 & Kcnn1    & 84036     & potassium intermediate/small conductance calcium-activated channel, subfamily N, member 1 &  1.2059196 & 3.6281919 &  19.22472 & 3.020469e-07 & 6.310893e-04\\\\\n",
       "\tApob & Apob     & 238055    & apolipoprotein B                                                                          &  1.9301616 & 0.3158911 &  18.59523 & 4.081239e-07 & 7.579768e-04\\\\\n",
       "\tPrrg2 & Prrg2    & 65116     & proline-rich Gla (G-carboxyglutamic acid) polypeptide 2                                   &  1.3884162 & 3.5676610 &  16.88250 & 7.058462e-07 & 1.040659e-03\\\\\n",
       "\\end{tabular}\n"
      ],
      "text/markdown": [
       "\n",
       "A data.frame: 10 × 8\n",
       "\n",
       "| <!--/--> | SYMBOL &lt;chr&gt; | ENTREZID &lt;chr&gt; | GENENAME &lt;chr&gt; | logFC &lt;dbl&gt; | AveExpr &lt;dbl&gt; | t &lt;dbl&gt; | P.Value &lt;dbl&gt; | adj.P.Val &lt;dbl&gt; |\n",
       "|---|---|---|---|---|---|---|---|---|\n",
       "| Mt2 | Mt2      | 17750     | metallothionein 2                                                                         | -2.9667881 | 3.2709491 | -40.19336 | 3.213648e-09 | 5.371613e-05 |\n",
       "| Calr3 | Calr3    | 73316     | calreticulin 3                                                                            |  1.7956720 | 2.6248831 |  28.92983 | 2.352637e-08 | 1.675800e-04 |\n",
       "| Slc30a1 | Slc30a1  | 22782     | solute carrier family 30 (zinc transporter), member 1                                     | -1.6030999 | 3.9095666 | -27.74265 | 3.007718e-08 | 1.675800e-04 |\n",
       "| Slc39a10 | Slc39a10 | 227059    | solute carrier family 39 (zinc transporter), member 10                                    |  1.3895970 | 6.9156506 |  24.98423 | 5.748201e-08 | 2.402029e-04 |\n",
       "| Tac1 | Tac1     | 21333     | tachykinin 1                                                                              |  1.0300185 | 6.5608828 |  21.27210 | 1.555075e-07 | 5.198617e-04 |\n",
       "| Pdrg1 | Pdrg1    | 68559     | p53 and DNA damage regulated 1                                                            |  0.9789992 | 5.6553276 |  20.20850 | 2.150767e-07 | 5.991678e-04 |\n",
       "| Gm39663 | Gm39663  | 105243956 | predicted gene, 39663                                                                     |  1.8814494 | 2.0653861 |  19.70893 | 2.797036e-07 | 6.310893e-04 |\n",
       "| Kcnn1 | Kcnn1    | 84036     | potassium intermediate/small conductance calcium-activated channel, subfamily N, member 1 |  1.2059196 | 3.6281919 |  19.22472 | 3.020469e-07 | 6.310893e-04 |\n",
       "| Apob | Apob     | 238055    | apolipoprotein B                                                                          |  1.9301616 | 0.3158911 |  18.59523 | 4.081239e-07 | 7.579768e-04 |\n",
       "| Prrg2 | Prrg2    | 65116     | proline-rich Gla (G-carboxyglutamic acid) polypeptide 2                                   |  1.3884162 | 3.5676610 |  16.88250 | 7.058462e-07 | 1.040659e-03 |\n",
       "\n"
      ],
      "text/plain": [
       "         SYMBOL   ENTREZID \n",
       "Mt2      Mt2      17750    \n",
       "Calr3    Calr3    73316    \n",
       "Slc30a1  Slc30a1  22782    \n",
       "Slc39a10 Slc39a10 227059   \n",
       "Tac1     Tac1     21333    \n",
       "Pdrg1    Pdrg1    68559    \n",
       "Gm39663  Gm39663  105243956\n",
       "Kcnn1    Kcnn1    84036    \n",
       "Apob     Apob     238055   \n",
       "Prrg2    Prrg2    65116    \n",
       "         GENENAME                                                                                 \n",
       "Mt2      metallothionein 2                                                                        \n",
       "Calr3    calreticulin 3                                                                           \n",
       "Slc30a1  solute carrier family 30 (zinc transporter), member 1                                    \n",
       "Slc39a10 solute carrier family 39 (zinc transporter), member 10                                   \n",
       "Tac1     tachykinin 1                                                                             \n",
       "Pdrg1    p53 and DNA damage regulated 1                                                           \n",
       "Gm39663  predicted gene, 39663                                                                    \n",
       "Kcnn1    potassium intermediate/small conductance calcium-activated channel, subfamily N, member 1\n",
       "Apob     apolipoprotein B                                                                         \n",
       "Prrg2    proline-rich Gla (G-carboxyglutamic acid) polypeptide 2                                  \n",
       "         logFC      AveExpr   t         P.Value      adj.P.Val   \n",
       "Mt2      -2.9667881 3.2709491 -40.19336 3.213648e-09 5.371613e-05\n",
       "Calr3     1.7956720 2.6248831  28.92983 2.352637e-08 1.675800e-04\n",
       "Slc30a1  -1.6030999 3.9095666 -27.74265 3.007718e-08 1.675800e-04\n",
       "Slc39a10  1.3895970 6.9156506  24.98423 5.748201e-08 2.402029e-04\n",
       "Tac1      1.0300185 6.5608828  21.27210 1.555075e-07 5.198617e-04\n",
       "Pdrg1     0.9789992 5.6553276  20.20850 2.150767e-07 5.991678e-04\n",
       "Gm39663   1.8814494 2.0653861  19.70893 2.797036e-07 6.310893e-04\n",
       "Kcnn1     1.2059196 3.6281919  19.22472 3.020469e-07 6.310893e-04\n",
       "Apob      1.9301616 0.3158911  18.59523 4.081239e-07 7.579768e-04\n",
       "Prrg2     1.3884162 3.5676610  16.88250 7.058462e-07 1.040659e-03"
      ]
     },
     "metadata": {},
     "output_type": "display_data"
    }
   ],
   "source": [
    "topTable(fit.treat.B, coef = 1, sort.by = \"p\")"
   ]
  },
  {
   "cell_type": "markdown",
   "metadata": {
    "id": "h07kGSmGSb4g"
   },
   "source": [
    "## Select gene for GO analysis\n",
    "Further analyses are required to interpret the differential expression results in a biological context. One common downstream procedure is a gene ontology (GO) enrichment analysis.\n",
    "\n",
    "The analysis of significantly enriched GO (Gene Onthology) terms over-represented among DEG lists was performed with the ClusterProfiler package in R later. We need select the DEG for further GO analysis."
   ]
  },
  {
   "cell_type": "code",
   "execution_count": 62,
   "metadata": {
    "colab": {
     "base_uri": "https://localhost:8080/",
     "height": 288
    },
    "executionInfo": {
     "elapsed": 105,
     "status": "ok",
     "timestamp": 1636990213628,
     "user": {
      "displayName": "Shaoqiu He",
      "photoUrl": "https://lh3.googleusercontent.com/a-/AOh14GjqxDDKIvj-k4BT2y4gflK2grm-E052z036TINn0w=s64",
      "userId": "16738992239117859264"
     },
     "user_tz": 300
    },
    "id": "z-MMW-XKecfQ",
    "outputId": "a4b07ded-711d-4707-87d9-d333c563fbfd"
   },
   "outputs": [
    {
     "data": {
      "text/html": [
       "1023"
      ],
      "text/latex": [
       "1023"
      ],
      "text/markdown": [
       "1023"
      ],
      "text/plain": [
       "[1] 1023"
      ]
     },
     "metadata": {},
     "output_type": "display_data"
    },
    {
     "data": {
      "text/html": [
       "<table class=\"dataframe\">\n",
       "<caption>A TestResults: 6 × 1 of type lgl</caption>\n",
       "<thead>\n",
       "\t<tr><th></th><th scope=col>convs24h</th></tr>\n",
       "</thead>\n",
       "<tbody>\n",
       "\t<tr><th scope=row>Xkr4</th><td>FALSE</td></tr>\n",
       "\t<tr><th scope=row>Gm38717</th><td>FALSE</td></tr>\n",
       "\t<tr><th scope=row>Sox17</th><td>FALSE</td></tr>\n",
       "\t<tr><th scope=row>Mrpl15</th><td>FALSE</td></tr>\n",
       "\t<tr><th scope=row>Lypla1</th><td>FALSE</td></tr>\n",
       "\t<tr><th scope=row>Tcea1</th><td>FALSE</td></tr>\n",
       "</tbody>\n",
       "</table>\n"
      ],
      "text/latex": [
       "A TestResults: 6 × 1 of type lgl\n",
       "\\begin{tabular}{r|l}\n",
       "  & convs24h\\\\\n",
       "\\hline\n",
       "\tXkr4 & FALSE\\\\\n",
       "\tGm38717 & FALSE\\\\\n",
       "\tSox17 & FALSE\\\\\n",
       "\tMrpl15 & FALSE\\\\\n",
       "\tLypla1 & FALSE\\\\\n",
       "\tTcea1 & FALSE\\\\\n",
       "\\end{tabular}\n"
      ],
      "text/markdown": [
       "\n",
       "A TestResults: 6 × 1 of type lgl\n",
       "\n",
       "| <!--/--> | convs24h |\n",
       "|---|---|\n",
       "| Xkr4 | FALSE |\n",
       "| Gm38717 | FALSE |\n",
       "| Sox17 | FALSE |\n",
       "| Mrpl15 | FALSE |\n",
       "| Lypla1 | FALSE |\n",
       "| Tcea1 | FALSE |\n",
       "\n"
      ],
      "text/plain": [
       "         Contrasts\n",
       "          convs24h\n",
       "  Xkr4    FALSE   \n",
       "  Gm38717 FALSE   \n",
       "  Sox17   FALSE   \n",
       "  Mrpl15  FALSE   \n",
       "  Lypla1  FALSE   \n",
       "  Tcea1   FALSE   "
      ]
     },
     "metadata": {},
     "output_type": "display_data"
    }
   ],
   "source": [
    "select_genes <- summa.fit.B == 1\n",
    "sum(select_genes)\n",
    "head(select_genes)"
   ]
  },
  {
   "cell_type": "code",
   "execution_count": 63,
   "metadata": {},
   "outputs": [
    {
     "data": {
      "text/html": [
       "<dl>\n",
       "\t<dt>$coefficients</dt>\n",
       "\t\t<dd><table class=\"dataframe\">\n",
       "<caption>A matrix: 6 × 1 of type dbl</caption>\n",
       "<thead>\n",
       "\t<tr><th></th><th scope=col>convs24h</th></tr>\n",
       "</thead>\n",
       "<tbody>\n",
       "\t<tr><th scope=row>St18</th><td>0.5189651</td></tr>\n",
       "\t<tr><th scope=row>Gm26901</th><td>1.0662374</td></tr>\n",
       "\t<tr><th scope=row>1700034P13Rik</th><td>3.6115316</td></tr>\n",
       "\t<tr><th scope=row>Gm39590</th><td>2.8905855</td></tr>\n",
       "\t<tr><th scope=row>Tcf24</th><td>0.5295191</td></tr>\n",
       "\t<tr><th scope=row>Gm31523</th><td>0.6554146</td></tr>\n",
       "</tbody>\n",
       "</table>\n",
       "</dd>\n",
       "\t<dt>$stdev.unscaled</dt>\n",
       "\t\t<dd><table class=\"dataframe\">\n",
       "<caption>A matrix: 6 × 1 of type dbl</caption>\n",
       "<thead>\n",
       "\t<tr><th></th><th scope=col>convs24h</th></tr>\n",
       "</thead>\n",
       "<tbody>\n",
       "\t<tr><th scope=row>St18</th><td>0.19904535</td></tr>\n",
       "\t<tr><th scope=row>Gm26901</th><td>0.09860526</td></tr>\n",
       "\t<tr><th scope=row>1700034P13Rik</th><td>0.30558837</td></tr>\n",
       "\t<tr><th scope=row>Gm39590</th><td>0.29013051</td></tr>\n",
       "\t<tr><th scope=row>Tcf24</th><td>0.15146565</td></tr>\n",
       "\t<tr><th scope=row>Gm31523</th><td>0.20442439</td></tr>\n",
       "</tbody>\n",
       "</table>\n",
       "</dd>\n",
       "\t<dt>$sigma</dt>\n",
       "\t\t<dd><style>\n",
       ".list-inline {list-style: none; margin:0; padding: 0}\n",
       ".list-inline>li {display: inline-block}\n",
       ".list-inline>li:not(:last-child)::after {content: \"\\00b7\"; padding: 0 .5ex}\n",
       "</style>\n",
       "<ol class=list-inline><li>0.215670509618659</li><li>3.98696257671709</li><li>2.63043947100508</li><li>1.11692219458088</li><li>0.234614348883168</li><li>1.09110304276028</li></ol>\n",
       "</dd>\n",
       "\t<dt>$df.residual</dt>\n",
       "\t\t<dd><style>\n",
       ".list-inline {list-style: none; margin:0; padding: 0}\n",
       ".list-inline>li {display: inline-block}\n",
       ".list-inline>li:not(:last-child)::after {content: \"\\00b7\"; padding: 0 .5ex}\n",
       "</style>\n",
       "<ol class=list-inline><li>4</li><li>4</li><li>4</li><li>4</li><li>4</li><li>4</li></ol>\n",
       "</dd>\n",
       "\t<dt>$cov.coefficients</dt>\n",
       "\t\t<dd><table class=\"dataframe\">\n",
       "<caption>A matrix: 1 × 1 of type dbl</caption>\n",
       "<thead>\n",
       "\t<tr><th></th><th scope=col>convs24h</th></tr>\n",
       "</thead>\n",
       "<tbody>\n",
       "\t<tr><th scope=row>convs24h</th><td>0.6666667</td></tr>\n",
       "</tbody>\n",
       "</table>\n",
       "</dd>\n",
       "\t<dt>$pivot</dt>\n",
       "\t\t<dd><style>\n",
       ".list-inline {list-style: none; margin:0; padding: 0}\n",
       ".list-inline>li {display: inline-block}\n",
       ".list-inline>li:not(:last-child)::after {content: \"\\00b7\"; padding: 0 .5ex}\n",
       "</style>\n",
       "<ol class=list-inline><li>1</li><li>2</li></ol>\n",
       "</dd>\n",
       "\t<dt>$rank</dt>\n",
       "\t\t<dd>2</dd>\n",
       "\t<dt>$genes</dt>\n",
       "\t\t<dd><table class=\"dataframe\">\n",
       "<caption>A data.frame: 6 × 3</caption>\n",
       "<thead>\n",
       "\t<tr><th></th><th scope=col>SYMBOL</th><th scope=col>ENTREZID</th><th scope=col>GENENAME</th></tr>\n",
       "\t<tr><th></th><th scope=col>&lt;chr&gt;</th><th scope=col>&lt;chr&gt;</th><th scope=col>&lt;chr&gt;</th></tr>\n",
       "</thead>\n",
       "<tbody>\n",
       "\t<tr><th scope=row>24</th><td>St18         </td><td>240690   </td><td>suppression of tumorigenicity 18</td></tr>\n",
       "\t<tr><th scope=row>26</th><td>Gm26901      </td><td>102632124</td><td>predicted gene, 26901           </td></tr>\n",
       "\t<tr><th scope=row>36</th><td>1700034P13Rik</td><td>73331    </td><td>RIKEN cDNA 1700034P13 gene      </td></tr>\n",
       "\t<tr><th scope=row>37</th><td>Gm39590      </td><td>105243859</td><td>predicted gene, 39590           </td></tr>\n",
       "\t<tr><th scope=row>42</th><td>Tcf24        </td><td>100039596</td><td>transcription factor 24         </td></tr>\n",
       "\t<tr><th scope=row>74</th><td>Gm31523      </td><td>102633776</td><td>predicted gene, 31523           </td></tr>\n",
       "</tbody>\n",
       "</table>\n",
       "</dd>\n",
       "\t<dt>$Amean</dt>\n",
       "\t\t<dd><style>\n",
       ".dl-inline {width: auto; margin:0; padding: 0}\n",
       ".dl-inline>dt, .dl-inline>dd {float: none; width: auto; display: inline-block}\n",
       ".dl-inline>dt::after {content: \":\\0020\"; padding-right: .5ex}\n",
       ".dl-inline>dt:not(:first-of-type) {padding-left: .5ex}\n",
       "</style><dl class=dl-inline><dt>St18</dt><dd>-0.688008418942248</dd><dt>Gm26901</dt><dd>2.15205669856078</dd><dt>1700034P13Rik</dt><dd>-2.57879679877026</dd><dt>Gm39590</dt><dd>-2.17162745065133</dd><dt>Tcf24</dt><dd>0.428746475111607</dd><dt>Gm31523</dt><dd>-0.800518122348773</dd></dl>\n",
       "</dd>\n",
       "\t<dt>$method</dt>\n",
       "\t\t<dd>'ls'</dd>\n",
       "\t<dt>$design</dt>\n",
       "\t\t<dd><table class=\"dataframe\">\n",
       "<caption>A matrix: 6 × 2 of type dbl</caption>\n",
       "<thead>\n",
       "\t<tr><th></th><th scope=col>control</th><th scope=col>hhp.24hr</th></tr>\n",
       "</thead>\n",
       "<tbody>\n",
       "\t<tr><th scope=row>1</th><td>1</td><td>0</td></tr>\n",
       "\t<tr><th scope=row>2</th><td>1</td><td>0</td></tr>\n",
       "\t<tr><th scope=row>3</th><td>1</td><td>0</td></tr>\n",
       "\t<tr><th scope=row>4</th><td>0</td><td>1</td></tr>\n",
       "\t<tr><th scope=row>5</th><td>0</td><td>1</td></tr>\n",
       "\t<tr><th scope=row>6</th><td>0</td><td>1</td></tr>\n",
       "</tbody>\n",
       "</table>\n",
       "</dd>\n",
       "\t<dt>$contrasts</dt>\n",
       "\t\t<dd><table class=\"dataframe\">\n",
       "<caption>A matrix: 2 × 1 of type dbl</caption>\n",
       "<thead>\n",
       "\t<tr><th></th><th scope=col>convs24h</th></tr>\n",
       "</thead>\n",
       "<tbody>\n",
       "\t<tr><th scope=row>control</th><td>-1</td></tr>\n",
       "\t<tr><th scope=row>hhp.24hr</th><td> 1</td></tr>\n",
       "</tbody>\n",
       "</table>\n",
       "</dd>\n",
       "\t<dt>$df.prior</dt>\n",
       "\t\t<dd>2.48453393363096</dd>\n",
       "\t<dt>$s2.prior</dt>\n",
       "\t\t<dd>0.681879776409876</dd>\n",
       "\t<dt>$var.prior</dt>\n",
       "\t\t<dd>1.29560175245812</dd>\n",
       "\t<dt>$proportion</dt>\n",
       "\t\t<dd>0.01</dd>\n",
       "\t<dt>$s2.post</dt>\n",
       "\t\t<dd><style>\n",
       ".list-inline {list-style: none; margin:0; padding: 0}\n",
       ".list-inline>li {display: inline-block}\n",
       ".list-inline>li:not(:last-child)::after {content: \"\\00b7\"; padding: 0 .5ex}\n",
       "</style>\n",
       "<ol class=list-inline><li>0.289952761026097</li><li>10.0666657717937</li><li>4.52939270366144</li><li>1.03079331013597</li><li>0.295214588056386</li><li>0.995626965470274</li></ol>\n",
       "</dd>\n",
       "\t<dt>$t</dt>\n",
       "\t\t<dd><table class=\"dataframe\">\n",
       "<caption>A matrix: 6 × 1 of type dbl</caption>\n",
       "<thead>\n",
       "\t<tr><th></th><th scope=col>convs24h</th></tr>\n",
       "</thead>\n",
       "<tbody>\n",
       "\t<tr><th scope=row>St18</th><td>4.841975</td></tr>\n",
       "\t<tr><th scope=row>Gm26901</th><td>3.408090</td></tr>\n",
       "\t<tr><th scope=row>1700034P13Rik</th><td>5.553089</td></tr>\n",
       "\t<tr><th scope=row>Gm39590</th><td>9.813109</td></tr>\n",
       "\t<tr><th scope=row>Tcf24</th><td>6.434259</td></tr>\n",
       "\t<tr><th scope=row>Gm31523</th><td>3.213180</td></tr>\n",
       "</tbody>\n",
       "</table>\n",
       "</dd>\n",
       "\t<dt>$df.total</dt>\n",
       "\t\t<dd><style>\n",
       ".list-inline {list-style: none; margin:0; padding: 0}\n",
       ".list-inline>li {display: inline-block}\n",
       ".list-inline>li:not(:last-child)::after {content: \"\\00b7\"; padding: 0 .5ex}\n",
       "</style>\n",
       "<ol class=list-inline><li>6.48453393363096</li><li>6.48453393363096</li><li>6.48453393363096</li><li>6.48453393363096</li><li>6.48453393363096</li><li>6.48453393363096</li></ol>\n",
       "</dd>\n",
       "\t<dt>$p.value</dt>\n",
       "\t\t<dd><table class=\"dataframe\">\n",
       "<caption>A matrix: 6 × 1 of type dbl</caption>\n",
       "<thead>\n",
       "\t<tr><th></th><th scope=col>convs24h</th></tr>\n",
       "</thead>\n",
       "<tbody>\n",
       "\t<tr><th scope=row>St18</th><td>2.319680e-03</td></tr>\n",
       "\t<tr><th scope=row>Gm26901</th><td>1.272670e-02</td></tr>\n",
       "\t<tr><th scope=row>1700034P13Rik</th><td>1.111994e-03</td></tr>\n",
       "\t<tr><th scope=row>Gm39590</th><td>3.974092e-05</td></tr>\n",
       "\t<tr><th scope=row>Tcf24</th><td>4.873791e-04</td></tr>\n",
       "\t<tr><th scope=row>Gm31523</th><td>1.642647e-02</td></tr>\n",
       "</tbody>\n",
       "</table>\n",
       "</dd>\n",
       "\t<dt>$lods</dt>\n",
       "\t\t<dd><table class=\"dataframe\">\n",
       "<caption>A matrix: 6 × 1 of type dbl</caption>\n",
       "<thead>\n",
       "\t<tr><th></th><th scope=col>convs24h</th></tr>\n",
       "</thead>\n",
       "<tbody>\n",
       "\t<tr><th scope=row>St18</th><td>-1.0117664</td></tr>\n",
       "\t<tr><th scope=row>Gm26901</th><td>-3.2532498</td></tr>\n",
       "\t<tr><th scope=row>1700034P13Rik</th><td>-0.4335840</td></tr>\n",
       "\t<tr><th scope=row>Gm39590</th><td> 1.9333551</td></tr>\n",
       "\t<tr><th scope=row>Tcf24</th><td> 0.4671853</td></tr>\n",
       "\t<tr><th scope=row>Gm31523</th><td>-2.9452321</td></tr>\n",
       "</tbody>\n",
       "</table>\n",
       "</dd>\n",
       "\t<dt>$F</dt>\n",
       "\t\t<dd><style>\n",
       ".list-inline {list-style: none; margin:0; padding: 0}\n",
       ".list-inline>li {display: inline-block}\n",
       ".list-inline>li:not(:last-child)::after {content: \"\\00b7\"; padding: 0 .5ex}\n",
       "</style>\n",
       "<ol class=list-inline><li>23.4447202146945</li><li>11.6150754753644</li><li>30.836793520783</li><li>96.2971092987526</li><li>41.3996901529755</li><li>10.324525844801</li></ol>\n",
       "</dd>\n",
       "\t<dt>$F.p.value</dt>\n",
       "\t\t<dd><style>\n",
       ".list-inline {list-style: none; margin:0; padding: 0}\n",
       ".list-inline>li {display: inline-block}\n",
       ".list-inline>li:not(:last-child)::after {content: \"\\00b7\"; padding: 0 .5ex}\n",
       "</style>\n",
       "<ol class=list-inline><li>0.00231967977419983</li><li>0.0127267043121522</li><li>0.0011119937290276</li><li>3.9740918771667e-05</li><li>0.000487379064942291</li><li>0.0164264710597182</li></ol>\n",
       "</dd>\n",
       "</dl>\n"
      ],
      "text/latex": [
       "\\begin{description}\n",
       "\\item[\\$coefficients] A matrix: 6 × 1 of type dbl\n",
       "\\begin{tabular}{r|l}\n",
       "  & convs24h\\\\\n",
       "\\hline\n",
       "\tSt18 & 0.5189651\\\\\n",
       "\tGm26901 & 1.0662374\\\\\n",
       "\t1700034P13Rik & 3.6115316\\\\\n",
       "\tGm39590 & 2.8905855\\\\\n",
       "\tTcf24 & 0.5295191\\\\\n",
       "\tGm31523 & 0.6554146\\\\\n",
       "\\end{tabular}\n",
       "\n",
       "\\item[\\$stdev.unscaled] A matrix: 6 × 1 of type dbl\n",
       "\\begin{tabular}{r|l}\n",
       "  & convs24h\\\\\n",
       "\\hline\n",
       "\tSt18 & 0.19904535\\\\\n",
       "\tGm26901 & 0.09860526\\\\\n",
       "\t1700034P13Rik & 0.30558837\\\\\n",
       "\tGm39590 & 0.29013051\\\\\n",
       "\tTcf24 & 0.15146565\\\\\n",
       "\tGm31523 & 0.20442439\\\\\n",
       "\\end{tabular}\n",
       "\n",
       "\\item[\\$sigma] \\begin{enumerate*}\n",
       "\\item 0.215670509618659\n",
       "\\item 3.98696257671709\n",
       "\\item 2.63043947100508\n",
       "\\item 1.11692219458088\n",
       "\\item 0.234614348883168\n",
       "\\item 1.09110304276028\n",
       "\\end{enumerate*}\n",
       "\n",
       "\\item[\\$df.residual] \\begin{enumerate*}\n",
       "\\item 4\n",
       "\\item 4\n",
       "\\item 4\n",
       "\\item 4\n",
       "\\item 4\n",
       "\\item 4\n",
       "\\end{enumerate*}\n",
       "\n",
       "\\item[\\$cov.coefficients] A matrix: 1 × 1 of type dbl\n",
       "\\begin{tabular}{r|l}\n",
       "  & convs24h\\\\\n",
       "\\hline\n",
       "\tconvs24h & 0.6666667\\\\\n",
       "\\end{tabular}\n",
       "\n",
       "\\item[\\$pivot] \\begin{enumerate*}\n",
       "\\item 1\n",
       "\\item 2\n",
       "\\end{enumerate*}\n",
       "\n",
       "\\item[\\$rank] 2\n",
       "\\item[\\$genes] A data.frame: 6 × 3\n",
       "\\begin{tabular}{r|lll}\n",
       "  & SYMBOL & ENTREZID & GENENAME\\\\\n",
       "  & <chr> & <chr> & <chr>\\\\\n",
       "\\hline\n",
       "\t24 & St18          & 240690    & suppression of tumorigenicity 18\\\\\n",
       "\t26 & Gm26901       & 102632124 & predicted gene, 26901           \\\\\n",
       "\t36 & 1700034P13Rik & 73331     & RIKEN cDNA 1700034P13 gene      \\\\\n",
       "\t37 & Gm39590       & 105243859 & predicted gene, 39590           \\\\\n",
       "\t42 & Tcf24         & 100039596 & transcription factor 24         \\\\\n",
       "\t74 & Gm31523       & 102633776 & predicted gene, 31523           \\\\\n",
       "\\end{tabular}\n",
       "\n",
       "\\item[\\$Amean] \\begin{description*}\n",
       "\\item[St18] -0.688008418942248\n",
       "\\item[Gm26901] 2.15205669856078\n",
       "\\item[1700034P13Rik] -2.57879679877026\n",
       "\\item[Gm39590] -2.17162745065133\n",
       "\\item[Tcf24] 0.428746475111607\n",
       "\\item[Gm31523] -0.800518122348773\n",
       "\\end{description*}\n",
       "\n",
       "\\item[\\$method] 'ls'\n",
       "\\item[\\$design] A matrix: 6 × 2 of type dbl\n",
       "\\begin{tabular}{r|ll}\n",
       "  & control & hhp.24hr\\\\\n",
       "\\hline\n",
       "\t1 & 1 & 0\\\\\n",
       "\t2 & 1 & 0\\\\\n",
       "\t3 & 1 & 0\\\\\n",
       "\t4 & 0 & 1\\\\\n",
       "\t5 & 0 & 1\\\\\n",
       "\t6 & 0 & 1\\\\\n",
       "\\end{tabular}\n",
       "\n",
       "\\item[\\$contrasts] A matrix: 2 × 1 of type dbl\n",
       "\\begin{tabular}{r|l}\n",
       "  & convs24h\\\\\n",
       "\\hline\n",
       "\tcontrol & -1\\\\\n",
       "\thhp.24hr &  1\\\\\n",
       "\\end{tabular}\n",
       "\n",
       "\\item[\\$df.prior] 2.48453393363096\n",
       "\\item[\\$s2.prior] 0.681879776409876\n",
       "\\item[\\$var.prior] 1.29560175245812\n",
       "\\item[\\$proportion] 0.01\n",
       "\\item[\\$s2.post] \\begin{enumerate*}\n",
       "\\item 0.289952761026097\n",
       "\\item 10.0666657717937\n",
       "\\item 4.52939270366144\n",
       "\\item 1.03079331013597\n",
       "\\item 0.295214588056386\n",
       "\\item 0.995626965470274\n",
       "\\end{enumerate*}\n",
       "\n",
       "\\item[\\$t] A matrix: 6 × 1 of type dbl\n",
       "\\begin{tabular}{r|l}\n",
       "  & convs24h\\\\\n",
       "\\hline\n",
       "\tSt18 & 4.841975\\\\\n",
       "\tGm26901 & 3.408090\\\\\n",
       "\t1700034P13Rik & 5.553089\\\\\n",
       "\tGm39590 & 9.813109\\\\\n",
       "\tTcf24 & 6.434259\\\\\n",
       "\tGm31523 & 3.213180\\\\\n",
       "\\end{tabular}\n",
       "\n",
       "\\item[\\$df.total] \\begin{enumerate*}\n",
       "\\item 6.48453393363096\n",
       "\\item 6.48453393363096\n",
       "\\item 6.48453393363096\n",
       "\\item 6.48453393363096\n",
       "\\item 6.48453393363096\n",
       "\\item 6.48453393363096\n",
       "\\end{enumerate*}\n",
       "\n",
       "\\item[\\$p.value] A matrix: 6 × 1 of type dbl\n",
       "\\begin{tabular}{r|l}\n",
       "  & convs24h\\\\\n",
       "\\hline\n",
       "\tSt18 & 2.319680e-03\\\\\n",
       "\tGm26901 & 1.272670e-02\\\\\n",
       "\t1700034P13Rik & 1.111994e-03\\\\\n",
       "\tGm39590 & 3.974092e-05\\\\\n",
       "\tTcf24 & 4.873791e-04\\\\\n",
       "\tGm31523 & 1.642647e-02\\\\\n",
       "\\end{tabular}\n",
       "\n",
       "\\item[\\$lods] A matrix: 6 × 1 of type dbl\n",
       "\\begin{tabular}{r|l}\n",
       "  & convs24h\\\\\n",
       "\\hline\n",
       "\tSt18 & -1.0117664\\\\\n",
       "\tGm26901 & -3.2532498\\\\\n",
       "\t1700034P13Rik & -0.4335840\\\\\n",
       "\tGm39590 &  1.9333551\\\\\n",
       "\tTcf24 &  0.4671853\\\\\n",
       "\tGm31523 & -2.9452321\\\\\n",
       "\\end{tabular}\n",
       "\n",
       "\\item[\\$F] \\begin{enumerate*}\n",
       "\\item 23.4447202146945\n",
       "\\item 11.6150754753644\n",
       "\\item 30.836793520783\n",
       "\\item 96.2971092987526\n",
       "\\item 41.3996901529755\n",
       "\\item 10.324525844801\n",
       "\\end{enumerate*}\n",
       "\n",
       "\\item[\\$F.p.value] \\begin{enumerate*}\n",
       "\\item 0.00231967977419983\n",
       "\\item 0.0127267043121522\n",
       "\\item 0.0011119937290276\n",
       "\\item 3.9740918771667e-05\n",
       "\\item 0.000487379064942291\n",
       "\\item 0.0164264710597182\n",
       "\\end{enumerate*}\n",
       "\n",
       "\\end{description}\n"
      ],
      "text/markdown": [
       "$coefficients\n",
       ":   \n",
       "A matrix: 6 × 1 of type dbl\n",
       "\n",
       "| <!--/--> | convs24h |\n",
       "|---|---|\n",
       "| St18 | 0.5189651 |\n",
       "| Gm26901 | 1.0662374 |\n",
       "| 1700034P13Rik | 3.6115316 |\n",
       "| Gm39590 | 2.8905855 |\n",
       "| Tcf24 | 0.5295191 |\n",
       "| Gm31523 | 0.6554146 |\n",
       "\n",
       "\n",
       "$stdev.unscaled\n",
       ":   \n",
       "A matrix: 6 × 1 of type dbl\n",
       "\n",
       "| <!--/--> | convs24h |\n",
       "|---|---|\n",
       "| St18 | 0.19904535 |\n",
       "| Gm26901 | 0.09860526 |\n",
       "| 1700034P13Rik | 0.30558837 |\n",
       "| Gm39590 | 0.29013051 |\n",
       "| Tcf24 | 0.15146565 |\n",
       "| Gm31523 | 0.20442439 |\n",
       "\n",
       "\n",
       "$sigma\n",
       ":   1. 0.215670509618659\n",
       "2. 3.98696257671709\n",
       "3. 2.63043947100508\n",
       "4. 1.11692219458088\n",
       "5. 0.234614348883168\n",
       "6. 1.09110304276028\n",
       "\n",
       "\n",
       "\n",
       "$df.residual\n",
       ":   1. 4\n",
       "2. 4\n",
       "3. 4\n",
       "4. 4\n",
       "5. 4\n",
       "6. 4\n",
       "\n",
       "\n",
       "\n",
       "$cov.coefficients\n",
       ":   \n",
       "A matrix: 1 × 1 of type dbl\n",
       "\n",
       "| <!--/--> | convs24h |\n",
       "|---|---|\n",
       "| convs24h | 0.6666667 |\n",
       "\n",
       "\n",
       "$pivot\n",
       ":   1. 1\n",
       "2. 2\n",
       "\n",
       "\n",
       "\n",
       "$rank\n",
       ":   2\n",
       "$genes\n",
       ":   \n",
       "A data.frame: 6 × 3\n",
       "\n",
       "| <!--/--> | SYMBOL &lt;chr&gt; | ENTREZID &lt;chr&gt; | GENENAME &lt;chr&gt; |\n",
       "|---|---|---|---|\n",
       "| 24 | St18          | 240690    | suppression of tumorigenicity 18 |\n",
       "| 26 | Gm26901       | 102632124 | predicted gene, 26901            |\n",
       "| 36 | 1700034P13Rik | 73331     | RIKEN cDNA 1700034P13 gene       |\n",
       "| 37 | Gm39590       | 105243859 | predicted gene, 39590            |\n",
       "| 42 | Tcf24         | 100039596 | transcription factor 24          |\n",
       "| 74 | Gm31523       | 102633776 | predicted gene, 31523            |\n",
       "\n",
       "\n",
       "$Amean\n",
       ":   St18\n",
       ":   -0.688008418942248Gm26901\n",
       ":   2.152056698560781700034P13Rik\n",
       ":   -2.57879679877026Gm39590\n",
       ":   -2.17162745065133Tcf24\n",
       ":   0.428746475111607Gm31523\n",
       ":   -0.800518122348773\n",
       "\n",
       "\n",
       "$method\n",
       ":   'ls'\n",
       "$design\n",
       ":   \n",
       "A matrix: 6 × 2 of type dbl\n",
       "\n",
       "| <!--/--> | control | hhp.24hr |\n",
       "|---|---|---|\n",
       "| 1 | 1 | 0 |\n",
       "| 2 | 1 | 0 |\n",
       "| 3 | 1 | 0 |\n",
       "| 4 | 0 | 1 |\n",
       "| 5 | 0 | 1 |\n",
       "| 6 | 0 | 1 |\n",
       "\n",
       "\n",
       "$contrasts\n",
       ":   \n",
       "A matrix: 2 × 1 of type dbl\n",
       "\n",
       "| <!--/--> | convs24h |\n",
       "|---|---|\n",
       "| control | -1 |\n",
       "| hhp.24hr |  1 |\n",
       "\n",
       "\n",
       "$df.prior\n",
       ":   2.48453393363096\n",
       "$s2.prior\n",
       ":   0.681879776409876\n",
       "$var.prior\n",
       ":   1.29560175245812\n",
       "$proportion\n",
       ":   0.01\n",
       "$s2.post\n",
       ":   1. 0.289952761026097\n",
       "2. 10.0666657717937\n",
       "3. 4.52939270366144\n",
       "4. 1.03079331013597\n",
       "5. 0.295214588056386\n",
       "6. 0.995626965470274\n",
       "\n",
       "\n",
       "\n",
       "$t\n",
       ":   \n",
       "A matrix: 6 × 1 of type dbl\n",
       "\n",
       "| <!--/--> | convs24h |\n",
       "|---|---|\n",
       "| St18 | 4.841975 |\n",
       "| Gm26901 | 3.408090 |\n",
       "| 1700034P13Rik | 5.553089 |\n",
       "| Gm39590 | 9.813109 |\n",
       "| Tcf24 | 6.434259 |\n",
       "| Gm31523 | 3.213180 |\n",
       "\n",
       "\n",
       "$df.total\n",
       ":   1. 6.48453393363096\n",
       "2. 6.48453393363096\n",
       "3. 6.48453393363096\n",
       "4. 6.48453393363096\n",
       "5. 6.48453393363096\n",
       "6. 6.48453393363096\n",
       "\n",
       "\n",
       "\n",
       "$p.value\n",
       ":   \n",
       "A matrix: 6 × 1 of type dbl\n",
       "\n",
       "| <!--/--> | convs24h |\n",
       "|---|---|\n",
       "| St18 | 2.319680e-03 |\n",
       "| Gm26901 | 1.272670e-02 |\n",
       "| 1700034P13Rik | 1.111994e-03 |\n",
       "| Gm39590 | 3.974092e-05 |\n",
       "| Tcf24 | 4.873791e-04 |\n",
       "| Gm31523 | 1.642647e-02 |\n",
       "\n",
       "\n",
       "$lods\n",
       ":   \n",
       "A matrix: 6 × 1 of type dbl\n",
       "\n",
       "| <!--/--> | convs24h |\n",
       "|---|---|\n",
       "| St18 | -1.0117664 |\n",
       "| Gm26901 | -3.2532498 |\n",
       "| 1700034P13Rik | -0.4335840 |\n",
       "| Gm39590 |  1.9333551 |\n",
       "| Tcf24 |  0.4671853 |\n",
       "| Gm31523 | -2.9452321 |\n",
       "\n",
       "\n",
       "$F\n",
       ":   1. 23.4447202146945\n",
       "2. 11.6150754753644\n",
       "3. 30.836793520783\n",
       "4. 96.2971092987526\n",
       "5. 41.3996901529755\n",
       "6. 10.324525844801\n",
       "\n",
       "\n",
       "\n",
       "$F.p.value\n",
       ":   1. 0.00231967977419983\n",
       "2. 0.0127267043121522\n",
       "3. 0.0011119937290276\n",
       "4. 3.9740918771667e-05\n",
       "5. 0.000487379064942291\n",
       "6. 0.0164264710597182\n",
       "\n",
       "\n",
       "\n",
       "\n",
       "\n"
      ],
      "text/plain": [
       "An object of class \"MArrayLM\"\n",
       "$coefficients\n",
       "               Contrasts\n",
       "                 convs24h\n",
       "  St18          0.5189651\n",
       "  Gm26901       1.0662374\n",
       "  1700034P13Rik 3.6115316\n",
       "  Gm39590       2.8905855\n",
       "  Tcf24         0.5295191\n",
       "  Gm31523       0.6554146\n",
       "\n",
       "$stdev.unscaled\n",
       "               Contrasts\n",
       "                  convs24h\n",
       "  St18          0.19904535\n",
       "  Gm26901       0.09860526\n",
       "  1700034P13Rik 0.30558837\n",
       "  Gm39590       0.29013051\n",
       "  Tcf24         0.15146565\n",
       "  Gm31523       0.20442439\n",
       "\n",
       "$sigma\n",
       "[1] 0.2156705 3.9869626 2.6304395 1.1169222 0.2346143 1.0911030\n",
       "\n",
       "$df.residual\n",
       "[1] 4 4 4 4 4 4\n",
       "\n",
       "$cov.coefficients\n",
       "          Contrasts\n",
       "Contrasts   convs24h\n",
       "  convs24h 0.6666667\n",
       "\n",
       "$pivot\n",
       "[1] 1 2\n",
       "\n",
       "$rank\n",
       "[1] 2\n",
       "\n",
       "$genes\n",
       "          SYMBOL  ENTREZID                         GENENAME\n",
       "24          St18    240690 suppression of tumorigenicity 18\n",
       "26       Gm26901 102632124            predicted gene, 26901\n",
       "36 1700034P13Rik     73331       RIKEN cDNA 1700034P13 gene\n",
       "37       Gm39590 105243859            predicted gene, 39590\n",
       "42         Tcf24 100039596          transcription factor 24\n",
       "74       Gm31523 102633776            predicted gene, 31523\n",
       "\n",
       "$Amean\n",
       "         St18       Gm26901 1700034P13Rik       Gm39590         Tcf24 \n",
       "   -0.6880084     2.1520567    -2.5787968    -2.1716275     0.4287465 \n",
       "      Gm31523 \n",
       "   -0.8005181 \n",
       "\n",
       "$method\n",
       "[1] \"ls\"\n",
       "\n",
       "$design\n",
       "  control hhp.24hr\n",
       "1       1        0\n",
       "2       1        0\n",
       "3       1        0\n",
       "4       0        1\n",
       "5       0        1\n",
       "6       0        1\n",
       "attr(,\"assign\")\n",
       "[1] 1 1\n",
       "attr(,\"contrasts\")\n",
       "attr(,\"contrasts\")$treatment\n",
       "[1] \"contr.treatment\"\n",
       "\n",
       "\n",
       "$contrasts\n",
       "          Contrasts\n",
       "Levels     convs24h\n",
       "  control        -1\n",
       "  hhp.24hr        1\n",
       "\n",
       "$df.prior\n",
       "[1] 2.484534\n",
       "\n",
       "$s2.prior\n",
       "[1] 0.6818798\n",
       "\n",
       "$var.prior\n",
       "[1] 1.295602\n",
       "\n",
       "$proportion\n",
       "[1] 0.01\n",
       "\n",
       "$s2.post\n",
       "[1]  0.2899528 10.0666658  4.5293927  1.0307933  0.2952146  0.9956270\n",
       "\n",
       "$t\n",
       "               Contrasts\n",
       "                convs24h\n",
       "  St18          4.841975\n",
       "  Gm26901       3.408090\n",
       "  1700034P13Rik 5.553089\n",
       "  Gm39590       9.813109\n",
       "  Tcf24         6.434259\n",
       "  Gm31523       3.213180\n",
       "\n",
       "$df.total\n",
       "[1] 6.484534 6.484534 6.484534 6.484534 6.484534 6.484534\n",
       "\n",
       "$p.value\n",
       "               Contrasts\n",
       "                    convs24h\n",
       "  St18          2.319680e-03\n",
       "  Gm26901       1.272670e-02\n",
       "  1700034P13Rik 1.111994e-03\n",
       "  Gm39590       3.974092e-05\n",
       "  Tcf24         4.873791e-04\n",
       "  Gm31523       1.642647e-02\n",
       "\n",
       "$lods\n",
       "               Contrasts\n",
       "                  convs24h\n",
       "  St18          -1.0117664\n",
       "  Gm26901       -3.2532498\n",
       "  1700034P13Rik -0.4335840\n",
       "  Gm39590        1.9333551\n",
       "  Tcf24          0.4671853\n",
       "  Gm31523       -2.9452321\n",
       "\n",
       "$F\n",
       "[1] 23.44472 11.61508 30.83679 96.29711 41.39969 10.32453\n",
       "\n",
       "$F.p.value\n",
       "[1] 2.319680e-03 1.272670e-02 1.111994e-03 3.974092e-05 4.873791e-04\n",
       "[6] 1.642647e-02\n"
      ]
     },
     "metadata": {},
     "output_type": "display_data"
    }
   ],
   "source": [
    "head(fit.cont.B[select_genes, ])"
   ]
  },
  {
   "cell_type": "code",
   "execution_count": 64,
   "metadata": {
    "colab": {
     "base_uri": "https://localhost:8080/",
     "height": 35
    },
    "executionInfo": {
     "elapsed": 145,
     "status": "ok",
     "timestamp": 1636990215830,
     "user": {
      "displayName": "Shaoqiu He",
      "photoUrl": "https://lh3.googleusercontent.com/a-/AOh14GjqxDDKIvj-k4BT2y4gflK2grm-E052z036TINn0w=s64",
      "userId": "16738992239117859264"
     },
     "user_tz": 300
    },
    "id": "6nr5bZkoTC9l",
    "outputId": "1019558d-505e-4d77-e1d0-de9f5771130f"
   },
   "outputs": [
    {
     "data": {
      "text/html": [
       "<style>\n",
       ".list-inline {list-style: none; margin:0; padding: 0}\n",
       ".list-inline>li {display: inline-block}\n",
       ".list-inline>li:not(:last-child)::after {content: \"\\00b7\"; padding: 0 .5ex}\n",
       "</style>\n",
       "<ol class=list-inline><li>1023</li><li>2</li></ol>\n"
      ],
      "text/latex": [
       "\\begin{enumerate*}\n",
       "\\item 1023\n",
       "\\item 2\n",
       "\\end{enumerate*}\n"
      ],
      "text/markdown": [
       "1. 1023\n",
       "2. 2\n",
       "\n",
       "\n"
      ],
      "text/plain": [
       "[1] 1023    2"
      ]
     },
     "metadata": {},
     "output_type": "display_data"
    }
   ],
   "source": [
    "forGO <- cbind(fit.cont.B[select_genes, ]$coefficients, fit.cont.B[select_genes,\n",
    "    ]$p.value)\n",
    "# choose the gene for further GO analysis differential genes after ComBat-seq\n",
    "# correction\n",
    "dim(forGO)"
   ]
  },
  {
   "cell_type": "code",
   "execution_count": 65,
   "metadata": {
    "id": "EgOw3GP6dohd"
   },
   "outputs": [],
   "source": [
    "write.csv(forGO, \"forGO_up.csv\")"
   ]
  },
  {
   "cell_type": "code",
   "execution_count": null,
   "metadata": {
    "id": "KZP1fAGvUvQw"
   },
   "outputs": [],
   "source": [
    "summa.fit.B <- summa.fit.B[select_genes, ]"
   ]
  },
  {
   "cell_type": "code",
   "execution_count": null,
   "metadata": {
    "id": "7h7g2f6LUvQw"
   },
   "outputs": [],
   "source": [
    "saveRDS(summa.fit.B, \"./summa.fit.B_neuron.rds\")"
   ]
  },
  {
   "cell_type": "markdown",
   "metadata": {
    "id": "eubpU7Uym7HU"
   },
   "source": [
    "## Differential expression after batch effect correction with edgeR\n",
    "We also can use the mixed model from edgeR for batch-effect correction.\n",
    "In this case, additive model formulas are used is when correcting for batch effects in an experiment. The situation here is analogous to blocking, the only difference being that the batch effects were probably unintended rather than a deliberate aspect of the experimental design. The analysis is the same as for blocking. The treatments can be adjusted for differences between the batches by using an additive model formula of the form."
   ]
  },
  {
   "cell_type": "code",
   "execution_count": null,
   "metadata": {
    "colab": {
     "base_uri": "https://localhost:8080/",
     "height": 254
    },
    "executionInfo": {
     "elapsed": 215,
     "status": "ok",
     "timestamp": 1634226112407,
     "user": {
      "displayName": "Shaoqiu He",
      "photoUrl": "https://lh3.googleusercontent.com/a-/AOh14GjqxDDKIvj-k4BT2y4gflK2grm-E052z036TINn0w=s64",
      "userId": "16738992239117859264"
     },
     "user_tz": 240
    },
    "id": "HNrSm7xFp8VF",
    "outputId": "116b9761-2a82-4f66-a108-92fbb1b5f13a"
   },
   "outputs": [
    {
     "data": {
      "text/plain": [
       "                   Length Class      Mode     \n",
       "samples                 4 data.frame list     \n",
       "counts             154611 -none-     numeric  \n",
       "genes                   3 data.frame list     \n",
       "design                 45 -none-     numeric  \n",
       "common.dispersion       1 -none-     numeric  \n",
       "trended.dispersion  17179 -none-     numeric  \n",
       "tagwise.dispersion  17179 -none-     numeric  \n",
       "AveLogCPM           17179 -none-     numeric  \n",
       "trend.method            1 -none-     character\n",
       "prior.df            17179 -none-     numeric  \n",
       "prior.n             17179 -none-     numeric  \n",
       "span                    1 -none-     numeric  "
      ]
     },
     "metadata": {},
     "output_type": "display_data"
    }
   ],
   "source": [
    "x <- readRDS(\"./x_without_correction.rds\")\n",
    "summary(x)"
   ]
  },
  {
   "cell_type": "code",
   "execution_count": 65,
   "metadata": {
    "colab": {
     "base_uri": "https://localhost:8080/",
     "height": 86
    },
    "executionInfo": {
     "elapsed": 124,
     "status": "ok",
     "timestamp": 1636989644222,
     "user": {
      "displayName": "Shaoqiu He",
      "photoUrl": "https://lh3.googleusercontent.com/a-/AOh14GjqxDDKIvj-k4BT2y4gflK2grm-E052z036TINn0w=s64",
      "userId": "16738992239117859264"
     },
     "user_tz": 300
    },
    "id": "a3RHA1Mrdohf",
    "outputId": "1b0a5b18-a90e-47f9-b3bc-da309b90fab8"
   },
   "outputs": [
    {
     "data": {
      "text/html": [
       "<style>\n",
       ".list-inline {list-style: none; margin:0; padding: 0}\n",
       ".list-inline>li {display: inline-block}\n",
       ".list-inline>li:not(:last-child)::after {content: \"\\00b7\"; padding: 0 .5ex}\n",
       "</style>\n",
       "<ol class=list-inline><li>control</li><li>control</li><li>control</li><li>hhp.24hr</li><li>hhp.24hr</li><li>hhp.24hr</li></ol>\n",
       "\n",
       "<details>\n",
       "\t<summary style=display:list-item;cursor:pointer>\n",
       "\t\t<strong>Levels</strong>:\n",
       "\t</summary>\n",
       "\t<style>\n",
       "\t.list-inline {list-style: none; margin:0; padding: 0}\n",
       "\t.list-inline>li {display: inline-block}\n",
       "\t.list-inline>li:not(:last-child)::after {content: \"\\00b7\"; padding: 0 .5ex}\n",
       "\t</style>\n",
       "\t<ol class=list-inline><li>'control'</li><li>'hhp.24hr'</li></ol>\n",
       "</details>"
      ],
      "text/latex": [
       "\\begin{enumerate*}\n",
       "\\item control\n",
       "\\item control\n",
       "\\item control\n",
       "\\item hhp.24hr\n",
       "\\item hhp.24hr\n",
       "\\item hhp.24hr\n",
       "\\end{enumerate*}\n",
       "\n",
       "\\emph{Levels}: \\begin{enumerate*}\n",
       "\\item 'control'\n",
       "\\item 'hhp.24hr'\n",
       "\\end{enumerate*}\n"
      ],
      "text/markdown": [
       "1. control\n",
       "2. control\n",
       "3. control\n",
       "4. hhp.24hr\n",
       "5. hhp.24hr\n",
       "6. hhp.24hr\n",
       "\n",
       "\n",
       "\n",
       "**Levels**: 1. 'control'\n",
       "2. 'hhp.24hr'\n",
       "\n",
       "\n"
      ],
      "text/plain": [
       "[1] control  control  control  hhp.24hr hhp.24hr hhp.24hr\n",
       "Levels: control hhp.24hr"
      ]
     },
     "metadata": {},
     "output_type": "display_data"
    },
    {
     "data": {
      "text/html": [
       "<style>\n",
       ".list-inline {list-style: none; margin:0; padding: 0}\n",
       ".list-inline>li {display: inline-block}\n",
       ".list-inline>li:not(:last-child)::after {content: \"\\00b7\"; padding: 0 .5ex}\n",
       "</style>\n",
       "<ol class=list-inline><li>first</li><li>second</li><li>third</li><li>first</li><li>second</li><li>third</li></ol>\n",
       "\n",
       "<details>\n",
       "\t<summary style=display:list-item;cursor:pointer>\n",
       "\t\t<strong>Levels</strong>:\n",
       "\t</summary>\n",
       "\t<style>\n",
       "\t.list-inline {list-style: none; margin:0; padding: 0}\n",
       "\t.list-inline>li {display: inline-block}\n",
       "\t.list-inline>li:not(:last-child)::after {content: \"\\00b7\"; padding: 0 .5ex}\n",
       "\t</style>\n",
       "\t<ol class=list-inline><li>'first'</li><li>'second'</li><li>'third'</li></ol>\n",
       "</details>"
      ],
      "text/latex": [
       "\\begin{enumerate*}\n",
       "\\item first\n",
       "\\item second\n",
       "\\item third\n",
       "\\item first\n",
       "\\item second\n",
       "\\item third\n",
       "\\end{enumerate*}\n",
       "\n",
       "\\emph{Levels}: \\begin{enumerate*}\n",
       "\\item 'first'\n",
       "\\item 'second'\n",
       "\\item 'third'\n",
       "\\end{enumerate*}\n"
      ],
      "text/markdown": [
       "1. first\n",
       "2. second\n",
       "3. third\n",
       "4. first\n",
       "5. second\n",
       "6. third\n",
       "\n",
       "\n",
       "\n",
       "**Levels**: 1. 'first'\n",
       "2. 'second'\n",
       "3. 'third'\n",
       "\n",
       "\n"
      ],
      "text/plain": [
       "[1] first  second third  first  second third \n",
       "Levels: first second third"
      ]
     },
     "metadata": {},
     "output_type": "display_data"
    }
   ],
   "source": [
    "# Create the design matrix Look at group variable again\n",
    "treatment <- sampleinfo$Treatment\n",
    "treatment <- factor(treatment)\n",
    "batch <- sampleinfo$Batch\n",
    "batch <- factor(batch)\n",
    "treatment\n",
    "batch"
   ]
  },
  {
   "cell_type": "code",
   "execution_count": 66,
   "metadata": {
    "colab": {
     "base_uri": "https://localhost:8080/",
     "height": 254
    },
    "executionInfo": {
     "elapsed": 103,
     "status": "ok",
     "timestamp": 1636989645731,
     "user": {
      "displayName": "Shaoqiu He",
      "photoUrl": "https://lh3.googleusercontent.com/a-/AOh14GjqxDDKIvj-k4BT2y4gflK2grm-E052z036TINn0w=s64",
      "userId": "16738992239117859264"
     },
     "user_tz": 300
    },
    "id": "FaL166bddohf",
    "outputId": "4fa529fe-dcf7-4114-ab55-3708d32e573f"
   },
   "outputs": [
    {
     "data": {
      "text/html": [
       "<table class=\"dataframe\">\n",
       "<caption>A matrix: 6 × 4 of type dbl</caption>\n",
       "<thead>\n",
       "\t<tr><th></th><th scope=col>(Intercept)</th><th scope=col>batchsecond</th><th scope=col>batchthird</th><th scope=col>treatmenthhp.24hr</th></tr>\n",
       "</thead>\n",
       "<tbody>\n",
       "\t<tr><th scope=row>CON_1</th><td>1</td><td>0</td><td>0</td><td>0</td></tr>\n",
       "\t<tr><th scope=row>CON_2</th><td>1</td><td>1</td><td>0</td><td>0</td></tr>\n",
       "\t<tr><th scope=row>CON_3</th><td>1</td><td>0</td><td>1</td><td>0</td></tr>\n",
       "\t<tr><th scope=row>HHP.24H_1</th><td>1</td><td>0</td><td>0</td><td>1</td></tr>\n",
       "\t<tr><th scope=row>HHP.24H_2</th><td>1</td><td>1</td><td>0</td><td>1</td></tr>\n",
       "\t<tr><th scope=row>HHP.24H_3</th><td>1</td><td>0</td><td>1</td><td>1</td></tr>\n",
       "</tbody>\n",
       "</table>\n"
      ],
      "text/latex": [
       "A matrix: 6 × 4 of type dbl\n",
       "\\begin{tabular}{r|llll}\n",
       "  & (Intercept) & batchsecond & batchthird & treatmenthhp.24hr\\\\\n",
       "\\hline\n",
       "\tCON\\_1 & 1 & 0 & 0 & 0\\\\\n",
       "\tCON\\_2 & 1 & 1 & 0 & 0\\\\\n",
       "\tCON\\_3 & 1 & 0 & 1 & 0\\\\\n",
       "\tHHP.24H\\_1 & 1 & 0 & 0 & 1\\\\\n",
       "\tHHP.24H\\_2 & 1 & 1 & 0 & 1\\\\\n",
       "\tHHP.24H\\_3 & 1 & 0 & 1 & 1\\\\\n",
       "\\end{tabular}\n"
      ],
      "text/markdown": [
       "\n",
       "A matrix: 6 × 4 of type dbl\n",
       "\n",
       "| <!--/--> | (Intercept) | batchsecond | batchthird | treatmenthhp.24hr |\n",
       "|---|---|---|---|---|\n",
       "| CON_1 | 1 | 0 | 0 | 0 |\n",
       "| CON_2 | 1 | 1 | 0 | 0 |\n",
       "| CON_3 | 1 | 0 | 1 | 0 |\n",
       "| HHP.24H_1 | 1 | 0 | 0 | 1 |\n",
       "| HHP.24H_2 | 1 | 1 | 0 | 1 |\n",
       "| HHP.24H_3 | 1 | 0 | 1 | 1 |\n",
       "\n"
      ],
      "text/plain": [
       "          (Intercept) batchsecond batchthird treatmenthhp.24hr\n",
       "CON_1     1           0           0          0                \n",
       "CON_2     1           1           0          0                \n",
       "CON_3     1           0           1          0                \n",
       "HHP.24H_1 1           0           0          1                \n",
       "HHP.24H_2 1           1           0          1                \n",
       "HHP.24H_3 1           0           1          1                "
      ]
     },
     "metadata": {},
     "output_type": "display_data"
    }
   ],
   "source": [
    "# Specify a design matrix without an intercept term Make the column names of\n",
    "# the design matrix a bit nicer\n",
    "design <- model.matrix(~batch + treatment)\n",
    "rownames(design) <- colnames(x)\n",
    "design"
   ]
  },
  {
   "cell_type": "code",
   "execution_count": 67,
   "metadata": {
    "colab": {
     "base_uri": "https://localhost:8080/",
     "height": 455
    },
    "executionInfo": {
     "elapsed": 8129,
     "status": "ok",
     "timestamp": 1636989655794,
     "user": {
      "displayName": "Shaoqiu He",
      "photoUrl": "https://lh3.googleusercontent.com/a-/AOh14GjqxDDKIvj-k4BT2y4gflK2grm-E052z036TINn0w=s64",
      "userId": "16738992239117859264"
     },
     "user_tz": 300
    },
    "id": "_HkVJIoOdohf",
    "outputId": "285455dc-e74c-4dde-9b4c-aeb2993ff197"
   },
   "outputs": [
    {
     "data": {
      "text/html": [
       "0.00772849147558422"
      ],
      "text/latex": [
       "0.00772849147558422"
      ],
      "text/markdown": [
       "0.00772849147558422"
      ],
      "text/plain": [
       "[1] 0.007728491"
      ]
     },
     "metadata": {},
     "output_type": "display_data"
    },
    {
     "data": {
      "image/png": "[encoded data removed]",
      "text/plain": [
       "plot without title"
      ]
     },
     "metadata": {
      "image/png": {
       "height": 420,
       "width": 420
      }
     },
     "output_type": "display_data"
    }
   ],
   "source": [
    "x <- estimateDisp(x, design, robust = TRUE)\n",
    "x$common.dispersion\n",
    "plotBCV(x)"
   ]
  },
  {
   "cell_type": "code",
   "execution_count": 68,
   "metadata": {
    "colab": {
     "base_uri": "https://localhost:8080/",
     "height": 437
    },
    "executionInfo": {
     "elapsed": 1608,
     "status": "ok",
     "timestamp": 1636989658918,
     "user": {
      "displayName": "Shaoqiu He",
      "photoUrl": "https://lh3.googleusercontent.com/a-/AOh14GjqxDDKIvj-k4BT2y4gflK2grm-E052z036TINn0w=s64",
      "userId": "16738992239117859264"
     },
     "user_tz": 300
    },
    "id": "2g68l2ODdohf",
    "outputId": "a38dfc30-ffac-4f41-aa78-5442f1bfedde"
   },
   "outputs": [
    {
     "data": {
      "image/png": "[encoded data removed]",
      "text/plain": [
       "plot without title"
      ]
     },
     "metadata": {
      "image/png": {
       "height": 420,
       "width": 420
      }
     },
     "output_type": "display_data"
    }
   ],
   "source": [
    "fit <- glmQLFit(x, design, robust = TRUE)\n",
    "plotQLDisp(fit)"
   ]
  },
  {
   "cell_type": "code",
   "execution_count": 69,
   "metadata": {
    "colab": {
     "base_uri": "https://localhost:8080/",
     "height": 1000
    },
    "executionInfo": {
     "elapsed": 224,
     "status": "ok",
     "timestamp": 1636989660333,
     "user": {
      "displayName": "Shaoqiu He",
      "photoUrl": "https://lh3.googleusercontent.com/a-/AOh14GjqxDDKIvj-k4BT2y4gflK2grm-E052z036TINn0w=s64",
      "userId": "16738992239117859264"
     },
     "user_tz": 300
    },
    "id": "t-6KTSjGdohg",
    "outputId": "b24c84b2-cf37-47f5-d085-8f633c351768"
   },
   "outputs": [
    {
     "data": {
      "text/html": [
       "<dl>\n",
       "\t<dt>$table</dt>\n",
       "\t\t<dd><table class=\"dataframe\">\n",
       "<caption>A data.frame: 10 × 11</caption>\n",
       "<thead>\n",
       "\t<tr><th></th><th scope=col>SYMBOL</th><th scope=col>ENTREZID</th><th scope=col>GENENAME</th><th scope=col>logFC..Intercept.</th><th scope=col>logFC.batchsecond</th><th scope=col>logFC.batchthird</th><th scope=col>logFC.treatmenthhp.24hr</th><th scope=col>logCPM</th><th scope=col>F</th><th scope=col>PValue</th><th scope=col>FDR</th></tr>\n",
       "\t<tr><th></th><th scope=col>&lt;chr&gt;</th><th scope=col>&lt;chr&gt;</th><th scope=col>&lt;chr&gt;</th><th scope=col>&lt;dbl&gt;</th><th scope=col>&lt;dbl&gt;</th><th scope=col>&lt;dbl&gt;</th><th scope=col>&lt;dbl&gt;</th><th scope=col>&lt;dbl&gt;</th><th scope=col>&lt;dbl&gt;</th><th scope=col>&lt;dbl&gt;</th><th scope=col>&lt;dbl&gt;</th></tr>\n",
       "</thead>\n",
       "<tbody>\n",
       "\t<tr><th scope=row>Raly</th><td>Raly    </td><td>19383 </td><td>hnRNP-associated with lethal yellow                               </td><td>-12.93894</td><td>-0.003127505</td><td>0.002764481</td><td>-0.14247316</td><td>6.923757</td><td>9822.463</td><td>2.080078e-19</td><td>5.053418e-18</td></tr>\n",
       "\t<tr><th scope=row>Map2k7</th><td>Map2k7  </td><td>26400 </td><td>mitogen-activated protein kinase kinase 7                         </td><td>-13.05136</td><td>-0.003149910</td><td>0.002571178</td><td> 0.07875056</td><td>6.920385</td><td>9810.318</td><td>2.094237e-19</td><td>5.053418e-18</td></tr>\n",
       "\t<tr><th scope=row>Map4k3</th><td>Map4k3  </td><td>225028</td><td>mitogen-activated protein kinase kinase kinase kinase 3           </td><td>-12.94726</td><td>-0.002938310</td><td>0.002808139</td><td>-0.11660707</td><td>6.927832</td><td>9808.243</td><td>2.096667e-19</td><td>5.053418e-18</td></tr>\n",
       "\t<tr><th scope=row>Tmem178b</th><td>Tmem178b</td><td>434008</td><td>transmembrane protein 178B                                        </td><td>-13.11048</td><td>-0.003300263</td><td>0.002427534</td><td> 0.03309047</td><td>6.837981</td><td>9783.140</td><td>2.126335e-19</td><td>5.053418e-18</td></tr>\n",
       "\t<tr><th scope=row>Gns</th><td>Gns     </td><td>75612 </td><td>glucosamine (N-acetyl)-6-sulfatase                                </td><td>-12.96706</td><td>-0.003101103</td><td>0.002603986</td><td> 0.06097474</td><td>6.995606</td><td>9782.466</td><td>2.127138e-19</td><td>5.053418e-18</td></tr>\n",
       "\t<tr><th scope=row>Gnai3</th><td>Gnai3   </td><td>14679 </td><td>guanine nucleotide binding protein (G protein), alpha inhibiting 3</td><td>-13.03217</td><td>-0.002952102</td><td>0.002696365</td><td> 0.07100470</td><td>6.935709</td><td>9778.740</td><td>2.131586e-19</td><td>5.053418e-18</td></tr>\n",
       "\t<tr><th scope=row>Mef2d</th><td>Mef2d   </td><td>17261 </td><td>myocyte enhancer factor 2D                                        </td><td>-12.97299</td><td>-0.003199635</td><td>0.002643037</td><td> 0.07909633</td><td>6.998921</td><td>9778.329</td><td>2.132077e-19</td><td>5.053418e-18</td></tr>\n",
       "\t<tr><th scope=row>Uhmk1</th><td>Uhmk1   </td><td>16589 </td><td>U2AF homology motif (UHM) kinase 1                                </td><td>-13.23873</td><td>-0.003288837</td><td>0.002626863</td><td> 0.22345692</td><td>6.808968</td><td>9771.803</td><td>2.139896e-19</td><td>5.053418e-18</td></tr>\n",
       "\t<tr><th scope=row>Shc2</th><td>Shc2    </td><td>216148</td><td>SHC (Src homology 2 domain containing) transforming protein 2     </td><td>-13.18358</td><td>-0.003029055</td><td>0.002714800</td><td> 0.09500568</td><td>6.796637</td><td>9766.511</td><td>2.146262e-19</td><td>5.053418e-18</td></tr>\n",
       "\t<tr><th scope=row>Ice1</th><td>Ice1    </td><td>218333</td><td>interactor of little elongation complex ELL subunit 1             </td><td>-13.01754</td><td>-0.003475149</td><td>0.002458726</td><td> 0.03071913</td><td>6.929647</td><td>9766.404</td><td>2.146391e-19</td><td>5.053418e-18</td></tr>\n",
       "</tbody>\n",
       "</table>\n",
       "</dd>\n",
       "\t<dt>$adjust.method</dt>\n",
       "\t\t<dd>'BH'</dd>\n",
       "\t<dt>$comparison</dt>\n",
       "\t\t<dd><style>\n",
       ".list-inline {list-style: none; margin:0; padding: 0}\n",
       ".list-inline>li {display: inline-block}\n",
       ".list-inline>li:not(:last-child)::after {content: \"\\00b7\"; padding: 0 .5ex}\n",
       "</style>\n",
       "<ol class=list-inline><li>'(Intercept)'</li><li>'batchsecond'</li><li>'batchthird'</li><li>'treatmenthhp.24hr'</li></ol>\n",
       "</dd>\n",
       "\t<dt>$test</dt>\n",
       "\t\t<dd>'glm'</dd>\n",
       "</dl>\n"
      ],
      "text/latex": [
       "\\begin{description}\n",
       "\\item[\\$table] A data.frame: 10 × 11\n",
       "\\begin{tabular}{r|lllllllllll}\n",
       "  & SYMBOL & ENTREZID & GENENAME & logFC..Intercept. & logFC.batchsecond & logFC.batchthird & logFC.treatmenthhp.24hr & logCPM & F & PValue & FDR\\\\\n",
       "  & <chr> & <chr> & <chr> & <dbl> & <dbl> & <dbl> & <dbl> & <dbl> & <dbl> & <dbl> & <dbl>\\\\\n",
       "\\hline\n",
       "\tRaly & Raly     & 19383  & hnRNP-associated with lethal yellow                                & -12.93894 & -0.003127505 & 0.002764481 & -0.14247316 & 6.923757 & 9822.463 & 2.080078e-19 & 5.053418e-18\\\\\n",
       "\tMap2k7 & Map2k7   & 26400  & mitogen-activated protein kinase kinase 7                          & -13.05136 & -0.003149910 & 0.002571178 &  0.07875056 & 6.920385 & 9810.318 & 2.094237e-19 & 5.053418e-18\\\\\n",
       "\tMap4k3 & Map4k3   & 225028 & mitogen-activated protein kinase kinase kinase kinase 3            & -12.94726 & -0.002938310 & 0.002808139 & -0.11660707 & 6.927832 & 9808.243 & 2.096667e-19 & 5.053418e-18\\\\\n",
       "\tTmem178b & Tmem178b & 434008 & transmembrane protein 178B                                         & -13.11048 & -0.003300263 & 0.002427534 &  0.03309047 & 6.837981 & 9783.140 & 2.126335e-19 & 5.053418e-18\\\\\n",
       "\tGns & Gns      & 75612  & glucosamine (N-acetyl)-6-sulfatase                                 & -12.96706 & -0.003101103 & 0.002603986 &  0.06097474 & 6.995606 & 9782.466 & 2.127138e-19 & 5.053418e-18\\\\\n",
       "\tGnai3 & Gnai3    & 14679  & guanine nucleotide binding protein (G protein), alpha inhibiting 3 & -13.03217 & -0.002952102 & 0.002696365 &  0.07100470 & 6.935709 & 9778.740 & 2.131586e-19 & 5.053418e-18\\\\\n",
       "\tMef2d & Mef2d    & 17261  & myocyte enhancer factor 2D                                         & -12.97299 & -0.003199635 & 0.002643037 &  0.07909633 & 6.998921 & 9778.329 & 2.132077e-19 & 5.053418e-18\\\\\n",
       "\tUhmk1 & Uhmk1    & 16589  & U2AF homology motif (UHM) kinase 1                                 & -13.23873 & -0.003288837 & 0.002626863 &  0.22345692 & 6.808968 & 9771.803 & 2.139896e-19 & 5.053418e-18\\\\\n",
       "\tShc2 & Shc2     & 216148 & SHC (Src homology 2 domain containing) transforming protein 2      & -13.18358 & -0.003029055 & 0.002714800 &  0.09500568 & 6.796637 & 9766.511 & 2.146262e-19 & 5.053418e-18\\\\\n",
       "\tIce1 & Ice1     & 218333 & interactor of little elongation complex ELL subunit 1              & -13.01754 & -0.003475149 & 0.002458726 &  0.03071913 & 6.929647 & 9766.404 & 2.146391e-19 & 5.053418e-18\\\\\n",
       "\\end{tabular}\n",
       "\n",
       "\\item[\\$adjust.method] 'BH'\n",
       "\\item[\\$comparison] \\begin{enumerate*}\n",
       "\\item '(Intercept)'\n",
       "\\item 'batchsecond'\n",
       "\\item 'batchthird'\n",
       "\\item 'treatmenthhp.24hr'\n",
       "\\end{enumerate*}\n",
       "\n",
       "\\item[\\$test] 'glm'\n",
       "\\end{description}\n"
      ],
      "text/markdown": [
       "$table\n",
       ":   \n",
       "A data.frame: 10 × 11\n",
       "\n",
       "| <!--/--> | SYMBOL &lt;chr&gt; | ENTREZID &lt;chr&gt; | GENENAME &lt;chr&gt; | logFC..Intercept. &lt;dbl&gt; | logFC.batchsecond &lt;dbl&gt; | logFC.batchthird &lt;dbl&gt; | logFC.treatmenthhp.24hr &lt;dbl&gt; | logCPM &lt;dbl&gt; | F &lt;dbl&gt; | PValue &lt;dbl&gt; | FDR &lt;dbl&gt; |\n",
       "|---|---|---|---|---|---|---|---|---|---|---|---|\n",
       "| Raly | Raly     | 19383  | hnRNP-associated with lethal yellow                                | -12.93894 | -0.003127505 | 0.002764481 | -0.14247316 | 6.923757 | 9822.463 | 2.080078e-19 | 5.053418e-18 |\n",
       "| Map2k7 | Map2k7   | 26400  | mitogen-activated protein kinase kinase 7                          | -13.05136 | -0.003149910 | 0.002571178 |  0.07875056 | 6.920385 | 9810.318 | 2.094237e-19 | 5.053418e-18 |\n",
       "| Map4k3 | Map4k3   | 225028 | mitogen-activated protein kinase kinase kinase kinase 3            | -12.94726 | -0.002938310 | 0.002808139 | -0.11660707 | 6.927832 | 9808.243 | 2.096667e-19 | 5.053418e-18 |\n",
       "| Tmem178b | Tmem178b | 434008 | transmembrane protein 178B                                         | -13.11048 | -0.003300263 | 0.002427534 |  0.03309047 | 6.837981 | 9783.140 | 2.126335e-19 | 5.053418e-18 |\n",
       "| Gns | Gns      | 75612  | glucosamine (N-acetyl)-6-sulfatase                                 | -12.96706 | -0.003101103 | 0.002603986 |  0.06097474 | 6.995606 | 9782.466 | 2.127138e-19 | 5.053418e-18 |\n",
       "| Gnai3 | Gnai3    | 14679  | guanine nucleotide binding protein (G protein), alpha inhibiting 3 | -13.03217 | -0.002952102 | 0.002696365 |  0.07100470 | 6.935709 | 9778.740 | 2.131586e-19 | 5.053418e-18 |\n",
       "| Mef2d | Mef2d    | 17261  | myocyte enhancer factor 2D                                         | -12.97299 | -0.003199635 | 0.002643037 |  0.07909633 | 6.998921 | 9778.329 | 2.132077e-19 | 5.053418e-18 |\n",
       "| Uhmk1 | Uhmk1    | 16589  | U2AF homology motif (UHM) kinase 1                                 | -13.23873 | -0.003288837 | 0.002626863 |  0.22345692 | 6.808968 | 9771.803 | 2.139896e-19 | 5.053418e-18 |\n",
       "| Shc2 | Shc2     | 216148 | SHC (Src homology 2 domain containing) transforming protein 2      | -13.18358 | -0.003029055 | 0.002714800 |  0.09500568 | 6.796637 | 9766.511 | 2.146262e-19 | 5.053418e-18 |\n",
       "| Ice1 | Ice1     | 218333 | interactor of little elongation complex ELL subunit 1              | -13.01754 | -0.003475149 | 0.002458726 |  0.03071913 | 6.929647 | 9766.404 | 2.146391e-19 | 5.053418e-18 |\n",
       "\n",
       "\n",
       "$adjust.method\n",
       ":   'BH'\n",
       "$comparison\n",
       ":   1. '(Intercept)'\n",
       "2. 'batchsecond'\n",
       "3. 'batchthird'\n",
       "4. 'treatmenthhp.24hr'\n",
       "\n",
       "\n",
       "\n",
       "$test\n",
       ":   'glm'\n",
       "\n",
       "\n"
      ],
      "text/plain": [
       "Coefficient:  (Intercept) batchsecond batchthird treatmenthhp.24hr \n",
       "           SYMBOL ENTREZID\n",
       "Raly         Raly    19383\n",
       "Map2k7     Map2k7    26400\n",
       "Map4k3     Map4k3   225028\n",
       "Tmem178b Tmem178b   434008\n",
       "Gns           Gns    75612\n",
       "Gnai3       Gnai3    14679\n",
       "Mef2d       Mef2d    17261\n",
       "Uhmk1       Uhmk1    16589\n",
       "Shc2         Shc2   216148\n",
       "Ice1         Ice1   218333\n",
       "                                                                   GENENAME\n",
       "Raly                                    hnRNP-associated with lethal yellow\n",
       "Map2k7                            mitogen-activated protein kinase kinase 7\n",
       "Map4k3              mitogen-activated protein kinase kinase kinase kinase 3\n",
       "Tmem178b                                         transmembrane protein 178B\n",
       "Gns                                      glucosamine (N-acetyl)-6-sulfatase\n",
       "Gnai3    guanine nucleotide binding protein (G protein), alpha inhibiting 3\n",
       "Mef2d                                            myocyte enhancer factor 2D\n",
       "Uhmk1                                    U2AF homology motif (UHM) kinase 1\n",
       "Shc2          SHC (Src homology 2 domain containing) transforming protein 2\n",
       "Ice1                  interactor of little elongation complex ELL subunit 1\n",
       "         logFC..Intercept. logFC.batchsecond logFC.batchthird\n",
       "Raly             -12.93894      -0.003127505      0.002764481\n",
       "Map2k7           -13.05136      -0.003149910      0.002571178\n",
       "Map4k3           -12.94726      -0.002938310      0.002808139\n",
       "Tmem178b         -13.11048      -0.003300263      0.002427534\n",
       "Gns              -12.96706      -0.003101103      0.002603986\n",
       "Gnai3            -13.03217      -0.002952102      0.002696365\n",
       "Mef2d            -12.97299      -0.003199635      0.002643037\n",
       "Uhmk1            -13.23873      -0.003288837      0.002626863\n",
       "Shc2             -13.18358      -0.003029055      0.002714800\n",
       "Ice1             -13.01754      -0.003475149      0.002458726\n",
       "         logFC.treatmenthhp.24hr   logCPM        F       PValue          FDR\n",
       "Raly                 -0.14247316 6.923757 9822.463 2.080078e-19 5.053418e-18\n",
       "Map2k7                0.07875056 6.920385 9810.318 2.094237e-19 5.053418e-18\n",
       "Map4k3               -0.11660707 6.927832 9808.243 2.096667e-19 5.053418e-18\n",
       "Tmem178b              0.03309047 6.837981 9783.140 2.126335e-19 5.053418e-18\n",
       "Gns                   0.06097474 6.995606 9782.466 2.127138e-19 5.053418e-18\n",
       "Gnai3                 0.07100470 6.935709 9778.740 2.131586e-19 5.053418e-18\n",
       "Mef2d                 0.07909633 6.998921 9778.329 2.132077e-19 5.053418e-18\n",
       "Uhmk1                 0.22345692 6.808968 9771.803 2.139896e-19 5.053418e-18\n",
       "Shc2                  0.09500568 6.796637 9766.511 2.146262e-19 5.053418e-18\n",
       "Ice1                  0.03071913 6.929647 9766.404 2.146391e-19 5.053418e-18"
      ]
     },
     "metadata": {},
     "output_type": "display_data"
    }
   ],
   "source": [
    "qlf <- glmQLFTest(fit, coef = 1:4)\n",
    "topTags(qlf)"
   ]
  },
  {
   "cell_type": "code",
   "execution_count": 70,
   "metadata": {
    "colab": {
     "base_uri": "https://localhost:8080/",
     "height": 35
    },
    "executionInfo": {
     "elapsed": 98,
     "status": "ok",
     "timestamp": 1636989662877,
     "user": {
      "displayName": "Shaoqiu He",
      "photoUrl": "https://lh3.googleusercontent.com/a-/AOh14GjqxDDKIvj-k4BT2y4gflK2grm-E052z036TINn0w=s64",
      "userId": "16738992239117859264"
     },
     "user_tz": 300
    },
    "id": "KPrwTejIdohg",
    "outputId": "80938b83-5e1d-43c1-de3f-b2f5968b44bf"
   },
   "outputs": [
    {
     "data": {
      "text/html": [
       "16715"
      ],
      "text/latex": [
       "16715"
      ],
      "text/markdown": [
       "16715"
      ],
      "text/plain": [
       "[1] 16715"
      ]
     },
     "metadata": {},
     "output_type": "display_data"
    }
   ],
   "source": [
    "FDR <- p.adjust(qlf$table$PValue, method = \"BH\")\n",
    "sum(FDR < 0.05)"
   ]
  },
  {
   "cell_type": "code",
   "execution_count": 71,
   "metadata": {
    "colab": {
     "base_uri": "https://localhost:8080/",
     "height": 1000
    },
    "executionInfo": {
     "elapsed": 352,
     "status": "ok",
     "timestamp": 1636989665406,
     "user": {
      "displayName": "Shaoqiu He",
      "photoUrl": "https://lh3.googleusercontent.com/a-/AOh14GjqxDDKIvj-k4BT2y4gflK2grm-E052z036TINn0w=s64",
      "userId": "16738992239117859264"
     },
     "user_tz": 300
    },
    "id": "rIXqzWztdohg",
    "outputId": "54c54870-e192-4c81-d902-52faffa6124c"
   },
   "outputs": [
    {
     "data": {
      "text/html": [
       "<dl>\n",
       "\t<dt>$table</dt>\n",
       "\t\t<dd><table class=\"dataframe\">\n",
       "<caption>A data.frame: 10 × 8</caption>\n",
       "<thead>\n",
       "\t<tr><th></th><th scope=col>SYMBOL</th><th scope=col>ENTREZID</th><th scope=col>GENENAME</th><th scope=col>logFC</th><th scope=col>logCPM</th><th scope=col>F</th><th scope=col>PValue</th><th scope=col>FDR</th></tr>\n",
       "\t<tr><th></th><th scope=col>&lt;chr&gt;</th><th scope=col>&lt;chr&gt;</th><th scope=col>&lt;chr&gt;</th><th scope=col>&lt;dbl&gt;</th><th scope=col>&lt;dbl&gt;</th><th scope=col>&lt;dbl&gt;</th><th scope=col>&lt;dbl&gt;</th><th scope=col>&lt;dbl&gt;</th></tr>\n",
       "</thead>\n",
       "<tbody>\n",
       "\t<tr><th scope=row>Mt2</th><td>Mt2     </td><td>17750    </td><td>metallothionein 2                                      </td><td>-2.9679424</td><td>3.950210</td><td>692.2000</td><td>2.915576e-11</td><td>4.873385e-07</td></tr>\n",
       "\t<tr><th scope=row>Slc39a10</th><td>Slc39a10</td><td>227059   </td><td>solute carrier family 39 (zinc transporter), member 10 </td><td> 1.3884489</td><td>7.076284</td><td>427.6557</td><td>3.896331e-10</td><td>3.256359e-06</td></tr>\n",
       "\t<tr><th scope=row>Slc30a1</th><td>Slc30a1 </td><td>22782    </td><td>solute carrier family 30 (zinc transporter), member 1  </td><td>-1.6030021</td><td>4.135600</td><td>267.5251</td><td>4.735552e-09</td><td>2.603796e-05</td></tr>\n",
       "\t<tr><th scope=row>Tac1</th><td>Tac1    </td><td>21333    </td><td>tachykinin 1                                           </td><td> 1.0308145</td><td>6.650543</td><td>253.9752</td><td>6.231041e-09</td><td>2.603796e-05</td></tr>\n",
       "\t<tr><th scope=row>Calr3</th><td>Calr3   </td><td>73316    </td><td>calreticulin 3                                         </td><td> 1.7976288</td><td>2.871940</td><td>200.1417</td><td>2.175761e-08</td><td>7.273570e-05</td></tr>\n",
       "\t<tr><th scope=row>Pdrg1</th><td>Pdrg1   </td><td>68559    </td><td>p53 and DNA damage regulated 1                         </td><td> 0.9789700</td><td>5.735567</td><td>188.6776</td><td>2.959239e-08</td><td>8.109815e-05</td></tr>\n",
       "\t<tr><th scope=row>Sprn</th><td>Sprn    </td><td>212518   </td><td>shadow of prion protein                                </td><td>-1.2747026</td><td>4.562231</td><td>183.7479</td><td>3.396273e-08</td><td>8.109815e-05</td></tr>\n",
       "\t<tr><th scope=row>Gm39663</th><td>Gm39663 </td><td>105243956</td><td>predicted gene, 39663                                  </td><td> 1.8849768</td><td>2.334014</td><td>161.5318</td><td>6.621713e-08</td><td>1.372711e-04</td></tr>\n",
       "\t<tr><th scope=row>Prrg2</th><td>Prrg2   </td><td>65116    </td><td>proline-rich Gla (G-carboxyglutamic acid) polypeptide 2</td><td> 1.3898088</td><td>3.722686</td><td>158.1263</td><td>7.391203e-08</td><td>1.372711e-04</td></tr>\n",
       "\t<tr><th scope=row>Stat1</th><td>Stat1   </td><td>20846    </td><td>signal transducer and activator of transcription 1     </td><td>-0.8147015</td><td>6.117561</td><td>146.7108</td><td>1.086726e-07</td><td>1.816462e-04</td></tr>\n",
       "</tbody>\n",
       "</table>\n",
       "</dd>\n",
       "\t<dt>$adjust.method</dt>\n",
       "\t\t<dd>'BH'</dd>\n",
       "\t<dt>$comparison</dt>\n",
       "\t\t<dd>'treatmenthhp.24hr'</dd>\n",
       "\t<dt>$test</dt>\n",
       "\t\t<dd>'glm'</dd>\n",
       "</dl>\n"
      ],
      "text/latex": [
       "\\begin{description}\n",
       "\\item[\\$table] A data.frame: 10 × 8\n",
       "\\begin{tabular}{r|llllllll}\n",
       "  & SYMBOL & ENTREZID & GENENAME & logFC & logCPM & F & PValue & FDR\\\\\n",
       "  & <chr> & <chr> & <chr> & <dbl> & <dbl> & <dbl> & <dbl> & <dbl>\\\\\n",
       "\\hline\n",
       "\tMt2 & Mt2      & 17750     & metallothionein 2                                       & -2.9679424 & 3.950210 & 692.2000 & 2.915576e-11 & 4.873385e-07\\\\\n",
       "\tSlc39a10 & Slc39a10 & 227059    & solute carrier family 39 (zinc transporter), member 10  &  1.3884489 & 7.076284 & 427.6557 & 3.896331e-10 & 3.256359e-06\\\\\n",
       "\tSlc30a1 & Slc30a1  & 22782     & solute carrier family 30 (zinc transporter), member 1   & -1.6030021 & 4.135600 & 267.5251 & 4.735552e-09 & 2.603796e-05\\\\\n",
       "\tTac1 & Tac1     & 21333     & tachykinin 1                                            &  1.0308145 & 6.650543 & 253.9752 & 6.231041e-09 & 2.603796e-05\\\\\n",
       "\tCalr3 & Calr3    & 73316     & calreticulin 3                                          &  1.7976288 & 2.871940 & 200.1417 & 2.175761e-08 & 7.273570e-05\\\\\n",
       "\tPdrg1 & Pdrg1    & 68559     & p53 and DNA damage regulated 1                          &  0.9789700 & 5.735567 & 188.6776 & 2.959239e-08 & 8.109815e-05\\\\\n",
       "\tSprn & Sprn     & 212518    & shadow of prion protein                                 & -1.2747026 & 4.562231 & 183.7479 & 3.396273e-08 & 8.109815e-05\\\\\n",
       "\tGm39663 & Gm39663  & 105243956 & predicted gene, 39663                                   &  1.8849768 & 2.334014 & 161.5318 & 6.621713e-08 & 1.372711e-04\\\\\n",
       "\tPrrg2 & Prrg2    & 65116     & proline-rich Gla (G-carboxyglutamic acid) polypeptide 2 &  1.3898088 & 3.722686 & 158.1263 & 7.391203e-08 & 1.372711e-04\\\\\n",
       "\tStat1 & Stat1    & 20846     & signal transducer and activator of transcription 1      & -0.8147015 & 6.117561 & 146.7108 & 1.086726e-07 & 1.816462e-04\\\\\n",
       "\\end{tabular}\n",
       "\n",
       "\\item[\\$adjust.method] 'BH'\n",
       "\\item[\\$comparison] 'treatmenthhp.24hr'\n",
       "\\item[\\$test] 'glm'\n",
       "\\end{description}\n"
      ],
      "text/markdown": [
       "$table\n",
       ":   \n",
       "A data.frame: 10 × 8\n",
       "\n",
       "| <!--/--> | SYMBOL &lt;chr&gt; | ENTREZID &lt;chr&gt; | GENENAME &lt;chr&gt; | logFC &lt;dbl&gt; | logCPM &lt;dbl&gt; | F &lt;dbl&gt; | PValue &lt;dbl&gt; | FDR &lt;dbl&gt; |\n",
       "|---|---|---|---|---|---|---|---|---|\n",
       "| Mt2 | Mt2      | 17750     | metallothionein 2                                       | -2.9679424 | 3.950210 | 692.2000 | 2.915576e-11 | 4.873385e-07 |\n",
       "| Slc39a10 | Slc39a10 | 227059    | solute carrier family 39 (zinc transporter), member 10  |  1.3884489 | 7.076284 | 427.6557 | 3.896331e-10 | 3.256359e-06 |\n",
       "| Slc30a1 | Slc30a1  | 22782     | solute carrier family 30 (zinc transporter), member 1   | -1.6030021 | 4.135600 | 267.5251 | 4.735552e-09 | 2.603796e-05 |\n",
       "| Tac1 | Tac1     | 21333     | tachykinin 1                                            |  1.0308145 | 6.650543 | 253.9752 | 6.231041e-09 | 2.603796e-05 |\n",
       "| Calr3 | Calr3    | 73316     | calreticulin 3                                          |  1.7976288 | 2.871940 | 200.1417 | 2.175761e-08 | 7.273570e-05 |\n",
       "| Pdrg1 | Pdrg1    | 68559     | p53 and DNA damage regulated 1                          |  0.9789700 | 5.735567 | 188.6776 | 2.959239e-08 | 8.109815e-05 |\n",
       "| Sprn | Sprn     | 212518    | shadow of prion protein                                 | -1.2747026 | 4.562231 | 183.7479 | 3.396273e-08 | 8.109815e-05 |\n",
       "| Gm39663 | Gm39663  | 105243956 | predicted gene, 39663                                   |  1.8849768 | 2.334014 | 161.5318 | 6.621713e-08 | 1.372711e-04 |\n",
       "| Prrg2 | Prrg2    | 65116     | proline-rich Gla (G-carboxyglutamic acid) polypeptide 2 |  1.3898088 | 3.722686 | 158.1263 | 7.391203e-08 | 1.372711e-04 |\n",
       "| Stat1 | Stat1    | 20846     | signal transducer and activator of transcription 1      | -0.8147015 | 6.117561 | 146.7108 | 1.086726e-07 | 1.816462e-04 |\n",
       "\n",
       "\n",
       "$adjust.method\n",
       ":   'BH'\n",
       "$comparison\n",
       ":   'treatmenthhp.24hr'\n",
       "$test\n",
       ":   'glm'\n",
       "\n",
       "\n"
      ],
      "text/plain": [
       "Coefficient:  treatmenthhp.24hr \n",
       "           SYMBOL  ENTREZID\n",
       "Mt2           Mt2     17750\n",
       "Slc39a10 Slc39a10    227059\n",
       "Slc30a1   Slc30a1     22782\n",
       "Tac1         Tac1     21333\n",
       "Calr3       Calr3     73316\n",
       "Pdrg1       Pdrg1     68559\n",
       "Sprn         Sprn    212518\n",
       "Gm39663   Gm39663 105243956\n",
       "Prrg2       Prrg2     65116\n",
       "Stat1       Stat1     20846\n",
       "                                                        GENENAME      logFC\n",
       "Mt2                                            metallothionein 2 -2.9679424\n",
       "Slc39a10  solute carrier family 39 (zinc transporter), member 10  1.3884489\n",
       "Slc30a1    solute carrier family 30 (zinc transporter), member 1 -1.6030021\n",
       "Tac1                                                tachykinin 1  1.0308145\n",
       "Calr3                                             calreticulin 3  1.7976288\n",
       "Pdrg1                             p53 and DNA damage regulated 1  0.9789700\n",
       "Sprn                                     shadow of prion protein -1.2747026\n",
       "Gm39663                                    predicted gene, 39663  1.8849768\n",
       "Prrg2    proline-rich Gla (G-carboxyglutamic acid) polypeptide 2  1.3898088\n",
       "Stat1         signal transducer and activator of transcription 1 -0.8147015\n",
       "           logCPM        F       PValue          FDR\n",
       "Mt2      3.950210 692.2000 2.915576e-11 4.873385e-07\n",
       "Slc39a10 7.076284 427.6557 3.896331e-10 3.256359e-06\n",
       "Slc30a1  4.135600 267.5251 4.735552e-09 2.603796e-05\n",
       "Tac1     6.650543 253.9752 6.231041e-09 2.603796e-05\n",
       "Calr3    2.871940 200.1417 2.175761e-08 7.273570e-05\n",
       "Pdrg1    5.735567 188.6776 2.959239e-08 8.109815e-05\n",
       "Sprn     4.562231 183.7479 3.396273e-08 8.109815e-05\n",
       "Gm39663  2.334014 161.5318 6.621713e-08 1.372711e-04\n",
       "Prrg2    3.722686 158.1263 7.391203e-08 1.372711e-04\n",
       "Stat1    6.117561 146.7108 1.086726e-07 1.816462e-04"
      ]
     },
     "metadata": {},
     "output_type": "display_data"
    }
   ],
   "source": [
    "qlf <- glmQLFTest(fit, coef = 4)\n",
    "topTags(qlf)"
   ]
  },
  {
   "cell_type": "code",
   "execution_count": 72,
   "metadata": {
    "colab": {
     "base_uri": "https://localhost:8080/",
     "height": 90
    },
    "executionInfo": {
     "elapsed": 123,
     "status": "ok",
     "timestamp": 1636989667901,
     "user": {
      "displayName": "Shaoqiu He",
      "photoUrl": "https://lh3.googleusercontent.com/a-/AOh14GjqxDDKIvj-k4BT2y4gflK2grm-E052z036TINn0w=s64",
      "userId": "16738992239117859264"
     },
     "user_tz": 300
    },
    "id": "zrumQw9ydohg",
    "outputId": "77c688fd-a69f-4c1d-a62c-606061779ddc"
   },
   "outputs": [
    {
     "data": {
      "text/plain": [
       "       treatmenthhp.24hr\n",
       "Down                 756\n",
       "NotSig             15418\n",
       "Up                   541"
      ]
     },
     "metadata": {},
     "output_type": "display_data"
    }
   ],
   "source": [
    "summa.fit.L <- decideTests(qlf, lfc = 0.5)\n",
    "summary(summa.fit.L)"
   ]
  },
  {
   "cell_type": "code",
   "execution_count": 73,
   "metadata": {
    "colab": {
     "base_uri": "https://localhost:8080/",
     "height": 379
    },
    "executionInfo": {
     "elapsed": 147,
     "status": "ok",
     "timestamp": 1636989673779,
     "user": {
      "displayName": "Shaoqiu He",
      "photoUrl": "https://lh3.googleusercontent.com/a-/AOh14GjqxDDKIvj-k4BT2y4gflK2grm-E052z036TINn0w=s64",
      "userId": "16738992239117859264"
     },
     "user_tz": 300
    },
    "id": "TvSDL_cSdohh",
    "outputId": "7fc694e3-f767-4d32-ef0a-51650abfa374"
   },
   "outputs": [
    {
     "data": {
      "text/html": [
       "<table class=\"dataframe\">\n",
       "<caption>A matrix: 10 × 6 of type dbl</caption>\n",
       "<thead>\n",
       "\t<tr><th></th><th scope=col>CON_1</th><th scope=col>CON_2</th><th scope=col>CON_3</th><th scope=col>HHP.24H_1</th><th scope=col>HHP.24H_2</th><th scope=col>HHP.24H_3</th></tr>\n",
       "</thead>\n",
       "<tbody>\n",
       "\t<tr><th scope=row>Mt2</th><td>25.831405</td><td>27.111014</td><td>27.976410</td><td>  3.630155</td><td>  3.406438</td><td>  3.295256</td></tr>\n",
       "\t<tr><th scope=row>Slc39a10</th><td>76.207594</td><td>76.439008</td><td>71.311298</td><td>191.457063</td><td>189.950792</td><td>204.850519</td></tr>\n",
       "\t<tr><th scope=row>Slc30a1</th><td>26.548944</td><td>25.221238</td><td>26.758389</td><td>  8.497252</td><td>  8.906997</td><td>  8.442390</td></tr>\n",
       "\t<tr><th scope=row>Tac1</th><td>66.458960</td><td>63.913186</td><td>67.790457</td><td>134.208174</td><td>138.854224</td><td>131.864692</td></tr>\n",
       "\t<tr><th scope=row>Calr3</th><td> 3.216554</td><td> 3.391905</td><td> 3.292462</td><td> 11.697166</td><td> 11.196570</td><td> 11.547011</td></tr>\n",
       "\t<tr><th scope=row>Pdrg1</th><td>35.109927</td><td>36.777944</td><td>35.798386</td><td> 72.253529</td><td> 68.743033</td><td> 71.270116</td></tr>\n",
       "\t<tr><th scope=row>Sprn</th><td>35.208898</td><td>32.126188</td><td>32.315608</td><td> 12.880328</td><td> 14.128341</td><td> 14.161429</td></tr>\n",
       "\t<tr><th scope=row>Gm39663</th><td> 2.301073</td><td> 1.986687</td><td> 2.226694</td><td>  7.690551</td><td>  8.516095</td><td>  7.897720</td></tr>\n",
       "\t<tr><th scope=row>Prrg2</th><td> 6.828992</td><td> 7.656015</td><td> 7.479408</td><td> 20.355758</td><td> 18.344505</td><td> 18.900061</td></tr>\n",
       "\t<tr><th scope=row>Stat1</th><td>90.632603</td><td>86.542040</td><td>87.944891</td><td> 48.993647</td><td> 51.068646</td><td> 50.654343</td></tr>\n",
       "</tbody>\n",
       "</table>\n"
      ],
      "text/latex": [
       "A matrix: 10 × 6 of type dbl\n",
       "\\begin{tabular}{r|llllll}\n",
       "  & CON\\_1 & CON\\_2 & CON\\_3 & HHP.24H\\_1 & HHP.24H\\_2 & HHP.24H\\_3\\\\\n",
       "\\hline\n",
       "\tMt2 & 25.831405 & 27.111014 & 27.976410 &   3.630155 &   3.406438 &   3.295256\\\\\n",
       "\tSlc39a10 & 76.207594 & 76.439008 & 71.311298 & 191.457063 & 189.950792 & 204.850519\\\\\n",
       "\tSlc30a1 & 26.548944 & 25.221238 & 26.758389 &   8.497252 &   8.906997 &   8.442390\\\\\n",
       "\tTac1 & 66.458960 & 63.913186 & 67.790457 & 134.208174 & 138.854224 & 131.864692\\\\\n",
       "\tCalr3 &  3.216554 &  3.391905 &  3.292462 &  11.697166 &  11.196570 &  11.547011\\\\\n",
       "\tPdrg1 & 35.109927 & 36.777944 & 35.798386 &  72.253529 &  68.743033 &  71.270116\\\\\n",
       "\tSprn & 35.208898 & 32.126188 & 32.315608 &  12.880328 &  14.128341 &  14.161429\\\\\n",
       "\tGm39663 &  2.301073 &  1.986687 &  2.226694 &   7.690551 &   8.516095 &   7.897720\\\\\n",
       "\tPrrg2 &  6.828992 &  7.656015 &  7.479408 &  20.355758 &  18.344505 &  18.900061\\\\\n",
       "\tStat1 & 90.632603 & 86.542040 & 87.944891 &  48.993647 &  51.068646 &  50.654343\\\\\n",
       "\\end{tabular}\n"
      ],
      "text/markdown": [
       "\n",
       "A matrix: 10 × 6 of type dbl\n",
       "\n",
       "| <!--/--> | CON_1 | CON_2 | CON_3 | HHP.24H_1 | HHP.24H_2 | HHP.24H_3 |\n",
       "|---|---|---|---|---|---|---|\n",
       "| Mt2 | 25.831405 | 27.111014 | 27.976410 |   3.630155 |   3.406438 |   3.295256 |\n",
       "| Slc39a10 | 76.207594 | 76.439008 | 71.311298 | 191.457063 | 189.950792 | 204.850519 |\n",
       "| Slc30a1 | 26.548944 | 25.221238 | 26.758389 |   8.497252 |   8.906997 |   8.442390 |\n",
       "| Tac1 | 66.458960 | 63.913186 | 67.790457 | 134.208174 | 138.854224 | 131.864692 |\n",
       "| Calr3 |  3.216554 |  3.391905 |  3.292462 |  11.697166 |  11.196570 |  11.547011 |\n",
       "| Pdrg1 | 35.109927 | 36.777944 | 35.798386 |  72.253529 |  68.743033 |  71.270116 |\n",
       "| Sprn | 35.208898 | 32.126188 | 32.315608 |  12.880328 |  14.128341 |  14.161429 |\n",
       "| Gm39663 |  2.301073 |  1.986687 |  2.226694 |   7.690551 |   8.516095 |   7.897720 |\n",
       "| Prrg2 |  6.828992 |  7.656015 |  7.479408 |  20.355758 |  18.344505 |  18.900061 |\n",
       "| Stat1 | 90.632603 | 86.542040 | 87.944891 |  48.993647 |  51.068646 |  50.654343 |\n",
       "\n"
      ],
      "text/plain": [
       "          Samples\n",
       "Tags       CON_1     CON_2     CON_3     HHP.24H_1  HHP.24H_2  HHP.24H_3 \n",
       "  Mt2      25.831405 27.111014 27.976410   3.630155   3.406438   3.295256\n",
       "  Slc39a10 76.207594 76.439008 71.311298 191.457063 189.950792 204.850519\n",
       "  Slc30a1  26.548944 25.221238 26.758389   8.497252   8.906997   8.442390\n",
       "  Tac1     66.458960 63.913186 67.790457 134.208174 138.854224 131.864692\n",
       "  Calr3     3.216554  3.391905  3.292462  11.697166  11.196570  11.547011\n",
       "  Pdrg1    35.109927 36.777944 35.798386  72.253529  68.743033  71.270116\n",
       "  Sprn     35.208898 32.126188 32.315608  12.880328  14.128341  14.161429\n",
       "  Gm39663   2.301073  1.986687  2.226694   7.690551   8.516095   7.897720\n",
       "  Prrg2     6.828992  7.656015  7.479408  20.355758  18.344505  18.900061\n",
       "  Stat1    90.632603 86.542040 87.944891  48.993647  51.068646  50.654343"
      ]
     },
     "metadata": {},
     "output_type": "display_data"
    }
   ],
   "source": [
    "top <- rownames(topTags(qlf))\n",
    "cpm(x)[top, ]"
   ]
  },
  {
   "cell_type": "code",
   "execution_count": 74,
   "metadata": {
    "colab": {
     "base_uri": "https://localhost:8080/",
     "height": 437
    },
    "executionInfo": {
     "elapsed": 535,
     "status": "ok",
     "timestamp": 1636989676506,
     "user": {
      "displayName": "Shaoqiu He",
      "photoUrl": "https://lh3.googleusercontent.com/a-/AOh14GjqxDDKIvj-k4BT2y4gflK2grm-E052z036TINn0w=s64",
      "userId": "16738992239117859264"
     },
     "user_tz": 300
    },
    "id": "cXoO6GH8dohh",
    "outputId": "d1e3c80b-5167-4afd-bc4c-cbc5799eaa56"
   },
   "outputs": [
    {
     "data": {
      "image/png": "[encoded data removed]",
      "text/plain": [
       "Plot with title \"treatmenthhp.24hr\""
      ]
     },
     "metadata": {
      "image/png": {
       "height": 420,
       "width": 420
      }
     },
     "output_type": "display_data"
    }
   ],
   "source": [
    "plotMD(qlf)\n",
    "abline(h = c(-1, 1), col = \"blue\")"
   ]
  },
  {
   "cell_type": "markdown",
   "metadata": {
    "id": "5eyJ_Drgp8VH"
   },
   "source": [
    "## Examining the number of DE genes identified after batch effect correction.\n",
    "We can also examine the number of DE genes identified after batch effect correction by ComBat-seq, edgeR.\n",
    "The Venn diagram showed a substantial overlap between the DEGs following batch effect correction by using either ComBat-seq or edgeR, suggesting that this approach is consistent and reliable to adjust the batch effect."
   ]
  },
  {
   "cell_type": "code",
   "execution_count": 75,
   "metadata": {},
   "outputs": [
    {
     "data": {
      "text/plain": [
       "       convs24h\n",
       "Down       1019\n",
       "NotSig    14673\n",
       "Up         1023"
      ]
     },
     "metadata": {},
     "output_type": "display_data"
    },
    {
     "data": {
      "text/plain": [
       "       treatmenthhp.24hr\n",
       "Down                 756\n",
       "NotSig             15418\n",
       "Up                   541"
      ]
     },
     "metadata": {},
     "output_type": "display_data"
    }
   ],
   "source": [
    "summary(summa.fit.B)\n",
    "summary(summa.fit.L)"
   ]
  },
  {
   "cell_type": "code",
   "execution_count": 76,
   "metadata": {},
   "outputs": [
    {
     "data": {
      "text/html": [
       "<table class=\"dataframe\">\n",
       "<caption>A data.frame: 6 × 2</caption>\n",
       "<thead>\n",
       "\t<tr><th></th><th scope=col>ComBat_seq</th><th scope=col>edgeR</th></tr>\n",
       "\t<tr><th></th><th scope=col>&lt;dbl&gt;</th><th scope=col>&lt;int&gt;</th></tr>\n",
       "</thead>\n",
       "<tbody>\n",
       "\t<tr><th scope=row>Xkr4</th><td>0</td><td>0</td></tr>\n",
       "\t<tr><th scope=row>Gm38717</th><td>0</td><td>0</td></tr>\n",
       "\t<tr><th scope=row>Sox17</th><td>0</td><td>0</td></tr>\n",
       "\t<tr><th scope=row>Mrpl15</th><td>0</td><td>0</td></tr>\n",
       "\t<tr><th scope=row>Lypla1</th><td>0</td><td>0</td></tr>\n",
       "\t<tr><th scope=row>Tcea1</th><td>0</td><td>0</td></tr>\n",
       "</tbody>\n",
       "</table>\n"
      ],
      "text/latex": [
       "A data.frame: 6 × 2\n",
       "\\begin{tabular}{r|ll}\n",
       "  & ComBat\\_seq & edgeR\\\\\n",
       "  & <dbl> & <int>\\\\\n",
       "\\hline\n",
       "\tXkr4 & 0 & 0\\\\\n",
       "\tGm38717 & 0 & 0\\\\\n",
       "\tSox17 & 0 & 0\\\\\n",
       "\tMrpl15 & 0 & 0\\\\\n",
       "\tLypla1 & 0 & 0\\\\\n",
       "\tTcea1 & 0 & 0\\\\\n",
       "\\end{tabular}\n"
      ],
      "text/markdown": [
       "\n",
       "A data.frame: 6 × 2\n",
       "\n",
       "| <!--/--> | ComBat_seq &lt;dbl&gt; | edgeR &lt;int&gt; |\n",
       "|---|---|---|\n",
       "| Xkr4 | 0 | 0 |\n",
       "| Gm38717 | 0 | 0 |\n",
       "| Sox17 | 0 | 0 |\n",
       "| Mrpl15 | 0 | 0 |\n",
       "| Lypla1 | 0 | 0 |\n",
       "| Tcea1 | 0 | 0 |\n",
       "\n"
      ],
      "text/plain": [
       "        ComBat_seq edgeR\n",
       "Xkr4    0          0    \n",
       "Gm38717 0          0    \n",
       "Sox17   0          0    \n",
       "Mrpl15  0          0    \n",
       "Lypla1  0          0    \n",
       "Tcea1   0          0    "
      ]
     },
     "metadata": {},
     "output_type": "display_data"
    },
    {
     "data": {
      "text/html": [
       "<style>\n",
       ".list-inline {list-style: none; margin:0; padding: 0}\n",
       ".list-inline>li {display: inline-block}\n",
       ".list-inline>li:not(:last-child)::after {content: \"\\00b7\"; padding: 0 .5ex}\n",
       "</style>\n",
       "<ol class=list-inline><li>16715</li><li>2</li></ol>\n"
      ],
      "text/latex": [
       "\\begin{enumerate*}\n",
       "\\item 16715\n",
       "\\item 2\n",
       "\\end{enumerate*}\n"
      ],
      "text/markdown": [
       "1. 16715\n",
       "2. 2\n",
       "\n",
       "\n"
      ],
      "text/plain": [
       "[1] 16715     2"
      ]
     },
     "metadata": {},
     "output_type": "display_data"
    }
   ],
   "source": [
    "summa.fit.B <- rownames_to_column(as.data.frame(summa.fit.B)) %>%\n",
    "    rename(ComBat_seq = \"convs24h\")\n",
    "summa.fit.L <- rownames_to_column(as.data.frame(summa.fit.L)) %>%\n",
    "    rename(edgeR = \"treatmenthhp.24hr\")\n",
    "c3 <- left_join(summa.fit.B, summa.fit.L, by = \"rowname\")\n",
    "c3 <- column_to_rownames(c3, var = \"rowname\")\n",
    "head(c3)\n",
    "dim(c3)"
   ]
  },
  {
   "cell_type": "code",
   "execution_count": 77,
   "metadata": {},
   "outputs": [
    {
     "data": {
      "text/html": [
       "<table class=\"dataframe\">\n",
       "<caption>A data.frame: 6 × 2</caption>\n",
       "<thead>\n",
       "\t<tr><th></th><th scope=col>ComBat_seq</th><th scope=col>edgeR</th></tr>\n",
       "\t<tr><th></th><th scope=col>&lt;dbl&gt;</th><th scope=col>&lt;int&gt;</th></tr>\n",
       "</thead>\n",
       "<tbody>\n",
       "\t<tr><th scope=row>Xkr4</th><td>0</td><td>0</td></tr>\n",
       "\t<tr><th scope=row>Gm38717</th><td>0</td><td>0</td></tr>\n",
       "\t<tr><th scope=row>Sox17</th><td>0</td><td>0</td></tr>\n",
       "\t<tr><th scope=row>Mrpl15</th><td>0</td><td>0</td></tr>\n",
       "\t<tr><th scope=row>Lypla1</th><td>0</td><td>0</td></tr>\n",
       "\t<tr><th scope=row>Tcea1</th><td>0</td><td>0</td></tr>\n",
       "</tbody>\n",
       "</table>\n"
      ],
      "text/latex": [
       "A data.frame: 6 × 2\n",
       "\\begin{tabular}{r|ll}\n",
       "  & ComBat\\_seq & edgeR\\\\\n",
       "  & <dbl> & <int>\\\\\n",
       "\\hline\n",
       "\tXkr4 & 0 & 0\\\\\n",
       "\tGm38717 & 0 & 0\\\\\n",
       "\tSox17 & 0 & 0\\\\\n",
       "\tMrpl15 & 0 & 0\\\\\n",
       "\tLypla1 & 0 & 0\\\\\n",
       "\tTcea1 & 0 & 0\\\\\n",
       "\\end{tabular}\n"
      ],
      "text/markdown": [
       "\n",
       "A data.frame: 6 × 2\n",
       "\n",
       "| <!--/--> | ComBat_seq &lt;dbl&gt; | edgeR &lt;int&gt; |\n",
       "|---|---|---|\n",
       "| Xkr4 | 0 | 0 |\n",
       "| Gm38717 | 0 | 0 |\n",
       "| Sox17 | 0 | 0 |\n",
       "| Mrpl15 | 0 | 0 |\n",
       "| Lypla1 | 0 | 0 |\n",
       "| Tcea1 | 0 | 0 |\n",
       "\n"
      ],
      "text/plain": [
       "        ComBat_seq edgeR\n",
       "Xkr4    0          0    \n",
       "Gm38717 0          0    \n",
       "Sox17   0          0    \n",
       "Mrpl15  0          0    \n",
       "Lypla1  0          0    \n",
       "Tcea1   0          0    "
      ]
     },
     "metadata": {},
     "output_type": "display_data"
    },
    {
     "data": {
      "image/png": "[encoded data removed]",
      "text/plain": [
       "plot without title"
      ]
     },
     "metadata": {
      "image/png": {
       "height": 420,
       "width": 420
      }
     },
     "output_type": "display_data"
    }
   ],
   "source": [
    "# Add another contrast to the contrasts matrix, check out the vennDiagram\n",
    "# function c3 <- cbind(summa.fit.B, summa.fit.L)\n",
    "head(c3)\n",
    "vennDiagram(c3, include = c(\"up\", \"down\"), names = c(\"ComBat_seq\", \"edgeR\"), counts.col = c(\"red\",\n",
    "    \"blue\"), circle.col = c(\"turquoise\", \"salmon\"))"
   ]
  },
  {
   "cell_type": "markdown",
   "metadata": {},
   "source": [
    "## References\n",
    "Michael I. Love, Simon Anders, and Wolfgang Huber. 2022. “Analyzing RNA-seq data with DESeq2.” Bioconductor, June. http://bioconductor.org/packages/devel/bioc/vignettes/DESeq2/inst/doc/DESeq2.html.\n",
    "\n",
    "Charity W. Law, Monther Alhamdoosh, Shian Su, Xueyi Dong1, Luyi Tian, Gordon K. Smyth, Matthew E. Ritchie. 2016. “RNA-seq analysis is easy as 1-2-3 with limma, Glimma and edgeR.” F1000Res May. https://f1000research.com/articles/5-1408.\n",
    "\n",
    "Juan R Gonzalez. 2021. “Transciptomic analysis using limma and limma + voom pipelines.” RPubs by RStudio, May. https://rpubs.com/jrgonzalezISGlobal/transcriptomic_analyses.\n"
   ]
  },
  {
   "cell_type": "markdown",
   "metadata": {},
   "source": [
    "## Session Info"
   ]
  },
  {
   "cell_type": "code",
   "execution_count": 78,
   "metadata": {},
   "outputs": [
    {
     "data": {
      "text/plain": [
       "R version 4.2.1 (2022-06-23 ucrt)\n",
       "Platform: x86_64-w64-mingw32/x64 (64-bit)\n",
       "Running under: Windows 10 x64 (build 22621)\n",
       "\n",
       "Matrix products: default\n",
       "\n",
       "locale:\n",
       "[1] LC_COLLATE=English_United States.utf8 \n",
       "[2] LC_CTYPE=English_United States.utf8   \n",
       "[3] LC_MONETARY=English_United States.utf8\n",
       "[4] LC_NUMERIC=C                          \n",
       "[5] LC_TIME=English_United States.utf8    \n",
       "\n",
       "attached base packages:\n",
       "[1] stats4    stats     graphics  grDevices utils     datasets  methods  \n",
       "[8] base     \n",
       "\n",
       "other attached packages:\n",
       " [1] forcats_0.5.2        stringr_1.4.1        dplyr_1.0.10        \n",
       " [4] purrr_0.3.4          readr_2.1.3          tidyr_1.2.1         \n",
       " [7] tibble_3.1.8         tidyverse_1.3.2      sva_3.44.0          \n",
       "[10] BiocParallel_1.30.3  genefilter_1.78.0    mgcv_1.8-40         \n",
       "[13] nlme_3.1-159         statmod_1.4.37       RColorBrewer_1.1-3  \n",
       "[16] org.Mm.eg.db_3.15.0  AnnotationDbi_1.58.0 IRanges_2.30.0      \n",
       "[19] S4Vectors_0.34.0     NMF_0.24.0           Biobase_2.56.0      \n",
       "[22] BiocGenerics_0.42.0  cluster_2.1.4        rngtools_1.5.2      \n",
       "[25] pkgmaker_0.32.2      registry_0.5-1       here_1.0.1          \n",
       "[28] gplots_3.1.3         Glimma_2.6.0         ggplot2_3.3.6       \n",
       "[31] edgeR_3.38.4         limma_3.52.2         jsonlite_1.8.2      \n",
       "[34] formatR_1.12        \n",
       "\n",
       "loaded via a namespace (and not attached):\n",
       " [1] googledrive_2.0.0           colorspace_2.0-3           \n",
       " [3] ellipsis_0.3.2              rprojroot_2.0.3            \n",
       " [5] IRdisplay_1.1               XVector_0.36.0             \n",
       " [7] fs_1.5.2                    GenomicRanges_1.48.0       \n",
       " [9] base64enc_0.1-3             bit64_4.0.5                \n",
       "[11] lubridate_1.8.0             fansi_1.0.3                \n",
       "[13] xml2_1.3.3                  codetools_0.2-18           \n",
       "[15] splines_4.2.1               doParallel_1.0.17          \n",
       "[17] cachem_1.0.6                geneplotter_1.74.0         \n",
       "[19] IRkernel_1.3                broom_1.0.1                \n",
       "[21] gridBase_0.4-7              annotate_1.74.0            \n",
       "[23] dbplyr_2.2.1                png_0.1-7                  \n",
       "[25] compiler_4.2.1              httr_1.4.4                 \n",
       "[27] backports_1.4.1             assertthat_0.2.1           \n",
       "[29] Matrix_1.5-1                fastmap_1.1.0              \n",
       "[31] gargle_1.2.1                cli_3.4.1                  \n",
       "[33] htmltools_0.5.3             tools_4.2.1                \n",
       "[35] gtable_0.3.1                glue_1.6.2                 \n",
       "[37] GenomeInfoDbData_1.2.8      reshape2_1.4.4             \n",
       "[39] Rcpp_1.0.9                  cellranger_1.1.0           \n",
       "[41] vctrs_0.4.2                 Biostrings_2.64.0          \n",
       "[43] iterators_1.0.14            rvest_1.0.3                \n",
       "[45] lifecycle_1.0.2             gtools_3.9.3               \n",
       "[47] googlesheets4_1.0.1         XML_3.99-0.11              \n",
       "[49] zlibbioc_1.42.0             scales_1.2.1               \n",
       "[51] hms_1.1.2                   MatrixGenerics_1.8.1       \n",
       "[53] parallel_4.2.1              SummarizedExperiment_1.26.1\n",
       "[55] memoise_2.0.1               stringi_1.7.8              \n",
       "[57] RSQLite_2.2.18              foreach_1.5.2              \n",
       "[59] caTools_1.18.2              repr_1.1.4                 \n",
       "[61] GenomeInfoDb_1.32.3         rlang_1.0.6                \n",
       "[63] pkgconfig_2.0.3             matrixStats_0.62.0         \n",
       "[65] bitops_1.0-7                evaluate_0.16              \n",
       "[67] lattice_0.20-45             htmlwidgets_1.5.4          \n",
       "[69] bit_4.0.4                   tidyselect_1.1.2           \n",
       "[71] plyr_1.8.7                  magrittr_2.0.3             \n",
       "[73] DESeq2_1.36.0               R6_2.5.1                   \n",
       "[75] generics_0.1.3              pbdZMQ_0.3-7               \n",
       "[77] DelayedArray_0.22.0         DBI_1.1.3                  \n",
       "[79] haven_2.5.1                 pillar_1.8.1               \n",
       "[81] withr_2.5.0                 survival_3.4-0             \n",
       "[83] KEGGREST_1.36.3             RCurl_1.98-1.9             \n",
       "[85] modelr_0.1.9                crayon_1.5.2               \n",
       "[87] uuid_1.1-0                  KernSmooth_2.23-20         \n",
       "[89] utf8_1.2.2                  tzdb_0.3.0                 \n",
       "[91] readxl_1.4.1                locfit_1.5-9.6             \n",
       "[93] grid_4.2.1                  blob_1.2.3                 \n",
       "[95] reprex_2.0.2                digest_0.6.29              \n",
       "[97] xtable_1.8-4                munsell_0.5.0              "
      ]
     },
     "metadata": {},
     "output_type": "display_data"
    }
   ],
   "source": [
    "sessionInfo()"
   ]
  },
  {
   "cell_type": "code",
   "execution_count": null,
   "metadata": {},
   "outputs": [],
   "source": []
  }
 ],
 "metadata": {
  "colab": {
   "collapsed_sections": [],
   "name": "hhp_rna_seq_withou2h10min.ipynb",
   "provenance": [],
   "toc_visible": true
  },
  "kernelspec": {
   "display_name": "R",
   "language": "R",
   "name": "ir"
  },
  "language_info": {
   "codemirror_mode": "r",
   "file_extension": ".r",
   "mimetype": "text/x-r-source",
   "name": "R",
   "pygments_lexer": "r",
   "version": "4.2.1"
  },
  "toc": {
   "base_numbering": 1,
   "nav_menu": {},
   "number_sections": false,
   "sideBar": true,
   "skip_h1_title": false,
   "title_cell": "Table of Contents",
   "title_sidebar": "Contents",
   "toc_cell": false,
   "toc_position": {
    "height": "calc(100% - 180px)",
    "left": "10px",
    "top": "150px",
    "width": "351px"
   },
   "toc_section_display": true,
   "toc_window_display": false
  }
 },
 "nbformat": 4,
 "nbformat_minor": 1
}
